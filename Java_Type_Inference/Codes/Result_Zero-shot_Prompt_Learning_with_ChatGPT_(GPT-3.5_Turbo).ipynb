{
 "cells": [
  {
   "cell_type": "code",
   "execution_count": null,
   "metadata": {
    "scrolled": true
   },
   "outputs": [],
   "source": [
    "%env OPENAI_API_KEY = api_key"
   ]
  },
  {
   "cell_type": "code",
   "execution_count": null,
   "metadata": {},
   "outputs": [],
   "source": [
    "# pip install --upgrade openai"
   ]
  },
  {
   "cell_type": "code",
   "execution_count": null,
   "metadata": {},
   "outputs": [],
   "source": [
    "import glob\n",
    "import json\n",
    "import re\n",
    "import random\n",
    "import time\n",
    "\n",
    "from tqdm import tqdm\n",
    "from sklearn.metrics import accuracy_score, f1_score, precision_score, recall_score"
   ]
  },
  {
   "cell_type": "code",
   "execution_count": null,
   "metadata": {},
   "outputs": [],
   "source": [
    "import openai\n",
    "import os\n",
    "\n",
    "openai.api_key = os.getenv(\"OPENAI_API_KEY\")"
   ]
  },
  {
   "cell_type": "code",
   "execution_count": null,
   "metadata": {},
   "outputs": [],
   "source": [
    "cd '/home/azmain/alljavajsons'"
   ]
  },
  {
   "cell_type": "code",
   "execution_count": null,
   "metadata": {},
   "outputs": [],
   "source": [
    "inputFiles = []\n",
    "correctOutputFiles = []\n",
    "\n",
    "    \n",
    "numbers = re.compile(r'(\\d+)')\n",
    "def numericalSort(value):\n",
    "    parts = numbers.split(value)\n",
    "    parts[1::2] = map(int, parts[1::2])\n",
    "    return parts\n",
    "\n",
    "for file in sorted(glob.glob(\"*.java.json\"), key=numericalSort):\n",
    "    inputFiles.append(file)\n",
    "\n",
    "for file in sorted(glob.glob(\"*.benchmark_log.json\"), key=numericalSort):\n",
    "    correctOutputFiles.append(file)\n",
    "\n",
    "print(inputFiles)\n",
    "print('\\n\\n\\n')\n",
    "print(correctOutputFiles)"
   ]
  },
  {
   "cell_type": "code",
   "execution_count": null,
   "metadata": {},
   "outputs": [],
   "source": [
    "def get_codes(inputFiles):\n",
    "    codes = []\n",
    "    for code in inputFiles:\n",
    "        codes.append(str(json.load(open(code))['originalContent']))\n",
    "\n",
    "    return codes"
   ]
  },
  {
   "cell_type": "code",
   "execution_count": null,
   "metadata": {},
   "outputs": [],
   "source": [
    "def get_correct_outputs(correctOutputFiles):\n",
    "    correct_outputs = []\n",
    "    for output in correctOutputFiles:\n",
    "        correct_output_list = json.load(open(output))['total_imports']\n",
    "        correct_outputs.append(correct_output_list)\n",
    "    \n",
    "    for import_lines in correct_outputs:\n",
    "        if \"gen.R\" in import_lines:\n",
    "            import_lines.remove(\"gen.R\")\n",
    "\n",
    "    return correct_outputs"
   ]
  },
  {
   "cell_type": "code",
   "execution_count": null,
   "metadata": {},
   "outputs": [],
   "source": [
    "def get_dataset(codes, correct_outputs):\n",
    "    dataset = {\n",
    "        \"codes\": codes,\n",
    "        \"correct_outputs\": correct_outputs\n",
    "    }\n",
    "    return dataset"
   ]
  },
  {
   "cell_type": "code",
   "execution_count": null,
   "metadata": {},
   "outputs": [],
   "source": [
    "def get_test_examples_and_y_true(dataset):\n",
    "    sample_list = []\n",
    "\n",
    "    for i in range(0, len(dataset[\"codes\"])):\n",
    "        sample_list.append(dict(codes=dataset[\"codes\"][i], correct_outputs=dataset[\"correct_outputs\"][i]))\n",
    "    \n",
    "    # print(sample_list)\n",
    "    \n",
    "    test_examples = [(example[\"codes\"], example[\"correct_outputs\"]) for example in sample_list]\n",
    "    y_true = [correct_outputs for _, correct_outputs in test_examples]\n",
    "    \n",
    "    return test_examples, y_true"
   ]
  },
  {
   "attachments": {},
   "cell_type": "markdown",
   "metadata": {},
   "source": [
    "### All Android Classes"
   ]
  },
  {
   "cell_type": "code",
   "execution_count": null,
   "metadata": {},
   "outputs": [],
   "source": [
    "print(\"Total Android Codes: {}\\n\".format(len(inputFiles[:50])))\n",
    "print(inputFiles[:50])\n",
    "\n",
    "android_codes = get_codes(inputFiles[:50])\n",
    "# print(android_codes)\n",
    "\n",
    "android_correct_outputs = get_correct_outputs(correctOutputFiles[:50])\n",
    "# print(android_correct_outputs)\n",
    "\n",
    "android_dataset = get_dataset(android_codes, android_correct_outputs)\n",
    "# print(android_dataset)\n",
    "\n",
    "android_test_examples, android_y_true = get_test_examples_and_y_true(android_dataset)\n",
    "# print(android_test_examples)"
   ]
  },
  {
   "attachments": {},
   "cell_type": "markdown",
   "metadata": {},
   "source": [
    "### All JDK Classes"
   ]
  },
  {
   "cell_type": "code",
   "execution_count": null,
   "metadata": {},
   "outputs": [],
   "source": [
    "print(\"Total JDK Codes: {}\\n\".format(len(inputFiles[50:73])))\n",
    "print(inputFiles[50:73])\n",
    "\n",
    "jdk_codes = get_codes(inputFiles[50:73])\n",
    "# print(jdk_codes)\n",
    "\n",
    "jdk_correct_outputs = get_correct_outputs(correctOutputFiles[50:73])\n",
    "# print(jdk_correct_outputs)\n",
    "\n",
    "jdk_dataset = get_dataset(jdk_codes, jdk_correct_outputs)\n",
    "# print(jdk_dataset)\n",
    "\n",
    "jdk_test_examples, jdk_y_true = get_test_examples_and_y_true(jdk_dataset)\n",
    "# print(jdk_test_examples)"
   ]
  },
  {
   "attachments": {},
   "cell_type": "markdown",
   "metadata": {},
   "source": [
    "### All Hibernate Classes"
   ]
  },
  {
   "cell_type": "code",
   "execution_count": null,
   "metadata": {},
   "outputs": [],
   "source": [
    "print(\"Total Hibernate Codes: {}\\n\".format(len(inputFiles[73:74] + inputFiles[174:224])))\n",
    "print(inputFiles[73:74] + inputFiles[174:224])\n",
    "\n",
    "hibernate_codes = get_codes(inputFiles[73:74] + inputFiles[174:224])\n",
    "# print(hibernate_codes)\n",
    "\n",
    "hibernate_correct_outputs = get_correct_outputs(correctOutputFiles[73:74] + correctOutputFiles[174:224])\n",
    "# print(hibernate_correct_outputs)\n",
    "\n",
    "hibernate_dataset = get_dataset(hibernate_codes, hibernate_correct_outputs)\n",
    "# print(hibernate_dataset)\n",
    "\n",
    "hibernate_test_examples, hibernate_y_true = get_test_examples_and_y_true(hibernate_dataset)\n",
    "# print(hibernate_test_examples)"
   ]
  },
  {
   "attachments": {},
   "cell_type": "markdown",
   "metadata": {},
   "source": [
    "### All JodaTime Classes"
   ]
  },
  {
   "cell_type": "code",
   "execution_count": null,
   "metadata": {},
   "outputs": [],
   "source": [
    "print(\"Total JodaTime Codes: {}\\n\".format(len(inputFiles[74:124])))\n",
    "print(inputFiles[74:124])\n",
    "\n",
    "jodatime_codes = get_codes(inputFiles[74:124])\n",
    "# print(jodatime_codes)\n",
    "\n",
    "jodatime_correct_outputs = get_correct_outputs(correctOutputFiles[74:124])\n",
    "# print(jodatime_correct_outputs)\n",
    "\n",
    "jodatime_dataset = get_dataset(jodatime_codes, jodatime_correct_outputs)\n",
    "# print(jodatime_dataset)\n",
    "\n",
    "jodatime_test_examples, jodatime_y_true = get_test_examples_and_y_true(jodatime_dataset)\n",
    "# print(jodatime_test_examples)"
   ]
  },
  {
   "attachments": {},
   "cell_type": "markdown",
   "metadata": {},
   "source": [
    "### All GWT Classes"
   ]
  },
  {
   "cell_type": "code",
   "execution_count": null,
   "metadata": {},
   "outputs": [],
   "source": [
    "print(\"Total GWT Codes: {}\\n\".format(len(inputFiles[124:174])))\n",
    "print(inputFiles[124:174])\n",
    "\n",
    "gwt_codes = get_codes(inputFiles[124:174])\n",
    "# print(gwt_codes)\n",
    "\n",
    "gwt_correct_outputs = get_correct_outputs(correctOutputFiles[124:174])\n",
    "# print(gwt_correct_outputs)\n",
    "\n",
    "gwt_dataset = get_dataset(gwt_codes, gwt_correct_outputs)\n",
    "# print(gwt_dataset)\n",
    "\n",
    "gwt_test_examples, gwt_y_true = get_test_examples_and_y_true(gwt_dataset)\n",
    "# print(gwt_test_examples)"
   ]
  },
  {
   "attachments": {},
   "cell_type": "markdown",
   "metadata": {},
   "source": [
    "### All XStream Classes"
   ]
  },
  {
   "cell_type": "code",
   "execution_count": null,
   "metadata": {},
   "outputs": [],
   "source": [
    "print(\"Total XStream Codes: {}\\n\".format(len(inputFiles[224:268])))\n",
    "print(inputFiles[224:268])\n",
    "\n",
    "xstream_codes = get_codes(inputFiles[224:268])\n",
    "# print(xstream_codes)\n",
    "\n",
    "xstream_correct_outputs = get_correct_outputs(correctOutputFiles[224:268])\n",
    "# print(xstream_correct_outputs)\n",
    "\n",
    "xstream_dataset = get_dataset(xstream_codes, xstream_correct_outputs)\n",
    "# print(xstream_dataset)\n",
    "\n",
    "xstream_test_examples, xstream_y_true = get_test_examples_and_y_true(xstream_dataset)\n",
    "# print(xstream_test_examples)"
   ]
  },
  {
   "attachments": {},
   "cell_type": "markdown",
   "metadata": {},
   "source": [
    "# Zero-shot and Self-Consistency Implementation"
   ]
  },
  {
   "cell_type": "code",
   "execution_count": null,
   "metadata": {},
   "outputs": [],
   "source": [
    "MODEL = 'gpt-3.5-turbo'"
   ]
  },
  {
   "cell_type": "code",
   "execution_count": null,
   "metadata": {},
   "outputs": [],
   "source": [
    "def pred_process(y_pred, y_true):\n",
    "    y_pred_processed = []\n",
    "    y_true_processed = []\n",
    "    \n",
    "    for pred, correct_imports in zip(y_pred, y_true):\n",
    "        max_length = max(len(pred), len(correct_imports))\n",
    "        correct_preds = list(set(pred).intersection(correct_imports))\n",
    "        for i in range(0, max_length):\n",
    "            if i<len(correct_preds):\n",
    "                y_pred_processed.append(1)\n",
    "                y_true_processed.append(1)\n",
    "            else:\n",
    "                if i<len(correct_imports):\n",
    "                    y_pred_processed.append(0)\n",
    "                    y_true_processed.append(1)\n",
    "                else:\n",
    "                    y_pred_processed.append(1)\n",
    "                    y_true_processed.append(0)\n",
    "            \n",
    "    print(y_pred_processed)\n",
    "    print(y_true_processed)\n",
    "    print()\n",
    "    return y_pred_processed, y_true_processed"
   ]
  },
  {
   "cell_type": "code",
   "execution_count": null,
   "metadata": {},
   "outputs": [],
   "source": [
    "def eval_performance(y_pred, y_true):\n",
    "    print(json.dumps({\n",
    "        \"accuracy\": accuracy_score(y_pred, y_true),\n",
    "        \"f1\": f1_score(y_pred, y_true),\n",
    "        \"precision\": precision_score(y_pred, y_true),\n",
    "        \"recall\": recall_score(y_pred, y_true)\n",
    "    }, indent=2))"
   ]
  },
  {
   "cell_type": "code",
   "execution_count": null,
   "metadata": {},
   "outputs": [],
   "source": [
    "# # Test\n",
    "\n",
    "# print(xstream_test_examples[7][1]) # correct imports\n",
    "# print(xstream_test_examples[7][0]) # code"
   ]
  },
  {
   "cell_type": "code",
   "execution_count": null,
   "metadata": {},
   "outputs": [],
   "source": [
    "# # Test\n",
    "\n",
    "# MODEL = 'gpt-3.5-turbo'\n",
    "\n",
    "# code_snippet = xstream_test_examples[7][0]\n",
    "# # prompt=f\"Reply with to-the-point answer, with no elaboration. Extract all valid possible fully qualified type long-name from the code below, must exclude name of the class itself:\\n\\\"\\\"\\\"{test_code}\\\"\\\"\\\"\"\n",
    "\n",
    "# response = openai.ChatCompletion.create(\n",
    "#     model=MODEL,\n",
    "#     messages=[\n",
    "#         {\"role\": \"system\", \"content\": \"Reply with to-the-point answer, no elaboration.\"},\n",
    "# #         {\"role\": \"user\", \"content\": f\"Import correct imports:\\n\\\"\\\"\\\"\\n{test_code}\\n\\\"\\\"\\\"\"},\n",
    "# #         {\"role\": \"user\", \"content\": f\"Your task is to provide a list of the correct imports for a given code snippet, ensuring that no wildcard imports are used. If any necessary imports are missing from the code, please include them in your response. Please note that your response should be specific and accurate:\\n\\\"\\\"\\\"\\n{code_snippet}\\n\\\"\\\"\\\"\"},\n",
    "# #         {\"role\": \"user\", \"content\": f\"Do not check for any import statements in the code. Only give correct imports by not using wildcard imports. Please note that your response should be specific and accurate:\\n\\\"\\\"\\\"\\n{code_snippet}\\n\\\"\\\"\\\"\"},\n",
    "# #         {\"role\": \"user\", \"content\": f\"Do not check for any import statements in the code. Only give correct imports by not using wildcard imports. Please note that you need to pay close attention, and your response should be extremely specific and highly accurate. You are prohibited from importing wrong and nonexistent imports:\\n\\\"\\\"\\\"\\n{code_snippet}\\n\\\"\\\"\\\"\"},\n",
    "# #         {\"role\": \"user\", \"content\": f\"Do not check for any import statements in the code. Only give correct imports by not using wildcard imports. Please note that you need to pay close attention, and your response should be specific and accurate. Do not generate wrong and nonexistent imports:\\n\\\"\\\"\\\"\\n{code_snippet}\\n\\\"\\\"\\\"\"},\n",
    "#         {\"role\": \"user\", \"content\": f\"Do not check for any import statements in the code. Only give correct imports by not using wildcard imports. Please note that you need to pay close attention and your response should be specific and accurate. Avoid repetition and must not generate wrong and nonexistent imports:\\n\\\"\\\"\\\"\\n{code_snippet}\\n\\\"\\\"\\\"\"}\n",
    "#     ],\n",
    "#     temperature=0,\n",
    "# )\n",
    "\n",
    "# print(response[\"choices\"][0][\"message\"][\"content\"])"
   ]
  },
  {
   "attachments": {},
   "cell_type": "markdown",
   "metadata": {},
   "source": [
    "# Zero-shot"
   ]
  },
  {
   "cell_type": "code",
   "execution_count": null,
   "metadata": {},
   "outputs": [],
   "source": [
    "def get_prediction(code_snippet):\n",
    "    response = openai.ChatCompletion.create(\n",
    "        model=MODEL,\n",
    "        messages=[\n",
    "            {\"role\": \"system\", \"content\": \"Reply with to-the-point answer, no elaboration.\"},\n",
    "            {\"role\": \"user\", \"content\": f\"Do not check for any import statements in the code. Only give correct imports by not using wildcard imports. Please note that you need to pay close attention and your response should be specific and accurate. Avoid repetition and must not generate wrong and nonexistent imports:\\n\\\"\\\"\\\"\\n{code_snippet}\\n\\\"\\\"\\\"\"}\n",
    "        ],\n",
    "        temperature=0,\n",
    "    )\n",
    "    return response[\"choices\"][0][\"message\"][\"content\"]"
   ]
  },
  {
   "cell_type": "code",
   "execution_count": null,
   "metadata": {},
   "outputs": [],
   "source": [
    "def get_predictions(dataset):\n",
    "    y_pred = []\n",
    "    for code_snippet, correct_imports in tqdm(dataset):\n",
    "        predicted_output = re.findall(r'\\b[a-zA-Z0-9]+(?:\\.[a-zA-Z0-9]+)+\\b', get_prediction(code_snippet))\n",
    "        y_pred.append(predicted_output)\n",
    "        time.sleep(5)\n",
    "    return y_pred"
   ]
  },
  {
   "cell_type": "code",
   "execution_count": null,
   "metadata": {
    "scrolled": true
   },
   "outputs": [],
   "source": [
    "# Prediction for Android Classes\n",
    "\n",
    "print(\"\\nPrediction for Android Classes:\\n\")\n",
    "y_pred = get_predictions(android_test_examples)\n",
    "print(\"\\nPredicted Import List:\", y_pred)\n",
    "print(\"\\nCorrect Import List:\", android_y_true)\n",
    "y_pred_processed, y_true_processed = pred_process(y_pred, android_y_true)\n",
    "eval_performance(y_pred_processed, y_true_processed)"
   ]
  },
  {
   "cell_type": "code",
   "execution_count": null,
   "metadata": {
    "scrolled": true
   },
   "outputs": [],
   "source": [
    "# Prediction for JDK Classes\n",
    "\n",
    "print(\"\\nPrediction for JDK Classes:\\n\")\n",
    "y_pred = get_predictions(jdk_test_examples)\n",
    "print(\"\\nPredicted Import List:\", y_pred)\n",
    "print(\"\\nCorrect Import List:\", jdk_y_true)\n",
    "y_pred_processed, y_true_processed = pred_process(y_pred, jdk_y_true)\n",
    "eval_performance(y_pred_processed, y_true_processed)"
   ]
  },
  {
   "cell_type": "code",
   "execution_count": null,
   "metadata": {
    "scrolled": true
   },
   "outputs": [],
   "source": [
    "# Prediction for Hibernate Classes\n",
    "\n",
    "print(\"\\nPrediction for Hibernate Classes:\\n\")\n",
    "y_pred = get_predictions(hibernate_test_examples)\n",
    "print(\"\\nPredicted Import List:\", y_pred)\n",
    "print(\"\\nCorrect Import List:\", hibernate_y_true)\n",
    "y_pred_processed, y_true_processed = pred_process(y_pred, hibernate_y_true)\n",
    "eval_performance(y_pred_processed, y_true_processed)"
   ]
  },
  {
   "cell_type": "code",
   "execution_count": null,
   "metadata": {
    "scrolled": true
   },
   "outputs": [],
   "source": [
    "# Prediction for Joda-Time Classes\n",
    "\n",
    "print(\"\\nPrediction for Joda-Time Classes:\\n\")\n",
    "y_pred = get_predictions(jodatime_test_examples)\n",
    "print(\"\\nPredicted Import List:\", y_pred)\n",
    "print(\"\\nCorrect Import List:\", jodatime_y_true)\n",
    "y_pred_processed, y_true_processed = pred_process(y_pred, jodatime_y_true)\n",
    "eval_performance(y_pred_processed, y_true_processed)"
   ]
  },
  {
   "cell_type": "code",
   "execution_count": null,
   "metadata": {
    "scrolled": true
   },
   "outputs": [],
   "source": [
    "# Prediction for GWT Classes\n",
    "\n",
    "print(\"\\nPrediction for GWT Classes:\\n\")\n",
    "y_pred = get_predictions(gwt_test_examples)\n",
    "print(\"\\nPredicted Import List:\", y_pred)\n",
    "print(\"\\nCorrect Import List:\", gwt_y_true)\n",
    "y_pred_processed, y_true_processed = pred_process(y_pred, gwt_y_true)\n",
    "eval_performance(y_pred_processed, y_true_processed)"
   ]
  },
  {
   "cell_type": "code",
   "execution_count": null,
   "metadata": {},
   "outputs": [],
   "source": [
    "# Prediction for XStream Classes\n",
    "\n",
    "print(\"\\nPrediction for XStream Classes\\n\")\n",
    "y_pred = get_predictions(xstream_test_examples)\n",
    "print(\"\\nPredicted Import List:\", y_pred)\n",
    "print(\"\\nCorrect Import List:\", xstream_y_true)\n",
    "y_pred_processed, y_true_processed = pred_process(y_pred, xstream_y_true)\n",
    "eval_performance(y_pred_processed, y_true_processed)"
   ]
  },
  {
   "attachments": {},
   "cell_type": "markdown",
   "metadata": {},
   "source": [
    "## Self-Consistency with Modified Parameters (The consistent one from 10 predictions for each input)"
   ]
  },
  {
   "cell_type": "code",
   "execution_count": null,
   "metadata": {},
   "outputs": [],
   "source": [
    "def get_modified_temp_prediction(code_snippet):\n",
    "    response = openai.ChatCompletion.create(\n",
    "        model=MODEL,\n",
    "        messages=[\n",
    "            {\"role\": \"system\", \"content\": \"Reply with to-the-point answer, no elaboration.\"},\n",
    "            {\"role\": \"user\", \"content\": f\"Do not check for any import statements in the code. Only give correct imports by not using wildcard imports. Please note that you need to pay close attention and your response should be specific and accurate. Avoid repetition and must not generate wrong and nonexistent imports:\\n\\\"\\\"\\\"\\n{code_snippet}\\n\\\"\\\"\\\"\"}\n",
    "        ],\n",
    "        temperature=1,\n",
    "        top_p=1,\n",
    "    )\n",
    "    return response[\"choices\"][0][\"message\"][\"content\"]"
   ]
  },
  {
   "cell_type": "code",
   "execution_count": null,
   "metadata": {},
   "outputs": [],
   "source": [
    "from collections import Counter\n",
    "\n",
    "def get_consistent_item(k_items_list, code_snippet):\n",
    "    \n",
    "    # Count the frequency of each set of sublists\n",
    "    counts = Counter(frozenset(sublist) for sublist in k_items_list)\n",
    "\n",
    "    # Find the maximum frequency count\n",
    "    max_count = max(counts.values())\n",
    "\n",
    "    # Find all sets of sublists with the maximum frequency count\n",
    "    most_common_sublists_set = {frozenset(sublist) for sublist in counts if counts[sublist] == max_count}\n",
    "\n",
    "    # Convert the sets of sublists back to lists\n",
    "    most_common_sublists = [list(sublist) for sublist in most_common_sublists_set]\n",
    "\n",
    "    # Find the number of sublists that have the highest frequency count\n",
    "    max_consistency_count = len(most_common_sublists)\n",
    "    \n",
    "    max_check_time = 10\n",
    "    i = 0\n",
    "    while max_consistency_count!=1:\n",
    "        if i > max_check_time:\n",
    "            return []\n",
    "        time.sleep(2)\n",
    "        new_predicted_output = re.findall(r'\\b[a-zA-Z0-9]+(?:\\.[a-zA-Z0-9]+)+\\b', get_modified_temp_prediction(code_snippet))\n",
    "        k_items_list.append(new_predicted_output)\n",
    "        counts = Counter(frozenset(sublist) for sublist in k_items_list)\n",
    "        max_count = max(counts.values())\n",
    "        most_common_sublists_set = {frozenset(sublist) for sublist in counts if counts[sublist] == max_count}\n",
    "        most_common_sublists = [list(sublist) for sublist in most_common_sublists_set]\n",
    "        max_consistency_count = len(most_common_sublists)\n",
    "        i+=1\n",
    "\n",
    "    consistent_item = most_common_sublists[0]\n",
    "    \n",
    "    return consistent_item"
   ]
  },
  {
   "cell_type": "code",
   "execution_count": null,
   "metadata": {},
   "outputs": [],
   "source": [
    "def get_all_predictions(dataset):\n",
    "    y_pred_list = []\n",
    "    for code_snippet, correct_imports in tqdm(dataset):\n",
    "        k_output_sample = []\n",
    "        k = 10\n",
    "        for i in range(0, k):\n",
    "            time.sleep(5)\n",
    "            predicted_output = re.findall(r'\\b[a-zA-Z0-9]+(?:\\.[a-zA-Z0-9]+)+\\b', get_modified_temp_prediction(code_snippet))\n",
    "            k_output_sample.append(predicted_output)\n",
    "        y_pred_list.append(get_consistent_item(k_output_sample, code_snippet))\n",
    "    return y_pred_list"
   ]
  },
  {
   "cell_type": "code",
   "execution_count": null,
   "metadata": {
    "scrolled": true
   },
   "outputs": [],
   "source": [
    "# Prediction with Self-Consistency and Modified Parameters for Android Classes\n",
    "\n",
    "print(\"\\nPrediction with Self-Consistency and Modified Parameters for Android Classes\\n\")\n",
    "y_pred = get_all_predictions(android_test_examples)\n",
    "print(\"\\nPredicted Import List:\", y_pred)\n",
    "print(\"\\nCorrect Import List:\", android_y_true)\n",
    "y_pred_processed, y_true_processed = pred_process(y_pred, android_y_true)\n",
    "eval_performance(y_pred_processed, y_true_processed)"
   ]
  },
  {
   "cell_type": "code",
   "execution_count": null,
   "metadata": {
    "scrolled": true
   },
   "outputs": [],
   "source": [
    "# Prediction with Self-Consistency and Modified Parameters for JDK Classes\n",
    "\n",
    "print(\"\\nPrediction with Self-Consistency and Modified Parameters for JDK Classes\\n\")\n",
    "y_pred = get_all_predictions(jdk_test_examples)\n",
    "print(\"\\nPredicted Import List:\", y_pred)\n",
    "print(\"\\nCorrect Import List:\", jdk_y_true)\n",
    "y_pred_processed, y_true_processed = pred_process(y_pred, jdk_y_true)\n",
    "eval_performance(y_pred_processed, y_true_processed)"
   ]
  },
  {
   "cell_type": "code",
   "execution_count": null,
   "metadata": {},
   "outputs": [],
   "source": [
    "# Prediction with Self-Consistency and Modified Parameters for Hibernate Classes\n",
    "\n",
    "print(\"\\nPrediction with Self-Consistency and Modified Parameters for Hibernate Classes\\n\")\n",
    "y_pred = get_all_predictions(hibernate_test_examples)\n",
    "print(\"\\nPredicted Import List:\", y_pred)\n",
    "print(\"\\nCorrect Import List:\", hibernate_y_true)\n",
    "y_pred_processed, y_true_processed = pred_process(y_pred, hibernate_y_true)\n",
    "eval_performance(y_pred_processed, y_true_processed)"
   ]
  },
  {
   "cell_type": "code",
   "execution_count": null,
   "metadata": {},
   "outputs": [],
   "source": [
    "# Prediction with Self-Consistency and Modified Parameters for Joda-Time Classes\n",
    "\n",
    "print(\"\\nPrediction with Self-Consistency and Modified Parameters for Joda-Time Classes\\n\")\n",
    "y_pred = get_all_predictions(jodatime_test_examples)\n",
    "print(\"\\nPredicted Import List:\", y_pred)\n",
    "print(\"\\nCorrect Import List:\", jodatime_y_true)\n",
    "y_pred_processed, y_true_processed = pred_process(y_pred, jodatime_y_true)\n",
    "eval_performance(y_pred_processed, y_true_processed)"
   ]
  },
  {
   "cell_type": "code",
   "execution_count": null,
   "metadata": {},
   "outputs": [],
   "source": [
    "# Prediction with Self-Consistency and Modified Parameters for GWT Classes\n",
    "\n",
    "print(\"\\nPrediction with Self-Consistency and Modified Parameters for GWT Classes\\n\")\n",
    "y_pred = get_all_predictions(gwt_test_examples)\n",
    "print(\"\\nPredicted Import List:\", y_pred)\n",
    "print(\"\\nCorrect Import List:\", gwt_y_true)\n",
    "y_pred_processed, y_true_processed = pred_process(y_pred, gwt_y_true)\n",
    "eval_performance(y_pred_processed, y_true_processed)"
   ]
  },
  {
   "cell_type": "code",
   "execution_count": null,
   "metadata": {},
   "outputs": [],
   "source": [
    "# Prediction with Self-Consistency and Modified Parameters for XStream Classes\n",
    "\n",
    "print(\"\\nPrediction with Self-Consistency and Modified Parameters for XStream Classes\\n\")\n",
    "y_pred = get_all_predictions(xstream_test_examples)\n",
    "print(\"\\nPredicted Import List:\", y_pred)\n",
    "print(\"\\nCorrect Import List:\", xstream_y_true)\n",
    "y_pred_processed, y_true_processed = pred_process(y_pred, xstream_y_true)\n",
    "eval_performance(y_pred_processed, y_true_processed)"
   ]
  },
  {
   "attachments": {},
   "cell_type": "markdown",
   "metadata": {},
   "source": [
    "# Appending Predicted Imports to the Code Body"
   ]
  },
  {
   "cell_type": "code",
   "execution_count": null,
   "metadata": {},
   "outputs": [],
   "source": [
    "def group_imports(predicted_imports):\n",
    "    added_imports = []\n",
    "    for import_group in predicted_imports:\n",
    "        new_group = []\n",
    "        for import_statement in import_group:\n",
    "            new_group.append('import ' + import_statement + ';')\n",
    "        added_imports.append(new_group)\n",
    "    return added_imports"
   ]
  },
  {
   "cell_type": "code",
   "execution_count": null,
   "metadata": {
    "scrolled": true
   },
   "outputs": [],
   "source": [
    "def append_imports(save_directory, code_name, list_of_java_codes, list_of_imports):\n",
    "    code_import_dict = {}\n",
    "    # Check if lengths match\n",
    "    if len(list_of_java_codes) != len(list_of_imports):\n",
    "        print(\"Mismatch between number of Java code strings and import lists!\")\n",
    "    else:\n",
    "        # Zip the lists together into a dictionary\n",
    "        code_import_dict = {i: (imports, code) for i, (imports, code) in enumerate(zip(list_of_imports, list_of_java_codes))}\n",
    "\n",
    "    # Prepend the imports to the Java codes, save each to a .java file\n",
    "    for index, (imports, code) in code_import_dict.items():\n",
    "        # Split the code into lines\n",
    "        lines = code.split('\\n')\n",
    "        \n",
    "        # Find the line with the package declaration\n",
    "        package_line_index = next((i for i, line in enumerate(lines) if line.strip().startswith('package ')), None)\n",
    "\n",
    "        # If a package declaration is found, insert the imports after it\n",
    "        if package_line_index is not None:\n",
    "            lines = lines[:package_line_index+1] + imports + lines[package_line_index+1:]\n",
    "        else:\n",
    "            # If not, prepend the imports to the code\n",
    "            lines = imports + lines\n",
    "\n",
    "        full_code = '\\n'.join(lines)\n",
    "        file_name = \"\"\n",
    "        if code_name == \"android\":\n",
    "            if index<9:\n",
    "                file_name = f\"Android0{index+1}.java\"\n",
    "            else:\n",
    "                file_name = f\"Android{index+1}.java\"\n",
    "        elif code_name == \"jdk\":\n",
    "            file_name = f\"Class_{index+1}.java\" \n",
    "        elif code_name == \"hibernate\":\n",
    "            if index == 0:\n",
    "                file_name = f\"HibernateUtil.java\"\n",
    "            else:\n",
    "                file_name = f\"hibernate_class_{index}.java\"\n",
    "        elif code_name == \"jodatime\":\n",
    "            if index<9:\n",
    "                file_name = f\"JodaTime0{index+1}.java\"\n",
    "            else:\n",
    "                file_name = f\"JodaTime{index+1}.java\"\n",
    "        elif code_name == \"gwt\":\n",
    "            file_name = f\"gwt_class_{index+1}.java\"\n",
    "        elif code_name == \"xstream\":\n",
    "            file_name = f\"xstream_class_{index+1}.java\"\n",
    "        full_path = os.path.join(save_directory, file_name)\n",
    "\n",
    "        # Save the full code to a .java file\n",
    "        with open(full_path, \"w\") as f:\n",
    "            f.write(full_code)"
   ]
  },
  {
   "cell_type": "code",
   "execution_count": null,
   "metadata": {
    "scrolled": true
   },
   "outputs": [],
   "source": [
    "save_directory = \"/home/azmain/code_for_compilation_test/zero-shot/android\"\n",
    "code_name = \"android\"\n",
    "codes = android_codes\n",
    "predicted_imports = [['android.os.Bundle', 'android.app.Activity', 'android.widget.TextView'], ['android.os.Bundle', 'android.app.Activity'], ['com.google.android.maps.ItemizedOverlay', 'com.google.android.maps.GeoPoint', 'android.graphics.drawable.Drawable', 'com.google.android.maps.OverlayItem'], ['android.os.Bundle', 'android.app.Activity', 'android.widget.TextView'], ['android.graphics.drawable.Drawable', 'android.widget.TabHost.TabSpec', 'android.widget.TabHost'], ['android.widget.LinearLayout', 'android.view.View', 'android.view.Gravity', 'android.view.ViewGroup'], ['android.widget.ArrayAdapter', 'android.os.Bundle', 'android.view.View', 'android.app.Activity'], ['java.io.IOException', 'java.net.UnknownHostException', 'java.net.Socket', 'java.net.InetAddress', 'android.util.Log', 'java.net.Inet4Address'], ['java.util.TimerTask', 'android.os.Bundle', 'java.util.Timer', 'android.widget.TextView'], ['android.os.SystemClock', 'android.widget.Chronometer', 'android.util.Log'], ['com.google.android.maps.GeoPoint', 'android.view.MotionEvent', 'android.content.Context', 'com.google.android.maps.MyLocationOverlay', 'android.graphics.Canvas', 'android.location.Location', 'com.google.android.maps.MapView'], ['android.widget.LinearLayout', 'android.app.Activity', 'android.os.Bundle', 'android.graphics.Color', 'android.view.ViewGroup', 'android.widget.TextView'], ['java.io.ByteArrayOutputStream', 'java.io.FileNotFoundException', 'java.io.IOException', 'android.net.Uri', 'android.content.ContentResolver', 'java.io.ByteArrayInputStream', 'android.graphics.Bitmap', 'android.provider.MediaStore.Images.Media'], ['java.io.FileNotFoundException', 'java.io.IOException', 'java.net.MalformedURLException', 'java.net.ProtocolException', 'java.net.HttpURLConnection', 'java.io.InputStream', 'java.io.File', 'java.io.FileOutputStream', 'java.net.URL'], ['android.net.Uri', 'android.content.Intent'], ['android.util.Log', 'android.content.Context', 'android.view.MotionEvent', 'android.util.AttributeSet', 'android.view.View', 'android.graphics.Canvas', 'android.widget.SeekBar'], ['java.io.IOException', 'java.io.InputStreamReader', 'android.util.Log', 'org.apache.http.client.methods.HttpGet', 'org.apache.http.impl.client.DefaultHttpClient', 'org.apache.http.client.HttpClient', 'org.apache.http.HttpEntity', 'org.apache.http.HttpResponse', 'java.net.URISyntaxException', 'java.net.URI'], ['android.view.View.OnClickListener', 'android.app.Activity', 'android.os.Bundle', 'android.content.DialogInterface', 'android.content.Intent'], ['android.widget.ImageView', 'android.content.Context', 'android.view.View', 'android.widget.GridView', 'android.view.ViewGroup'], ['android.view.View', 'android.view.animation.ScaleAnimation', 'android.content.Context', 'android.widget.TextView'], ['androidExamples.R', 'android.widget.LinearLayout', 'android.widget.ImageButton', 'android.content.Context'], ['android.widget.ListView', 'android.database.Cursor', 'android.widget.SimpleCursorAdapter', 'android.os.Bundle', 'android.view.View', 'android.app.ListActivity', 'android.widget.ListAdapter', 'android.provider.Contacts.People', 'android.content.Intent', 'android.widget.TextView'], ['java.util.Random', 'java.io.IOException', 'android.widget.ListView', 'java.net.MalformedURLException', 'android.app.Activity', 'android.widget.ImageView', 'android.os.Bundle', 'java.net.HttpURLConnection', 'android.graphics.Bitmap', 'java.util.ArrayList', 'android.graphics.BitmapFactory', 'android.widget.ArrayAdapter', 'java.net.URL'], ['java.util.Iterator', 'android.app.Activity', 'java.util.List', 'android.os.Bundle', 'android.util.Log', 'android.content.Context', 'android.location.LocationManager'], ['android.os.Bundle', 'android.database.sqlite.SQLiteDatabase', 'android.content.Context', 'java.util.ArrayList', 'android.app.ListActivity'], ['android.widget.ScrollView', 'android.view.MotionEvent', 'android.content.Context', 'android.view.View', 'android.view.View.OnTouchListener', 'android.view.KeyEvent'], ['android.widget.BaseAdapter', 'android.content.Context', 'android.view.View', 'android.widget.GridView', 'android.view.ViewGroup', 'android.widget.TextView'], ['android.app.Application', 'android.content.Context'], ['android.app.Service', 'android.os.IBinder', 'android.content.Context', 'android.os.PowerManager', 'android.content.Intent'], ['org.apache.http.util.EntityUtils', 'org.apache.http.client.methods.HttpGet', 'org.apache.http.client.HttpClient', 'org.apache.http.impl.client.DefaultHttpClient', 'org.apache.http.HttpEntity', 'org.apache.http.HttpResponse', 'org.apache.http.HttpHost'], ['android.os.PowerManager', 'android.content.Context'], ['android.os.Environment', 'java.io.IOException', 'java.io.File', 'android.media.MediaRecorder'], ['java.io.IOException', 'android.view.SurfaceHolder', 'android.content.Context', 'android.hardware.Camera', 'android.graphics.PixelFormat', 'android.hardware.Camera.Parameters'], ['android.view.View.OnClickListener', 'android.widget.ListView', 'android.widget.TabHost', 'android.widget.TabHost.TabContentFactory', 'android.os.Bundle', 'android.util.Log', 'android.widget.TabHost.OnTabChangeListener', 'android.view.View', 'android.app.TabActivity'], ['java.io.IOException', 'java.io.File', 'android.media.MediaRecorder'], ['android.content.ContentValues', 'android.database.sqlite.SQLiteDatabase'], ['android.os.Handler', 'android.app.ProgressDialog', 'android.app.Activity', 'android.os.Message'], ['java.io.DataOutputStream', 'java.io.IOException', 'java.net.MalformedURLException', 'java.net.HttpURLConnection', 'java.io.InputStream', 'java.io.FileInputStream', 'java.io.File', 'java.net.URL', 'java.io.DataInputStream'], ['android.widget.LinearLayout', 'com.google.android.maps.MapActivity', 'android.os.Bundle', 'com.google.android.maps.MyLocationOverlay', 'android.view.View', 'com.google.android.maps.MapController', 'com.google.android.maps.MapView', 'com.google.android.maps.Overlay'], ['android.view.View.OnClickListener', 'android.app.Activity', 'android.widget.ImageView', 'android.os.Bundle', 'android.util.Log', 'android.widget.SlidingDrawer', 'android.view.View'], ['android.graphics.Color', 'android.view.View', 'android.content.Context', 'android.widget.TextView'], ['android.media.MediaPlayer.OnPreparedListener', 'android.media.MediaPlayer.OnErrorListener', 'android.view.SurfaceView', 'android.media.MediaPlayer.OnBufferingUpdateListener', 'android.os.Bundle', 'java.io.InputStream', 'android.view.View', 'java.io.File', 'java.net.URLConnection', 'java.net.URL', 'java.io.IOException', 'android.webkit.URLUtil', 'android.util.Log', 'android.media.MediaPlayer', 'android.media.MediaPlayer.OnCompletionListener', 'java.io.FileOutputStream', 'android.view.SurfaceHolder', 'android.app.Activity', 'android.graphics.PixelFormat', 'android.widget.Button', 'android.content.pm.ActivityInfo', 'android.content.Intent'], ['org.apache.http.util.EntityUtils', 'java.io.IOException', 'org.apache.http.client.methods.HttpGet', 'org.apache.http.client.HttpClient', 'org.apache.http.impl.client.DefaultHttpClient', 'org.apache.http.HttpEntity', 'org.apache.http.HttpResponse', 'org.apache.http.HttpHost'], ['android.app.Service', 'android.os.IBinder', 'android.content.Intent'], ['android.content.ComponentName', 'android.app.Activity', 'android.content.IntentFilter', 'android.os.Bundle', 'android.util.Log', 'android.content.Context', 'android.content.BroadcastReceiver', 'android.webkit.MalformedMimeTypeException', 'android.content.Intent'], ['android.app.Activity', 'android.os.Bundle', 'android.widget.EditText', 'android.view.View', 'android.widget.Button', 'android.content.Intent'], ['java.io.IOException', 'android.app.Activity', 'android.os.Bundle', 'org.apache.http.client.ClientProtocolException', 'org.apache.http.client.methods.HttpGet', 'org.apache.http.impl.client.DefaultHttpClient', 'android.widget.TextView'], ['android.widget.ImageView', 'android.widget.TextView', 'android.hardware.Camera.PictureCallback', 'android.content.Context', 'android.hardware.Camera', 'android.graphics.Bitmap', 'android.graphics.BitmapFactory', 'android.app.AlertDialog', 'android.app.Dialog'], ['android.widget.LinearLayout', 'com.example.R', 'android.view.Gravity', 'android.content.Context', 'android.util.AttributeSet', 'android.view.LayoutInflater'], ['android.app.Activity', 'android.os.Bundle', 'android.widget.EditText', 'android.util.Log', 'android.view.View', 'android.widget.Button', 'java.text.NumberFormat', 'android.widget.TextView']]\n",
    "import_list = group_imports(predicted_imports)\n",
    "append_imports(save_directory, code_name, codes, import_list)"
   ]
  },
  {
   "cell_type": "code",
   "execution_count": null,
   "metadata": {},
   "outputs": [],
   "source": [
    "save_directory = \"/home/azmain/code_for_compilation_test/zero-shot/jdk\"\n",
    "code_name = \"jdk\"\n",
    "codes = jdk_codes\n",
    "predicted_imports = [['java.applet.Applet', 'java.io.ObjectInputStream', 'java.io.IOException', 'java.io.ObjectOutputStream', 'java.awt.Graphics', 'java.awt.Frame', 'java.awt.Color', 'java.awt.Dimension', 'java.awt.event.WindowAdapter', 'java.io.FileInputStream', 'java.awt.Graphics2D', 'java.awt.image.BufferedImage', 'java.io.FileOutputStream', 'java.awt.Container', 'java.awt.event.WindowEvent'], ['javax.swing.JCheckBox', 'java.awt.BorderLayout', 'java.awt.GridLayout', 'java.awt.GridBagLayout', 'java.awt.image.BufferedImage', 'java.awt.Dimension', 'javax.swing.JButton', 'java.awt.Graphics2D', 'javax.swing.JTable', 'java.awt.GradientPaint', 'javax.swing.JScrollPane', 'javax.swing.JComboBox', 'javax.swing.JSplitPane', 'javax.swing.SwingUtilities', 'java.awt.Color', 'javax.swing.table.DefaultTableModel', 'java.awt.event.ActionEvent', 'javax.swing.border.TitledBorder', 'java.awt.FlowLayout', 'java.awt.event.ActionListener', 'javax.swing.JPanel', 'javax.swing.ImageIcon', 'javax.swing.JLabel', 'javax.swing.JFrame', 'javax.swing.UIManager'], ['java.math.RoundingMode', 'java.text.DecimalFormatSymbols', 'java.text.ParseException', 'java.text.DecimalFormat', 'java.util.Locale'], ['java.util.ArrayList', 'java.util.regex.Matcher', 'java.util.List', 'java.util.regex.Pattern'], ['java.util.LinkedHashMap', 'java.util.Collections', 'java.util.List', 'java.util.LinkedList', 'java.util.Comparator', 'java.util.HashMap', 'java.util.TreeMap', 'java.util.Map'], ['java.util.Random', 'javax.swing.JFrame', 'java.util.Observable', 'java.awt.event.ActionEvent', 'java.awt.Component', 'java.awt.Graphics', 'javax.swing.JLabel', 'java.util.Observer', 'java.awt.event.ActionListener', 'javax.swing.JPanel', 'javax.swing.JButton', 'java.awt.Graphics2D', 'java.awt.RenderingHints', 'java.awt.EventQueue', 'java.awt.BorderLayout', 'java.awt.Color', 'javax.swing.Icon'], ['java.util.Collections', 'java.text.ParseException', 'java.util.ArrayList', 'java.util.Comparator', 'java.util.Date', 'java.text.SimpleDateFormat'], [], ['java.sql.Connection', 'java.sql.SQLException', 'java.util.Properties', 'java.sql.DriverManager'], ['java.text.NumberFormat', 'java.util.Locale'], ['javax.swing.JFileChooser', 'java.io.BufferedWriter', 'java.io.File', 'java.io.FileWriter'], ['java.text.DateFormat', 'java.util.Calendar', 'java.text.ParseException', 'java.util.GregorianCalendar', 'java.util.Date', 'java.text.SimpleDateFormat'], ['javax.swing.SwingUtilities', 'javax.swing.JFrame', 'javax.swing.JTextArea', 'javax.swing.UIManager'], ['java.lang.Class', 'java.lang.reflect.Method'], ['java.util.HashMap'], ['java.lang.reflect.Method', 'java.util.List', 'java.lang.reflect.InvocationTargetException', 'java.util.ArrayList', 'java.util.prefs.Preferences', 'java.util.HashMap', 'java.util.Map'], ['java.time.temporal.TemporalAccessor', 'java.text.ParseException', 'java.util.Date', 'java.text.SimpleDateFormat', 'java.time.format.DateTimeFormatter'], ['java.lang.reflect.Field', 'java.lang.reflect.Array'], ['java.util.Random', 'java.util.Iterator', 'java.util.List', 'java.util.concurrent.ThreadLocalRandom', 'java.util.ArrayList', 'java.util.Collection', 'java.util.NoSuchElementException'], ['java.io.DataOutputStream', 'java.io.IOException', 'java.io.BufferedInputStream', 'java.io.BufferedOutputStream', 'java.util.ArrayList', 'java.io.FileInputStream', 'java.io.File', 'java.io.FileOutputStream', 'java.io.DataInputStream'], ['javax.swing.JMenuBar', 'java.io.File', 'javax.swing.JTextArea', 'java.awt.BorderLayout', 'javax.swing.KeyStroke', 'java.awt.event.KeyEvent', 'java.awt.image.BufferedImage', 'javax.swing.JTree', 'javax.swing.JOptionPane', 'javax.swing.JLabel', 'java.awt.event.InputEvent', 'javax.imageio.ImageIO', 'javax.swing.JScrollPane', 'javax.swing.JMenu', 'javax.swing.SwingUtilities', 'java.awt.event.ActionEvent', 'java.awt.Component', 'javax.swing.border.TitledBorder', 'java.awt.Image', 'java.awt.event.ActionListener', 'javax.swing.JPanel', 'javax.swing.ImageIcon', 'javax.swing.JMenuItem', 'javax.swing.JFrame'], ['javax.swing.JFrame', 'java.util.List', 'javax.swing.SwingWorker', 'java.beans.PropertyChangeEvent', 'java.text.DecimalFormat', 'javax.swing.JLabel', 'java.awt.EventQueue', 'java.beans.PropertyChangeListener', 'javax.swing.JProgressBar', 'java.awt.Container', 'java.awt.GridLayout'], []]\n",
    "import_list = group_imports(predicted_imports)\n",
    "append_imports(save_directory, code_name, codes, import_list)"
   ]
  },
  {
   "cell_type": "code",
   "execution_count": null,
   "id": "60a96ca4",
   "metadata": {},
   "outputs": [],
   "source": [
    "save_directory = \"/home/azmain/code_for_compilation_test/zero-shot/hibernate\"\n",
    "code_name = \"hibernate\"\n",
    "codes = hibernate_codes\n",
    "predicted_imports = [['org.hibernate.SessionFactory', 'org.hibernate.cfg.AnnotationConfiguration'], ['hibernate.User', 'org.hibernate.SessionFactory', 'hibernate.UserDAO', 'org.hibernate.cfg.AnnotationConfiguration', 'org.hibernate.Session', 'org.hibernate.Transaction'], ['java.io.Serializable', 'javax.persistence.Id', 'java.util.List', 'javax.persistence.JoinColumn', 'javax.persistence.ManyToOne', 'org.hibernate.annotations.CacheConcurrencyStrategy', 'javax.persistence.Column', 'javax.persistence.Cacheable', 'javax.persistence.OneToMany', 'javax.persistence.Entity', 'org.hibernate.annotations.Cache'], ['org.hibernate.dialect.Dialect', 'org.hibernate.dialect.function.StandardSQLFunction', 'org.hibernate.dialect.function.VarArgsSQLFunction', 'org.hibernate.dialect.function.SQLFunctionTemplate', 'org.hibernate.Hibernate', 'java.sql.Types'], ['org.hibernate.SessionFactory', 'org.hibernate.HibernateException', 'org.hibernate.cfg.Configuration'], ['org.hibernate.SessionFactory', 'org.hibernate.cfg.Configuration'], ['org.dom4j.EntityMode', 'java.util.Iterator', 'java.net.MalformedURLException', 'org.hibernate.HibernateException', 'org.hibernate.tool.hbm2ddl.SchemaExport', 'java.util.List', 'org.hibernate.SessionFactory', 'org.dom4j.io.SAXReader', 'java.io.File', 'org.hibernate.cfg.Configuration', 'org.dom4j.DocumentException', 'org.dom4j.Document', 'org.hibernate.Session', 'org.hibernate.Transaction'], ['org.hibernate.SessionFactory', 'org.hibernate.cfg.AnnotationConfiguration', 'org.hibernate.Session'], ['javax.validation.constraints.AssertTrue', 'javax.persistence.Temporal', 'javax.validation.constraints.NotNull', 'javax.persistence.MappedSuperclass', 'javax.persistence.Column', 'java.util.Date', 'javax.persistence.Transient', 'javax.persistence.TemporalType'], ['java.util.List', 'java.io.Serializable', 'org.hibernate.Session'], ['java.util.List', 'java.io.Serializable', 'org.hibernate.Session'], ['javax.persistence.Id', 'java.io.Serializable', 'javax.persistence.ForeignKey', 'javax.persistence.ManyToOne', 'javax.persistence.JoinColumn', 'javax.persistence.Column', 'javax.persistence.FetchType', 'javax.persistence.Entity', 'javax.persistence.Table'], ['org.hibernate.SessionFactory', 'javax.faces.context.FacesContext', 'org.hibernate.cfg.Configuration', 'org.hibernate.Session', 'org.hibernate.Transaction'], ['java.io.Serializable', 'javax.persistence.Id', 'javax.persistence.IndexColumn', 'javax.persistence.ManyToMany', 'javax.persistence.ForeignKey', 'java.util.List', 'javax.persistence.JoinColumn', 'javax.persistence.ManyToOne', 'javax.persistence.CascadeType', 'javax.persistence.Column', 'javax.persistence.OneToMany', 'javax.persistence.FetchType', 'java.util.Collection', 'javax.persistence.Entity', 'javax.persistence.JoinTable', 'javax.persistence.Table'], ['javax.persistence.Id', 'javax.persistence.ManyToMany', 'java.io.Serializable', 'javax.persistence.ForeignKey', 'javax.persistence.ManyToOne', 'javax.persistence.JoinColumn', 'javax.persistence.CascadeType', 'javax.persistence.Column', 'javax.persistence.FetchType', 'java.util.Collection', 'javax.persistence.Entity', 'javax.persistence.Table'], ['java.sql.Blob', 'java.io.ByteArrayOutputStream', 'java.io.IOException', 'java.sql.SQLException', 'java.io.InputStream', 'java.util.Date', 'org.hibernate.Hibernate'], ['java.util.List', 'hibernate.Event', 'org.hibernate.Session'], [], ['org.hibernate.SessionFactory', 'org.hibernate.cfg.Configuration'], ['javax.persistence.Id', 'org.hibernate.annotations.Table', 'javax.persistence.Index', 'javax.persistence.Column', 'javax.persistence.Entity', 'javax.persistence.GeneratedValue'], ['org.hibernate.SessionFactory', 'org.hibernate.cfg.AnnotationConfiguration'], ['org.hibernate.SessionFactory', 'org.hibernate.cfg.Configuration', 'org.hibernate.Session', 'org.hibernate.Transaction'], ['org.hibernate.SessionFactory', 'org.hibernate.query.Query', 'com.google.gwt.json.client.JSONObject', 'org.hibernate.cfg.Configuration', 'org.hibernate.Session'], ['org.hibernate.HibernateException', 'org.hibernate.SessionFactory', 'org.hibernate.cfg.Configuration', 'org.hibernate.cfg.AnnotationConfiguration', 'org.hibernate.Session'], ['org.hibernate.SessionFactory', 'java.lang.reflect.InvocationHandler', 'java.lang.reflect.Method', 'org.hibernate.cfg.Configuration'], ['javax.persistence.Id', 'javax.persistence.CascadeType', 'javax.persistence.OneToOne', 'javax.persistence.Entity', 'org.hibernate.annotations.FetchMode', 'javax.persistence.GeneratedValue', 'org.hibernate.annotations.Fetch'], ['javax.persistence.Id', 'org.hibernate.tool.hbm2ddl.SchemaExport', 'java.util.List', 'org.hibernate.SessionFactory', 'org.hibernate.annotations.CascadeType', 'javax.persistence.OneToOne', 'javax.persistence.Entity', 'org.hibernate.Query', 'org.hibernate.cfg.AnnotationConfiguration', 'org.hibernate.annotations.FetchMode', 'javax.persistence.GeneratedValue', 'org.hibernate.Session', 'org.hibernate.annotations.Fetch'], ['java.util.List', 'org.hibernate.Session', 'org.hibernate.Query'], ['java.io.Serializable', 'javax.persistence.Id', 'javax.persistence.IndexColumn', 'java.util.List', 'javax.persistence.JoinColumn', 'javax.persistence.ManyToOne', 'java.util.ArrayList', 'javax.persistence.Column', 'javax.persistence.OneToMany', 'javax.persistence.GenerationType', 'javax.persistence.Entity', 'javax.persistence.GeneratedValue'], ['org.hibernate.SessionFactory', 'java.util.List', 'org.hibernate.criterion.Projections', 'org.hibernate.Session', 'org.hibernate.Criteria'], ['javax.persistence.Id', 'java.io.Serializable', 'javax.persistence.NamedQuery', 'javax.persistence.Basic', 'javax.persistence.NamedQueries', 'javax.persistence.Column', 'javax.persistence.Entity', 'javax.persistence.Table'], ['java.util.List', 'org.hibernate.SessionFactory', 'org.hibernate.query.Query', 'org.hibernate.cfg.Configuration', 'org.hibernate.Session'], ['javax.persistence.Id', 'javax.persistence.Index', 'javax.persistence.Entity', 'javax.persistence.GeneratedValue', 'javax.persistence.Table'], ['org.hibernate.SessionFactory', 'org.hibernate.Session', 'org.hibernate.cfg.Configuration'], ['org.hibernate.Session', 'org.hibernate.Transaction'], ['org.hibernate.HibernateException', 'java.util.Iterator', 'java.util.List', 'org.apache.log4j.BasicConfigurator', 'org.hibernate.Query', 'org.hibernate.Session', 'org.hibernate.Transaction'], ['org.hibernate.SessionFactory', 'org.hibernate.cfg.Configuration', 'org.hibernate.Session', 'org.hibernate.Transaction'], ['org.hibernate.SessionFactory', 'org.hibernate.HibernateException', 'org.hibernate.Session', 'org.hibernate.cfg.AnnotationConfiguration'], ['org.hibernate.SessionFactory', 'org.hibernate.cfg.Configuration', 'org.hibernate.Session', 'org.hibernate.Transaction'], ['java.io.Serializable', 'java.util.List', 'org.hibernate.SessionFactory', 'org.springframework.transaction.annotation.Transactional', 'org.hibernate.Session', 'java.util.Map', 'org.hibernate.Transaction'], ['java.util.Iterator', 'java.util.List', 'org.hibernate.SessionFactory', 'org.hibernate.query.Query', 'org.hibernate.cfg.Configuration', 'org.hibernate.Session'], ['org.hibernate.Criteria', 'org.hibernate.Transaction', 'java.util.List', 'org.hibernate.Session', 'org.hibernate.criterion.Restrictions'], ['java.util.List', 'org.hibernate.SessionFactory', 'javax.naming.InitialContext', 'org.hibernate.criterion.Example', 'org.apache.commons.logging.Log', 'org.apache.commons.logging.LogFactory'], ['org.hibernate.SessionFactory', 'java.util.Properties', 'org.hibernate.cfg.Configuration', 'org.hibernate.Session', 'org.apache.log4j.Logger'], ['javax.servlet.http.HttpSession', 'java.util.Iterator', 'java.util.Set', 'org.apache.struts.actions.DispatchAction', 'javax.servlet.http.HttpServletRequest', 'org.hibernate.Transaction', 'org.hibernate.SessionFactory', 'org.apache.struts.action.ActionMapping', 'org.hibernate.Query', 'java.util.ArrayList', 'org.apache.struts.action.ActionForward', 'java.util.HashSet', 'org.apache.struts.action.ActionForm', 'org.hibernate.Session', 'javax.servlet.http.HttpServletResponse'], ['org.hibernate.SessionFactory', 'org.hibernate.cfg.AnnotationConfiguration', 'org.hibernate.Session'], ['org.hibernate.HibernateException', 'org.hibernate.CacheMode', 'org.hibernate.SessionFactory', 'org.hibernate.JDBCException', 'org.hibernate.Session'], ['org.hibernate.SessionFactory', 'hibernate.util.HibernateUtil', 'org.hibernate.Session', 'org.hibernate.Transaction'], ['net.sf.gilead.core.hibernate.HibernateUtil', 'net.sf.gilead.core.PersistentBeanManager', 'com.google.gwt.user.server.rpc.RemoteServiceServlet', 'org.hibernate.SessionFactory', 'hibernate.GreetingService', 'org.hibernate.Session', 'net.sf.gilead.core.store.stateless.StatelessProxyStore', 'org.hibernate.Transaction'], ['org.hibernate.annotations.NaturalId', 'javax.persistence.Version', 'java.io.Serializable', 'javax.persistence.Entity'], ['java.util.List', 'org.hibernate.Session', 'org.hibernate.SessionFactory']]\n",
    "import_list = group_imports(predicted_imports)\n",
    "append_imports(save_directory, code_name, codes, import_list)"
   ]
  },
  {
   "cell_type": "code",
   "execution_count": null,
   "id": "afe05084",
   "metadata": {},
   "outputs": [],
   "source": [
    "save_directory = \"/home/azmain/code_for_compilation_test/zero-shot/jodatime\"\n",
    "code_name = \"jodatime\"\n",
    "codes = jodatime_codes\n",
    "predicted_imports = [['org.joda.time.format.DateTimeFormatter', 'org.joda.time.DateTimeZone', 'org.joda.time.DateTime', 'java.util.TimeZone', 'org.joda.time.format.ISODateTimeFormat'], ['org.joda.time.DateMidnight', 'org.joda.time.DateTimeZone', 'org.joda.time.DateTime'], ['org.joda.time.Interval', 'org.joda.time.PeriodFormatterBuilder', 'org.joda.time.PeriodFormatter'], ['org.joda.time.Period', 'org.joda.time.ReadableInstant'], ['org.joda.time.DateTimeZone', 'org.joda.time.DateTime', 'org.joda.time.Chronology', 'org.joda.time.chrono.GJChronology'], ['org.joda.time.PeriodType', 'org.joda.time.Duration', 'org.joda.time.PeriodBuilder', 'org.joda.time.PeriodFormatterBuilder'], ['org.joda.time.DateTime', 'java.text.DateFormat', 'java.util.Calendar', 'org.joda.time.Days', 'java.text.ParseException', 'java.util.Date', 'java.text.SimpleDateFormat'], ['java.util.concurrent.TimeUnit', 'org.joda.time.Period', 'org.joda.time.PeriodType'], ['org.joda.time.DateTimeZone', 'java.util.TimeZone'], ['java.io.ObjectInputStream', 'java.io.Serializable', 'java.io.IOException', 'org.joda.time.DateTimeZone', 'java.io.ObjectOutputStream', 'org.joda.time.chrono.ISOChronology'], ['org.joda.time.format.DateTimeFormatter', 'org.joda.time.format.DateTimeFormat', 'java.text.SimpleDateFormat', 'java.text.ParseException'], ['java.text.SimpleDateFormat', 'java.util.Date', 'org.joda.time.DateTime', 'java.text.ParseException'], ['org.junit.Assert.assertEquals', 'org.joda.time.format.PeriodFormatterBuilder', 'org.junit.Test', 'org.joda.time.format.PeriodFormatter', 'org.joda.time.Period'], ['org.joda.time.format.DateTimeFormatter', 'org.joda.time.format.DateTimeFormat', 'org.joda.time.DateTime'], ['org.joda.time.DateTime', 'org.joda.time.MutableDateTime'], ['org.joda.time.format.PeriodFormatterBuilder', 'org.joda.time.DateTime', 'org.joda.time.Period', 'org.joda.time.format.PeriodFormatter'], ['org.joda.time.format.DateTimeFormatter', 'org.joda.time.format.DateTimeFormat', 'org.joda.time.DateTime'], ['org.joda.time.format.DateTimeFormatterBuilder', 'org.joda.time.format.DateTimeFormatter', 'org.joda.time.DateTimeZone'], ['org.joda.time.Interval', 'org.joda.time.Instant', 'org.joda.time.ReadableInstant', 'java.util.Date'], ['org.joda.time.format.DateTimeFormatter', 'org.joda.time.format.DateTimeFormat', 'org.joda.time.DateTimeZone', 'org.joda.time.DateTime'], ['org.joda.time.DateTimeZone', 'org.joda.time.DateTime', 'java.text.DateFormat', 'org.joda.time.LocalDateTime', 'java.text.ParseException', 'java.util.Date', 'java.text.SimpleDateFormat'], ['org.joda.time.format.DateTimeFormatter', 'org.joda.time.format.DateTimeFormat', 'org.joda.time.DateTime', 'java.text.DateFormat', 'java.text.ParseException', 'java.util.Date', 'java.text.SimpleDateFormat'], ['org.joda.time.LocalDate', 'org.joda.time.DateTimeConstants'], ['org.joda.time.format.PeriodFormat', 'org.joda.time.DateTime', 'org.joda.time.Period', 'org.joda.time.PeriodType'], ['org.joda.time.DateMidnight', 'org.joda.time.Days', 'org.joda.time.LocalDateTime'], ['org.joda.time.Duration', 'org.joda.time.Period'], ['java.util.ArrayList', 'org.joda.time.DateTime'], ['org.joda.time.format.DateTimeFormat', 'org.joda.time.format.DateTimeFormatter', 'org.joda.time.DateTime', 'java.util.List', 'org.joda.time.Days', 'java.util.ArrayList', 'org.joda.time.LocalDate'], ['org.joda.time.format.DateTimeFormatter', 'org.joda.time.DateTime'], ['org.joda.time.DateTimeZone', 'org.joda.time.DateTime'], ['org.joda.time.DateTime', 'org.joda.time.Weeks'], ['org.joda.time.format.DateTimeFormatter', 'org.joda.time.DateTime'], ['org.joda.time.Period', 'org.joda.time.format.PeriodFormatterBuilder', 'org.joda.time.format.PeriodFormatter'], ['org.joda.time.format.PeriodFormatter', 'org.joda.time.Period', 'java.util.Locale', 'org.joda.time.format.PeriodFormat'], ['org.joda.time.DateTime', 'org.joda.time.Period', 'org.joda.time.ReadablePeriod', 'org.joda.time.PeriodFormatterBuilder', 'org.joda.time.PeriodFormatter'], ['org.joda.time.format.ISOPeriodFormat', 'org.joda.time.Period', 'org.joda.time.format.PeriodFormatterBuilder', 'org.joda.time.format.PeriodFormatter'], ['java.util.concurrent.TimeUnit', 'org.joda.time.DateTimeZone', 'org.joda.time.DateTime'], ['org.joda.time.format.DateTimeFormatter', 'org.joda.time.format.DateTimeFormat', 'org.joda.time.DateTime'], ['org.joda.time.DateTime'], ['org.joda.time.Days', 'org.joda.time.DateTime', 'java.util.Date'], ['org.joda.time.format.DateTimeFormatter', 'org.joda.time.format.DateTimeFormat', 'org.joda.time.DateTime'], ['org.joda.time.LocalDate'], ['org.joda.time.format.DateTimeFormatter', 'org.joda.time.format.DateTimeFormat', 'org.joda.time.DateTime', 'org.joda.time.format.DateTimeParser', 'org.joda.time.format.DateTimeFormatterBuilder'], ['org.joda.time.Period', 'org.joda.time.format.PeriodFormatterBuilder', 'org.joda.time.format.PeriodFormatter'], ['java.util.Set', 'org.joda.time.DateTimeZone', 'org.joda.time.tz.Provider', 'java.util.TimeZone', 'java.util.HashSet', 'java.util.Date'], ['org.joda.time.DateTimeZone', 'org.joda.time.DateTime'], ['org.joda.time.format.DateTimeFormatter', 'org.joda.time.format.DateTimeFormat', 'org.joda.time.DateTime'], ['org.joda.time.DateTime', 'org.joda.time.MillisProvider'], ['org.joda.time.format.DateTimeFormat', 'org.joda.time.LocalDate', 'org.joda.time.DateTime', 'org.joda.time.format.DateTimeFormatter'], ['org.joda.time.DateTime']]\n",
    "import_list = group_imports(predicted_imports)\n",
    "append_imports(save_directory, code_name, codes, import_list)"
   ]
  },
  {
   "cell_type": "code",
   "execution_count": null,
   "id": "6b0ab9f3",
   "metadata": {},
   "outputs": [],
   "source": [
    "save_directory = \"/home/azmain/code_for_compilation_test/zero-shot/gwt\"\n",
    "code_name = \"gwt\"\n",
    "codes = gwt_codes\n",
    "predicted_imports = [['com.google.gwt.user.client.ui.Composite', 'com.google.gwt.event.dom.client.MouseDownEvent', 'com.google.gwt.user.client.ui.AbsolutePanel', 'com.google.gwt.event.dom.client.MouseDownHandler'], ['com.google.gwt.junit.client.GWTTestCase', 'com.google.gwt.user.client.rpc.AsyncCallback', 'com.google.gwt.sample.stockwatcher.client.GreetingService', 'com.google.gwt.sample.stockwatcher.client.GreetingServiceAsync', 'com.google.gwt.core.client.GWT'], ['com.google.gwt.user.client.ui.Button', 'com.google.gwt.user.client.rpc.AsyncCallback', 'com.google.gwt.user.client.ui.RootPanel', 'com.google.gwt.core.client.EntryPoint', 'com.google.gwt.user.client.ui.TextBox', 'com.google.gwt.user.client.Window'], ['com.google.gwt.user.client.ui.VerticalSplitPanel', 'com.google.gwt.user.client.ui.Composite', 'com.google.gwt.user.client.ui.HTML'], ['com.google.gwt.core.client.JsArrayInteger', 'com.google.gwt.core.client.JsArray'], ['com.google.gwt.user.client.DOM', 'com.google.gwt.user.client.ui.Widget', 'com.google.gwt.user.client.Element'], ['com.google.gwt.user.client.ui.VerticalPanel', 'com.google.gwt.user.client.ui.Table', 'com.google.gwt.user.client.ui.RootPanel', 'com.google.gwt.core.client.EntryPoint', 'com.google.gwt.user.client.ui.Panel', 'com.google.gwt.user.client.Timer'], ['com.google.gwt.http.client.Request', 'com.google.gwt.http.client.RequestCallback', 'com.google.gwt.http.client.Response', 'com.google.gwt.http.client.RequestBuilder', 'com.google.gwt.http.client.RequestException', 'com.google.gwt.user.client.Window'], ['com.google.gwt.user.client.ui.VerticalPanel', 'com.google.gwt.user.client.Command', 'com.google.gwt.user.client.ui.MenuBar'], ['com.google.gwt.user.client.ui.VerticalPanel', 'com.google.gwt.user.client.ui.ClickListener', 'com.google.gwt.user.client.ui.Button', 'com.google.gwt.user.client.ui.Widget', 'com.google.gwt.user.client.ui.FormPanel', 'com.google.gwt.user.client.ui.TextBox', 'com.google.gwt.user.client.ui.Label'], ['com.google.gwt.user.client.ui.RootPanel', 'com.google.gwt.user.client.ui.Label', 'com.google.gwt.user.client.ui.HorizontalPanel', 'com.google.gwt.core.client.EntryPoint'], ['com.google.gwt.user.client.ui.VerticalPanel', 'com.google.gwt.user.client.ui.RootPanel', 'com.google.gwt.user.client.ui.AbsolutePanel', 'com.google.gwt.core.client.EntryPoint', 'com.google.gwt.user.client.ui.TextBox', 'com.google.gwt.user.client.ui.Label'], ['com.google.gwt.user.client.ui.ClickListener', 'com.google.gwt.user.client.ui.Button', 'com.google.gwt.user.client.ui.Widget', 'com.google.gwt.user.client.ui.RootPanel', 'com.google.gwt.user.client.ui.AbsolutePanel', 'com.google.gwt.core.client.EntryPoint'], ['com.google.gwt.http.client.Request', 'com.google.gwt.http.client.RequestCallback', 'com.google.gwt.core.client.GWT', 'com.google.gwt.http.client.Response', 'com.google.gwt.http.client.RequestBuilder', 'com.google.gwt.user.client.Window'], ['com.google.gwt.http.client.Request', 'com.google.gwt.http.client.RequestCallback', 'com.google.gwt.http.client.URL', 'com.google.gwt.http.client.Response', 'com.google.gwt.http.client.RequestBuilder', 'com.google.gwt.http.client.RequestException'], ['com.google.gwt.http.client.Request', 'com.google.gwt.http.client.RequestCallback', 'com.google.gwt.user.client.ui.RootPanel', 'com.google.gwt.user.client.ui.HTML', 'com.google.gwt.http.client.Response', 'com.google.gwt.http.client.RequestBuilder'], ['com.google.gwt.user.client.ui.VerticalPanel', 'com.google.gwt.user.client.ui.Button', 'com.google.gwt.user.client.ui.Composite', 'com.google.gwt.user.client.ui.HTML', 'com.google.gwt.user.client.ui.DockPanel', 'com.google.gwt.user.client.ui.AbstractImagePrototype', 'com.google.gwt.user.client.ui.ImageBundle', 'com.google.gwt.user.client.ui.Image'], ['com.google.gwt.core.client.GWT', 'com.google.gwt.user.client.ui.Composite', 'com.google.gwt.uibinder.client.UiBinder', 'com.google.gwt.user.client.ui.Widget'], ['com.google.gwt.user.client.ui.RootPanel', 'com.google.gwt.user.client.ui.VerticalPanel', 'com.google.gwt.user.client.ui.Button', 'com.google.gwt.user.client.ui.Label'], ['com.google.gwt.user.client.ui.Button', 'com.google.gwt.event.dom.client.ClickHandler', 'com.google.gwt.user.client.ui.RootPanel', 'com.google.gwt.event.dom.client.ClickEvent', 'com.google.gwt.core.client.EntryPoint', 'com.google.gwt.user.client.Window'], ['com.google.gwt.user.client.ui.VerticalPanel', 'com.google.gwt.user.client.ui.PopupPanel', 'com.google.gwt.user.client.ui.Button', 'com.google.gwt.user.client.ui.Widget'], ['com.google.gwt.user.client.ui.VerticalPanel', 'com.google.gwt.uibinder.client.UiBinder', 'com.google.gwt.user.client.ui.Button', 'com.google.gwt.event.dom.client.ClickHandler', 'com.google.gwt.user.client.ui.Composite', 'com.google.gwt.event.dom.client.ClickEvent', 'com.google.gwt.core.client.GWT', 'com.google.gwt.uibinder.client.UiField', 'com.google.gwt.uibinder.client.UiHandler', 'com.google.gwt.user.client.ui.Label'], ['java.util.UUID', 'com.google.gwt.http.client.Request', 'com.google.gwt.http.client.RequestCallback', 'com.google.gwt.http.client.Response', 'com.google.gwt.http.client.RequestBuilder', 'com.google.gwt.http.client.RequestException'], ['com.google.gwt.event.dom.client.ClickHandler', 'com.google.gwt.user.client.ui.Widget', 'com.google.gwt.user.client.ui.Composite', 'com.google.gwt.user.client.DOM', 'com.google.gwt.event.dom.client.ClickEvent', 'com.google.gwt.event.shared.HandlerRegistration', 'com.google.gwt.user.client.ui.HasClickHandlers'], ['com.google.gwt.user.client.ui.VerticalPanel', 'com.google.gwt.user.client.ui.Button', 'com.google.gwt.event.dom.client.ClickHandler', 'com.google.gwt.event.dom.client.KeyUpEvent', 'com.google.gwt.event.dom.client.KeyUpHandler', 'com.google.gwt.user.client.ui.RootPanel', 'com.google.gwt.user.client.ui.DialogBox', 'com.google.gwt.user.client.ui.HTML', 'com.google.gwt.event.dom.client.KeyCodes', 'com.google.gwt.event.dom.client.ClickEvent', 'com.google.gwt.core.client.EntryPoint', 'com.google.gwt.user.client.ui.TextBox', 'com.google.gwt.user.client.ui.Label'], ['com.google.gwt.user.client.ui.VerticalPanel', 'com.google.gwt.event.dom.client.FormSubmitEvent', 'com.google.gwt.user.client.ui.Button', 'com.google.gwt.user.client.ui.Widget', 'com.google.gwt.user.client.ui.RootPanel', 'com.google.gwt.event.dom.client.FormHandler', 'com.google.gwt.event.dom.client.FormSubmitCompleteEvent', 'com.google.gwt.event.dom.client.ClickListener', 'com.google.gwt.user.client.ui.TextBox', 'com.google.gwt.user.client.ui.FormPanel'], ['com.google.gwt.user.client.ui.Button', 'com.google.gwt.user.client.ui.RootPanel', 'com.google.gwt.dom.client.Document', 'com.google.gwt.dom.client.NodeList', 'com.google.gwt.core.client.GWT'], ['com.google.gwt.http.client.Request', 'com.google.gwt.http.client.RequestCallback', 'com.google.gwt.http.client.Response', 'com.google.gwt.core.client.EntryPoint', 'com.google.gwt.http.client.RequestBuilder', 'com.google.gwt.http.client.RequestException', 'com.google.gwt.user.client.Window'], ['com.google.gwt.user.client.rpc.AsyncCallback', 'com.google.gwt.http.client.JsonpRequestBuilder', 'com.google.gwt.core.client.EntryPoint', 'com.google.gwt.user.client.Window'], ['com.google.gwt.user.client.ui.TextBox', 'com.google.gwt.user.client.ui.DialogBox', 'com.google.gwt.user.client.ui.Grid', 'com.google.gwt.user.client.ui.HTML'], ['com.google.gwt.http.client.Request', 'com.google.gwt.http.client.RequestCallback', 'com.google.gwt.http.client.URL', 'com.google.gwt.http.client.Response', 'com.google.gwt.http.client.RequestBuilder', 'com.google.gwt.http.client.RequestException'], ['com.google.gwt.http.client.Request', 'com.google.gwt.http.client.RequestCallback', 'com.google.gwt.http.client.URL', 'com.google.gwt.http.client.Response', 'com.google.gwt.http.client.RequestBuilder', 'com.google.gwt.user.client.Window'], ['com.google.gwt.user.client.ui.VerticalPanel', 'java.util.Iterator', 'com.google.gwt.user.client.ui.Button', 'com.google.gwt.user.client.ui.Widget', 'com.google.gwt.user.client.ui.Grid', 'java.util.List', 'com.google.gwt.user.client.ui.CheckBox', 'com.google.gwt.user.client.ui.RootPanel', 'com.google.gwt.user.client.ui.HTML', 'java.util.ArrayList', 'com.google.gwt.user.client.ui.DockPanel', 'com.google.gwt.core.client.EntryPoint', 'com.google.gwt.user.client.ui.RadioButton', 'com.google.gwt.user.client.ui.HorizontalPanel'], ['com.google.gwt.dom.client.DOM', 'com.google.gwt.user.client.ui.Button', 'com.google.gwt.event.dom.client.ClickHandler', 'com.google.gwt.user.client.ui.FormPanel', 'com.google.gwt.event.dom.client.ClickEvent', 'com.google.gwt.event.dom.client.SubmitHandler', 'com.google.gwt.event.shared.HandlerRegistration', 'com.google.gwt.event.dom.client.SubmitEvent'], ['com.google.gwt.dom.client.Style.Unit', 'com.google.gwt.user.client.ui.FlowPanel', 'com.google.gwt.animation.client.Animation', 'com.google.gwt.dom.client.Element', 'com.google.gwt.core.client.GWT'], ['com.google.gwt.user.client.ui.RootPanel', 'com.google.gwt.user.client.ui.AbsolutePanel', 'com.google.gwt.user.client.ui.SimplePanel'], ['com.google.gwt.http.client.Request', 'com.google.gwt.user.client.ui.Widget', 'com.google.gwt.http.client.RequestCallback', 'com.google.gwt.http.client.URL', 'com.google.gwt.user.client.ui.RootPanel', 'com.google.gwt.core.client.JsArray', 'com.google.gwt.user.client.ui.HTML', 'com.google.gwt.http.client.Response', 'com.google.gwt.core.client.EntryPoint', 'com.google.gwt.http.client.RequestBuilder', 'com.google.gwt.http.client.RequestException', 'com.google.gwt.user.client.Window'], ['com.google.gwt.user.client.ui.VerticalPanel', 'com.google.gwt.user.client.ui.Widget', 'com.google.gwt.user.client.ui.Composite', 'com.google.gwt.user.client.ui.Hyperlink', 'com.google.gwt.event.dom.client.HasClickHandlers'], ['com.google.gwt.user.server.rpc.RemoteServiceServlet', 'javax.servlet.ServletOutputStream', 'java.io.FileInputStream', 'java.io.File', 'javax.servlet.ServletContext', 'javax.servlet.http.HttpServletResponse', 'java.io.DataInputStream'], ['com.google.gwt.user.client.ui.HorizontalPanel', 'com.sencha.gxt.widget.core.client.container.LayoutContainer', 'com.google.gwt.user.client.ui.Label'], ['com.google.gwt.user.client.ui.VerticalPanel', 'com.google.gwt.user.client.ui.Button', 'com.google.gwt.event.dom.client.ClickHandler', 'com.google.gwt.user.client.ui.RootPanel', 'com.google.gwt.user.client.ui.Composite', 'com.google.gwt.event.dom.client.ClickEvent', 'com.google.gwt.user.client.ui.Label', 'com.google.gwt.user.client.Element'], ['com.google.gwt.http.client.Request', 'com.google.gwt.http.client.RequestCallback', 'com.google.gwt.http.client.URL', 'com.google.gwt.http.client.Response', 'com.google.gwt.core.client.EntryPoint', 'com.google.gwt.http.client.RequestBuilder', 'com.google.gwt.http.client.RequestException', 'com.google.gwt.user.client.Window'], ['com.google.gwt.event.dom.client.ClickHandler', 'com.google.gwt.user.client.ui.Widget', 'com.google.gwt.user.client.ui.Composite', 'com.google.gwt.event.dom.client.MouseOutHandler', 'com.google.gwt.event.dom.client.ClickEvent', 'com.google.gwt.event.dom.client.MouseOutEvent', 'com.google.gwt.user.client.ui.HorizontalPanel', 'com.google.gwt.user.client.ui.Label'], ['com.google.gwt.user.client.rpc.AsyncCallback', 'com.google.gwt.dom.client.Style.Unit', 'com.google.gwt.core.client.RunAsyncCallback', 'com.google.gwt.user.client.ui.DockLayoutPanel', 'com.google.gwt.core.client.GWT', 'com.google.gwt.user.client.ui.ResizeComposite', 'com.google.gwt.user.client.ui.Label'], ['com.google.gwt.user.client.ui.Button', 'com.google.gwt.event.dom.client.ClickHandler', 'com.google.gwt.user.client.ui.RootPanel', 'com.google.gwt.event.dom.client.ClickEvent', 'com.google.gwt.core.client.EntryPoint', 'com.google.gwt.user.client.ui.Label', 'com.google.gwt.user.client.Window'], ['com.google.gwt.user.client.ui.VerticalPanel', 'com.google.gwt.user.client.ui.RootPanel', 'com.google.gwt.user.client.ui.DialogBox', 'com.google.gwt.user.client.ui.HTML'], ['com.google.gwt.user.client.ui.Widget', 'com.google.gwt.dom.client.Style.Unit', 'com.google.gwt.user.client.ui.HTML', 'com.google.gwt.user.client.ui.LayoutPanel', 'com.google.gwt.user.client.ui.RootLayoutPanel', 'com.google.gwt.core.client.EntryPoint'], ['com.google.gwt.event.logical.shared.BeforeSelectionHandler', 'com.google.gwt.user.client.ui.TabBar', 'com.google.gwt.event.logical.shared.SelectionEvent', 'com.google.gwt.event.logical.shared.SelectionHandler', 'com.google.gwt.event.logical.shared.BeforeSelectionEvent', 'com.google.gwt.core.client.EntryPoint', 'com.google.gwt.user.client.Window'], ['com.google.gwt.dom.client.Document', 'com.google.gwt.dom.client.Element', 'java.util.ArrayList', 'com.google.gwt.user.client.DOM', 'com.google.gwt.dom.client.BodyElement'], ['com.google.gwt.event.dom.client.BlurHandler', 'com.google.gwt.event.dom.client.KeyDownEvent', 'com.google.gwt.user.client.ui.HasHTML', 'com.google.gwt.event.dom.client.ClickHandler', 'com.google.gwt.event.dom.client.BlurEvent', 'com.google.gwt.user.client.ui.Widget', 'com.google.gwt.user.client.ui.HasText', 'com.google.gwt.user.client.ui.HasKeyDownHandlers', 'com.google.gwt.user.client.DOM', 'com.google.gwt.event.dom.client.ClickEvent', 'com.google.gwt.event.dom.client.KeyDownHandler', 'com.google.gwt.user.client.ui.ComplexPanel', 'com.google.gwt.event.shared.HandlerRegistration', 'com.google.gwt.user.client.ui.HasClickHandlers']]\n",
    "import_list = group_imports(predicted_imports)\n",
    "append_imports(save_directory, code_name, codes, import_list)"
   ]
  },
  {
   "cell_type": "code",
   "execution_count": null,
   "id": "22fd2ef8",
   "metadata": {},
   "outputs": [],
   "source": [
    "save_directory = \"/home/azmain/code_for_compilation_test/zero-shot/xstream\"\n",
    "code_name = \"xstream\"\n",
    "codes = xstream_codes\n",
    "predicted_imports = [['com.thoughtworks.xstream.converters.UnmarshallingContext', 'com.thoughtworks.xstream.io.HierarchicalStreamReader', 'com.thoughtworks.xstream.converters.Converter', 'com.thoughtworks.xstream.io.HierarchicalStreamWriter', 'com.thoughtworks.xstream.converters.MarshallingContext'], ['java.io.IOException', 'com.thoughtworks.xstream.XStream', 'java.io.FileReader', 'java.io.BufferedReader', 'com.thoughtworks.xstream.io.xml.DomDriver'], ['java.util.ArrayList', 'java.util.List', 'com.thoughtworks.xstream.io.json.JettisonMappedXmlDriver', 'com.thoughtworks.xstream.XStream'], ['java.util.ArrayList', 'com.thoughtworks.xstream.XStream'], ['java.io.FileNotFoundException', 'com.thoughtworks.xstream.io.xml.DomDriver', 'java.io.PrintWriter', 'com.thoughtworks.xstream.XStream'], ['java.io.OutputStream', 'com.thoughtworks.xstream.XStream', 'java.io.File', 'java.io.FileOutputStream', 'com.thoughtworks.xstream.io.xml.DomDriver'], ['com.thoughtworks.xstream.annotations.XStreamAsAttribute'], ['android.app.Activity', 'android.os.Bundle', 'org.ksoap2.transport.HttpTransportSE', 'com.thoughtworks.xstream.XStream', 'org.ksoap2.SoapEnvelope', 'org.ksoap2.serialization.SoapObject', 'org.ksoap2.serialization.SoapSerializationEnvelope', 'com.thoughtworks.xstream.io.xml.DomDriver', 'android.widget.TextView'], ['java.io.FileNotFoundException', 'java.io.FileInputStream', 'com.thoughtworks.xstream.io.xml.DomDriver', 'com.thoughtworks.xstream.XStream'], ['java.io.StringWriter', 'com.thoughtworks.xstream.io.xml.PrettyPrintWriter', 'com.thoughtworks.xstream.XStream'], ['java.util.List', 'com.thoughtworks.xstream.XStream', 'java.util.ArrayList', 'com.thoughtworks.xstream.converters.collections.CollectionConverter', 'com.thoughtworks.xstream.mapper.ClassAliasingMapper'], ['java.util.List', 'com.thoughtworks.xstream.MarshallingContext', 'com.thoughtworks.xstream.io.HierarchicalStreamReader', 'com.thoughtworks.xstream.UnmarshallingContext', 'com.thoughtworks.xstream.converters.Converter', 'com.thoughtworks.xstream.io.HierarchicalStreamWriter'], ['com.thoughtworks.xstream.mapper.ClassAliasingMapper', 'com.thoughtworks.xstream.mapper.Mapper'], ['com.thoughtworks.xstream.converters.SingleValueConverter', 'com.thoughtworks.xstream.converters.enums.AbstractSingleValueConverter'], ['com.thoughtworks.xstream.io.xml.MarshallingContext', 'com.thoughtworks.xstream.XStream', 'java.util.HashSet', 'com.thoughtworks.xstream.converters.collections.CollectionConverter', 'com.thoughtworks.xstream.io.HierarchicalStreamWriter'], ['com.thoughtworks.xstream.mapper.MapperWrapper', 'com.thoughtworks.xstream.XStream'], [], ['com.thoughtworks.xstream.MarshallingContext', 'com.thoughtworks.xstream.io.HierarchicalStreamReader', 'java.util.HashMap', 'com.thoughtworks.xstream.UnmarshallingContext', 'com.thoughtworks.xstream.converters.Converter', 'java.util.Map', 'com.thoughtworks.xstream.io.HierarchicalStreamWriter'], ['com.thoughtworks.xstream.MarshallingContext', 'com.thoughtworks.xstream.UnmarshallingContext', 'com.thoughtworks.xstream.io.HierarchicalStreamReader', 'com.thoughtworks.xstream.converters.Converter', 'com.thoughtworks.xstream.io.HierarchicalStreamWriter'], ['java.nio.charset.Charset', 'java.io.InputStreamReader', 'java.io.InputStream', 'com.thoughtworks.xstream.XStream', 'java.io.FileInputStream', 'java.io.File', 'java.io.Reader'], ['com.thoughtworks.xstream.converters.reflection.ReflectionConverter', 'com.thoughtworks.xstream.mapper.Mapper', 'com.thoughtworks.xstream.converters.UnmarshallingContext', 'com.thoughtworks.xstream.converters.reflection.ReflectionProvider', 'com.thoughtworks.xstream.io.HierarchicalStreamReader', 'com.thoughtworks.xstream.converters.Converter', 'java.util.Map', 'com.thoughtworks.xstream.io.HierarchicalStreamWriter', 'com.thoughtworks.xstream.converters.MarshallingContext'], ['java.util.Arrays', 'com.thoughtworks.xstream.annotations.XStreamImplicit', 'java.util.List', 'com.thoughtworks.xstream.XStream', 'java.io.File', 'com.thoughtworks.xstream.annotations.XStreamConverter', 'com.thoughtworks.xstream.annotations.XStreamAlias', 'com.thoughtworks.xstream.converters.extended.ToAttributedValueConverter'], ['com.thoughtworks.xstream.io.xml.XppDriver', 'com.thoughtworks.xstream.annotations.XStreamAlias', 'com.thoughtworks.xstream.converters.javabean.JavaBeanConverter', 'com.thoughtworks.xstream.XStream'], ['com.thoughtworks.xstream.converters.reflection.ReflectionConverter', 'com.thoughtworks.xstream.mapper.Mapper', 'com.thoughtworks.xstream.converters.UnmarshallingContext', 'com.thoughtworks.xstream.converters.reflection.ReflectionProvider', 'com.thoughtworks.xstream.io.HierarchicalStreamReader', 'com.thoughtworks.xstream.io.HierarchicalStreamWriter', 'com.thoughtworks.xstream.converters.MarshallingContext'], ['com.thoughtworks.xstream.converters.extended.ToAttributedValueConverter', 'com.thoughtworks.xstream.annotations.XStreamConverter', 'com.thoughtworks.xstream.annotations.XStreamAlias', 'com.thoughtworks.xstream.XStream'], ['java.util.ArrayList', 'java.util.List', 'java.util.Collection', 'com.thoughtworks.xstream.converters.SingleValueConverter'], ['xstream.Content', 'com.thoughtworks.xstream.io.xml.MarshallingContext', 'com.thoughtworks.xstream.XStream', 'com.thoughtworks.xstream.io.HierarchicalStreamReader', 'com.thoughtworks.xstream.converters.Converter', 'com.thoughtworks.xstream.io.HierarchicalStreamWriter', 'com.thoughtworks.xstream.io.xml.UnmarshallingContext', 'org.apache.commons.lang3.text.WordUtils'], ['com.thoughtworks.xstream.MarshallingContext', 'com.thoughtworks.xstream.io.HierarchicalStreamReader', 'java.util.HashMap', 'com.thoughtworks.xstream.UnmarshallingContext', 'com.thoughtworks.xstream.converters.Converter', 'java.util.Map', 'com.thoughtworks.xstream.io.HierarchicalStreamWriter'], ['java.util.ArrayList', 'java.util.List', 'com.thoughtworks.xstream.io.xml.DomDriver', 'com.thoughtworks.xstream.XStream'], ['com.thoughtworks.xstream.io.UnmarshallingContext', 'com.thoughtworks.xstream.io.HierarchicalStreamReader', 'com.thoughtworks.xstream.io.MarshallingContext', 'com.thoughtworks.xstream.converters.Converter', 'com.thoughtworks.xstream.io.HierarchicalStreamWriter'], ['com.thoughtworks.xstream.annotations.XStreamAlias', 'com.thoughtworks.xstream.XStream'], ['com.thoughtworks.xstream.XStream', 'com.thoughtworks.xstream.hibernate.converter.HibernatePersistentSortedMapConverter', 'com.thoughtworks.xstream.hibernate.converter.HibernateProxyConverter', 'com.thoughtworks.xstream.hibernate.converter.HibernatePersistentSortedSetConverter', 'com.thoughtworks.xstream.hibernate.converter.HibernatePersistentMapConverter', 'com.thoughtworks.xstream.hibernate.converter.HibernateMapper', 'com.thoughtworks.xstream.hibernate.converter.HibernatePersistentCollectionConverter', 'com.thoughtworks.xstream.mapper.MapperWrapper'], ['com.thoughtworks.xstream.io.xml.DomDriver', 'com.thoughtworks.xstream.mapper.Mapper', 'com.thoughtworks.xstream.XStream'], ['java.util.Iterator', 'com.thoughtworks.xstream.annotations.XStreamImplicit', 'java.util.List', 'com.thoughtworks.xstream.XStream', 'java.util.ArrayList', 'com.thoughtworks.xstream.annotations.XStreamAlias'], ['com.thoughtworks.xstream.mapper.Mapper', 'com.thoughtworks.xstream.converters.ConverterLookup', 'com.thoughtworks.xstream.XStream', 'com.thoughtworks.xstream.converters.reflection.ReflectionProvider', 'com.thoughtworks.xstream.converters.SingleValueConverter', 'com.thoughtworks.xstream.converters.Converter', 'com.thoughtworks.xstream.mapper.MapperWrapper'], ['com.thoughtworks.xstream.io.xml.StaxDriver', 'java.util.Map', 'java.util.HashMap', 'com.thoughtworks.xstream.XStream'], ['com.thoughtworks.xstream.io.UnmarshallingContext', 'java.util.ArrayList', 'com.thoughtworks.xstream.io.HierarchicalStreamReader', 'com.thoughtworks.xstream.io.MarshallingContext', 'com.thoughtworks.xstream.convert.Converter', 'com.thoughtworks.xstream.io.HierarchicalStreamWriter'], ['java.util.ArrayList', 'java.util.List', 'com.thoughtworks.xstream.annotations.XStreamAlias', 'com.thoughtworks.xstream.XStream'], ['com.thoughtworks.xstream.io.xml.XppDriver', 'com.thoughtworks.xstream.io.xml.PrettyPrintWriter', 'com.thoughtworks.xstream.XStream', 'java.io.Writer', 'com.thoughtworks.xstream.io.HierarchicalStreamWriter', 'com.thoughtworks.xstream.io.QuickWriter'], ['com.thoughtworks.xstream.MarshallingContext', 'com.thoughtworks.xstream.UnmarshallingContext', 'com.thoughtworks.xstream.io.HierarchicalStreamReader', 'com.thoughtworks.xstream.converters.Converter', 'com.thoughtworks.xstream.io.HierarchicalStreamWriter'], ['java.util.List', 'com.thoughtworks.xstream.io.xml.StaxDriver', 'com.thoughtworks.xstream.XStream'], ['java.util.List', 'com.thoughtworks.xstream.annotations.XStreamAlias', 'com.thoughtworks.xstream.annotations.XStreamImplicit'], ['java.util.ArrayList', 'java.util.List', 'com.thoughtworks.xstream.io.xml.DomDriver', 'com.thoughtworks.xstream.XStream'], ['java.io.FileOutputStream', 'java.io.File', 'com.thoughtworks.xstream.XStream']]\n",
    "import_list = group_imports(predicted_imports)\n",
    "append_imports(save_directory, code_name, codes, import_list)"
   ]
  },
  {
   "cell_type": "code",
   "execution_count": null,
   "id": "1f3cc033",
   "metadata": {},
   "outputs": [],
   "source": []
  }
 ],
 "metadata": {
  "kernelspec": {
   "display_name": "azmain_py39",
   "language": "python",
   "name": "python3"
  },
  "language_info": {
   "codemirror_mode": {
    "name": "ipython",
    "version": 3
   },
   "file_extension": ".py",
   "mimetype": "text/x-python",
   "name": "python",
   "nbconvert_exporter": "python",
   "pygments_lexer": "ipython3",
   "version": "3.9.15"
  }
 },
 "nbformat": 4,
 "nbformat_minor": 5
}
