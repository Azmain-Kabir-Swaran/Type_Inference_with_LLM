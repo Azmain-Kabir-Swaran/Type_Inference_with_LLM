{
 "cells": [
  {
   "cell_type": "code",
   "execution_count": null,
   "metadata": {},
   "outputs": [],
   "source": [
    "import glob\n",
    "import json\n",
    "import os\n",
    "import re"
   ]
  },
  {
   "cell_type": "code",
   "execution_count": null,
   "metadata": {},
   "outputs": [],
   "source": [
    "os.chdir(\"/home/azmain/alljavajsons/\")\n",
    "\n",
    "outputFiles = []\n",
    "    \n",
    "numbers = re.compile(r'(\\d+)')\n",
    "def numericalSort(value):\n",
    "    parts = numbers.split(value)\n",
    "    parts[1::2] = map(int, parts[1::2])\n",
    "    return parts\n",
    "\n",
    "for file in sorted(glob.glob(\"*.benchmark_log.json\"), key=numericalSort):\n",
    "    outputFiles.append(file)\n",
    "\n",
    "print(outputFiles)"
   ]
  },
  {
   "cell_type": "code",
   "execution_count": null,
   "metadata": {},
   "outputs": [],
   "source": [
    "def get_correct_imports(outputFiles):\n",
    "    os.chdir(\"/home/azmain/alljavajsons/\")\n",
    "    correct_outputs = []\n",
    "    for output in outputFiles:\n",
    "        correct_output_list = json.load(open(output))['total_imports']\n",
    "        correct_output_list = [\"import \"+i+\";\" for i in correct_output_list]\n",
    "        correct_outputs.append(correct_output_list)\n",
    "\n",
    "    for import_lines in correct_outputs:\n",
    "        if \"import gen.R;\" in import_lines:\n",
    "            import_lines.remove(\"import gen.R;\")\n",
    "\n",
    "    return correct_outputs"
   ]
  },
  {
   "cell_type": "code",
   "execution_count": null,
   "metadata": {},
   "outputs": [],
   "source": [
    "def get_predicted_imports(log_path, logs):\n",
    "    os.chdir(log_path)\n",
    "    predicted_outputs = []\n",
    "    for output in logs:\n",
    "        code_from_log = json.load(open(output))['java_code']\n",
    "        predicted_outputs.append(re.findall(r\"import\\s+[\\w\\., ]+;\", code_from_log))\n",
    "\n",
    "    return predicted_outputs"
   ]
  },
  {
   "cell_type": "code",
   "execution_count": null,
   "metadata": {},
   "outputs": [],
   "source": [
    "def get_result(ground_truth, predicted):\n",
    "    correct_count = sum(1 for sublist_gt, sublist_pred in zip(ground_truth, predicted) \n",
    "                    for item in sublist_gt if item in sublist_pred)\n",
    "\n",
    "    total_items = sum(1 for sublist in ground_truth for item in sublist)\n",
    "\n",
    "    correct_rate = correct_count / total_items * 100\n",
    "\n",
    "    print(f\"Total Imports: {total_items}\")\n",
    "    print(f\"Number of Completely Predicted: {correct_count}\")\n",
    "    print(f\"Completion Rate: {correct_rate:.2f}%\")"
   ]
  },
  {
   "cell_type": "markdown",
   "metadata": {},
   "source": [
    "### Zero-shot Calculation"
   ]
  },
  {
   "cell_type": "code",
   "execution_count": null,
   "metadata": {},
   "outputs": [],
   "source": [
    "os.chdir(\"/home/azmain/GitHub Codes/Type_Inference_with_LLM/Java_Type_Inference/Results/logs_and_llm_fixes_combined/zero-shot-combined/all_compile_success/\")\n",
    "\n",
    "zero_shot_logs = []\n",
    "    \n",
    "numbers = re.compile(r'(\\d+)')\n",
    "def numericalSort(value):\n",
    "    parts = numbers.split(value)\n",
    "    parts[1::2] = map(int, parts[1::2])\n",
    "    return parts\n",
    "\n",
    "for file in sorted(glob.glob(\"*.json\"), key=numericalSort):\n",
    "    zero_shot_logs.append(file)\n",
    "\n",
    "print(zero_shot_logs)"
   ]
  },
  {
   "cell_type": "code",
   "execution_count": null,
   "metadata": {},
   "outputs": [],
   "source": [
    "dir_name = \"zero-shot\"\n",
    "\n",
    "print(\"Total Android Codes: {}\\n\".format(len(outputFiles[:50])))\n",
    "\n",
    "android_correct_outputs = get_correct_imports(outputFiles[:50])\n",
    "print(\"Total Android Imports: {}\\n\".format(sum(1 for sublist in android_correct_outputs for item in sublist)))\n",
    "\n",
    "android_y_true = android_correct_outputs\n",
    "print(android_y_true)\n",
    "print(\"\\n\")\n",
    "\n",
    "log_path = f\"/home/azmain/GitHub Codes/Type_Inference_with_LLM/Java_Type_Inference/Results/logs_and_llm_fixes_combined/{dir_name}-combined/combined/\"\n",
    "android_predicted_outputs = get_predicted_imports(log_path, zero_shot_logs[:50])\n",
    "android_y_pred = android_predicted_outputs\n",
    "print(android_y_pred)"
   ]
  },
  {
   "cell_type": "code",
   "execution_count": null,
   "metadata": {},
   "outputs": [],
   "source": [
    "dir_name = \"zero-shot\"\n",
    "\n",
    "print(\"Total JDK Codes: {}\\n\".format(len(outputFiles[50:73])))\n",
    "\n",
    "jdk_correct_outputs = get_correct_imports(outputFiles[50:73])\n",
    "print(\"Total JDK Imports: {}\\n\".format(sum(1 for sublist in jdk_correct_outputs for item in sublist)))\n",
    "\n",
    "jdk_y_true = jdk_correct_outputs\n",
    "print(jdk_y_true)\n",
    "print(\"\\n\")\n",
    "\n",
    "log_path = f\"/home/azmain/GitHub Codes/Type_Inference_with_LLM/Java_Type_Inference/Results/logs_and_llm_fixes_combined/{dir_name}-combined/combined/\"\n",
    "jdk_predicted_outputs = get_predicted_imports(log_path, zero_shot_logs[50:73])\n",
    "jdk_y_pred = jdk_predicted_outputs\n",
    "print(jdk_y_pred)"
   ]
  },
  {
   "cell_type": "code",
   "execution_count": null,
   "metadata": {},
   "outputs": [],
   "source": [
    "dir_name = \"zero-shot\"\n",
    "\n",
    "print(\"Total Hibernate Codes: {}\\n\".format(len(outputFiles[73:74] + outputFiles[174:224])))\n",
    "\n",
    "hibernate_correct_outputs = get_correct_imports(outputFiles[73:74] + outputFiles[174:224])\n",
    "print(\"Total Hibernate Imports: {}\\n\".format(sum(1 for sublist in hibernate_correct_outputs for item in sublist)))\n",
    "\n",
    "hibernate_y_true = hibernate_correct_outputs\n",
    "print(hibernate_y_true)\n",
    "print(\"\\n\")\n",
    "\n",
    "log_path = f\"/home/azmain/GitHub Codes/Type_Inference_with_LLM/Java_Type_Inference/Results/logs_and_llm_fixes_combined/{dir_name}-combined/combined/\"\n",
    "hibernate_predicted_outputs = get_predicted_imports(log_path, (zero_shot_logs[73:74] + zero_shot_logs[174:224]))\n",
    "hibernate_y_pred = hibernate_predicted_outputs\n",
    "print(hibernate_y_pred)"
   ]
  },
  {
   "cell_type": "code",
   "execution_count": null,
   "metadata": {},
   "outputs": [],
   "source": [
    "dir_name = \"zero-shot\"\n",
    "\n",
    "print(\"Total JodaTime Codes: {}\\n\".format(len(outputFiles[74:124])))\n",
    "\n",
    "jodatime_correct_outputs = get_correct_imports(outputFiles[74:124])\n",
    "print(\"Total JodaTime Imports: {}\\n\".format(sum(1 for sublist in jodatime_correct_outputs for item in sublist)))\n",
    "\n",
    "jodatime_y_true = jodatime_correct_outputs\n",
    "print(jodatime_y_true)\n",
    "print(\"\\n\")\n",
    "\n",
    "log_path = f\"/home/azmain/GitHub Codes/Type_Inference_with_LLM/Java_Type_Inference/Results/logs_and_llm_fixes_combined/{dir_name}-combined/combined/\"\n",
    "jodatime_predicted_outputs = get_predicted_imports(log_path, zero_shot_logs[74:124])\n",
    "jodatime_y_pred = jodatime_predicted_outputs\n",
    "print(jodatime_y_pred)"
   ]
  },
  {
   "cell_type": "code",
   "execution_count": null,
   "metadata": {},
   "outputs": [],
   "source": [
    "dir_name = \"zero-shot\"\n",
    "\n",
    "print(\"Total GWT Codes: {}\\n\".format(len(outputFiles[124:174])))\n",
    "\n",
    "gwt_correct_outputs = get_correct_imports(outputFiles[124:174])\n",
    "print(\"Total GWT Imports: {}\\n\".format(sum(1 for sublist in gwt_correct_outputs for item in sublist)))\n",
    "\n",
    "gwt_y_true = gwt_correct_outputs\n",
    "print(gwt_y_true)\n",
    "print(\"\\n\")\n",
    "\n",
    "log_path = f\"/home/azmain/GitHub Codes/Type_Inference_with_LLM/Java_Type_Inference/Results/logs_and_llm_fixes_combined/{dir_name}-combined/combined/\"\n",
    "gwt_predicted_outputs = get_predicted_imports(log_path, zero_shot_logs[124:174])\n",
    "gwt_y_pred = gwt_predicted_outputs\n",
    "print(gwt_y_pred)"
   ]
  },
  {
   "cell_type": "code",
   "execution_count": null,
   "metadata": {},
   "outputs": [],
   "source": [
    "dir_name = \"zero-shot\"\n",
    "\n",
    "print(\"Total XStream Codes: {}\\n\".format(len(outputFiles[224:268])))\n",
    "\n",
    "xstream_correct_outputs = get_correct_imports(outputFiles[224:268])\n",
    "print(\"Total XStream Imports: {}\\n\".format(sum(1 for sublist in xstream_correct_outputs for item in sublist)))\n",
    "\n",
    "xstream_y_true = xstream_correct_outputs\n",
    "print(xstream_y_true)\n",
    "print(\"\\n\")\n",
    "\n",
    "log_path = f\"/home/azmain/GitHub Codes/Type_Inference_with_LLM/Java_Type_Inference/Results/logs_and_llm_fixes_combined/{dir_name}-combined/combined/\"\n",
    "xstream_predicted_outputs = get_predicted_imports(log_path, zero_shot_logs[224:268])\n",
    "xstream_y_pred = xstream_predicted_outputs\n",
    "print(xstream_y_pred)"
   ]
  },
  {
   "cell_type": "code",
   "execution_count": null,
   "metadata": {},
   "outputs": [],
   "source": [
    "print(\"SnR Import Statements Inferring Result:\\n\")\n",
    "\n",
    "def get_snr_predicted_imports(outputFiles):\n",
    "    os.chdir(\"/home/azmain/alljavajsons/\")\n",
    "    correct_outputs = []\n",
    "    for output in outputFiles:\n",
    "        correct_output_list = json.load(open(output))['correct_imports']\n",
    "        correct_output_list = [\"import \"+i+\";\" for i in correct_output_list]\n",
    "        correct_outputs.append(correct_output_list)\n",
    "\n",
    "    for import_lines in correct_outputs:\n",
    "        if \"import gen.R;\" in import_lines:\n",
    "            import_lines.remove(\"import gen.R;\")\n",
    "\n",
    "    return correct_outputs\n",
    "\n",
    "snr_y_true = get_correct_imports(outputFiles)\n",
    "snr_correct_outputs = get_snr_predicted_imports(outputFiles)\n",
    "\n",
    "get_result(snr_y_true, snr_correct_outputs)"
   ]
  },
  {
   "cell_type": "code",
   "execution_count": null,
   "metadata": {},
   "outputs": [],
   "source": [
    "print(\"Android Import Statements Inferring Result:\\n\")\n",
    "get_result(android_y_true, android_correct_outputs)"
   ]
  },
  {
   "cell_type": "code",
   "execution_count": null,
   "metadata": {},
   "outputs": [],
   "source": [
    "print(\"JDK Import Statements Inferring Result:\\n\")\n",
    "get_result(jdk_y_true, jdk_correct_outputs)"
   ]
  },
  {
   "cell_type": "code",
   "execution_count": null,
   "metadata": {},
   "outputs": [],
   "source": [
    "print(\"Hibernate Import Statements Inferring Result:\\n\")\n",
    "get_result(hibernate_y_true, hibernate_correct_outputs)"
   ]
  },
  {
   "cell_type": "code",
   "execution_count": null,
   "metadata": {},
   "outputs": [],
   "source": [
    "print(\"JodaTime Import Statements Inferring Result:\\n\")\n",
    "get_result(jodatime_y_true, jodatime_correct_outputs)"
   ]
  },
  {
   "cell_type": "code",
   "execution_count": null,
   "metadata": {},
   "outputs": [],
   "source": [
    "print(\"GWT Import Statements Inferring Result:\\n\")\n",
    "get_result(gwt_y_true, gwt_correct_outputs)"
   ]
  },
  {
   "cell_type": "code",
   "execution_count": null,
   "metadata": {},
   "outputs": [],
   "source": [
    "print(\"XStream Import Statements Inferring Result:\\n\")\n",
    "get_result(xstream_y_true, xstream_correct_outputs)"
   ]
  },
  {
   "cell_type": "code",
   "execution_count": null,
   "metadata": {},
   "outputs": [],
   "source": []
  }
 ],
 "metadata": {
  "kernelspec": {
   "display_name": "azmain_py39",
   "language": "python",
   "name": "python3"
  },
  "language_info": {
   "codemirror_mode": {
    "name": "ipython",
    "version": 3
   },
   "file_extension": ".py",
   "mimetype": "text/x-python",
   "name": "python",
   "nbconvert_exporter": "python",
   "pygments_lexer": "ipython3",
   "version": "3.9.15"
  },
  "orig_nbformat": 4
 },
 "nbformat": 4,
 "nbformat_minor": 2
}
