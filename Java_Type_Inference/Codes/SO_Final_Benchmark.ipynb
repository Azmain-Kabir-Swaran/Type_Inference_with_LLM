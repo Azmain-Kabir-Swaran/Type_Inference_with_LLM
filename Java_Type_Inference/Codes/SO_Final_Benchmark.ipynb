{
 "cells": [
  {
   "cell_type": "code",
   "execution_count": null,
   "metadata": {},
   "outputs": [],
   "source": [
    "import glob\n",
    "import json\n",
    "import os\n",
    "import re\n",
    "from sklearn.metrics import accuracy_score, f1_score, precision_score, recall_score"
   ]
  },
  {
   "cell_type": "code",
   "execution_count": null,
   "metadata": {},
   "outputs": [],
   "source": [
    "os.chdir(\"/home/azmain/alljavajsons/\")\n",
    "\n",
    "outputFiles = []\n",
    "    \n",
    "numbers = re.compile(r'(\\d+)')\n",
    "def numericalSort(value):\n",
    "    parts = numbers.split(value)\n",
    "    parts[1::2] = map(int, parts[1::2])\n",
    "    return parts\n",
    "\n",
    "for file in sorted(glob.glob(\"*.benchmark_log.json\"), key=numericalSort):\n",
    "    outputFiles.append(file)\n",
    "\n",
    "print(outputFiles)"
   ]
  },
  {
   "cell_type": "code",
   "execution_count": null,
   "metadata": {},
   "outputs": [],
   "source": [
    "os.chdir(\"/home/azmain/GitHub Codes/Type_Inference_with_LLM/Java_Type_Inference/Results/logs/all_so_logs/\")\n",
    "\n",
    "so_logs = []\n",
    "    \n",
    "numbers = re.compile(r'(\\d+)')\n",
    "def numericalSort(value):\n",
    "    parts = numbers.split(value)\n",
    "    parts[1::2] = map(int, parts[1::2])\n",
    "    return parts\n",
    "\n",
    "for file in sorted(glob.glob(\"*.json\"), key=numericalSort):\n",
    "    so_logs.append(file)\n",
    "\n",
    "print(so_logs)"
   ]
  },
  {
   "cell_type": "code",
   "execution_count": null,
   "metadata": {},
   "outputs": [],
   "source": [
    "def get_correct_outputs(outputFiles):\n",
    "    os.chdir(\"/home/azmain/alljavajsons/\")\n",
    "    correct_outputs = []\n",
    "    for output in outputFiles:\n",
    "        correct_output_list = json.load(open(output))['total_imports']\n",
    "        correct_output_list = [\"import \"+i+\";\" for i in correct_output_list]\n",
    "        correct_outputs.append(correct_output_list)\n",
    "\n",
    "    for import_lines in correct_outputs:\n",
    "        if \"import gen.R;\" in import_lines:\n",
    "            import_lines.remove(\"import gen.R;\")\n",
    "\n",
    "    return correct_outputs"
   ]
  },
  {
   "cell_type": "code",
   "execution_count": null,
   "metadata": {},
   "outputs": [],
   "source": [
    "def get_predicted_outputs(so_logs):\n",
    "    os.chdir(\"/home/azmain/GitHub Codes/Type_Inference_with_LLM/Java_Type_Inference/Results/logs/all_so_logs/\")\n",
    "    predicted_outputs = []\n",
    "    for output in so_logs:\n",
    "        code_from_log = json.load(open(output))['java_code']\n",
    "        predicted_outputs.append(re.findall(r\"import\\s+[\\w\\., ]+;\", code_from_log))\n",
    "\n",
    "    return predicted_outputs"
   ]
  },
  {
   "cell_type": "code",
   "execution_count": null,
   "metadata": {},
   "outputs": [],
   "source": [
    "print(\"Total Android Codes: {}\\n\".format(len(outputFiles[:50])))\n",
    "\n",
    "android_correct_outputs = get_correct_outputs(outputFiles[:50])\n",
    "\n",
    "android_y_true = android_correct_outputs\n",
    "print(android_y_true)\n",
    "print(\"\\n\\n\\n\")\n",
    "\n",
    "\n",
    "android_predicted_outputs = get_predicted_outputs(so_logs[:50])\n",
    "android_y_pred = android_predicted_outputs\n",
    "print(android_y_pred)"
   ]
  },
  {
   "cell_type": "code",
   "execution_count": null,
   "metadata": {},
   "outputs": [],
   "source": [
    "print(\"Total JDK Codes: {}\\n\".format(len(outputFiles[50:73])))\n",
    "\n",
    "jdk_correct_outputs = get_correct_outputs(outputFiles[50:73])\n",
    "\n",
    "jdk_y_true = jdk_correct_outputs\n",
    "print(jdk_y_true)\n",
    "print(\"\\n\\n\\n\")\n",
    "\n",
    "\n",
    "jdk_predicted_outputs = get_predicted_outputs(so_logs[50:73])\n",
    "jdk_y_pred = jdk_predicted_outputs\n",
    "print(jdk_y_pred)"
   ]
  },
  {
   "cell_type": "code",
   "execution_count": null,
   "metadata": {},
   "outputs": [],
   "source": [
    "print(\"Total Hibernate Codes: {}\\n\".format(len(outputFiles[73:74] + outputFiles[174:224])))\n",
    "\n",
    "hibernate_correct_outputs = get_correct_outputs(outputFiles[73:74] + outputFiles[174:224])\n",
    "\n",
    "hibernate_y_true = hibernate_correct_outputs\n",
    "print(hibernate_y_true)\n",
    "print(\"\\n\\n\\n\")\n",
    "\n",
    "\n",
    "hibernate_predicted_outputs = get_predicted_outputs(so_logs[73:74] + so_logs[174:224])\n",
    "hibernate_y_pred = hibernate_predicted_outputs\n",
    "print(hibernate_y_pred)"
   ]
  },
  {
   "cell_type": "code",
   "execution_count": null,
   "metadata": {},
   "outputs": [],
   "source": [
    "print(\"Total JodaTime Codes: {}\\n\".format(len(outputFiles[74:124])))\n",
    "\n",
    "jodatime_correct_outputs = get_correct_outputs(outputFiles[74:124])\n",
    "\n",
    "jodatime_y_true = jodatime_correct_outputs\n",
    "print(jodatime_y_true)\n",
    "print(\"\\n\\n\\n\")\n",
    "\n",
    "\n",
    "jodatime_predicted_outputs = get_predicted_outputs(so_logs[74:124])\n",
    "jodatime_y_pred = jodatime_predicted_outputs\n",
    "print(jodatime_y_pred)"
   ]
  },
  {
   "cell_type": "code",
   "execution_count": null,
   "metadata": {},
   "outputs": [],
   "source": [
    "print(\"Total GWT Codes: {}\\n\".format(len(outputFiles[124:174])))\n",
    "\n",
    "gwt_correct_outputs = get_correct_outputs(outputFiles[124:174])\n",
    "\n",
    "gwt_y_true = gwt_correct_outputs\n",
    "print(gwt_y_true)\n",
    "print(\"\\n\\n\\n\")\n",
    "\n",
    "\n",
    "gwt_predicted_outputs = get_predicted_outputs(so_logs[124:174])\n",
    "gwt_y_pred = gwt_predicted_outputs\n",
    "print(gwt_y_pred)"
   ]
  },
  {
   "cell_type": "code",
   "execution_count": null,
   "metadata": {},
   "outputs": [],
   "source": [
    "print(\"Total XStream Codes: {}\\n\".format(len(outputFiles[224:268])))\n",
    "\n",
    "xstream_correct_outputs = get_correct_outputs(outputFiles[224:268])\n",
    "\n",
    "xstream_y_true = xstream_correct_outputs\n",
    "print(xstream_y_true)\n",
    "print(\"\\n\\n\\n\")\n",
    "\n",
    "xstream_predicted_outputs = get_predicted_outputs(so_logs[224:268])\n",
    "xstream_y_pred = xstream_predicted_outputs\n",
    "print(xstream_y_pred)"
   ]
  },
  {
   "cell_type": "code",
   "execution_count": null,
   "metadata": {},
   "outputs": [],
   "source": [
    "def pred_process(y_pred, y_true):\n",
    "    y_pred_processed = []\n",
    "    y_true_processed = []\n",
    "    \n",
    "    for pred, correct_imports in zip(y_pred, y_true):\n",
    "        max_length = max(len(pred), len(correct_imports))\n",
    "        correct_preds = list(set(pred).intersection(correct_imports))\n",
    "        \n",
    "        for i in range(0, max_length):\n",
    "            if i<len(correct_preds):\n",
    "                y_pred_processed.append(1)\n",
    "                y_true_processed.append(1)\n",
    "            else:\n",
    "                if i<len(correct_imports):\n",
    "                    y_pred_processed.append(0)\n",
    "                    y_true_processed.append(1)\n",
    "                else:\n",
    "                    y_pred_processed.append(1)\n",
    "                    y_true_processed.append(0)\n",
    "            \n",
    "    print(y_pred_processed)\n",
    "    print()\n",
    "    print(y_true_processed)\n",
    "    print()\n",
    "    return y_pred_processed, y_true_processed"
   ]
  },
  {
   "cell_type": "code",
   "execution_count": null,
   "metadata": {},
   "outputs": [],
   "source": [
    "def eval_performance(y_pred, y_true):\n",
    "    print(json.dumps({\n",
    "        \"accuracy\": accuracy_score(y_pred, y_true),\n",
    "        \"f1\": f1_score(y_pred, y_true),\n",
    "        \"precision\": precision_score(y_pred, y_true),\n",
    "        \"recall\": recall_score(y_pred, y_true)\n",
    "    }, indent=2))"
   ]
  },
  {
   "cell_type": "code",
   "execution_count": null,
   "metadata": {},
   "outputs": [],
   "source": [
    "# Prediction for Android Classes\n",
    "\n",
    "print(\"\\nPrediction for Android Classes:\\n\")\n",
    "\n",
    "y_pred_processed, y_true_processed = pred_process(android_y_pred, android_y_true)\n",
    "eval_performance(y_pred_processed, y_true_processed)"
   ]
  },
  {
   "cell_type": "code",
   "execution_count": null,
   "metadata": {},
   "outputs": [],
   "source": [
    "# Prediction for JDK Classes\n",
    "\n",
    "print(\"\\nPrediction for JDK Classes:\\n\")\n",
    "\n",
    "y_pred_processed, y_true_processed = pred_process(jdk_y_pred, jdk_y_true)\n",
    "eval_performance(y_pred_processed, y_true_processed)"
   ]
  },
  {
   "cell_type": "code",
   "execution_count": null,
   "metadata": {},
   "outputs": [],
   "source": [
    "# Prediction for Hibernate Classes\n",
    "\n",
    "print(\"\\nPrediction for Hibernate Classes:\\n\")\n",
    "\n",
    "y_pred_processed, y_true_processed = pred_process(hibernate_y_pred, hibernate_y_true)\n",
    "eval_performance(y_pred_processed, y_true_processed)"
   ]
  },
  {
   "cell_type": "code",
   "execution_count": null,
   "metadata": {},
   "outputs": [],
   "source": [
    "# Prediction for Joda-Time Classes\n",
    "\n",
    "print(\"\\nPrediction for Joda-Time Classes:\\n\")\n",
    "\n",
    "y_pred_processed, y_true_processed = pred_process(jodatime_y_pred, jodatime_y_true)\n",
    "eval_performance(y_pred_processed, y_true_processed)"
   ]
  },
  {
   "cell_type": "code",
   "execution_count": null,
   "metadata": {},
   "outputs": [],
   "source": [
    "# Prediction for GWT Classes\n",
    "\n",
    "print(\"\\nPrediction for GWT Classes:\\n\")\n",
    "\n",
    "y_pred_processed, y_true_processed = pred_process(gwt_y_pred, gwt_y_true)\n",
    "eval_performance(y_pred_processed, y_true_processed)"
   ]
  },
  {
   "cell_type": "code",
   "execution_count": null,
   "metadata": {},
   "outputs": [],
   "source": [
    "# Prediction for XStream Classes\n",
    "\n",
    "print(\"\\nPrediction for XStream Classes:\\n\")\n",
    "\n",
    "y_pred_processed, y_true_processed = pred_process(xstream_y_pred, xstream_y_true)\n",
    "eval_performance(y_pred_processed, y_true_processed)"
   ]
  },
  {
   "cell_type": "code",
   "execution_count": null,
   "metadata": {},
   "outputs": [],
   "source": []
  }
 ],
 "metadata": {
  "kernelspec": {
   "display_name": "azmain_py39",
   "language": "python",
   "name": "python3"
  },
  "language_info": {
   "codemirror_mode": {
    "name": "ipython",
    "version": 3
   },
   "file_extension": ".py",
   "mimetype": "text/x-python",
   "name": "python",
   "nbconvert_exporter": "python",
   "pygments_lexer": "ipython3",
   "version": "3.9.15"
  },
  "orig_nbformat": 4
 },
 "nbformat": 4,
 "nbformat_minor": 2
}
