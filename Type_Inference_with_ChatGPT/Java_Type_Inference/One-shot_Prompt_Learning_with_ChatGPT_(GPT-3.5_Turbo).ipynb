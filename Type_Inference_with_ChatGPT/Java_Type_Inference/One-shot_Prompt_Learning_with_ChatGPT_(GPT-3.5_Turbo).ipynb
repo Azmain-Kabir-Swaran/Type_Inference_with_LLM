{
 "cells": [
  {
   "cell_type": "code",
   "execution_count": 1,
   "metadata": {
    "scrolled": true
   },
   "outputs": [
    {
     "name": "stdout",
     "output_type": "stream",
     "text": [
      "env: OPENAI_API_KEY=api-key\n"
     ]
    }
   ],
   "source": [
    "%env OPENAI_API_KEY = api-key"
   ]
  },
  {
   "cell_type": "code",
   "execution_count": 2,
   "metadata": {},
   "outputs": [],
   "source": [
    "# pip install --upgrade openai"
   ]
  },
  {
   "cell_type": "code",
   "execution_count": 3,
   "metadata": {},
   "outputs": [],
   "source": [
    "import glob\n",
    "import json\n",
    "import os\n",
    "import re\n",
    "import random\n",
    "import time\n",
    "\n",
    "from tqdm import tqdm\n",
    "from sklearn.metrics import accuracy_score, f1_score, precision_score, recall_score"
   ]
  },
  {
   "cell_type": "code",
   "execution_count": 4,
   "metadata": {},
   "outputs": [],
   "source": [
    "import openai\n",
    "\n",
    "openai.api_key = os.getenv(\"OPENAI_API_KEY\")"
   ]
  },
  {
   "cell_type": "code",
   "execution_count": 5,
   "metadata": {},
   "outputs": [
    {
     "name": "stdout",
     "output_type": "stream",
     "text": [
      "/home/azmain/alljavajsons\n"
     ]
    }
   ],
   "source": [
    "cd '/home/azmain/alljavajsons'"
   ]
  },
  {
   "cell_type": "code",
   "execution_count": 6,
   "metadata": {},
   "outputs": [
    {
     "name": "stdout",
     "output_type": "stream",
     "text": [
      "['Android01.java.json', 'Android02.java.json', 'Android03.java.json', 'Android04.java.json', 'Android05.java.json', 'Android06.java.json', 'Android07.java.json', 'Android08.java.json', 'Android09.java.json', 'Android10.java.json', 'Android11.java.json', 'Android12.java.json', 'Android13.java.json', 'Android14.java.json', 'Android15.java.json', 'Android16.java.json', 'Android17.java.json', 'Android18.java.json', 'Android19.java.json', 'Android20.java.json', 'Android21.java.json', 'Android22.java.json', 'Android23.java.json', 'Android24.java.json', 'Android25.java.json', 'Android26.java.json', 'Android27.java.json', 'Android28.java.json', 'Android29.java.json', 'Android30.java.json', 'Android31.java.json', 'Android32.java.json', 'Android33.java.json', 'Android34.java.json', 'Android35.java.json', 'Android36.java.json', 'Android37.java.json', 'Android38.java.json', 'Android39.java.json', 'Android40.java.json', 'Android41.java.json', 'Android42.java.json', 'Android43.java.json', 'Android44.java.json', 'Android45.java.json', 'Android46.java.json', 'Android47.java.json', 'Android48.java.json', 'Android49.java.json', 'Android50.java.json', 'Class_1.java.json', 'Class_2.java.json', 'Class_3.java.json', 'Class_4.java.json', 'Class_5.java.json', 'Class_6.java.json', 'Class_7.java.json', 'Class_8.java.json', 'Class_9.java.json', 'Class_10.java.json', 'Class_11.java.json', 'Class_12.java.json', 'Class_13.java.json', 'Class_14.java.json', 'Class_15.java.json', 'Class_16.java.json', 'Class_17.java.json', 'Class_18.java.json', 'Class_19.java.json', 'Class_20.java.json', 'Class_21.java.json', 'Class_22.java.json', 'Class_23.java.json', 'HibernateUtil.java.json', 'JodaTime01.java.json', 'JodaTime02.java.json', 'JodaTime03.java.json', 'JodaTime04.java.json', 'JodaTime05.java.json', 'JodaTime06.java.json', 'JodaTime07.java.json', 'JodaTime08.java.json', 'JodaTime09.java.json', 'JodaTime10.java.json', 'JodaTime11.java.json', 'JodaTime12.java.json', 'JodaTime13.java.json', 'JodaTime14.java.json', 'JodaTime15.java.json', 'JodaTime16.java.json', 'JodaTime17.java.json', 'JodaTime18.java.json', 'JodaTime19.java.json', 'JodaTime20.java.json', 'JodaTime21.java.json', 'JodaTime22.java.json', 'JodaTime23.java.json', 'JodaTime24.java.json', 'JodaTime25.java.json', 'JodaTime26.java.json', 'JodaTime27.java.json', 'JodaTime28.java.json', 'JodaTime29.java.json', 'JodaTime30.java.json', 'JodaTime31.java.json', 'JodaTime32.java.json', 'JodaTime33.java.json', 'JodaTime34.java.json', 'JodaTime35.java.json', 'JodaTime36.java.json', 'JodaTime37.java.json', 'JodaTime38.java.json', 'JodaTime39.java.json', 'JodaTime40.java.json', 'JodaTime41.java.json', 'JodaTime42.java.json', 'JodaTime43.java.json', 'JodaTime44.java.json', 'JodaTime45.java.json', 'JodaTime46.java.json', 'JodaTime47.java.json', 'JodaTime48.java.json', 'JodaTime49.java.json', 'JodaTime50.java.json', 'gwt_class_1.java.json', 'gwt_class_2.java.json', 'gwt_class_3.java.json', 'gwt_class_4.java.json', 'gwt_class_5.java.json', 'gwt_class_6.java.json', 'gwt_class_7.java.json', 'gwt_class_8.java.json', 'gwt_class_9.java.json', 'gwt_class_10.java.json', 'gwt_class_11.java.json', 'gwt_class_12.java.json', 'gwt_class_13.java.json', 'gwt_class_14.java.json', 'gwt_class_15.java.json', 'gwt_class_16.java.json', 'gwt_class_17.java.json', 'gwt_class_18.java.json', 'gwt_class_19.java.json', 'gwt_class_20.java.json', 'gwt_class_21.java.json', 'gwt_class_22.java.json', 'gwt_class_23.java.json', 'gwt_class_24.java.json', 'gwt_class_25.java.json', 'gwt_class_26.java.json', 'gwt_class_27.java.json', 'gwt_class_28.java.json', 'gwt_class_29.java.json', 'gwt_class_30.java.json', 'gwt_class_31.java.json', 'gwt_class_32.java.json', 'gwt_class_33.java.json', 'gwt_class_34.java.json', 'gwt_class_35.java.json', 'gwt_class_36.java.json', 'gwt_class_37.java.json', 'gwt_class_38.java.json', 'gwt_class_39.java.json', 'gwt_class_40.java.json', 'gwt_class_41.java.json', 'gwt_class_42.java.json', 'gwt_class_43.java.json', 'gwt_class_44.java.json', 'gwt_class_45.java.json', 'gwt_class_46.java.json', 'gwt_class_47.java.json', 'gwt_class_48.java.json', 'gwt_class_49.java.json', 'gwt_class_50.java.json', 'hibernate_class_1.java.json', 'hibernate_class_2.java.json', 'hibernate_class_3.java.json', 'hibernate_class_4.java.json', 'hibernate_class_5.java.json', 'hibernate_class_6.java.json', 'hibernate_class_7.java.json', 'hibernate_class_8.java.json', 'hibernate_class_9.java.json', 'hibernate_class_10.java.json', 'hibernate_class_11.java.json', 'hibernate_class_12.java.json', 'hibernate_class_13.java.json', 'hibernate_class_14.java.json', 'hibernate_class_15.java.json', 'hibernate_class_16.java.json', 'hibernate_class_17.java.json', 'hibernate_class_18.java.json', 'hibernate_class_19.java.json', 'hibernate_class_20.java.json', 'hibernate_class_21.java.json', 'hibernate_class_22.java.json', 'hibernate_class_23.java.json', 'hibernate_class_24.java.json', 'hibernate_class_25.java.json', 'hibernate_class_26.java.json', 'hibernate_class_27.java.json', 'hibernate_class_28.java.json', 'hibernate_class_29.java.json', 'hibernate_class_30.java.json', 'hibernate_class_31.java.json', 'hibernate_class_32.java.json', 'hibernate_class_33.java.json', 'hibernate_class_34.java.json', 'hibernate_class_35.java.json', 'hibernate_class_36.java.json', 'hibernate_class_37.java.json', 'hibernate_class_38.java.json', 'hibernate_class_39.java.json', 'hibernate_class_40.java.json', 'hibernate_class_41.java.json', 'hibernate_class_42.java.json', 'hibernate_class_43.java.json', 'hibernate_class_44.java.json', 'hibernate_class_45.java.json', 'hibernate_class_46.java.json', 'hibernate_class_47.java.json', 'hibernate_class_48.java.json', 'hibernate_class_49.java.json', 'hibernate_class_50.java.json', 'xstream_class_1.java.json', 'xstream_class_2.java.json', 'xstream_class_3.java.json', 'xstream_class_4.java.json', 'xstream_class_5.java.json', 'xstream_class_6.java.json', 'xstream_class_7.java.json', 'xstream_class_8.java.json', 'xstream_class_9.java.json', 'xstream_class_10.java.json', 'xstream_class_11.java.json', 'xstream_class_12.java.json', 'xstream_class_13.java.json', 'xstream_class_14.java.json', 'xstream_class_15.java.json', 'xstream_class_16.java.json', 'xstream_class_17.java.json', 'xstream_class_18.java.json', 'xstream_class_19.java.json', 'xstream_class_20.java.json', 'xstream_class_21.java.json', 'xstream_class_22.java.json', 'xstream_class_23.java.json', 'xstream_class_24.java.json', 'xstream_class_25.java.json', 'xstream_class_26.java.json', 'xstream_class_27.java.json', 'xstream_class_28.java.json', 'xstream_class_29.java.json', 'xstream_class_30.java.json', 'xstream_class_31.java.json', 'xstream_class_32.java.json', 'xstream_class_33.java.json', 'xstream_class_34.java.json', 'xstream_class_35.java.json', 'xstream_class_36.java.json', 'xstream_class_37.java.json', 'xstream_class_38.java.json', 'xstream_class_39.java.json', 'xstream_class_40.java.json', 'xstream_class_41.java.json', 'xstream_class_42.java.json', 'xstream_class_43.java.json', 'xstream_class_44.java.json']\n",
      "\n",
      "\n",
      "\n",
      "\n",
      "['Android01.java.json.benchmark_log.json', 'Android02.java.json.benchmark_log.json', 'Android03.java.json.benchmark_log.json', 'Android04.java.json.benchmark_log.json', 'Android05.java.json.benchmark_log.json', 'Android06.java.json.benchmark_log.json', 'Android07.java.json.benchmark_log.json', 'Android08.java.json.benchmark_log.json', 'Android09.java.json.benchmark_log.json', 'Android10.java.json.benchmark_log.json', 'Android11.java.json.benchmark_log.json', 'Android12.java.json.benchmark_log.json', 'Android13.java.json.benchmark_log.json', 'Android14.java.json.benchmark_log.json', 'Android15.java.json.benchmark_log.json', 'Android16.java.json.benchmark_log.json', 'Android17.java.json.benchmark_log.json', 'Android18.java.json.benchmark_log.json', 'Android19.java.json.benchmark_log.json', 'Android20.java.json.benchmark_log.json', 'Android21.java.json.benchmark_log.json', 'Android22.java.json.benchmark_log.json', 'Android23.java.json.benchmark_log.json', 'Android24.java.json.benchmark_log.json', 'Android25.java.json.benchmark_log.json', 'Android26.java.json.benchmark_log.json', 'Android27.java.json.benchmark_log.json', 'Android28.java.json.benchmark_log.json', 'Android29.java.json.benchmark_log.json', 'Android30.java.json.benchmark_log.json', 'Android31.java.json.benchmark_log.json', 'Android32.java.json.benchmark_log.json', 'Android33.java.json.benchmark_log.json', 'Android34.java.json.benchmark_log.json', 'Android35.java.json.benchmark_log.json', 'Android36.java.json.benchmark_log.json', 'Android37.java.json.benchmark_log.json', 'Android38.java.json.benchmark_log.json', 'Android39.java.json.benchmark_log.json', 'Android40.java.json.benchmark_log.json', 'Android41.java.json.benchmark_log.json', 'Android42.java.json.benchmark_log.json', 'Android43.java.json.benchmark_log.json', 'Android44.java.json.benchmark_log.json', 'Android45.java.json.benchmark_log.json', 'Android46.java.json.benchmark_log.json', 'Android47.java.json.benchmark_log.json', 'Android48.java.json.benchmark_log.json', 'Android49.java.json.benchmark_log.json', 'Android50.java.json.benchmark_log.json', 'Class_1.java.json.benchmark_log.json', 'Class_2.java.json.benchmark_log.json', 'Class_3.java.json.benchmark_log.json', 'Class_4.java.json.benchmark_log.json', 'Class_5.java.json.benchmark_log.json', 'Class_6.java.json.benchmark_log.json', 'Class_7.java.json.benchmark_log.json', 'Class_8.java.json.benchmark_log.json', 'Class_9.java.json.benchmark_log.json', 'Class_10.java.json.benchmark_log.json', 'Class_11.java.json.benchmark_log.json', 'Class_12.java.json.benchmark_log.json', 'Class_13.java.json.benchmark_log.json', 'Class_14.java.json.benchmark_log.json', 'Class_15.java.json.benchmark_log.json', 'Class_16.java.json.benchmark_log.json', 'Class_17.java.json.benchmark_log.json', 'Class_18.java.json.benchmark_log.json', 'Class_19.java.json.benchmark_log.json', 'Class_20.java.json.benchmark_log.json', 'Class_21.java.json.benchmark_log.json', 'Class_22.java.json.benchmark_log.json', 'Class_23.java.json.benchmark_log.json', 'HibernateUtil.java.json.benchmark_log.json', 'JodaTime01.java.json.benchmark_log.json', 'JodaTime02.java.json.benchmark_log.json', 'JodaTime03.java.json.benchmark_log.json', 'JodaTime04.java.json.benchmark_log.json', 'JodaTime05.java.json.benchmark_log.json', 'JodaTime06.java.json.benchmark_log.json', 'JodaTime07.java.json.benchmark_log.json', 'JodaTime08.java.json.benchmark_log.json', 'JodaTime09.java.json.benchmark_log.json', 'JodaTime10.java.json.benchmark_log.json', 'JodaTime11.java.json.benchmark_log.json', 'JodaTime12.java.json.benchmark_log.json', 'JodaTime13.java.json.benchmark_log.json', 'JodaTime14.java.json.benchmark_log.json', 'JodaTime15.java.json.benchmark_log.json', 'JodaTime16.java.json.benchmark_log.json', 'JodaTime17.java.json.benchmark_log.json', 'JodaTime18.java.json.benchmark_log.json', 'JodaTime19.java.json.benchmark_log.json', 'JodaTime20.java.json.benchmark_log.json', 'JodaTime21.java.json.benchmark_log.json', 'JodaTime22.java.json.benchmark_log.json', 'JodaTime23.java.json.benchmark_log.json', 'JodaTime24.java.json.benchmark_log.json', 'JodaTime25.java.json.benchmark_log.json', 'JodaTime26.java.json.benchmark_log.json', 'JodaTime27.java.json.benchmark_log.json', 'JodaTime28.java.json.benchmark_log.json', 'JodaTime29.java.json.benchmark_log.json', 'JodaTime30.java.json.benchmark_log.json', 'JodaTime31.java.json.benchmark_log.json', 'JodaTime32.java.json.benchmark_log.json', 'JodaTime33.java.json.benchmark_log.json', 'JodaTime34.java.json.benchmark_log.json', 'JodaTime35.java.json.benchmark_log.json', 'JodaTime36.java.json.benchmark_log.json', 'JodaTime37.java.json.benchmark_log.json', 'JodaTime38.java.json.benchmark_log.json', 'JodaTime39.java.json.benchmark_log.json', 'JodaTime40.java.json.benchmark_log.json', 'JodaTime41.java.json.benchmark_log.json', 'JodaTime42.java.json.benchmark_log.json', 'JodaTime43.java.json.benchmark_log.json', 'JodaTime44.java.json.benchmark_log.json', 'JodaTime45.java.json.benchmark_log.json', 'JodaTime46.java.json.benchmark_log.json', 'JodaTime47.java.json.benchmark_log.json', 'JodaTime48.java.json.benchmark_log.json', 'JodaTime49.java.json.benchmark_log.json', 'JodaTime50.java.json.benchmark_log.json', 'gwt_class_1.java.json.benchmark_log.json', 'gwt_class_2.java.json.benchmark_log.json', 'gwt_class_3.java.json.benchmark_log.json', 'gwt_class_4.java.json.benchmark_log.json', 'gwt_class_5.java.json.benchmark_log.json', 'gwt_class_6.java.json.benchmark_log.json', 'gwt_class_7.java.json.benchmark_log.json', 'gwt_class_8.java.json.benchmark_log.json', 'gwt_class_9.java.json.benchmark_log.json', 'gwt_class_10.java.json.benchmark_log.json', 'gwt_class_11.java.json.benchmark_log.json', 'gwt_class_12.java.json.benchmark_log.json', 'gwt_class_13.java.json.benchmark_log.json', 'gwt_class_14.java.json.benchmark_log.json', 'gwt_class_15.java.json.benchmark_log.json', 'gwt_class_16.java.json.benchmark_log.json', 'gwt_class_17.java.json.benchmark_log.json', 'gwt_class_18.java.json.benchmark_log.json', 'gwt_class_19.java.json.benchmark_log.json', 'gwt_class_20.java.json.benchmark_log.json', 'gwt_class_21.java.json.benchmark_log.json', 'gwt_class_22.java.json.benchmark_log.json', 'gwt_class_23.java.json.benchmark_log.json', 'gwt_class_24.java.json.benchmark_log.json', 'gwt_class_25.java.json.benchmark_log.json', 'gwt_class_26.java.json.benchmark_log.json', 'gwt_class_27.java.json.benchmark_log.json', 'gwt_class_28.java.json.benchmark_log.json', 'gwt_class_29.java.json.benchmark_log.json', 'gwt_class_30.java.json.benchmark_log.json', 'gwt_class_31.java.json.benchmark_log.json', 'gwt_class_32.java.json.benchmark_log.json', 'gwt_class_33.java.json.benchmark_log.json', 'gwt_class_34.java.json.benchmark_log.json', 'gwt_class_35.java.json.benchmark_log.json', 'gwt_class_36.java.json.benchmark_log.json', 'gwt_class_37.java.json.benchmark_log.json', 'gwt_class_38.java.json.benchmark_log.json', 'gwt_class_39.java.json.benchmark_log.json', 'gwt_class_40.java.json.benchmark_log.json', 'gwt_class_41.java.json.benchmark_log.json', 'gwt_class_42.java.json.benchmark_log.json', 'gwt_class_43.java.json.benchmark_log.json', 'gwt_class_44.java.json.benchmark_log.json', 'gwt_class_45.java.json.benchmark_log.json', 'gwt_class_46.java.json.benchmark_log.json', 'gwt_class_47.java.json.benchmark_log.json', 'gwt_class_48.java.json.benchmark_log.json', 'gwt_class_49.java.json.benchmark_log.json', 'gwt_class_50.java.json.benchmark_log.json', 'hibernate_class_1.java.json.benchmark_log.json', 'hibernate_class_2.java.json.benchmark_log.json', 'hibernate_class_3.java.json.benchmark_log.json', 'hibernate_class_4.java.json.benchmark_log.json', 'hibernate_class_5.java.json.benchmark_log.json', 'hibernate_class_6.java.json.benchmark_log.json', 'hibernate_class_7.java.json.benchmark_log.json', 'hibernate_class_8.java.json.benchmark_log.json', 'hibernate_class_9.java.json.benchmark_log.json', 'hibernate_class_10.java.json.benchmark_log.json', 'hibernate_class_11.java.json.benchmark_log.json', 'hibernate_class_12.java.json.benchmark_log.json', 'hibernate_class_13.java.json.benchmark_log.json', 'hibernate_class_14.java.json.benchmark_log.json', 'hibernate_class_15.java.json.benchmark_log.json', 'hibernate_class_16.java.json.benchmark_log.json', 'hibernate_class_17.java.json.benchmark_log.json', 'hibernate_class_18.java.json.benchmark_log.json', 'hibernate_class_19.java.json.benchmark_log.json', 'hibernate_class_20.java.json.benchmark_log.json', 'hibernate_class_21.java.json.benchmark_log.json', 'hibernate_class_22.java.json.benchmark_log.json', 'hibernate_class_23.java.json.benchmark_log.json', 'hibernate_class_24.java.json.benchmark_log.json', 'hibernate_class_25.java.json.benchmark_log.json', 'hibernate_class_26.java.json.benchmark_log.json', 'hibernate_class_27.java.json.benchmark_log.json', 'hibernate_class_28.java.json.benchmark_log.json', 'hibernate_class_29.java.json.benchmark_log.json', 'hibernate_class_30.java.json.benchmark_log.json', 'hibernate_class_31.java.json.benchmark_log.json', 'hibernate_class_32.java.json.benchmark_log.json', 'hibernate_class_33.java.json.benchmark_log.json', 'hibernate_class_34.java.json.benchmark_log.json', 'hibernate_class_35.java.json.benchmark_log.json', 'hibernate_class_36.java.json.benchmark_log.json', 'hibernate_class_37.java.json.benchmark_log.json', 'hibernate_class_38.java.json.benchmark_log.json', 'hibernate_class_39.java.json.benchmark_log.json', 'hibernate_class_40.java.json.benchmark_log.json', 'hibernate_class_41.java.json.benchmark_log.json', 'hibernate_class_42.java.json.benchmark_log.json', 'hibernate_class_43.java.json.benchmark_log.json', 'hibernate_class_44.java.json.benchmark_log.json', 'hibernate_class_45.java.json.benchmark_log.json', 'hibernate_class_46.java.json.benchmark_log.json', 'hibernate_class_47.java.json.benchmark_log.json', 'hibernate_class_48.java.json.benchmark_log.json', 'hibernate_class_49.java.json.benchmark_log.json', 'hibernate_class_50.java.json.benchmark_log.json', 'xstream_class_1.java.json.benchmark_log.json', 'xstream_class_2.java.json.benchmark_log.json', 'xstream_class_3.java.json.benchmark_log.json', 'xstream_class_4.java.json.benchmark_log.json', 'xstream_class_5.java.json.benchmark_log.json', 'xstream_class_6.java.json.benchmark_log.json', 'xstream_class_7.java.json.benchmark_log.json', 'xstream_class_8.java.json.benchmark_log.json', 'xstream_class_9.java.json.benchmark_log.json', 'xstream_class_10.java.json.benchmark_log.json', 'xstream_class_11.java.json.benchmark_log.json', 'xstream_class_12.java.json.benchmark_log.json', 'xstream_class_13.java.json.benchmark_log.json', 'xstream_class_14.java.json.benchmark_log.json', 'xstream_class_15.java.json.benchmark_log.json', 'xstream_class_16.java.json.benchmark_log.json', 'xstream_class_17.java.json.benchmark_log.json', 'xstream_class_18.java.json.benchmark_log.json', 'xstream_class_19.java.json.benchmark_log.json', 'xstream_class_20.java.json.benchmark_log.json', 'xstream_class_21.java.json.benchmark_log.json', 'xstream_class_22.java.json.benchmark_log.json', 'xstream_class_23.java.json.benchmark_log.json', 'xstream_class_24.java.json.benchmark_log.json', 'xstream_class_25.java.json.benchmark_log.json', 'xstream_class_26.java.json.benchmark_log.json', 'xstream_class_27.java.json.benchmark_log.json', 'xstream_class_28.java.json.benchmark_log.json', 'xstream_class_29.java.json.benchmark_log.json', 'xstream_class_30.java.json.benchmark_log.json', 'xstream_class_31.java.json.benchmark_log.json', 'xstream_class_32.java.json.benchmark_log.json', 'xstream_class_33.java.json.benchmark_log.json', 'xstream_class_34.java.json.benchmark_log.json', 'xstream_class_35.java.json.benchmark_log.json', 'xstream_class_36.java.json.benchmark_log.json', 'xstream_class_37.java.json.benchmark_log.json', 'xstream_class_38.java.json.benchmark_log.json', 'xstream_class_39.java.json.benchmark_log.json', 'xstream_class_40.java.json.benchmark_log.json', 'xstream_class_41.java.json.benchmark_log.json', 'xstream_class_42.java.json.benchmark_log.json', 'xstream_class_43.java.json.benchmark_log.json', 'xstream_class_44.java.json.benchmark_log.json']\n"
     ]
    }
   ],
   "source": [
    "inputFiles = []\n",
    "correctOutputFiles = []\n",
    "    \n",
    "numbers = re.compile(r'(\\d+)')\n",
    "def numericalSort(value):\n",
    "    parts = numbers.split(value)\n",
    "    parts[1::2] = map(int, parts[1::2])\n",
    "    return parts\n",
    "\n",
    "for file in sorted(glob.glob(\"*.java.json\"), key=numericalSort):\n",
    "    inputFiles.append(file)\n",
    "\n",
    "for file in sorted(glob.glob(\"*.benchmark_log.json\"), key=numericalSort):\n",
    "    correctOutputFiles.append(file)\n",
    "\n",
    "print(inputFiles)\n",
    "print('\\n\\n\\n')\n",
    "print(correctOutputFiles)"
   ]
  },
  {
   "cell_type": "code",
   "execution_count": 7,
   "metadata": {},
   "outputs": [],
   "source": [
    "def get_codes(inputFiles):\n",
    "    codes = []\n",
    "    for code in inputFiles:\n",
    "        codes.append(str(json.load(open(code))['originalContent']))\n",
    "\n",
    "    return codes"
   ]
  },
  {
   "cell_type": "code",
   "execution_count": 8,
   "metadata": {},
   "outputs": [],
   "source": [
    "def get_correct_outputs(correctOutputFiles):\n",
    "    correct_outputs = []\n",
    "    for output in correctOutputFiles:\n",
    "        correct_output_list = json.load(open(output))['total_imports']\n",
    "        correct_output_list = [\"import \"+i+\";\" for i in correct_output_list]\n",
    "        correct_outputs.append(correct_output_list)\n",
    "    \n",
    "    for import_lines in correct_outputs:\n",
    "        if \"import gen.R;\" in import_lines:\n",
    "            import_lines.remove(\"import gen.R;\")\n",
    "\n",
    "    return correct_outputs"
   ]
  },
  {
   "cell_type": "code",
   "execution_count": 9,
   "metadata": {},
   "outputs": [],
   "source": [
    "def get_dataset(codes, correct_outputs):\n",
    "    dataset = {\n",
    "        \"codes\": codes,\n",
    "        \"correct_outputs\": correct_outputs\n",
    "    }\n",
    "    return dataset"
   ]
  },
  {
   "cell_type": "code",
   "execution_count": 10,
   "metadata": {},
   "outputs": [],
   "source": [
    "def get_test_examples_and_y_true(dataset):\n",
    "    sample_list = []\n",
    "\n",
    "    for i in range(0, len(dataset[\"codes\"])):\n",
    "        sample_list.append(dict(codes=dataset[\"codes\"][i], correct_outputs=dataset[\"correct_outputs\"][i]))\n",
    "    \n",
    "    # print(sample_list)\n",
    "    \n",
    "    test_examples = [(example[\"codes\"], example[\"correct_outputs\"]) for example in sample_list]\n",
    "    y_true = [correct_outputs for _, correct_outputs in test_examples]\n",
    "    \n",
    "    return test_examples, y_true"
   ]
  },
  {
   "cell_type": "markdown",
   "metadata": {},
   "source": [
    "### All Android Classes"
   ]
  },
  {
   "cell_type": "code",
   "execution_count": 11,
   "metadata": {},
   "outputs": [
    {
     "name": "stdout",
     "output_type": "stream",
     "text": [
      "Total Android Codes: 50\n",
      "\n",
      "['Android01.java.json', 'Android02.java.json', 'Android03.java.json', 'Android04.java.json', 'Android05.java.json', 'Android06.java.json', 'Android07.java.json', 'Android08.java.json', 'Android09.java.json', 'Android10.java.json', 'Android11.java.json', 'Android12.java.json', 'Android13.java.json', 'Android14.java.json', 'Android15.java.json', 'Android16.java.json', 'Android17.java.json', 'Android18.java.json', 'Android19.java.json', 'Android20.java.json', 'Android21.java.json', 'Android22.java.json', 'Android23.java.json', 'Android24.java.json', 'Android25.java.json', 'Android26.java.json', 'Android27.java.json', 'Android28.java.json', 'Android29.java.json', 'Android30.java.json', 'Android31.java.json', 'Android32.java.json', 'Android33.java.json', 'Android34.java.json', 'Android35.java.json', 'Android36.java.json', 'Android37.java.json', 'Android38.java.json', 'Android39.java.json', 'Android40.java.json', 'Android41.java.json', 'Android42.java.json', 'Android43.java.json', 'Android44.java.json', 'Android45.java.json', 'Android46.java.json', 'Android47.java.json', 'Android48.java.json', 'Android49.java.json', 'Android50.java.json']\n"
     ]
    }
   ],
   "source": [
    "print(\"Total Android Codes: {}\\n\".format(len(inputFiles[:50])))\n",
    "print(inputFiles[:50])\n",
    "\n",
    "android_codes = get_codes(inputFiles[:50])\n",
    "# print(android_codes)\n",
    "\n",
    "android_correct_outputs = get_correct_outputs(correctOutputFiles[:50])\n",
    "# print(android_correct_outputs)\n",
    "\n",
    "android_dataset = get_dataset(android_codes, android_correct_outputs)\n",
    "# print(android_dataset)\n",
    "\n",
    "android_test_examples, android_y_true = get_test_examples_and_y_true(android_dataset)\n",
    "# print(android_test_examples)"
   ]
  },
  {
   "cell_type": "markdown",
   "metadata": {},
   "source": [
    "### All JDK Classes"
   ]
  },
  {
   "cell_type": "code",
   "execution_count": 12,
   "metadata": {},
   "outputs": [
    {
     "name": "stdout",
     "output_type": "stream",
     "text": [
      "Total JDK Codes: 23\n",
      "\n",
      "['Class_1.java.json', 'Class_2.java.json', 'Class_3.java.json', 'Class_4.java.json', 'Class_5.java.json', 'Class_6.java.json', 'Class_7.java.json', 'Class_8.java.json', 'Class_9.java.json', 'Class_10.java.json', 'Class_11.java.json', 'Class_12.java.json', 'Class_13.java.json', 'Class_14.java.json', 'Class_15.java.json', 'Class_16.java.json', 'Class_17.java.json', 'Class_18.java.json', 'Class_19.java.json', 'Class_20.java.json', 'Class_21.java.json', 'Class_22.java.json', 'Class_23.java.json']\n"
     ]
    }
   ],
   "source": [
    "print(\"Total JDK Codes: {}\\n\".format(len(inputFiles[50:73])))\n",
    "print(inputFiles[50:73])\n",
    "\n",
    "jdk_codes = get_codes(inputFiles[50:73])\n",
    "# print(jdk_codes)\n",
    "\n",
    "jdk_correct_outputs = get_correct_outputs(correctOutputFiles[50:73])\n",
    "# print(jdk_correct_outputs)\n",
    "\n",
    "jdk_dataset = get_dataset(jdk_codes, jdk_correct_outputs)\n",
    "# print(jdk_dataset)\n",
    "\n",
    "jdk_test_examples, jdk_y_true = get_test_examples_and_y_true(jdk_dataset)\n",
    "# print(jdk_test_examples)"
   ]
  },
  {
   "cell_type": "markdown",
   "metadata": {},
   "source": [
    "### All Hibernate Classes"
   ]
  },
  {
   "cell_type": "code",
   "execution_count": 13,
   "metadata": {},
   "outputs": [
    {
     "name": "stdout",
     "output_type": "stream",
     "text": [
      "Total Hibernate Codes: 51\n",
      "\n",
      "['HibernateUtil.java.json', 'hibernate_class_1.java.json', 'hibernate_class_2.java.json', 'hibernate_class_3.java.json', 'hibernate_class_4.java.json', 'hibernate_class_5.java.json', 'hibernate_class_6.java.json', 'hibernate_class_7.java.json', 'hibernate_class_8.java.json', 'hibernate_class_9.java.json', 'hibernate_class_10.java.json', 'hibernate_class_11.java.json', 'hibernate_class_12.java.json', 'hibernate_class_13.java.json', 'hibernate_class_14.java.json', 'hibernate_class_15.java.json', 'hibernate_class_16.java.json', 'hibernate_class_17.java.json', 'hibernate_class_18.java.json', 'hibernate_class_19.java.json', 'hibernate_class_20.java.json', 'hibernate_class_21.java.json', 'hibernate_class_22.java.json', 'hibernate_class_23.java.json', 'hibernate_class_24.java.json', 'hibernate_class_25.java.json', 'hibernate_class_26.java.json', 'hibernate_class_27.java.json', 'hibernate_class_28.java.json', 'hibernate_class_29.java.json', 'hibernate_class_30.java.json', 'hibernate_class_31.java.json', 'hibernate_class_32.java.json', 'hibernate_class_33.java.json', 'hibernate_class_34.java.json', 'hibernate_class_35.java.json', 'hibernate_class_36.java.json', 'hibernate_class_37.java.json', 'hibernate_class_38.java.json', 'hibernate_class_39.java.json', 'hibernate_class_40.java.json', 'hibernate_class_41.java.json', 'hibernate_class_42.java.json', 'hibernate_class_43.java.json', 'hibernate_class_44.java.json', 'hibernate_class_45.java.json', 'hibernate_class_46.java.json', 'hibernate_class_47.java.json', 'hibernate_class_48.java.json', 'hibernate_class_49.java.json', 'hibernate_class_50.java.json']\n"
     ]
    }
   ],
   "source": [
    "print(\"Total Hibernate Codes: {}\\n\".format(len(inputFiles[73:74] + inputFiles[174:224])))\n",
    "print(inputFiles[73:74] + inputFiles[174:224])\n",
    "\n",
    "hibernate_codes = get_codes(inputFiles[73:74] + inputFiles[174:224])\n",
    "# print(hibernate_codes)\n",
    "\n",
    "hibernate_correct_outputs = get_correct_outputs(correctOutputFiles[73:74] + correctOutputFiles[174:224])\n",
    "# print(hibernate_correct_outputs)\n",
    "\n",
    "hibernate_dataset = get_dataset(hibernate_codes, hibernate_correct_outputs)\n",
    "# print(hibernate_dataset)\n",
    "\n",
    "hibernate_test_examples, hibernate_y_true = get_test_examples_and_y_true(hibernate_dataset)\n",
    "# print(hibernate_test_examples)"
   ]
  },
  {
   "cell_type": "markdown",
   "metadata": {},
   "source": [
    "### All JodaTime Classes"
   ]
  },
  {
   "cell_type": "code",
   "execution_count": 14,
   "metadata": {},
   "outputs": [
    {
     "name": "stdout",
     "output_type": "stream",
     "text": [
      "Total JodaTime Codes: 50\n",
      "\n",
      "['JodaTime01.java.json', 'JodaTime02.java.json', 'JodaTime03.java.json', 'JodaTime04.java.json', 'JodaTime05.java.json', 'JodaTime06.java.json', 'JodaTime07.java.json', 'JodaTime08.java.json', 'JodaTime09.java.json', 'JodaTime10.java.json', 'JodaTime11.java.json', 'JodaTime12.java.json', 'JodaTime13.java.json', 'JodaTime14.java.json', 'JodaTime15.java.json', 'JodaTime16.java.json', 'JodaTime17.java.json', 'JodaTime18.java.json', 'JodaTime19.java.json', 'JodaTime20.java.json', 'JodaTime21.java.json', 'JodaTime22.java.json', 'JodaTime23.java.json', 'JodaTime24.java.json', 'JodaTime25.java.json', 'JodaTime26.java.json', 'JodaTime27.java.json', 'JodaTime28.java.json', 'JodaTime29.java.json', 'JodaTime30.java.json', 'JodaTime31.java.json', 'JodaTime32.java.json', 'JodaTime33.java.json', 'JodaTime34.java.json', 'JodaTime35.java.json', 'JodaTime36.java.json', 'JodaTime37.java.json', 'JodaTime38.java.json', 'JodaTime39.java.json', 'JodaTime40.java.json', 'JodaTime41.java.json', 'JodaTime42.java.json', 'JodaTime43.java.json', 'JodaTime44.java.json', 'JodaTime45.java.json', 'JodaTime46.java.json', 'JodaTime47.java.json', 'JodaTime48.java.json', 'JodaTime49.java.json', 'JodaTime50.java.json']\n"
     ]
    }
   ],
   "source": [
    "print(\"Total JodaTime Codes: {}\\n\".format(len(inputFiles[74:124])))\n",
    "print(inputFiles[74:124])\n",
    "\n",
    "jodatime_codes = get_codes(inputFiles[74:124])\n",
    "# print(jodatime_codes)\n",
    "\n",
    "jodatime_correct_outputs = get_correct_outputs(correctOutputFiles[74:124])\n",
    "# print(jodatime_correct_outputs)\n",
    "\n",
    "jodatime_dataset = get_dataset(jodatime_codes, jodatime_correct_outputs)\n",
    "# print(jodatime_dataset)\n",
    "\n",
    "jodatime_test_examples, jodatime_y_true = get_test_examples_and_y_true(jodatime_dataset)\n",
    "# print(jodatime_test_examples)"
   ]
  },
  {
   "cell_type": "markdown",
   "metadata": {},
   "source": [
    "### All GWT Classes"
   ]
  },
  {
   "cell_type": "code",
   "execution_count": 15,
   "metadata": {},
   "outputs": [
    {
     "name": "stdout",
     "output_type": "stream",
     "text": [
      "Total GWT Codes: 50\n",
      "\n",
      "['gwt_class_1.java.json', 'gwt_class_2.java.json', 'gwt_class_3.java.json', 'gwt_class_4.java.json', 'gwt_class_5.java.json', 'gwt_class_6.java.json', 'gwt_class_7.java.json', 'gwt_class_8.java.json', 'gwt_class_9.java.json', 'gwt_class_10.java.json', 'gwt_class_11.java.json', 'gwt_class_12.java.json', 'gwt_class_13.java.json', 'gwt_class_14.java.json', 'gwt_class_15.java.json', 'gwt_class_16.java.json', 'gwt_class_17.java.json', 'gwt_class_18.java.json', 'gwt_class_19.java.json', 'gwt_class_20.java.json', 'gwt_class_21.java.json', 'gwt_class_22.java.json', 'gwt_class_23.java.json', 'gwt_class_24.java.json', 'gwt_class_25.java.json', 'gwt_class_26.java.json', 'gwt_class_27.java.json', 'gwt_class_28.java.json', 'gwt_class_29.java.json', 'gwt_class_30.java.json', 'gwt_class_31.java.json', 'gwt_class_32.java.json', 'gwt_class_33.java.json', 'gwt_class_34.java.json', 'gwt_class_35.java.json', 'gwt_class_36.java.json', 'gwt_class_37.java.json', 'gwt_class_38.java.json', 'gwt_class_39.java.json', 'gwt_class_40.java.json', 'gwt_class_41.java.json', 'gwt_class_42.java.json', 'gwt_class_43.java.json', 'gwt_class_44.java.json', 'gwt_class_45.java.json', 'gwt_class_46.java.json', 'gwt_class_47.java.json', 'gwt_class_48.java.json', 'gwt_class_49.java.json', 'gwt_class_50.java.json']\n"
     ]
    }
   ],
   "source": [
    "print(\"Total GWT Codes: {}\\n\".format(len(inputFiles[124:174])))\n",
    "print(inputFiles[124:174])\n",
    "\n",
    "gwt_codes = get_codes(inputFiles[124:174])\n",
    "# print(gwt_codes)\n",
    "\n",
    "gwt_correct_outputs = get_correct_outputs(correctOutputFiles[124:174])\n",
    "# print(gwt_correct_outputs)\n",
    "\n",
    "gwt_dataset = get_dataset(gwt_codes, gwt_correct_outputs)\n",
    "# print(gwt_dataset)\n",
    "\n",
    "gwt_test_examples, gwt_y_true = get_test_examples_and_y_true(gwt_dataset)\n",
    "# print(gwt_test_examples)"
   ]
  },
  {
   "cell_type": "markdown",
   "metadata": {},
   "source": [
    "### All XStream Classes"
   ]
  },
  {
   "cell_type": "code",
   "execution_count": 16,
   "metadata": {},
   "outputs": [
    {
     "name": "stdout",
     "output_type": "stream",
     "text": [
      "Total XStream Codes: 44\n",
      "\n",
      "['xstream_class_1.java.json', 'xstream_class_2.java.json', 'xstream_class_3.java.json', 'xstream_class_4.java.json', 'xstream_class_5.java.json', 'xstream_class_6.java.json', 'xstream_class_7.java.json', 'xstream_class_8.java.json', 'xstream_class_9.java.json', 'xstream_class_10.java.json', 'xstream_class_11.java.json', 'xstream_class_12.java.json', 'xstream_class_13.java.json', 'xstream_class_14.java.json', 'xstream_class_15.java.json', 'xstream_class_16.java.json', 'xstream_class_17.java.json', 'xstream_class_18.java.json', 'xstream_class_19.java.json', 'xstream_class_20.java.json', 'xstream_class_21.java.json', 'xstream_class_22.java.json', 'xstream_class_23.java.json', 'xstream_class_24.java.json', 'xstream_class_25.java.json', 'xstream_class_26.java.json', 'xstream_class_27.java.json', 'xstream_class_28.java.json', 'xstream_class_29.java.json', 'xstream_class_30.java.json', 'xstream_class_31.java.json', 'xstream_class_32.java.json', 'xstream_class_33.java.json', 'xstream_class_34.java.json', 'xstream_class_35.java.json', 'xstream_class_36.java.json', 'xstream_class_37.java.json', 'xstream_class_38.java.json', 'xstream_class_39.java.json', 'xstream_class_40.java.json', 'xstream_class_41.java.json', 'xstream_class_42.java.json', 'xstream_class_43.java.json', 'xstream_class_44.java.json']\n"
     ]
    }
   ],
   "source": [
    "print(\"Total XStream Codes: {}\\n\".format(len(inputFiles[224:268])))\n",
    "print(inputFiles[224:268])\n",
    "\n",
    "xstream_codes = get_codes(inputFiles[224:268])\n",
    "# print(xstream_codes)\n",
    "\n",
    "xstream_correct_outputs = get_correct_outputs(correctOutputFiles[224:268])\n",
    "# print(xstream_correct_outputs)\n",
    "\n",
    "xstream_dataset = get_dataset(xstream_codes, xstream_correct_outputs)\n",
    "# print(xstream_dataset)\n",
    "\n",
    "xstream_test_examples, xstream_y_true = get_test_examples_and_y_true(xstream_dataset)\n",
    "# print(xstream_test_examples)"
   ]
  },
  {
   "cell_type": "markdown",
   "metadata": {},
   "source": [
    "# One-shot Learning Implementation"
   ]
  },
  {
   "cell_type": "code",
   "execution_count": 17,
   "metadata": {},
   "outputs": [],
   "source": [
    "MODEL = 'gpt-3.5-turbo'"
   ]
  },
  {
   "cell_type": "code",
   "execution_count": 18,
   "metadata": {},
   "outputs": [],
   "source": [
    "def pred_process(y_pred, y_true):\n",
    "    y_pred_processed = []\n",
    "    y_true_processed = []\n",
    "    \n",
    "    for pred, correct_imports in zip(y_pred, y_true):\n",
    "        max_length = max(len(pred), len(correct_imports))\n",
    "        correct_preds = list(set(pred).intersection(correct_imports))\n",
    "#         print('Correct Predictions:', correct_preds)\n",
    "#         wrong_preds = max_length - len(correct_preds)\n",
    "#         print('Wrong Predictions:', wrong_preds)\n",
    "\n",
    "        for i in range(0, max_length):\n",
    "            if i<len(correct_preds):\n",
    "                y_pred_processed.append(1)\n",
    "                y_true_processed.append(1)\n",
    "            else:\n",
    "                if i<len(correct_imports):\n",
    "                    y_pred_processed.append(0)\n",
    "                    y_true_processed.append(1)\n",
    "                else:\n",
    "                    y_pred_processed.append(1)\n",
    "                    y_true_processed.append(0)\n",
    "            \n",
    "    print(y_pred_processed)\n",
    "    print(y_true_processed)\n",
    "    print()\n",
    "    return y_pred_processed, y_true_processed"
   ]
  },
  {
   "cell_type": "code",
   "execution_count": 19,
   "metadata": {},
   "outputs": [],
   "source": [
    "def eval_performance(y_pred, y_true):\n",
    "    print(json.dumps({\n",
    "        \"accuracy\": accuracy_score(y_pred, y_true),\n",
    "        \"f1\": f1_score(y_pred, y_true),\n",
    "        \"precision\": precision_score(y_pred, y_true),\n",
    "        \"recall\": recall_score(y_pred, y_true)\n",
    "    }, indent=2))"
   ]
  },
  {
   "cell_type": "code",
   "execution_count": 20,
   "metadata": {},
   "outputs": [],
   "source": [
    "# # Test\n",
    "\n",
    "# print(xstream_test_examples[39][1]) # correct imports\n",
    "# print(xstream_test_examples[39][0]) # code"
   ]
  },
  {
   "cell_type": "code",
   "execution_count": 21,
   "metadata": {},
   "outputs": [],
   "source": [
    "# # Test\n",
    "\n",
    "# MODEL = 'gpt-3.5-turbo'\n",
    "\n",
    "# code_snippet = xstream_test_examples[39][0]\n",
    "# # prompt=f\"Reply with to-the-point answer, with no elaboration. Extract all valid possible fully qualified type long-name from the code below, must exclude name of the class itself:\\n\\\"\\\"\\\"{test_code}\\\"\\\"\\\"\"\n",
    "\n",
    "# response = openai.ChatCompletion.create(\n",
    "#     model=MODEL,\n",
    "#     messages=[\n",
    "#         {\"role\": \"system\", \"content\": \"Reply with to-the-point answer, no elaboration.\"},\n",
    "# #         {\"role\": \"user\", \"content\": f\"Import correct imports:\\n\\\"\\\"\\\"\\n{test_code}\\n\\\"\\\"\\\"\"},\n",
    "# #         {\"role\": \"user\", \"content\": f\"Your task is to provide a list of the correct imports for a given code snippet, ensuring that no wildcard imports are used. If any necessary imports are missing from the code, please include them in your response. Please note that your response should be specific and accurate:\\n\\\"\\\"\\\"\\n{code_snippet}\\n\\\"\\\"\\\"\"},\n",
    "# #         {\"role\": \"user\", \"content\": f\"Do not check for any import statements in the code. Only give correct imports by not using wildcard imports. Please note that your response should be specific and accurate:\\n\\\"\\\"\\\"\\n{code_snippet}\\n\\\"\\\"\\\"\"},\n",
    "#         {\"role\": \"user\", \"content\": f\"Do not check for any import statements in the code. Only give correct imports by not using wildcard imports. Please note that you need to pay close attention and your response should be specific and accurate:\\n\\\"\\\"\\\"\\n{code_snippet}\\n\\\"\\\"\\\"\"},\n",
    "        \n",
    "#     ],\n",
    "#     temperature=1,\n",
    "# )\n",
    "\n",
    "# print(response[\"choices\"][0][\"message\"][\"content\"])"
   ]
  },
  {
   "cell_type": "markdown",
   "metadata": {},
   "source": [
    "# One-shot"
   ]
  },
  {
   "cell_type": "code",
   "execution_count": 22,
   "metadata": {},
   "outputs": [],
   "source": [
    "def get_oneshot_prediction(example, code):\n",
    "    time.sleep(30)\n",
    "    for code_snippet, correct_output in example:\n",
    "        expected_output = '\\n'.join(correct_output)\n",
    "    \n",
    "    response = openai.ChatCompletion.create(\n",
    "        model=MODEL,\n",
    "        messages=[\n",
    "            {\"role\": \"system\", \"content\": \"Reply with to-the-point answer, no elaboration.\"},\n",
    "            {\"role\": \"system\", \"name\":\"example_user\", \"content\": f\"Do not check for any import statements in the code. Only give correct imports by not using wildcard imports. Please note that you need to pay close attention and your response should be specific and accurate:\\n\\\"\\\"\\\"\\n{code_snippet}\\n\\\"\\\"\\\"\"},\n",
    "            {\"role\": \"system\", \"name\": \"example_assistant\", \"content\": f\"{expected_output}\"},\n",
    "            {\"role\": \"user\", \"content\": f\"Do not check for any import statements in the code. Only give correct imports by not using wildcard imports. Please note that you need to pay close attention and your response should be specific and accurate:\\n\\\"\\\"\\\"\\n{code}\\n\\\"\\\"\\\"\"},\n",
    "        ],\n",
    "        temperature=0,\n",
    "    )\n",
    "    return response[\"choices\"][0][\"message\"][\"content\"]"
   ]
  },
  {
   "cell_type": "code",
   "execution_count": 23,
   "metadata": {},
   "outputs": [],
   "source": [
    "def get_all_oneshot_predictions(example, dataset):\n",
    "    y_pred = []\n",
    "    for code_snippet, correct_imports in tqdm(dataset):\n",
    "        if code_snippet in example[0][0]:\n",
    "            predicted_output = get_oneshot_prediction([example[1]], code_snippet)\n",
    "        else:\n",
    "            predicted_output = get_oneshot_prediction([example[0]], code_snippet)\n",
    "        y_pred.append(re.findall(r\"import\\s+[\\w\\., ]+;\", predicted_output))\n",
    "        time.sleep(2)\n",
    "    return y_pred"
   ]
  },
  {
   "cell_type": "code",
   "execution_count": 24,
   "metadata": {},
   "outputs": [],
   "source": [
    "def get_oneshot_sample(dataset):\n",
    "    oneshot_list = []\n",
    "    \n",
    "    for i in range(0, len(dataset[\"codes\"])):\n",
    "        oneshot_list.append(dict(codes=dataset[\"codes\"][i], correct_outputs=dataset[\"correct_outputs\"][i]))\n",
    "        \n",
    "    oneshot_example = [(example[\"codes\"], example[\"correct_outputs\"]) for example in oneshot_list]\n",
    "    oneshot_sample = random.sample(oneshot_example, 2)\n",
    "    \n",
    "    # print(oneshot_sample)\n",
    "    return oneshot_sample"
   ]
  },
  {
   "cell_type": "code",
   "execution_count": 25,
   "metadata": {},
   "outputs": [
    {
     "name": "stdout",
     "output_type": "stream",
     "text": [
      "\n",
      "One-shot Prediction for Android Classes:\n",
      "\n"
     ]
    },
    {
     "name": "stderr",
     "output_type": "stream",
     "text": [
      "100%|██████████| 50/50 [28:19<00:00, 34.00s/it]"
     ]
    },
    {
     "name": "stdout",
     "output_type": "stream",
     "text": [
      "\n",
      "Predicted Import List: [['import android.app.Activity;', 'import android.os.Bundle;', 'import android.widget.TextView;'], ['import android.app.Activity;', 'import android.os.Bundle;'], ['import android.graphics.drawable.Drawable;', 'import android.os.Bundle;', 'import com.google.android.maps.ItemizedOverlay;', 'import com.google.android.maps.OverlayItem;', 'import com.google.android.maps.GeoPoint;'], ['import android.app.Activity;', 'import android.os.Bundle;', 'import android.widget.TextView;'], ['import android.graphics.drawable.Drawable;', 'import android.widget.TabHost;', 'import android.widget.TabHost.TabSpec;'], ['import android.view.Gravity;', 'import android.view.ViewGroup;', 'import android.widget.LinearLayout;'], ['import android.app.Activity;', 'import android.os.Bundle;', 'import android.view.View;', 'import android.widget.ArrayAdapter;'], ['import java.io.IOException;', 'import java.net.Inet4Address;', 'import java.net.InetAddress;', 'import java.net.Socket;', 'import java.net.UnknownHostException;', 'import android.util.Log;'], ['import java.util.Timer;', 'import java.util.TimerTask;', 'import android.os.Bundle;', 'import android.widget.TextView;'], ['import android.os.SystemClock;', 'import android.util.Log;', 'import android.widget.Chronometer;'], ['import android.content.Context;', 'import android.graphics.Canvas;', 'import android.location.Location;', 'import android.location.LocationManager;', 'import com.google.android.maps.GeoPoint;', 'import com.google.android.maps.MapView;', 'import com.google.android.maps.MyLocationOverlay;'], ['import android.app.Activity;', 'import android.graphics.Color;', 'import android.os.Bundle;', 'import android.view.ViewGroup;', 'import android.widget.LinearLayout;', 'import android.widget.TextView;'], ['import android.content.ContentResolver;', 'import android.graphics.Bitmap;', 'import android.net.Uri;', 'import android.provider.MediaStore.Images.Media;', 'import java.io.ByteArrayInputStream;', 'import java.io.ByteArrayOutputStream;', 'import java.io.FileNotFoundException;', 'import java.io.IOException;'], ['import java.io.File;', 'import java.io.FileNotFoundException;', 'import java.io.FileOutputStream;', 'import java.io.IOException;', 'import java.io.InputStream;', 'import java.net.HttpURLConnection;', 'import java.net.MalformedURLException;', 'import java.net.ProtocolException;', 'import java.net.URL;'], ['import android.content.Intent;', 'import android.net.Uri;'], ['import android.content.Context;', 'import android.graphics.Canvas;', 'import android.util.AttributeSet;', 'import android.util.Log;', 'import android.view.MotionEvent;', 'import android.view.View;', 'import android.widget.SeekBar;'], ['import java.io.IOException;', 'import java.io.InputStreamReader;', 'import java.net.URI;', 'import java.net.URISyntaxException;', 'import org.apache.http.HttpEntity;', 'import org.apache.http.HttpResponse;', 'import org.apache.http.client.HttpClient;', 'import org.apache.http.client.methods.HttpGet;', 'import org.apache.http.impl.client.DefaultHttpClient;', 'import android.util.Log;'], ['import android.app.Activity;', 'import android.content.DialogInterface;', 'import android.content.Intent;', 'import android.os.Bundle;', 'import android.view.View.OnClickListener;'], ['import android.content.Context;', 'import android.view.View;', 'import android.view.ViewGroup;', 'import android.widget.GridView;', 'import android.widget.ImageView;'], ['import android.content.Context;', 'import android.view.View;', 'import android.view.animation.ScaleAnimation;', 'import android.widget.TextView;'], ['import android.content.Context;', 'import android.widget.ImageButton;', 'import android.widget.LinearLayout;'], ['import android.app.ListActivity;', 'import android.content.Intent;', 'import android.database.Cursor;', 'import android.os.Bundle;', 'import android.provider.Contacts.People;', 'import android.view.View;', 'import android.widget.ListAdapter;', 'import android.widget.ListView;', 'import android.widget.SimpleCursorAdapter;'], ['import java.io.IOException;', 'import java.io.InputStream;', 'import java.net.HttpURLConnection;', 'import java.net.MalformedURLException;', 'import java.net.URL;', 'import java.util.ArrayList;', 'import java.util.Random;', 'import android.app.Activity;', 'import android.graphics.Bitmap;', 'import android.graphics.BitmapFactory;', 'import android.os.Bundle;', 'import android.widget.ArrayAdapter;', 'import android.widget.ImageView;', 'import android.widget.ListView;'], ['import android.app.Activity;', 'import android.content.Context;', 'import android.location.LocationManager;', 'import android.os.Bundle;', 'import android.util.Log;', 'import java.util.Iterator;', 'import java.util.List;'], ['import android.app.ListActivity;', 'import android.content.Context;', 'import android.database.sqlite.SQLiteDatabase;', 'import android.os.Bundle;', 'import java.util.ArrayList;'], ['import android.content.Context;', 'import android.view.KeyEvent;', 'import android.view.MotionEvent;', 'import android.view.View;', 'import android.widget.ScrollView;', 'import android.view.View.OnTouchListener;'], ['import android.content.Context;', 'import android.view.View;', 'import android.view.ViewGroup;', 'import android.widget.BaseAdapter;', 'import android.widget.GridView;', 'import android.widget.TextView;'], ['import android.app.Application;', 'import android.content.Context;'], ['import android.app.Service;', 'import android.content.Context;', 'import android.content.Intent;', 'import android.os.IBinder;', 'import android.os.PowerManager;'], ['import java.io.IOException;', 'import org.apache.http.HttpEntity;', 'import org.apache.http.HttpResponse;', 'import org.apache.http.client.HttpClient;', 'import org.apache.http.client.methods.HttpGet;', 'import org.apache.http.client.methods.HttpUriRequest;', 'import org.apache.http.impl.client.DefaultHttpClient;', 'import org.apache.http.util.EntityUtils;', 'import org.apache.http.HttpHost;'], ['import android.content.Context;', 'import android.os.PowerManager;'], ['import android.media.MediaRecorder;', 'import android.os.Environment;', 'import java.io.File;', 'import java.io.IOException;'], ['import android.content.Context;', 'import android.graphics.PixelFormat;', 'import android.hardware.Camera;', 'import android.hardware.Camera.Parameters;', 'import android.view.SurfaceHolder;', 'import java.io.IOException;'], ['import android.app.TabActivity;', 'import android.os.Bundle;', 'import android.util.Log;', 'import android.view.View;', 'import android.view.View.OnClickListener;', 'import android.widget.ListView;', 'import android.widget.TabHost;', 'import android.widget.TabHost.OnTabChangeListener;', 'import android.widget.TabHost.TabContentFactory;'], ['import android.media.MediaRecorder;', 'import java.io.File;', 'import java.io.IOException;'], ['import android.content.ContentValues;', 'import android.database.sqlite.SQLiteDatabase;'], ['import android.app.Activity;', 'import android.app.ProgressDialog;', 'import android.os.Handler;', 'import android.os.Message;'], ['import java.io.DataInputStream;', 'import java.io.DataOutputStream;', 'import java.io.File;', 'import java.io.FileInputStream;', 'import java.io.IOException;', 'import java.io.InputStream;', 'import java.net.HttpURLConnection;', 'import java.net.MalformedURLException;', 'import java.net.URL;'], ['import android.os.Bundle;', 'import android.widget.LinearLayout;', 'import com.google.android.maps.MapActivity;', 'import com.google.android.maps.MapController;', 'import com.google.android.maps.MapView;', 'import com.google.android.maps.MyLocationOverlay;', 'import com.google.android.maps.Overlay;', 'import java.util.List;', 'import android.R;'], ['import android.app.Activity;', 'import android.os.Bundle;', 'import android.util.Log;', 'import android.view.View;', 'import android.view.View.OnClickListener;', 'import android.widget.ImageView;', 'import android.widget.SlidingDrawer;', 'import android.R;'], ['import android.content.Context;', 'import android.graphics.Color;', 'import android.view.View;', 'import android.widget.TextView;'], ['import android.app.Activity;', 'import android.content.Intent;', 'import android.content.pm.ActivityInfo;', 'import android.graphics.PixelFormat;', 'import android.media.MediaPlayer;', 'import android.media.MediaPlayer.OnBufferingUpdateListener;', 'import android.media.MediaPlayer.OnCompletionListener;', 'import android.media.MediaPlayer.OnErrorListener;', 'import android.media.MediaPlayer.OnPreparedListener;', 'import android.net.URLConnection;', 'import android.net.URLUtil;', 'import android.os.Bundle;', 'import android.util.Log;', 'import android.view.SurfaceHolder;', 'import android.view.SurfaceView;', 'import android.view.View;', 'import android.widget.Button;', 'import java.io.File;', 'import java.io.FileOutputStream;', 'import java.io.IOException;', 'import java.io.InputStream;', 'import java.net.URL;'], ['import java.io.IOException;', 'import org.apache.http.HttpEntity;', 'import org.apache.http.HttpHost;', 'import org.apache.http.HttpResponse;', 'import org.apache.http.client.HttpClient;', 'import org.apache.http.client.methods.HttpGet;', 'import org.apache.http.impl.client.DefaultHttpClient;', 'import org.apache.http.util.EntityUtils;'], ['import android.app.Service;', 'import android.content.Intent;', 'import android.os.IBinder;'], ['import android.app.Activity;', 'import android.content.BroadcastReceiver;', 'import android.content.ComponentName;', 'import android.content.Context;', 'import android.content.Intent;', 'import android.content.IntentFilter;', 'import android.content.pm.PackageManager;', 'import android.content.pm.ResolveInfo;', 'import android.content.res.Resources;', 'import android.net.Uri;', 'import android.os.Bundle;', 'import android.util.Log;', 'import android.webkit.MimeTypeMap;', 'import java.util.List;'], ['import android.app.Activity;', 'import android.content.Intent;', 'import android.os.Bundle;', 'import android.view.View;', 'import android.widget.Button;', 'import android.widget.EditText;'], ['import android.app.Activity;', 'import android.os.Bundle;', 'import android.widget.TextView;', 'import org.apache.http.client.ClientProtocolException;', 'import org.apache.http.client.methods.HttpGet;', 'import org.apache.http.impl.client.DefaultHttpClient;', 'import java.io.IOException;'], ['import android.app.AlertDialog;', 'import android.app.Dialog;', 'import android.content.Context;', 'import android.graphics.Bitmap;', 'import android.graphics.BitmapFactory;', 'import android.hardware.Camera;', 'import android.hardware.Camera.PictureCallback;', 'import android.widget.ImageView;', 'import android.widget.TextView;'], ['import android.content.Context;', 'import android.util.AttributeSet;', 'import android.view.Gravity;', 'import android.view.LayoutInflater;', 'import android.widget.LinearLayout;'], ['import android.app.Activity;', 'import android.os.Bundle;', 'import android.util.Log;', 'import android.view.View;', 'import android.widget.Button;', 'import android.widget.EditText;', 'import android.widget.TextView;', 'import java.text.NumberFormat;']]\n",
      "\n",
      "Correct Import List: [['import android.app.Activity;', 'import android.os.Bundle;', 'import android.widget.TextView;'], ['import android.app.Activity;', 'import android.os.Bundle;'], ['import com.google.android.maps.GeoPoint;', 'import com.google.android.maps.ItemizedOverlay;', 'import com.google.android.maps.OverlayItem;', 'import android.graphics.drawable.Drawable;'], ['import android.app.Activity;', 'import android.os.Bundle;', 'import android.widget.TextView;'], ['import android.graphics.drawable.Drawable;', 'import android.widget.TabHost;', 'import android.widget.TabHost.TabSpec;'], ['import android.view.Gravity;', 'import android.view.ViewGroup;', 'import android.widget.LinearLayout;'], ['import android.app.Activity;', 'import android.os.Bundle;', 'import android.view.View;', 'import android.widget.ArrayAdapter;'], ['import java.io.IOException;', 'import java.net.Inet4Address;', 'import java.net.InetAddress;', 'import java.net.Socket;', 'import java.net.UnknownHostException;', 'import android.util.Log;'], ['import java.util.Timer;', 'import java.util.TimerTask;', 'import android.os.Bundle;', 'import android.widget.TextView;'], ['import android.os.SystemClock;', 'import android.util.Log;', 'import android.widget.Chronometer;'], ['import com.google.android.maps.GeoPoint;', 'import com.google.android.maps.MapView;', 'import com.google.android.maps.MyLocationOverlay;', 'import android.content.Context;', 'import android.graphics.Canvas;', 'import android.location.Location;'], ['import android.app.Activity;', 'import android.graphics.Color;', 'import android.os.Bundle;', 'import android.view.ViewGroup;', 'import android.widget.LinearLayout;', 'import android.widget.TextView;'], ['import java.io.ByteArrayInputStream;', 'import java.io.ByteArrayOutputStream;', 'import java.io.FileNotFoundException;', 'import java.io.IOException;', 'import android.content.ContentResolver;', 'import android.graphics.Bitmap;', 'import android.net.Uri;', 'import android.provider.MediaStore.Images.Media;'], ['import java.io.File;', 'import java.io.FileNotFoundException;', 'import java.io.FileOutputStream;', 'import java.io.IOException;', 'import java.io.InputStream;', 'import java.net.HttpURLConnection;', 'import java.net.MalformedURLException;', 'import java.net.ProtocolException;', 'import java.net.URL;'], ['import android.content.Intent;', 'import android.net.Uri;'], ['import android.content.Context;', 'import android.graphics.Canvas;', 'import android.util.AttributeSet;', 'import android.util.Log;', 'import android.view.MotionEvent;', 'import android.view.View;', 'import android.widget.SeekBar;'], ['import java.io.IOException;', 'import java.io.InputStreamReader;', 'import java.net.URI;', 'import java.net.URISyntaxException;', 'import org.apache.http.HttpEntity;', 'import org.apache.http.HttpResponse;', 'import org.apache.http.client.HttpClient;', 'import org.apache.http.client.methods.HttpGet;', 'import org.apache.http.impl.client.DefaultHttpClient;', 'import android.util.Log;'], ['import android.app.Activity;', 'import android.content.DialogInterface;', 'import android.content.DialogInterface.OnClickListener;', 'import android.content.Intent;', 'import android.os.Bundle;'], ['import android.content.Context;', 'import android.view.View;', 'import android.view.ViewGroup;', 'import android.widget.GridView;', 'import android.widget.ImageView;'], ['import android.content.Context;', 'import android.view.View;', 'import android.view.animation.ScaleAnimation;', 'import android.widget.TextView;'], ['import android.content.Context;', 'import android.widget.ImageButton;', 'import android.widget.LinearLayout;'], ['import android.app.ListActivity;', 'import android.content.Intent;', 'import android.database.Cursor;', 'import android.os.Bundle;', 'import android.provider.Contacts.People;', 'import android.provider.ContactsContract.CommonDataKinds.Note;', 'import android.view.View;', 'import android.widget.ListAdapter;', 'import android.widget.ListView;', 'import android.widget.SimpleCursorAdapter;', 'import android.widget.TextView;'], ['import java.io.IOException;', 'import java.net.HttpURLConnection;', 'import java.net.MalformedURLException;', 'import java.net.URL;', 'import java.util.ArrayList;', 'import java.util.Random;', 'import android.app.Activity;', 'import android.graphics.Bitmap;', 'import android.graphics.BitmapFactory;', 'import android.os.Bundle;', 'import android.widget.ArrayAdapter;', 'import android.widget.ImageView;', 'import android.widget.ListView;'], ['import java.util.Iterator;', 'import java.util.List;', 'import android.app.Activity;', 'import android.content.Context;', 'import android.location.LocationManager;', 'import android.os.Bundle;', 'import android.util.Log;'], ['import java.util.ArrayList;', 'import android.app.ListActivity;', 'import android.content.Context;', 'import android.database.sqlite.SQLiteDatabase;', 'import android.os.Bundle;'], ['import android.content.Context;', 'import android.view.KeyEvent;', 'import android.view.MotionEvent;', 'import android.view.View;', 'import android.view.View.OnTouchListener;', 'import android.widget.ScrollView;'], ['import android.content.Context;', 'import android.view.View;', 'import android.view.ViewGroup;', 'import android.widget.BaseAdapter;', 'import android.widget.GridView;', 'import android.widget.TextView;'], ['import android.content.Context;'], ['import android.app.Service;', 'import android.content.Context;', 'import android.content.Intent;', 'import android.os.IBinder;', 'import android.os.PowerManager;', 'import android.os.PowerManager.WakeLock;'], ['import java.io.IOException;', 'import org.apache.http.HttpEntity;', 'import org.apache.http.HttpHost;', 'import org.apache.http.HttpResponse;', 'import org.apache.http.client.HttpClient;', 'import org.apache.http.client.methods.HttpGet;', 'import org.apache.http.impl.client.DefaultHttpClient;', 'import org.apache.http.util.EntityUtils;'], ['import android.content.Context;', 'import android.os.PowerManager;'], ['import java.io.File;', 'import java.io.IOException;', 'import android.media.MediaRecorder;', 'import android.os.Environment;'], ['import java.io.IOException;', 'import android.content.Context;', 'import android.graphics.PixelFormat;', 'import android.hardware.Camera;', 'import android.hardware.Camera.Parameters;', 'import android.view.SurfaceHolder;'], ['import android.app.TabActivity;', 'import android.os.Bundle;', 'import android.util.Log;', 'import android.view.View;', 'import android.view.View.OnClickListener;', 'import android.widget.ListView;', 'import android.widget.TabHost;', 'import android.widget.TabHost.OnTabChangeListener;', 'import android.widget.TabHost.TabContentFactory;'], ['import java.io.File;', 'import java.io.IOException;', 'import android.media.MediaRecorder;'], ['import android.content.ContentValues;', 'import android.database.sqlite.SQLiteDatabase;'], ['import android.app.Activity;', 'import android.app.ProgressDialog;', 'import android.os.Handler;', 'import android.os.Message;'], ['import java.io.DataInputStream;', 'import java.io.DataOutputStream;', 'import java.io.File;', 'import java.io.FileInputStream;', 'import java.io.IOException;', 'import java.io.InputStream;', 'import java.net.HttpURLConnection;', 'import java.net.MalformedURLException;', 'import java.net.URL;'], ['import java.util.List;', 'import android.os.Bundle;', 'import com.google.android.maps.MapActivity;', 'import com.google.android.maps.MapController;', 'import com.google.android.maps.MapView;', 'import com.google.android.maps.MyLocationOverlay;', 'import com.google.android.maps.Overlay;'], ['import android.app.Activity;', 'import android.os.Bundle;', 'import android.util.Log;', 'import android.view.View;', 'import android.view.View.OnClickListener;', 'import android.widget.ImageView;', 'import android.widget.SlidingDrawer;'], ['import android.content.Context;', 'import android.graphics.Color;', 'import android.view.View;', 'import android.widget.TextView;'], ['import java.io.File;', 'import java.io.FileOutputStream;', 'import java.io.IOException;', 'import java.io.InputStream;', 'import java.net.URL;', 'import java.net.URLConnection;', 'import android.app.Activity;', 'import android.content.Intent;', 'import android.content.pm.ActivityInfo;', 'import android.graphics.PixelFormat;', 'import android.media.MediaPlayer;', 'import android.media.MediaPlayer.OnBufferingUpdateListener;', 'import android.media.MediaPlayer.OnCompletionListener;', 'import android.media.MediaPlayer.OnErrorListener;', 'import android.media.MediaPlayer.OnPreparedListener;', 'import android.os.Bundle;', 'import android.util.Log;', 'import android.view.SurfaceHolder;', 'import android.view.SurfaceView;', 'import android.view.View;', 'import android.webkit.URLUtil;', 'import android.widget.Button;'], ['import java.io.IOException;', 'import org.apache.http.HttpEntity;', 'import org.apache.http.HttpHost;', 'import org.apache.http.HttpResponse;', 'import org.apache.http.client.HttpClient;', 'import org.apache.http.client.methods.HttpGet;', 'import org.apache.http.impl.client.DefaultHttpClient;', 'import org.apache.http.util.EntityUtils;'], ['import android.app.Service;', 'import android.content.Intent;', 'import android.os.IBinder;'], ['import android.app.Activity;', 'import android.content.BroadcastReceiver;', 'import android.content.ComponentName;', 'import android.content.Context;', 'import android.content.Intent;', 'import android.content.IntentFilter;', 'import android.content.IntentFilter.MalformedMimeTypeException;', 'import android.os.Bundle;', 'import android.util.Log;'], ['import android.app.Activity;', 'import android.content.Intent;', 'import android.os.Bundle;', 'import android.view.View;', 'import android.widget.Button;', 'import android.widget.EditText;'], ['import org.apache.http.impl.client.DefaultHttpClient;', 'import java.io.IOException;', 'import org.apache.http.client.ClientProtocolException;', 'import org.apache.http.client.methods.HttpGet;', 'import android.app.Activity;', 'import android.os.Bundle;', 'import android.widget.TextView;'], ['import android.app.AlertDialog;', 'import android.app.Dialog;', 'import android.content.Context;', 'import android.graphics.Bitmap;', 'import android.graphics.BitmapFactory;', 'import android.hardware.Camera;', 'import android.hardware.Camera.PictureCallback;', 'import android.widget.ImageView;', 'import android.widget.TextView;'], ['import android.content.Context;', 'import android.util.AttributeSet;', 'import android.view.Gravity;', 'import android.view.LayoutInflater;', 'import android.widget.LinearLayout;'], ['import android.app.Activity;', 'import android.os.Bundle;', 'import android.widget.TextView;', 'import android.view.View;', 'import android.widget.Button;', 'import android.widget.EditText;', 'import java.text.NumberFormat;', 'import android.util.Log;']]\n",
      "[1, 1, 1, 1, 1, 1, 1, 1, 1, 1, 1, 1, 1, 1, 1, 1, 1, 1, 1, 1, 1, 1, 1, 1, 1, 1, 1, 1, 1, 1, 1, 1, 1, 1, 1, 1, 1, 1, 1, 1, 1, 1, 1, 1, 1, 1, 1, 1, 1, 1, 1, 1, 1, 1, 1, 1, 1, 1, 1, 1, 1, 1, 1, 1, 1, 1, 1, 1, 1, 1, 1, 1, 1, 1, 1, 1, 1, 1, 1, 1, 1, 1, 1, 1, 1, 1, 1, 1, 1, 0, 1, 1, 1, 1, 1, 1, 1, 1, 1, 1, 1, 1, 1, 1, 1, 1, 1, 1, 1, 1, 1, 0, 0, 1, 1, 1, 1, 1, 1, 1, 1, 1, 1, 1, 1, 1, 1, 1, 1, 1, 1, 1, 1, 1, 1, 1, 1, 1, 1, 1, 1, 1, 1, 1, 1, 1, 1, 1, 1, 1, 1, 1, 1, 1, 1, 1, 1, 1, 0, 1, 1, 1, 1, 1, 1, 1, 1, 1, 1, 1, 1, 1, 1, 1, 1, 1, 1, 1, 1, 1, 1, 1, 1, 1, 1, 1, 1, 1, 1, 1, 1, 1, 1, 1, 1, 1, 1, 1, 1, 1, 1, 1, 1, 1, 1, 1, 1, 1, 1, 1, 1, 1, 1, 1, 1, 1, 1, 1, 1, 1, 1, 1, 1, 1, 1, 1, 1, 1, 1, 1, 1, 1, 1, 1, 1, 1, 1, 1, 1, 1, 1, 1, 1, 1, 1, 1, 1, 1, 0, 0, 1, 1, 1, 1, 1, 1, 1, 1, 1, 1, 1, 1, 1, 1, 1, 1, 1, 1, 1, 0, 1, 1, 1, 1, 1, 1, 1, 1, 1, 1, 1, 1, 1, 1, 1, 1, 1, 1, 1, 1, 1, 1, 1, 1, 1, 1, 1, 1, 1, 1, 1, 1, 1, 1, 1, 1, 1, 1, 1, 1]\n",
      "[1, 1, 1, 1, 1, 1, 1, 1, 1, 0, 1, 1, 1, 1, 1, 1, 1, 1, 1, 1, 1, 1, 1, 1, 1, 1, 1, 1, 1, 1, 1, 1, 1, 1, 1, 1, 1, 1, 1, 1, 1, 1, 0, 1, 1, 1, 1, 1, 1, 1, 1, 1, 1, 1, 1, 1, 1, 1, 1, 1, 1, 1, 1, 1, 1, 1, 1, 1, 1, 1, 1, 1, 1, 1, 1, 1, 1, 1, 1, 1, 1, 1, 1, 1, 1, 1, 1, 1, 1, 1, 1, 1, 1, 1, 1, 1, 1, 1, 1, 1, 1, 1, 1, 1, 1, 1, 1, 1, 1, 1, 1, 1, 1, 1, 1, 1, 1, 1, 1, 1, 1, 1, 1, 1, 1, 1, 0, 1, 1, 1, 1, 1, 1, 1, 1, 1, 1, 1, 1, 1, 1, 1, 1, 1, 1, 1, 1, 1, 1, 1, 1, 1, 0, 1, 1, 1, 1, 1, 1, 1, 1, 1, 1, 1, 1, 1, 1, 0, 1, 1, 1, 1, 1, 1, 1, 1, 1, 1, 1, 1, 1, 1, 1, 1, 1, 1, 1, 1, 1, 1, 1, 1, 1, 1, 1, 1, 1, 1, 1, 1, 1, 1, 1, 1, 1, 1, 1, 1, 1, 1, 1, 1, 1, 1, 0, 0, 1, 1, 1, 1, 1, 1, 1, 0, 1, 1, 1, 1, 1, 1, 1, 1, 1, 1, 1, 1, 1, 1, 1, 1, 1, 1, 1, 1, 1, 1, 1, 1, 1, 1, 1, 1, 1, 1, 1, 1, 1, 1, 1, 1, 1, 1, 1, 1, 1, 1, 1, 1, 1, 1, 0, 0, 0, 0, 0, 1, 1, 1, 1, 1, 1, 1, 1, 1, 1, 1, 1, 1, 1, 1, 1, 1, 1, 1, 1, 1, 1, 1, 1, 1, 1, 1, 1, 1, 1, 1, 1, 1, 1, 1]\n",
      "\n",
      "{\n",
      "  \"accuracy\": 0.9354838709677419,\n",
      "  \"f1\": 0.9666666666666667,\n",
      "  \"precision\": 0.9764309764309764,\n",
      "  \"recall\": 0.9570957095709571\n",
      "}\n"
     ]
    },
    {
     "name": "stderr",
     "output_type": "stream",
     "text": [
      "\n"
     ]
    }
   ],
   "source": [
    "# One-shot Prediction for Android Classes\n",
    "\n",
    "print(\"\\nOne-shot Prediction for Android Classes:\\n\")\n",
    "y_pred = get_all_oneshot_predictions(get_oneshot_sample(android_dataset), android_test_examples)\n",
    "print(\"\\nPredicted Import List:\", y_pred)\n",
    "print(\"\\nCorrect Import List:\", android_y_true)\n",
    "y_pred_processed, y_true_processed = pred_process(y_pred, android_y_true)\n",
    "eval_performance(y_pred_processed, y_true_processed)"
   ]
  },
  {
   "cell_type": "code",
   "execution_count": 26,
   "metadata": {},
   "outputs": [
    {
     "name": "stdout",
     "output_type": "stream",
     "text": [
      "\n",
      "One-shot Prediction for JDK Classes:\n",
      "\n"
     ]
    },
    {
     "name": "stderr",
     "output_type": "stream",
     "text": [
      "100%|██████████| 23/23 [12:59<00:00, 33.88s/it]"
     ]
    },
    {
     "name": "stdout",
     "output_type": "stream",
     "text": [
      "\n",
      "Predicted Import List: [['import java.applet.Applet;', 'import java.awt.Color;', 'import java.awt.Container;', 'import java.awt.Dimension;', 'import java.awt.Frame;', 'import java.awt.Graphics;', 'import java.awt.Graphics2D;', 'import java.awt.event.WindowAdapter;', 'import java.awt.event.WindowEvent;', 'import java.awt.image.BufferedImage;', 'import java.io.FileInputStream;', 'import java.io.FileOutputStream;', 'import java.io.IOException;', 'import java.io.ObjectInputStream;', 'import java.io.ObjectOutputStream;'], ['import java.awt.BorderLayout;', 'import java.awt.Color;', 'import java.awt.Dimension;', 'import java.awt.FlowLayout;', 'import java.awt.GradientPaint;', 'import java.awt.GridBagLayout;', 'import java.awt.GridLayout;', 'import java.awt.Graphics2D;', 'import java.awt.image.BufferedImage;', 'import java.awt.event.ActionEvent;', 'import java.awt.event.ActionListener;', 'import javax.swing.BorderFactory;', 'import javax.swing.JButton;', 'import javax.swing.JCheckBox;', 'import javax.swing.JComboBox;', 'import javax.swing.JFrame;', 'import javax.swing.JLabel;', 'import javax.swing.JPanel;', 'import javax.swing.JScrollPane;', 'import javax.swing.JSplitPane;', 'import javax.swing.JTable;', 'import javax.swing.SwingUtilities;', 'import javax.swing.UIManager;', 'import javax.swing.border.TitledBorder;', 'import javax.swing.table.DefaultTableModel;'], ['import java.math.RoundingMode;', 'import java.text.DecimalFormat;', 'import java.text.DecimalFormatSymbols;', 'import java.text.ParseException;', 'import java.util.Locale;'], ['import java.util.regex.Matcher;', 'import java.util.regex.Pattern;', 'import java.util.ArrayList;', 'import java.util.List;'], [], ['import java.awt.BorderLayout;', 'import java.awt.Color;', 'import java.awt.Component;', 'import java.awt.Graphics;', 'import java.awt.Graphics2D;', 'import java.awt.RenderingHints;', 'import java.awt.event.ActionEvent;', 'import java.awt.event.ActionListener;', 'import java.util.Observable;', 'import java.util.Observer;', 'import java.util.Random;', 'import javax.swing.Icon;', 'import javax.swing.JButton;', 'import javax.swing.JFrame;', 'import javax.swing.JLabel;', 'import javax.swing.JPanel;', 'import java.awt.EventQueue;'], ['import java.util.ArrayList;', 'import java.util.Collections;', 'import java.util.Comparator;', 'import java.util.Date;', 'import java.text.ParseException;', 'import java.text.SimpleDateFormat;'], ['import java.lang.RuntimeException;', 'import java.lang.String;', 'import java.lang.Math;'], ['import java.sql.Connection;', 'import java.sql.DriverManager;', 'import java.sql.SQLException;', 'import java.util.Properties;'], ['import java.text.NumberFormat;', 'import java.util.Locale;'], ['import java.io.BufferedWriter;', 'import java.io.File;', 'import java.io.FileWriter;', 'import javax.swing.JFileChooser;'], ['import java.text.DateFormat;', 'import java.text.ParseException;', 'import java.text.SimpleDateFormat;', 'import java.util.Calendar;', 'import java.util.Date;', 'import java.util.GregorianCalendar;'], ['import javax.swing.JFrame;', 'import javax.swing.JTextArea;', 'import javax.swing.SwingUtilities;', 'import javax.swing.UIManager;'], ['import java.lang.reflect.Method;'], ['import java.util.HashMap;'], ['import java.lang.reflect.InvocationTargetException;', 'import java.lang.reflect.Method;', 'import java.util.ArrayList;', 'import java.util.HashMap;', 'import java.util.List;', 'import java.util.Map;', 'import java.util.prefs.Preferences;'], ['import java.text.ParseException;', 'import java.text.SimpleDateFormat;', 'import java.util.Date;', 'import java.time.format.DateTimeFormatter;', 'import java.time.temporal.TemporalAccessor;'], ['import java.lang.reflect.Array;', 'import java.lang.reflect.Field;'], ['import java.util.Random;', 'import java.util.concurrent.ThreadLocalRandom;', 'import java.util.List;', 'import java.util.ArrayList;', 'import java.util.Collection;', 'import java.util.Iterator;', 'import java.util.NoSuchElementException;'], ['import java.io.BufferedInputStream;', 'import java.io.BufferedOutputStream;', 'import java.io.DataInputStream;', 'import java.io.DataOutputStream;', 'import java.io.File;', 'import java.io.FileInputStream;', 'import java.io.FileOutputStream;', 'import java.io.IOException;', 'import java.util.ArrayList;'], ['import java.awt.BorderLayout;', 'import java.awt.Component;', 'import java.awt.Image;', 'import java.awt.event.ActionEvent;', 'import java.awt.event.ActionListener;', 'import java.awt.event.InputEvent;', 'import java.awt.event.KeyEvent;', 'import java.awt.image.BufferedImage;', 'import java.io.File;', 'import javax.imageio.ImageIO;', 'import javax.swing.ImageIcon;', 'import javax.swing.JFrame;', 'import javax.swing.JLabel;', 'import javax.swing.JMenu;', 'import javax.swing.JMenuBar;', 'import javax.swing.JMenuItem;', 'import javax.swing.JOptionPane;', 'import javax.swing.JPanel;', 'import javax.swing.JScrollPane;', 'import javax.swing.JTextArea;', 'import javax.swing.JTree;', 'import javax.swing.KeyStroke;', 'import javax.swing.SwingUtilities;', 'import javax.swing.border.TitledBorder;'], ['import java.awt.Container;', 'import java.awt.EventQueue;', 'import java.awt.GridLayout;', 'import java.beans.PropertyChangeEvent;', 'import java.beans.PropertyChangeListener;', 'import java.text.DecimalFormat;', 'import java.util.List;', 'import javax.swing.JFrame;', 'import javax.swing.JLabel;', 'import javax.swing.JProgressBar;', 'import javax.swing.SwingWorker;'], []]\n",
      "\n",
      "Correct Import List: [['import java.applet.Applet;', 'import java.awt.Color;', 'import java.awt.Container;', 'import java.awt.Dimension;', 'import java.awt.Frame;', 'import java.awt.Graphics;', 'import java.awt.Graphics2D;', 'import java.awt.event.WindowAdapter;', 'import java.awt.event.WindowEvent;', 'import java.awt.image.BufferedImage;', 'import java.io.FileInputStream;', 'import java.io.FileOutputStream;', 'import java.io.IOException;', 'import java.io.ObjectInputStream;', 'import java.io.ObjectOutputStream;'], ['import java.awt.BorderLayout;', 'import java.awt.Color;', 'import java.awt.Dimension;', 'import java.awt.FlowLayout;', 'import java.awt.GradientPaint;', 'import java.awt.Graphics2D;', 'import java.awt.GridBagLayout;', 'import java.awt.GridLayout;', 'import java.awt.event.ActionEvent;', 'import java.awt.event.ActionListener;', 'import java.awt.image.BufferedImage;', 'import javax.swing.ImageIcon;', 'import javax.swing.JButton;', 'import javax.swing.JCheckBox;', 'import javax.swing.JComboBox;', 'import javax.swing.JFrame;', 'import javax.swing.JLabel;', 'import javax.swing.JPanel;', 'import javax.swing.JScrollPane;', 'import javax.swing.JSplitPane;', 'import javax.swing.JTable;', 'import javax.swing.SwingUtilities;', 'import javax.swing.UIManager;', 'import javax.swing.border.TitledBorder;', 'import javax.swing.table.DefaultTableModel;'], ['import java.math.RoundingMode;', 'import java.text.DecimalFormat;', 'import java.text.DecimalFormatSymbols;', 'import java.text.ParseException;', 'import java.util.Locale;'], ['import java.util.regex.Pattern;', 'import java.util.ArrayList;', 'import java.util.List;', 'import java.util.regex.Matcher;'], ['import java.util.Collections;', 'import java.util.Comparator;', 'import java.util.HashMap;', 'import java.util.LinkedHashMap;', 'import java.util.LinkedList;', 'import java.util.List;', 'import java.util.Map;', 'import java.util.TreeMap;'], ['import java.awt.BorderLayout;', 'import java.awt.Color;', 'import java.awt.Component;', 'import java.awt.EventQueue;', 'import java.awt.Graphics;', 'import java.awt.Graphics2D;', 'import java.awt.RenderingHints;', 'import java.awt.event.ActionEvent;', 'import java.awt.event.ActionListener;', 'import java.util.Observable;', 'import java.util.Observer;', 'import java.util.Random;', 'import javax.swing.Icon;', 'import javax.swing.JButton;', 'import javax.swing.JFrame;', 'import javax.swing.JLabel;', 'import javax.swing.JPanel;'], ['import java.text.ParseException;', 'import java.text.SimpleDateFormat;', 'import java.util.ArrayList;', 'import java.util.Collections;', 'import java.util.Comparator;', 'import java.util.Date;'], [], ['import java.sql.Connection;', 'import java.sql.DriverManager;', 'import java.sql.SQLException;', 'import java.util.Properties;'], ['import java.text.NumberFormat;', 'import java.util.Locale;'], ['import java.io.BufferedWriter;', 'import java.io.File;', 'import java.io.FileWriter;', 'import javax.swing.JFileChooser;'], ['import java.text.DateFormat;', 'import java.text.ParseException;', 'import java.text.SimpleDateFormat;', 'import java.util.Calendar;', 'import java.util.Date;', 'import java.util.GregorianCalendar;'], ['import javax.swing.JFrame;', 'import javax.swing.JTextArea;', 'import javax.swing.SwingUtilities;', 'import javax.swing.UIManager;'], ['import java.lang.reflect.Method;'], ['import java.util.HashMap;'], ['import java.lang.reflect.InvocationTargetException;', 'import java.lang.reflect.Method;', 'import java.util.HashMap;', 'import java.util.Map;', 'import java.util.ArrayList;', 'import java.util.List;', 'import java.util.prefs.Preferences;'], ['import java.text.SimpleDateFormat;', 'import java.time.format.DateTimeFormatter;', 'import java.time.temporal.TemporalAccessor;', 'import java.util.Date;', 'import java.text.ParseException;'], ['import java.lang.reflect.Array;', 'import java.lang.reflect.Field;'], ['import java.util.List;', 'import java.util.Collection;', 'import java.util.Iterator;', 'import java.util.Random;', 'import java.util.ArrayList;', 'import java.util.NoSuchElementException;', 'import java.util.concurrent.ThreadLocalRandom;'], ['import java.io.BufferedInputStream;', 'import java.io.BufferedOutputStream;', 'import java.io.DataInputStream;', 'import java.io.DataOutputStream;', 'import java.io.File;', 'import java.io.FileInputStream;', 'import java.io.FileOutputStream;', 'import java.io.IOException;', 'import java.util.ArrayList;'], ['import java.awt.BorderLayout;', 'import java.awt.Component;', 'import java.awt.Image;', 'import java.awt.image.BufferedImage;', 'import java.awt.event.ActionListener;', 'import java.awt.event.ActionEvent;', 'import java.awt.event.KeyEvent;', 'import java.awt.event.InputEvent;', 'import javax.swing.ImageIcon;', 'import javax.swing.JFrame;', 'import javax.swing.JLabel;', 'import javax.swing.JMenu;', 'import javax.swing.JMenuBar;', 'import javax.swing.JMenuItem;', 'import javax.swing.JOptionPane;', 'import javax.swing.JPanel;', 'import javax.swing.JScrollPane;', 'import javax.swing.JTextArea;', 'import javax.swing.JTree;', 'import javax.swing.KeyStroke;', 'import javax.swing.SwingUtilities;', 'import javax.swing.border.TitledBorder;', 'import javax.imageio.ImageIO;', 'import java.io.File;'], ['import java.awt.Container;', 'import java.awt.EventQueue;', 'import java.awt.GridLayout;', 'import java.beans.PropertyChangeEvent;', 'import java.beans.PropertyChangeListener;', 'import java.text.DecimalFormat;', 'import java.util.List;', 'import javax.swing.JFrame;', 'import javax.swing.JLabel;', 'import javax.swing.JProgressBar;', 'import javax.swing.SwingWorker;'], []]\n",
      "[1, 1, 1, 1, 1, 1, 1, 1, 1, 1, 1, 1, 1, 1, 1, 1, 1, 1, 1, 1, 1, 1, 1, 1, 1, 1, 1, 1, 1, 1, 1, 1, 1, 1, 1, 1, 1, 1, 1, 0, 1, 1, 1, 1, 1, 1, 1, 1, 1, 0, 0, 0, 0, 0, 0, 0, 0, 1, 1, 1, 1, 1, 1, 1, 1, 1, 1, 1, 1, 1, 1, 1, 1, 1, 1, 1, 1, 1, 1, 1, 1, 1, 1, 1, 1, 1, 1, 1, 1, 1, 1, 1, 1, 1, 1, 1, 1, 1, 1, 1, 1, 1, 1, 1, 1, 1, 1, 1, 1, 1, 1, 1, 1, 1, 1, 1, 1, 1, 1, 1, 1, 1, 1, 1, 1, 1, 1, 1, 1, 1, 1, 1, 1, 1, 1, 1, 1, 1, 1, 1, 1, 1, 1, 1, 1, 1, 1, 1, 1, 1, 1, 1, 1, 1, 1, 1, 1, 1, 1, 1, 1, 1, 1, 1, 1, 1, 1, 1, 1, 1]\n",
      "[1, 1, 1, 1, 1, 1, 1, 1, 1, 1, 1, 1, 1, 1, 1, 1, 1, 1, 1, 1, 1, 1, 1, 1, 1, 1, 1, 1, 1, 1, 1, 1, 1, 1, 1, 1, 1, 1, 1, 1, 1, 1, 1, 1, 1, 1, 1, 1, 1, 1, 1, 1, 1, 1, 1, 1, 1, 1, 1, 1, 1, 1, 1, 1, 1, 1, 1, 1, 1, 1, 1, 1, 1, 1, 1, 1, 1, 1, 1, 1, 0, 0, 0, 1, 1, 1, 1, 1, 1, 1, 1, 1, 1, 1, 1, 1, 1, 1, 1, 1, 1, 1, 1, 1, 1, 1, 1, 1, 1, 1, 1, 1, 1, 1, 1, 1, 1, 1, 1, 1, 1, 1, 1, 1, 1, 1, 1, 1, 1, 1, 1, 1, 1, 1, 1, 1, 1, 1, 1, 1, 1, 1, 1, 1, 1, 1, 1, 1, 1, 1, 1, 1, 1, 1, 1, 1, 1, 1, 1, 1, 1, 1, 1, 1, 1, 1, 1, 1, 1, 1]\n",
      "\n",
      "{\n",
      "  \"accuracy\": 0.9294117647058824,\n",
      "  \"f1\": 0.9634146341463414,\n",
      "  \"precision\": 0.9461077844311377,\n",
      "  \"recall\": 0.9813664596273292\n",
      "}\n"
     ]
    },
    {
     "name": "stderr",
     "output_type": "stream",
     "text": [
      "\n"
     ]
    }
   ],
   "source": [
    "# One-shot Prediction for JDK Classes\n",
    "\n",
    "print(\"\\nOne-shot Prediction for JDK Classes:\\n\")\n",
    "y_pred = get_all_oneshot_predictions(get_oneshot_sample(jdk_dataset), jdk_test_examples)\n",
    "print(\"\\nPredicted Import List:\", y_pred)\n",
    "print(\"\\nCorrect Import List:\", jdk_y_true)\n",
    "y_pred_processed, y_true_processed = pred_process(y_pred, jdk_y_true)\n",
    "eval_performance(y_pred_processed, y_true_processed)"
   ]
  },
  {
   "cell_type": "code",
   "execution_count": 27,
   "metadata": {},
   "outputs": [
    {
     "name": "stdout",
     "output_type": "stream",
     "text": [
      "\n",
      "One-shot Prediction for Hibernate Classes:\n",
      "\n"
     ]
    },
    {
     "name": "stderr",
     "output_type": "stream",
     "text": [
      "100%|██████████| 51/51 [28:52<00:00, 33.97s/it]"
     ]
    },
    {
     "name": "stdout",
     "output_type": "stream",
     "text": [
      "\n",
      "Predicted Import List: [['import org.hibernate.SessionFactory;', 'import org.hibernate.cfg.AnnotationConfiguration;'], ['import org.hibernate.Session;', 'import org.hibernate.SessionFactory;', 'import org.hibernate.Transaction;', 'import org.hibernate.cfg.AnnotationConfiguration;', 'import dao.UserDAO;', 'import model.User;'], ['import java.io.Serializable;', 'import java.util.List;', 'import javax.persistence.Cacheable;', 'import javax.persistence.Column;', 'import javax.persistence.Entity;', 'import javax.persistence.Id;', 'import javax.persistence.JoinColumn;', 'import javax.persistence.ManyToOne;', 'import javax.persistence.OneToMany;', 'import org.hibernate.annotations.Cache;', 'import org.hibernate.annotations.CacheConcurrencyStrategy;', 'import static javax.persistence.CascadeType.ALL;'], ['import java.sql.Types;', 'import org.hibernate.dialect.Dialect;', 'import org.hibernate.Hibernate;', 'import org.hibernate.dialect.function.SQLFunctionTemplate;', 'import org.hibernate.dialect.function.StandardSQLFunction;', 'import org.hibernate.dialect.function.VarArgsSQLFunction;'], ['import org.hibernate.HibernateException;', 'import org.hibernate.SessionFactory;', 'import org.hibernate.cfg.Configuration;'], ['import org.hibernate.SessionFactory;', 'import org.hibernate.cfg.Configuration;'], ['import java.io.File;', 'import java.net.MalformedURLException;', 'import java.util.Iterator;', 'import java.util.List;', 'import org.dom4j.Document;', 'import org.dom4j.DocumentException;', 'import org.dom4j.io.SAXReader;', 'import org.hibernate.EntityMode;', 'import org.hibernate.HibernateException;', 'import org.hibernate.Session;', 'import org.hibernate.SessionFactory;', 'import org.hibernate.Transaction;', 'import org.hibernate.cfg.Configuration;', 'import org.hibernate.tool.hbm2ddl.SchemaExport;'], ['import org.hibernate.Session;', 'import org.hibernate.SessionFactory;', 'import org.hibernate.cfg.AnnotationConfiguration;'], ['import java.util.Date;', 'import javax.persistence.Column;', 'import javax.persistence.MappedSuperclass;', 'import javax.persistence.Temporal;', 'import javax.persistence.TemporalType;', 'import javax.validation.constraints.AssertTrue;', 'import javax.validation.constraints.NotNull;', 'import javax.persistence.Transient;'], ['import java.io.Serializable;', 'import java.util.List;', 'import org.hibernate.Session;'], ['import java.io.Serializable;', 'import java.util.List;', 'import org.hibernate.Session;'], ['import java.io.Serializable;', 'import javax.persistence.Column;', 'import javax.persistence.Entity;', 'import javax.persistence.FetchType;', 'import javax.persistence.ForeignKey;', 'import javax.persistence.Id;', 'import javax.persistence.JoinColumn;', 'import javax.persistence.ManyToOne;', 'import javax.persistence.Table;'], ['import org.hibernate.Session;', 'import org.hibernate.SessionFactory;', 'import org.hibernate.Transaction;', 'import javax.faces.context.FacesContext;', 'import org.hibernate.cfg.Configuration;'], ['import java.io.Serializable;', 'import java.util.Collection;', 'import java.util.List;', 'import javax.persistence.CascadeType;', 'import javax.persistence.Column;', 'import javax.persistence.Entity;', 'import javax.persistence.FetchType;', 'import javax.persistence.ForeignKey;', 'import javax.persistence.Id;', 'import javax.persistence.IndexColumn;', 'import javax.persistence.JoinColumn;', 'import javax.persistence.JoinTable;', 'import javax.persistence.ManyToMany;', 'import javax.persistence.ManyToOne;', 'import javax.persistence.OneToMany;', 'import javax.persistence.Table;', 'import org.hibernate.annotations.ForeignKey;'], ['import java.io.Serializable;', 'import java.util.Collection;', 'import javax.persistence.CascadeType;', 'import javax.persistence.Column;', 'import javax.persistence.Entity;', 'import javax.persistence.FetchType;', 'import javax.persistence.ForeignKey;', 'import javax.persistence.Id;', 'import javax.persistence.JoinColumn;', 'import javax.persistence.ManyToMany;', 'import javax.persistence.ManyToOne;', 'import javax.persistence.Table;'], ['import java.io.ByteArrayOutputStream;', 'import java.io.IOException;', 'import java.io.InputStream;', 'import java.sql.Blob;', 'import java.sql.SQLException;', 'import java.util.Date;', 'import org.hibernate.Hibernate;', 'import org.hibernate.Session;', 'import org.hibernate.SessionFactory;'], ['import java.util.List;', 'import org.hibernate.Session;', 'import org.hibernate.SessionFactory;', 'import org.hibernate.Transaction;', 'import org.hibernate.query.Query;'], ['import java.util.ArrayList;', 'import java.util.List;', 'import javax.naming.NamingException;', 'import org.hibernate.SessionFactory;', 'import org.hibernate.cfg.Configuration;', 'import org.hibernate.shards.ShardConfiguration;', 'import org.hibernate.shards.ShardId;', 'import org.hibernate.shards.ShardStrategyFactory;', 'import org.hibernate.shards.loadbalance.RoundRobinShardLoadBalancer;', 'import org.hibernate.shards.strategy.access.SequentialShardAccessStrategy;', 'import org.hibernate.shards.strategy.access.ShardAccessStrategy;', 'import org.hibernate.shards.strategy.resolution.AllShardsShardResolutionStrategy;', 'import org.hibernate.shards.strategy.resolution.ShardResolutionStrategy;', 'import org.hibernate.shards.strategy.selection.RoundRobinShardSelectionStrategy;', 'import org.hibernate.shards.strategy.selection.ShardSelectionStrategy;', 'import org.hibernate.shards.strategy.spi.ShardedConfiguration;', 'import org.hibernate.shards.strategy.spi.ShardedSessionFactory;', 'import org.hibernate.shards.strategy.spi.ShardStrategy;', 'import org.hibernate.shards.strategy.spi.ShardStrategyImpl;'], ['import org.hibernate.SessionFactory;', 'import org.hibernate.cfg.Configuration;'], ['import javax.persistence.Column;', 'import javax.persistence.Entity;', 'import javax.persistence.GeneratedValue;', 'import javax.persistence.Id;', 'import javax.persistence.Index;', 'import javax.persistence.Table;', 'import org.hibernate.annotations.Table;'], ['import org.hibernate.SessionFactory;', 'import org.hibernate.cfg.AnnotationConfiguration;'], ['import org.hibernate.Session;', 'import org.hibernate.SessionFactory;', 'import org.hibernate.Transaction;', 'import org.hibernate.cfg.Configuration;'], ['import org.hibernate.Session;', 'import org.hibernate.SessionFactory;', 'import org.hibernate.Transaction;', 'import org.hibernate.cfg.Configuration;', 'import org.hibernate.query.Query;', 'import com.google.gwt.json.client.JSONObject;'], ['import org.hibernate.HibernateException;', 'import org.hibernate.Session;', 'import org.hibernate.SessionFactory;', 'import org.hibernate.cfg.AnnotationConfiguration;', 'import org.hibernate.cfg.Configuration;'], ['import java.lang.reflect.InvocationHandler;', 'import java.lang.reflect.Method;', 'import org.hibernate.SessionFactory;', 'import org.hibernate.cfg.Configuration;'], ['import javax.persistence.Entity;', 'import javax.persistence.GeneratedValue;', 'import javax.persistence.Id;', 'import javax.persistence.CascadeType;', 'import javax.persistence.OneToOne;', 'import org.hibernate.annotations.Fetch;', 'import org.hibernate.annotations.FetchMode;'], ['import java.util.List;', 'import org.hibernate.Session;', 'import org.hibernate.SessionFactory;', 'import org.hibernate.Transaction;', 'import org.hibernate.annotations.Fetch;', 'import org.hibernate.annotations.FetchMode;', 'import org.hibernate.cfg.AnnotationConfiguration;', 'import org.hibernate.tool.hbm2ddl.SchemaExport;', 'import javax.persistence.CascadeType;', 'import javax.persistence.Entity;', 'import javax.persistence.GeneratedValue;', 'import javax.persistence.Id;', 'import javax.persistence.OneToOne;', 'import org.hibernate.Query;'], ['import java.util.List;', 'import org.hibernate.Query;', 'import org.hibernate.Session;', 'import org.hibernate.SessionFactory;'], ['import java.util.ArrayList;', 'import java.util.List;', 'import javax.persistence.Column;', 'import javax.persistence.Entity;', 'import javax.persistence.GeneratedValue;', 'import javax.persistence.GenerationType;', 'import javax.persistence.Id;', 'import javax.persistence.IndexColumn;', 'import javax.persistence.JoinColumn;', 'import javax.persistence.ManyToOne;', 'import javax.persistence.OneToMany;'], ['import org.hibernate.Criteria;', 'import org.hibernate.Session;', 'import org.hibernate.SessionFactory;', 'import org.hibernate.criterion.Projections;', 'import java.util.List;'], ['import java.io.Serializable;', 'import javax.persistence.Basic;', 'import javax.persistence.Column;', 'import javax.persistence.Entity;', 'import javax.persistence.Id;', 'import javax.persistence.NamedQueries;', 'import javax.persistence.NamedQuery;', 'import javax.persistence.Table;'], ['import org.hibernate.Session;', 'import org.hibernate.SessionFactory;', 'import org.hibernate.Transaction;', 'import org.hibernate.cfg.Configuration;', 'import org.hibernate.query.Query;', 'import java.util.List;'], ['import javax.persistence.Entity;', 'import javax.persistence.GeneratedValue;', 'import javax.persistence.Id;', 'import javax.persistence.Index;', 'import javax.persistence.Table;', 'import org.hibernate.annotations.Table;', 'import javax.persistence.Column;'], ['import org.hibernate.Session;', 'import org.hibernate.SessionFactory;', 'import org.hibernate.cfg.Configuration;'], ['import org.hibernate.Session;', 'import org.hibernate.SessionFactory;', 'import org.hibernate.Transaction;'], ['import java.util.Iterator;', 'import java.util.List;', 'import org.apache.log4j.BasicConfigurator;', 'import org.hibernate.HibernateException;', 'import org.hibernate.Query;', 'import org.hibernate.Session;', 'import org.hibernate.Transaction;'], ['import org.hibernate.Session;', 'import org.hibernate.SessionFactory;', 'import org.hibernate.Transaction;', 'import org.hibernate.cfg.Configuration;'], ['import org.hibernate.HibernateException;', 'import org.hibernate.Session;', 'import org.hibernate.SessionFactory;', 'import org.hibernate.Transaction;', 'import org.hibernate.cfg.AnnotationConfiguration;'], ['import org.hibernate.Session;', 'import org.hibernate.SessionFactory;', 'import org.hibernate.Transaction;', 'import org.hibernate.cfg.Configuration;'], ['import java.io.Serializable;', 'import java.util.List;', 'import java.util.Map;', 'import org.hibernate.Session;', 'import org.hibernate.SessionFactory;', 'import org.hibernate.Transaction;', 'import org.hibernate.search.SearchException;', 'import org.springframework.transaction.annotation.Transactional;'], ['import org.hibernate.Session;', 'import org.hibernate.SessionFactory;', 'import org.hibernate.Transaction;', 'import org.hibernate.cfg.Configuration;', 'import org.hibernate.query.Query;'], ['import java.util.List;', 'import org.hibernate.Criteria;', 'import org.hibernate.Session;', 'import org.hibernate.SessionFactory;', 'import org.hibernate.Transaction;', 'import org.hibernate.criterion.Restrictions;'], ['import org.apache.commons.logging.Log;', 'import org.apache.commons.logging.LogFactory;', 'import javax.naming.InitialContext;', 'import org.hibernate.Session;', 'import org.hibernate.SessionFactory;', 'import org.hibernate.Transaction;', 'import org.hibernate.criterion.Example;', 'import java.util.List;'], ['import org.apache.log4j.Logger;', 'import org.hibernate.Session;', 'import org.hibernate.SessionFactory;', 'import org.hibernate.cfg.Configuration;', 'import java.util.Properties;'], ['import java.util.ArrayList;', 'import java.util.HashSet;', 'import java.util.Iterator;', 'import java.util.Set;', 'import javax.servlet.http.HttpServletRequest;', 'import javax.servlet.http.HttpServletResponse;', 'import org.apache.struts.action.ActionForm;', 'import org.apache.struts.action.ActionForward;', 'import org.apache.struts.action.ActionMapping;', 'import org.apache.struts.actions.DispatchAction;', 'import org.hibernate.Query;', 'import org.hibernate.Session;', 'import org.hibernate.SessionFactory;', 'import org.hibernate.Transaction;'], ['import org.hibernate.Session;', 'import org.hibernate.SessionFactory;', 'import org.hibernate.Transaction;', 'import org.hibernate.cfg.AnnotationConfiguration;'], ['import org.hibernate.CacheMode;', 'import org.hibernate.HibernateException;', 'import org.hibernate.JDBCException;', 'import org.hibernate.Session;', 'import org.hibernate.SessionFactory;'], ['import org.hibernate.Session;', 'import org.hibernate.SessionFactory;', 'import org.hibernate.Transaction;', 'import com.example.util.HibernateUtil;'], ['import org.hibernate.Session;', 'import org.hibernate.SessionFactory;', 'import org.hibernate.Transaction;', 'import net.sf.gilead.core.PersistentBeanManager;', 'import net.sf.gilead.core.hibernate.HibernateUtil;', 'import net.sf.gilead.core.store.stateless.StatelessProxyStore;', 'import net.sf.gilead.gwt.PersistentRemoteService;', 'import com.example.client.GreetingService;'], ['import javax.persistence.Entity;', 'import javax.persistence.Version;', 'import org.hibernate.annotations.NaturalId;', 'import java.io.Serializable;'], ['import org.hibernate.Session;', 'import org.hibernate.SessionFactory;', 'import org.hibernate.Transaction;', 'import java.util.List;', 'import your.package.Name;']]\n",
      "\n",
      "Correct Import List: [['import org.hibernate.SessionFactory;', 'import org.hibernate.cfg.AnnotationConfiguration;'], ['import org.hibernate.Session;', 'import org.hibernate.SessionFactory;', 'import org.hibernate.Transaction;', 'import org.hibernate.cfg.AnnotationConfiguration;', 'import library.dao.UserDAO;', 'import library.model.User;'], ['import java.io.Serializable;', 'import java.util.List;', 'import javax.persistence.Column;', 'import javax.persistence.Id;', 'import javax.persistence.JoinColumn;', 'import javax.persistence.ManyToOne;', 'import javax.persistence.OneToMany;', 'import org.hibernate.annotations.Cache;', 'import org.hibernate.annotations.CacheConcurrencyStrategy;', 'import org.hibernate.annotations.Entity;'], ['import java.sql.Types;', 'import org.hibernate.dialect.Dialect;', 'import org.hibernate.dialect.function.StandardSQLFunction;', 'import org.hibernate.dialect.function.SQLFunctionTemplate;', 'import org.hibernate.dialect.function.VarArgsSQLFunction;', 'import org.hibernate.Hibernate;'], ['import org.hibernate.SessionFactory;', 'import org.hibernate.HibernateException;', 'import org.hibernate.cfg.Configuration;'], ['import org.hibernate.SessionFactory;', 'import org.hibernate.cfg.Configuration;'], ['import java.io.File;', 'import java.net.MalformedURLException;', 'import java.util.Iterator;', 'import java.util.List;', 'import org.dom4j.Document;', 'import org.dom4j.DocumentException;', 'import org.dom4j.io.SAXReader;', 'import org.hibernate.EntityMode;', 'import org.hibernate.HibernateException;', 'import org.hibernate.Session;', 'import org.hibernate.SessionFactory;', 'import org.hibernate.Transaction;', 'import org.hibernate.cfg.Configuration;', 'import org.hibernate.tool.hbm2ddl.SchemaExport;'], ['import org.hibernate.Session;', 'import org.hibernate.SessionFactory;', 'import org.hibernate.cfg.AnnotationConfiguration;'], ['import java.util.Date;', 'import javax.persistence.Column;', 'import javax.persistence.MappedSuperclass;', 'import javax.persistence.Temporal;', 'import javax.persistence.TemporalType;', 'import javax.persistence.Transient;', 'import org.hibernate.validator.AssertTrue;', 'import org.hibernate.validator.NotNull;'], ['import java.io.Serializable;', 'import java.util.List;', 'import org.hibernate.Session;'], ['import java.io.Serializable;', 'import java.util.List;', 'import org.hibernate.Session;'], ['import java.io.Serializable;', 'import javax.persistence.Column;', 'import javax.persistence.Entity;', 'import javax.persistence.FetchType;', 'import javax.persistence.Id;', 'import javax.persistence.JoinColumn;', 'import javax.persistence.ManyToOne;', 'import javax.persistence.Table;', 'import org.apache.directory.api.ldap.aci.UserClass.UserGroup;', 'import org.hibernate.annotations.ForeignKey;'], ['import javax.faces.context.FacesContext;', 'import org.hibernate.Session;', 'import org.hibernate.SessionFactory;', 'import org.hibernate.Transaction;', 'import org.hibernate.cfg.Configuration;'], ['import java.util.List;', 'import java.util.Collection;', 'import java.io.Serializable;', 'import java.security.Permission;', 'import javax.persistence.CascadeType;', 'import javax.persistence.Column;', 'import javax.persistence.Entity;', 'import javax.persistence.FetchType;', 'import javax.persistence.Id;', 'import javax.persistence.JoinColumn;', 'import javax.persistence.JoinTable;', 'import javax.persistence.ManyToMany;', 'import javax.persistence.ManyToOne;', 'import javax.persistence.OneToMany;', 'import javax.persistence.Table;', 'import javax.persistence.Version;', 'import org.hibernate.annotations.ForeignKey;', 'import org.hibernate.annotations.IndexColumn;'], ['import java.io.Serializable;', 'import java.util.Collection;', 'import javax.persistence.CascadeType;', 'import javax.persistence.Column;', 'import javax.persistence.Entity;', 'import javax.persistence.FetchType;', 'import javax.persistence.Id;', 'import javax.persistence.JoinColumn;', 'import javax.persistence.ManyToMany;', 'import javax.persistence.ManyToOne;', 'import javax.persistence.Table;', 'import org.hibernate.annotations.ForeignKey;', 'import org.hibernate.test.cache.Item;', 'import library.model.User;'], ['import java.io.ByteArrayOutputStream;', 'import java.io.IOException;', 'import java.io.InputStream;', 'import java.sql.Blob;', 'import java.sql.SQLException;', 'import java.util.Date;', 'import org.hibernate.Hibernate;'], ['import java.awt.Event;', 'import java.util.List;'], ['import java.util.ArrayList;', 'import java.util.List;', 'import javax.naming.NamingException;', 'import org.hibernate.SessionFactory;', 'import org.hibernate.cfg.Configuration;', 'import org.hibernate.shards.ShardId;', 'import org.hibernate.shards.ShardedConfiguration;', 'import org.hibernate.shards.cfg.ConfigurationToShardConfigurationAdapter;', 'import org.hibernate.shards.cfg.ShardConfiguration;', 'import org.hibernate.shards.loadbalance.RoundRobinShardLoadBalancer;', 'import org.hibernate.shards.strategy.ShardStrategy;', 'import org.hibernate.shards.strategy.ShardStrategyFactory;', 'import org.hibernate.shards.strategy.ShardStrategyImpl;', 'import org.hibernate.shards.strategy.access.SequentialShardAccessStrategy;', 'import org.hibernate.shards.strategy.access.ShardAccessStrategy;', 'import org.hibernate.shards.strategy.resolution.AllShardsShardResolutionStrategy;', 'import org.hibernate.shards.strategy.resolution.ShardResolutionStrategy;', 'import org.hibernate.shards.strategy.selection.RoundRobinShardSelectionStrategy;', 'import org.hibernate.shards.strategy.selection.ShardSelectionStrategy;'], ['import org.hibernate.SessionFactory;', 'import org.hibernate.cfg.Configuration;'], ['import org.hibernate.annotations.Index;', 'import javax.persistence.Column;', 'import javax.persistence.Entity;', 'import javax.persistence.GeneratedValue;', 'import javax.persistence.Id;'], ['import org.hibernate.SessionFactory;', 'import org.hibernate.cfg.AnnotationConfiguration;'], ['import org.hibernate.Session;', 'import org.hibernate.SessionFactory;', 'import org.hibernate.Transaction;', 'import org.hibernate.cfg.Configuration;'], ['import org.hibernate.Query;', 'import org.hibernate.Session;', 'import org.hibernate.SessionFactory;', 'import org.hibernate.cfg.Configuration;', 'import org.json.JSONObject;'], ['import org.hibernate.HibernateException;', 'import org.hibernate.Session;', 'import org.hibernate.cfg.AnnotationConfiguration;', 'import org.hibernate.cfg.Configuration;'], ['import java.lang.reflect.InvocationHandler;', 'import java.lang.reflect.Method;', 'import org.hibernate.SessionFactory;', 'import org.hibernate.cfg.Configuration;'], ['import javax.persistence.CascadeType;', 'import javax.persistence.Entity;', 'import javax.persistence.GeneratedValue;', 'import javax.persistence.Id;', 'import javax.persistence.OneToOne;', 'import org.hibernate.annotations.Fetch;', 'import org.hibernate.annotations.FetchMode;'], ['import java.util.List;', 'import java.util.Map;', 'import javax.persistence.CascadeType;', 'import javax.persistence.Entity;', 'import javax.persistence.GeneratedValue;', 'import javax.persistence.Id;', 'import javax.persistence.OneToOne;', 'import org.hibernate.FlushMode;', 'import org.hibernate.Query;', 'import org.hibernate.Session;', 'import org.hibernate.SessionFactory;', 'import org.hibernate.annotations.Fetch;', 'import org.hibernate.annotations.FetchMode;', 'import org.hibernate.cfg.AnnotationConfiguration;', 'import org.hibernate.tool.hbm2ddl.SchemaExport;'], ['import java.util.List;', 'import org.hibernate.Query;', 'import org.hibernate.Session;'], ['import java.io.Serializable;', 'import java.util.ArrayList;', 'import java.util.List;', 'import javax.persistence.Column;', 'import javax.persistence.Entity;', 'import javax.persistence.GeneratedValue;', 'import javax.persistence.GenerationType;', 'import javax.persistence.Id;', 'import javax.persistence.JoinColumn;', 'import javax.persistence.ManyToOne;', 'import javax.persistence.OneToMany;', 'import org.hibernate.annotations.IndexColumn;', 'import library.model.User;'], ['import java.util.List;', 'import org.hibernate.Criteria;', 'import org.hibernate.Session;', 'import org.hibernate.SessionFactory;', 'import org.hibernate.criterion.Projections;'], ['import java.io.Serializable;', 'import javax.persistence.Basic;', 'import javax.persistence.Column;', 'import javax.persistence.Entity;', 'import javax.persistence.Id;', 'import org.hibernate.annotations.NamedQueries;', 'import org.hibernate.annotations.NamedQuery;', 'import javax.persistence.Table;'], ['import org.hibernate.Session;', 'import org.hibernate.SessionFactory;', 'import org.hibernate.cfg.Configuration;', 'import org.hibernate.Query;', 'import java.util.List;'], ['import javax.persistence.Table;', 'import javax.persistence.GeneratedValue;', 'import javax.persistence.Entity;', 'import javax.persistence.Id;', 'import org.hibernate.annotations.Index;'], ['import org.hibernate.Session;', 'import org.hibernate.SessionFactory;', 'import org.hibernate.cfg.Configuration;'], ['import org.hibernate.Session;', 'import org.hibernate.Transaction;'], ['import java.util.Iterator;', 'import java.util.List;', 'import org.apache.log4j.BasicConfigurator;', 'import org.hibernate.HibernateException;', 'import org.hibernate.Query;', 'import org.hibernate.Session;', 'import org.hibernate.Transaction;'], ['import org.hibernate.Session;', 'import org.hibernate.SessionFactory;', 'import org.hibernate.Transaction;', 'import org.hibernate.cfg.Configuration;'], ['import org.hibernate.HibernateException;', 'import org.hibernate.Session;', 'import org.hibernate.SessionFactory;', 'import org.hibernate.cfg.AnnotationConfiguration;'], ['import org.hibernate.Session;', 'import org.hibernate.SessionFactory;', 'import org.hibernate.Transaction;', 'import org.hibernate.cfg.Configuration;'], ['import java.io.Serializable;', 'import java.util.List;', 'import java.util.Map;', 'import org.appfuse.dao.GenericDao;', 'import org.appfuse.dao.SearchException;', 'import org.hibernate.Session;', 'import org.hibernate.SessionFactory;', 'import org.hibernate.Transaction;', 'import org.springframework.transaction.annotation.Transactional;'], ['import java.util.Iterator;', 'import java.util.List;', 'import org.hibernate.Query;', 'import org.hibernate.Session;', 'import org.hibernate.SessionFactory;', 'import org.hibernate.cfg.Configuration;'], ['import org.hibernate.Criteria;', 'import org.hibernate.Session;', 'import org.hibernate.Transaction;', 'import org.hibernate.criterion.Restrictions;', 'import org.hibernate.mapping.List;'], ['import java.util.List;', 'import javax.naming.InitialContext;', 'import org.apache.commons.logging.Log;', 'import org.apache.commons.logging.LogFactory;', 'import org.hibernate.SessionFactory;', 'import org.hibernate.criterion.Example;'], ['import java.util.Properties;', 'import org.apache.log4j.Logger;', 'import org.hibernate.Session;', 'import org.hibernate.SessionFactory;', 'import org.hibernate.cfg.Configuration;'], ['import java.util.ArrayList;', 'import java.util.HashSet;', 'import java.util.Iterator;', 'import java.util.Set;', 'import javax.servlet.http.HttpServletRequest;', 'import javax.servlet.http.HttpServletResponse;', 'import javax.servlet.http.HttpSession;', 'import org.apache.struts.action.ActionForm;', 'import org.apache.struts.action.ActionForward;', 'import org.apache.struts.action.ActionMapping;', 'import org.apache.struts.actions.DispatchAction;', 'import org.hibernate.Query;', 'import org.hibernate.Session;', 'import org.hibernate.SessionFactory;', 'import org.hibernate.Transaction;'], ['import org.hibernate.Session;', 'import org.hibernate.SessionFactory;', 'import org.hibernate.cfg.AnnotationConfiguration;'], ['import org.hibernate.CacheMode;', 'import org.hibernate.HibernateException;', 'import org.hibernate.JDBCException;', 'import org.hibernate.Session;', 'import org.hibernate.SessionFactory;'], ['import org.hibernate.Session;', 'import org.hibernate.SessionFactory;', 'import org.hibernate.Transaction;'], ['import net.sf.gilead.core.PersistentBeanManager;', 'import net.sf.gilead.core.hibernate.HibernateUtil;', 'import net.sf.gilead.core.store.stateless.StatelessProxyStore;', 'import net.sf.gilead.gwt.PersistentRemoteService;', 'import org.hibernate.Session;', 'import org.hibernate.SessionFactory;', 'import org.hibernate.Transaction;', 'import aQute.gwt.greeter.shared.GreetingService;'], ['import java.io.Serializable;', 'import javax.persistence.Entity;', 'import javax.persistence.Id;', 'import javax.persistence.Version;', 'import org.hibernate.annotations.NaturalId;'], ['import java.util.List;', 'import java.util.jar.Attributes.Name;', 'import org.hibernate.Session;', 'import org.hibernate.SessionFactory;']]\n",
      "[1, 1, 1, 1, 1, 1, 0, 0, 1, 1, 1, 1, 1, 1, 1, 1, 1, 0, 1, 1, 1, 1, 1, 1, 1, 1, 1, 1, 1, 1, 1, 1, 1, 1, 1, 1, 1, 1, 1, 1, 1, 1, 1, 1, 1, 1, 1, 1, 1, 1, 1, 1, 1, 1, 0, 0, 1, 1, 1, 1, 1, 1, 1, 1, 1, 1, 1, 1, 1, 1, 0, 0, 1, 1, 1, 1, 1, 1, 1, 1, 1, 1, 1, 1, 1, 1, 1, 1, 1, 1, 1, 1, 0, 0, 0, 1, 1, 1, 1, 1, 1, 1, 1, 1, 1, 1, 0, 0, 0, 1, 1, 1, 1, 1, 1, 1, 1, 1, 1, 0, 1, 1, 1, 1, 1, 1, 1, 1, 1, 1, 1, 1, 1, 1, 1, 1, 0, 0, 0, 0, 0, 0, 1, 1, 1, 1, 1, 1, 0, 1, 1, 1, 1, 1, 1, 1, 1, 1, 1, 1, 0, 0, 1, 1, 1, 1, 1, 1, 1, 1, 1, 1, 1, 1, 1, 1, 1, 1, 1, 1, 1, 1, 1, 1, 1, 1, 1, 1, 1, 1, 1, 1, 0, 0, 1, 1, 1, 1, 1, 1, 1, 1, 1, 1, 1, 1, 1, 1, 0, 0, 0, 1, 1, 1, 1, 1, 1, 1, 1, 1, 1, 1, 0, 0, 1, 1, 1, 1, 0, 1, 1, 1, 1, 1, 0, 1, 1, 1, 1, 1, 1, 1, 1, 1, 1, 1, 1, 1, 1, 1, 1, 1, 1, 1, 1, 1, 1, 1, 1, 1, 1, 1, 1, 1, 1, 1, 1, 1, 1, 1, 0, 0, 1, 1, 1, 0, 0, 0, 1, 1, 1, 1, 0, 1, 1, 1, 1, 1, 1, 1, 1, 1, 1, 1, 1, 1, 1, 1, 1, 1, 1, 1, 1, 1, 1, 1, 1, 1, 1, 1, 1, 0, 1, 1, 1, 1, 1, 1, 1, 1, 1, 1, 1, 1, 1, 1, 1, 1, 1, 1, 1, 1, 0, 1, 1, 1, 1, 0, 1, 1, 1, 0, 1]\n",
      "[1, 1, 1, 1, 1, 1, 1, 1, 1, 1, 1, 1, 1, 1, 1, 1, 1, 1, 0, 0, 1, 1, 1, 1, 1, 1, 1, 1, 1, 1, 1, 1, 1, 1, 1, 1, 1, 1, 1, 1, 1, 1, 1, 1, 1, 1, 1, 1, 1, 1, 1, 1, 1, 1, 1, 1, 1, 1, 1, 1, 1, 1, 1, 1, 1, 1, 1, 1, 1, 1, 1, 1, 1, 1, 1, 1, 1, 1, 1, 1, 1, 1, 1, 1, 1, 1, 1, 1, 1, 1, 1, 1, 1, 1, 1, 1, 1, 1, 1, 1, 1, 1, 1, 1, 1, 1, 1, 1, 1, 1, 1, 1, 1, 1, 1, 1, 0, 0, 1, 1, 0, 0, 0, 1, 1, 1, 1, 1, 1, 1, 1, 1, 1, 1, 1, 1, 1, 1, 1, 1, 1, 1, 1, 1, 1, 1, 1, 1, 1, 0, 0, 1, 1, 1, 1, 1, 1, 1, 1, 1, 1, 1, 0, 1, 1, 1, 1, 0, 1, 1, 1, 1, 1, 1, 1, 1, 1, 1, 1, 1, 1, 1, 1, 1, 1, 1, 1, 1, 1, 1, 1, 1, 1, 1, 1, 1, 1, 0, 1, 1, 1, 1, 1, 1, 1, 1, 1, 1, 1, 1, 1, 1, 1, 1, 1, 1, 1, 1, 1, 1, 1, 1, 1, 1, 1, 1, 1, 1, 1, 0, 1, 1, 1, 1, 1, 0, 0, 1, 1, 1, 1, 1, 0, 1, 1, 1, 1, 1, 1, 1, 1, 1, 1, 1, 1, 1, 1, 1, 0, 1, 1, 1, 1, 1, 1, 1, 1, 1, 1, 1, 1, 1, 1, 1, 1, 1, 1, 1, 1, 1, 1, 1, 1, 0, 1, 1, 1, 1, 1, 1, 0, 0, 1, 1, 1, 1, 1, 1, 1, 1, 1, 1, 1, 1, 1, 1, 1, 1, 1, 1, 1, 1, 1, 1, 1, 0, 1, 1, 1, 1, 1, 1, 1, 1, 0, 1, 1, 1, 1, 1, 1, 1, 1, 1, 1, 1, 1, 1, 1, 1, 1, 1, 0]\n",
      "\n",
      "{\n",
      "  \"accuracy\": 0.8104956268221575,\n",
      "  \"f1\": 0.8953301127214172,\n",
      "  \"precision\": 0.86875,\n",
      "  \"recall\": 0.9235880398671097\n",
      "}\n"
     ]
    },
    {
     "name": "stderr",
     "output_type": "stream",
     "text": [
      "\n"
     ]
    }
   ],
   "source": [
    "# One-shot Prediction for Hibernate Classes\n",
    "\n",
    "print(\"\\nOne-shot Prediction for Hibernate Classes:\\n\")\n",
    "y_pred = get_all_oneshot_predictions(get_oneshot_sample(hibernate_dataset), hibernate_test_examples)\n",
    "print(\"\\nPredicted Import List:\", y_pred)\n",
    "print(\"\\nCorrect Import List:\", hibernate_y_true)\n",
    "y_pred_processed, y_true_processed = pred_process(y_pred, hibernate_y_true)\n",
    "eval_performance(y_pred_processed, y_true_processed)"
   ]
  },
  {
   "cell_type": "code",
   "execution_count": 28,
   "metadata": {},
   "outputs": [
    {
     "name": "stdout",
     "output_type": "stream",
     "text": [
      "\n",
      "One-shot Prediction for Joda-Time Classes:\n",
      "\n"
     ]
    },
    {
     "name": "stderr",
     "output_type": "stream",
     "text": [
      "100%|██████████| 50/50 [27:48<00:00, 33.37s/it]"
     ]
    },
    {
     "name": "stdout",
     "output_type": "stream",
     "text": [
      "\n",
      "Predicted Import List: [['import org.joda.time.DateTime;', 'import org.joda.time.DateTimeZone;', 'import org.joda.time.format.DateTimeFormatter;', 'import org.joda.time.format.ISODateTimeFormat;', 'import java.util.TimeZone;'], ['import org.joda.time.DateMidnight;', 'import org.joda.time.DateTime;', 'import org.joda.time.DateTimeZone;'], ['import org.joda.time.Interval;', 'import org.joda.time.PeriodFormatter;', 'import org.joda.time.PeriodFormatterBuilder;'], ['import org.joda.time.Period;', 'import org.joda.time.ReadableInstant;'], ['import org.joda.time.Chronology;', 'import org.joda.time.DateTime;', 'import org.joda.time.DateTimeZone;', 'import org.joda.time.chrono.GJChronology;'], ['import org.joda.time.Duration;', 'import org.joda.time.PeriodFormatterBuilder;', 'import org.joda.time.PeriodType;'], ['import java.text.DateFormat;', 'import java.text.ParseException;', 'import java.text.SimpleDateFormat;', 'import java.util.Calendar;', 'import java.util.Date;', 'import org.joda.time.Days;', 'import org.joda.time.DateTime;'], ['import org.joda.time.Period;', 'import org.joda.time.PeriodType;', 'import java.util.concurrent.TimeUnit;'], ['import java.util.TimeZone;', 'import org.joda.time.DateTimeZone;'], ['import java.io.IOException;', 'import java.io.ObjectInputStream;', 'import java.io.ObjectOutputStream;', 'import java.io.Serializable;', 'import org.joda.time.DateTimeZone;', 'import org.joda.time.chrono.ISOChronology;'], ['import org.joda.time.format.DateTimeFormat;', 'import org.joda.time.format.DateTimeFormatter;', 'import java.text.ParseException;', 'import java.text.SimpleDateFormat;'], ['import java.text.ParseException;', 'import java.text.SimpleDateFormat;', 'import java.util.Date;', 'import org.joda.time.DateTime;'], ['import org.joda.time.Period;', 'import org.joda.time.format.PeriodFormatter;', 'import org.joda.time.format.PeriodFormatterBuilder;', 'import org.junit.Test;'], ['import org.joda.time.DateTime;', 'import org.joda.time.format.DateTimeFormat;', 'import org.joda.time.format.DateTimeFormatter;'], ['import org.joda.time.MutableDateTime;', 'import org.joda.time.DateTime;'], ['import org.joda.time.DateTime;', 'import org.joda.time.Period;', 'import org.joda.time.format.PeriodFormatter;', 'import org.joda.time.format.PeriodFormatterBuilder;'], ['import org.joda.time.DateTime;', 'import org.joda.time.format.DateTimeFormat;', 'import org.joda.time.format.DateTimeFormatter;', 'import org.joda.time.format.DateTimeFormatterBuilder;', 'import org.joda.time.format.DateTimeParser;'], ['import org.joda.time.DateTimeZone;', 'import org.joda.time.format.DateTimeFormatter;', 'import org.joda.time.format.DateTimeFormatterBuilder;'], ['import org.joda.time.Instant;', 'import org.joda.time.Interval;', 'import org.joda.time.ReadableInstant;', 'import java.util.Date;'], ['import org.joda.time.DateTime;', 'import org.joda.time.DateTimeZone;', 'import org.joda.time.format.DateTimeFormat;', 'import org.joda.time.format.DateTimeFormatter;'], ['import org.joda.time.DateTime;', 'import org.joda.time.DateTimeZone;', 'import org.joda.time.LocalDateTime;', 'import java.text.DateFormat;', 'import java.text.ParseException;', 'import java.text.SimpleDateFormat;', 'import java.util.Date;'], ['import java.text.ParseException;', 'import java.text.SimpleDateFormat;', 'import java.util.Date;', 'import org.joda.time.DateTime;', 'import org.joda.time.format.DateTimeFormat;', 'import org.joda.time.format.DateTimeFormatter;'], ['import org.joda.time.DateTimeConstants;', 'import org.joda.time.LocalDate;'], ['import org.joda.time.DateTime;', 'import org.joda.time.Period;', 'import org.joda.time.PeriodFormat;', 'import org.joda.time.PeriodType;'], ['import org.joda.time.Days;', 'import org.joda.time.DateMidnight;', 'import org.joda.time.LocalDateTime;'], ['import org.joda.time.Duration;', 'import org.joda.time.Period;'], ['import java.util.ArrayList;', 'import org.joda.time.DateTime;'], ['import org.joda.time.DateTime;', 'import org.joda.time.Days;', 'import org.joda.time.LocalDate;', 'import org.joda.time.format.DateTimeFormat;', 'import org.joda.time.format.DateTimeFormatter;', 'import java.util.ArrayList;', 'import java.util.List;'], ['import org.joda.time.DateTime;', 'import org.joda.time.format.DateTimeFormatter;'], ['import org.joda.time.DateTime;', 'import org.joda.time.DateTimeZone;'], ['import org.joda.time.DateTime;', 'import org.joda.time.Weeks;'], ['import org.joda.time.DateTime;', 'import org.joda.time.format.DateTimeFormatter;', 'import org.joda.time.format.DateTimeFormatterBuilder;'], ['import org.joda.time.Period;', 'import org.joda.time.format.PeriodFormatter;', 'import org.joda.time.format.PeriodFormatterBuilder;'], ['import org.joda.time.Period;', 'import org.joda.time.format.PeriodFormat;', 'import org.joda.time.format.PeriodFormatter;', 'import java.util.Locale;'], ['import org.joda.time.DateTime;', 'import org.joda.time.Period;', 'import org.joda.time.ReadablePeriod;', 'import org.joda.time.format.PeriodFormatter;', 'import org.joda.time.format.PeriodFormatterBuilder;', 'import java.util.Date;'], ['import org.joda.time.Period;', 'import org.joda.time.format.ISOPeriodFormat;', 'import org.joda.time.format.PeriodFormatter;', 'import org.joda.time.format.PeriodFormatterBuilder;'], ['import org.joda.time.DateTime;', 'import org.joda.time.DateTimeZone;', 'import java.util.concurrent.TimeUnit;'], ['import org.joda.time.DateTime;', 'import org.joda.time.format.DateTimeFormat;', 'import org.joda.time.format.DateTimeFormatter;'], ['import org.joda.time.DateTime;'], ['import org.joda.time.DateTime;', 'import org.joda.time.Days;'], ['import org.joda.time.DateTime;', 'import org.joda.time.format.DateTimeFormat;', 'import org.joda.time.format.DateTimeFormatter;'], ['import org.joda.time.LocalDate;'], ['import org.joda.time.DateTime;', 'import org.joda.time.format.DateTimeFormat;', 'import org.joda.time.format.DateTimeFormatter;', 'import org.joda.time.format.DateTimeFormatterBuilder;', 'import org.joda.time.format.DateTimeParser;'], ['import org.joda.time.Period;', 'import org.joda.time.format.PeriodFormatter;', 'import org.joda.time.format.PeriodFormatterBuilder;'], ['import java.util.Date;', 'import java.util.HashSet;', 'import java.util.Set;', 'import java.util.TimeZone;', 'import org.joda.time.DateTimeZone;', 'import org.joda.time.tz.Provider;'], ['import org.joda.time.DateTime;', 'import org.joda.time.DateTimeZone;'], ['import org.joda.time.DateTime;', 'import org.joda.time.format.DateTimeFormat;', 'import org.joda.time.format.DateTimeFormatter;'], ['import org.joda.time.DateTime;', 'import org.joda.time.base.MillisProvider;'], ['import org.joda.time.format.DateTimeFormat;', 'import org.joda.time.format.DateTimeFormatter;', 'import org.joda.time.DateTime;', 'import org.joda.time.LocalDate;'], ['import org.joda.time.DateTime;', 'import org.joda.time.DateTimeConstants;']]\n",
      "\n",
      "Correct Import List: [['import java.util.TimeZone;', 'import org.joda.time.DateTime;', 'import org.joda.time.DateTimeZone;', 'import org.joda.time.format.DateTimeFormatter;', 'import org.joda.time.format.ISODateTimeFormat;'], ['import org.joda.time.DateMidnight;', 'import org.joda.time.DateTime;', 'import org.joda.time.DateTimeZone;'], ['import org.joda.time.Interval;', 'import org.joda.time.format.PeriodFormatter;', 'import org.joda.time.format.PeriodFormatterBuilder;'], ['import org.joda.time.Period;', 'import org.joda.time.ReadableInstant;'], ['import org.joda.time.Chronology;', 'import org.joda.time.DateTime;', 'import org.joda.time.DateTimeZone;', 'import org.joda.time.chrono.GJChronology;'], ['import org.joda.time.Duration;', 'import org.joda.time.PeriodType;', 'import org.joda.time.format.PeriodFormatterBuilder;'], ['import java.text.DateFormat;', 'import java.text.ParseException;', 'import java.text.SimpleDateFormat;', 'import java.util.Calendar;', 'import java.util.Date;', 'import org.joda.time.DateTime;', 'import org.joda.time.Days;'], ['import java.util.concurrent.TimeUnit;', 'import org.joda.time.Period;', 'import org.joda.time.PeriodType;'], ['import java.util.TimeZone;', 'import org.joda.time.DateTimeZone;'], ['import java.io.IOException;', 'import java.io.ObjectInputStream;', 'import java.io.ObjectOutputStream;', 'import java.io.Serializable;', 'import org.joda.time.DateTimeZone;', 'import org.joda.time.chrono.ISOChronology;'], ['import java.text.ParseException;', 'import java.text.SimpleDateFormat;', 'import org.joda.time.format.DateTimeFormat;', 'import org.joda.time.format.DateTimeFormatter;'], ['import java.text.ParseException;', 'import java.text.SimpleDateFormat;', 'import java.util.Date;', 'import org.joda.time.DateTime;'], ['import org.joda.time.Period;', 'import org.joda.time.format.PeriodFormatter;', 'import org.joda.time.format.PeriodFormatterBuilder;', 'import org.junit.Test;'], ['import org.joda.time.DateTime;', 'import org.joda.time.format.DateTimeFormat;', 'import org.joda.time.format.DateTimeFormatter;'], ['import org.joda.time.DateTime;', 'import org.joda.time.MutableDateTime;'], ['import org.joda.time.DateTime;', 'import org.joda.time.Period;', 'import org.joda.time.format.PeriodFormatter;', 'import org.joda.time.format.PeriodFormatterBuilder;'], ['import org.joda.time.DateTime;', 'import org.joda.time.format.DateTimeFormat;', 'import org.joda.time.format.DateTimeFormatter;'], ['import org.joda.time.DateTimeZone;', 'import org.joda.time.format.DateTimeFormatter;', 'import org.joda.time.format.DateTimeFormatterBuilder;'], ['import java.util.Date;', 'import org.joda.time.Instant;', 'import org.joda.time.Interval;', 'import org.joda.time.ReadableInstant;'], ['import org.joda.time.DateTime;', 'import org.joda.time.DateTimeZone;', 'import org.joda.time.format.DateTimeFormat;', 'import org.joda.time.format.DateTimeFormatter;'], ['import java.text.DateFormat;', 'import java.text.ParseException;', 'import java.text.SimpleDateFormat;', 'import java.util.Date;', 'import org.joda.time.DateTime;', 'import org.joda.time.DateTimeZone;', 'import org.joda.time.LocalDateTime;'], ['import org.joda.time.DateTime;', 'import org.joda.time.format.DateTimeFormat;', 'import org.joda.time.format.DateTimeFormatter;', 'import java.util.Date;', 'import java.text.ParseException;'], ['import org.joda.time.DateTimeConstants;', 'import org.joda.time.LocalDate;'], ['import org.joda.time.Period;', 'import org.joda.time.PeriodType;', 'import org.joda.time.format.PeriodFormat;', 'import org.joda.time.DateTime;'], ['import org.joda.time.DateMidnight;', 'import org.joda.time.Days;', 'import org.joda.time.LocalDateTime;'], ['import org.joda.time.Duration;', 'import org.joda.time.Period;'], ['import java.util.ArrayList;', 'import org.joda.time.DateTime;'], ['import java.util.ArrayList;', 'import java.util.List;', 'import org.joda.time.DateTime;', 'import org.joda.time.Days;', 'import org.joda.time.LocalDate;', 'import org.joda.time.format.DateTimeFormat;', 'import org.joda.time.format.DateTimeFormatter;'], ['import org.joda.time.DateTime;', 'import org.joda.time.format.DateTimeFormatter;'], ['import org.joda.time.DateTime;', 'import org.joda.time.DateTimeZone;'], ['import org.joda.time.DateTime;', 'import org.joda.time.Weeks;'], ['import org.joda.time.DateTime;', 'import org.joda.time.format.DateTimeFormatter;'], ['import org.joda.time.Period;', 'import org.joda.time.format.PeriodFormatter;', 'import org.joda.time.format.PeriodFormatterBuilder;'], ['import org.joda.time.Period;', 'import org.joda.time.format.PeriodFormat;', 'import org.joda.time.format.PeriodFormatter;', 'import java.util.Locale;'], ['import java.util.Date;', 'import org.joda.time.DateTime;', 'import org.joda.time.Period;', 'import org.joda.time.ReadablePeriod;', 'import org.joda.time.format.PeriodFormatter;', 'import org.joda.time.format.PeriodFormatterBuilder;'], ['import org.joda.time.Period;', 'import org.joda.time.format.ISOPeriodFormat;', 'import org.joda.time.format.PeriodFormatter;', 'import org.joda.time.format.PeriodFormatterBuilder;'], ['import java.util.concurrent.TimeUnit;', 'import org.joda.time.DateTime;', 'import org.joda.time.DateTimeZone;'], ['import org.joda.time.DateTime;', 'import org.joda.time.format.DateTimeFormat;', 'import org.joda.time.format.DateTimeFormatter;'], ['import org.joda.time.DateTime;'], ['import java.util.Date;', 'import org.joda.time.DateTime;', 'import org.joda.time.Days;'], ['import org.joda.time.DateTime;', 'import org.joda.time.format.DateTimeFormat;', 'import org.joda.time.format.DateTimeFormatter;'], ['import org.joda.time.LocalDate;'], ['import org.joda.time.DateTime;', 'import org.joda.time.format.DateTimeFormat;', 'import org.joda.time.format.DateTimeFormatter;', 'import org.joda.time.format.DateTimeFormatterBuilder;', 'import org.joda.time.format.DateTimeParser;'], ['import org.joda.time.Period;', 'import org.joda.time.format.PeriodFormatter;', 'import org.joda.time.format.PeriodFormatterBuilder;'], ['import java.util.Date;', 'import java.util.HashSet;', 'import java.util.Set;', 'import java.util.TimeZone;', 'import org.joda.time.DateTimeZone;', 'import org.joda.time.tz.Provider;'], ['import org.joda.time.DateTime;', 'import org.joda.time.DateTimeZone;'], ['import org.joda.time.DateTime;', 'import org.joda.time.format.DateTimeFormat;', 'import org.joda.time.format.DateTimeFormatter;'], ['import org.joda.time.DateTime;', 'import org.joda.time.DateTimeUtils.MillisProvider;'], ['import org.joda.time.DateTime;', 'import org.joda.time.LocalDate;', 'import org.joda.time.format.DateTimeFormat;', 'import org.joda.time.format.DateTimeFormatter;'], ['import org.joda.time.DateTime;']]\n",
      "[1, 1, 1, 1, 1, 1, 1, 1, 1, 0, 0, 1, 1, 1, 1, 1, 1, 1, 1, 0, 1, 1, 1, 1, 1, 1, 1, 1, 1, 1, 1, 1, 1, 1, 1, 1, 1, 1, 1, 1, 1, 1, 1, 1, 1, 1, 1, 1, 1, 1, 1, 1, 1, 1, 1, 1, 1, 1, 1, 1, 1, 1, 1, 1, 1, 1, 1, 1, 1, 1, 1, 1, 1, 1, 1, 1, 1, 1, 1, 1, 1, 1, 1, 1, 1, 1, 1, 1, 1, 1, 1, 1, 1, 0, 1, 1, 1, 1, 1, 1, 1, 1, 1, 1, 1, 1, 1, 1, 1, 1, 1, 1, 1, 1, 1, 1, 1, 1, 1, 1, 1, 1, 1, 1, 1, 1, 1, 1, 1, 1, 1, 1, 1, 1, 1, 1, 1, 1, 1, 1, 1, 1, 1, 0, 1, 1, 1, 1, 1, 1, 1, 1, 1, 1, 1, 1, 1, 1, 1, 1, 1, 1, 1, 1, 1, 1, 1, 1, 0, 1, 1, 1, 1, 1, 1]\n",
      "[1, 1, 1, 1, 1, 1, 1, 1, 1, 1, 1, 1, 1, 1, 1, 1, 1, 1, 1, 1, 1, 1, 1, 1, 1, 1, 1, 1, 1, 1, 1, 1, 1, 1, 1, 1, 1, 1, 1, 1, 1, 1, 1, 1, 1, 1, 1, 1, 1, 1, 1, 1, 1, 1, 1, 1, 1, 1, 1, 1, 1, 1, 0, 0, 1, 1, 1, 1, 1, 1, 1, 1, 1, 1, 1, 1, 1, 1, 1, 1, 1, 1, 1, 1, 1, 1, 1, 0, 1, 1, 1, 1, 1, 1, 1, 1, 1, 1, 1, 1, 1, 1, 1, 1, 1, 1, 1, 1, 1, 1, 1, 1, 1, 1, 1, 1, 0, 1, 1, 1, 1, 1, 1, 1, 1, 1, 1, 1, 1, 1, 1, 1, 1, 1, 1, 1, 1, 1, 1, 1, 1, 1, 1, 1, 1, 1, 1, 1, 1, 1, 1, 1, 1, 1, 1, 1, 1, 1, 1, 1, 1, 1, 1, 1, 1, 1, 1, 1, 1, 1, 1, 1, 1, 1, 0]\n",
      "\n",
      "{\n",
      "  \"accuracy\": 0.9371428571428572,\n",
      "  \"f1\": 0.967551622418879,\n",
      "  \"precision\": 0.9647058823529412,\n",
      "  \"recall\": 0.9704142011834319\n",
      "}\n"
     ]
    },
    {
     "name": "stderr",
     "output_type": "stream",
     "text": [
      "\n"
     ]
    }
   ],
   "source": [
    "# One-shot Prediction for Joda-Time Classes\n",
    "\n",
    "print(\"\\nOne-shot Prediction for Joda-Time Classes:\\n\")\n",
    "y_pred = get_all_oneshot_predictions(get_oneshot_sample(jodatime_dataset), jodatime_test_examples)\n",
    "print(\"\\nPredicted Import List:\", y_pred)\n",
    "print(\"\\nCorrect Import List:\", jodatime_y_true)\n",
    "y_pred_processed, y_true_processed = pred_process(y_pred, jodatime_y_true)\n",
    "eval_performance(y_pred_processed, y_true_processed)"
   ]
  },
  {
   "cell_type": "code",
   "execution_count": 29,
   "metadata": {},
   "outputs": [
    {
     "name": "stdout",
     "output_type": "stream",
     "text": [
      "\n",
      "One-shot Prediction for GWT Classes:\n",
      "\n"
     ]
    },
    {
     "name": "stderr",
     "output_type": "stream",
     "text": [
      "100%|██████████| 50/50 [29:01<00:00, 34.83s/it]"
     ]
    },
    {
     "name": "stdout",
     "output_type": "stream",
     "text": [
      "\n",
      "Predicted Import List: [['import com.google.gwt.event.dom.client.MouseDownEvent;', 'import com.google.gwt.event.dom.client.MouseDownHandler;', 'import com.google.gwt.user.client.ui.AbsolutePanel;', 'import com.google.gwt.user.client.ui.Composite;'], ['import com.google.gwt.core.client.GWT;', 'import com.google.gwt.junit.client.GWTTestCase;', 'import com.google.gwt.user.client.rpc.AsyncCallback;', 'import com.google.gwt.sample.stockwatcher.client.GreetingService;', 'import com.google.gwt.sample.stockwatcher.client.GreetingServiceAsync;'], ['import com.google.gwt.core.client.EntryPoint;', 'import com.google.gwt.user.client.Window;', 'import com.google.gwt.user.client.rpc.AsyncCallback;', 'import com.google.gwt.user.client.ui.Button;', 'import com.google.gwt.user.client.ui.RootPanel;', 'import com.google.gwt.user.client.ui.TextBox;'], ['import com.google.gwt.user.client.ui.Composite;', 'import com.google.gwt.user.client.ui.HTML;', 'import com.google.gwt.user.client.ui.VerticalSplitPanel;'], ['import com.google.gwt.core.client.JsArray;', 'import com.google.gwt.core.client.JsArrayInteger;'], ['import com.google.gwt.user.client.DOM;', 'import com.google.gwt.user.client.Element;', 'import com.google.gwt.user.client.ui.Widget;'], ['import com.google.gwt.core.client.EntryPoint;', 'import com.google.gwt.user.client.Timer;', 'import com.google.gwt.user.client.ui.Panel;', 'import com.google.gwt.user.client.ui.RootPanel;', 'import com.google.gwt.user.client.ui.Table;', 'import com.google.gwt.user.client.ui.VerticalPanel;'], ['import com.google.gwt.http.client.Request;', 'import com.google.gwt.http.client.RequestBuilder;', 'import com.google.gwt.http.client.RequestCallback;', 'import com.google.gwt.http.client.RequestException;', 'import com.google.gwt.http.client.Response;', 'import com.google.gwt.user.client.Window;'], ['import com.google.gwt.user.client.Command;', 'import com.google.gwt.user.client.ui.MenuBar;', 'import com.google.gwt.user.client.ui.VerticalPanel;'], ['import com.google.gwt.event.dom.client.ClickEvent;', 'import com.google.gwt.event.dom.client.ClickListener;', 'import com.google.gwt.user.client.ui.Button;', 'import com.google.gwt.user.client.ui.FormPanel;', 'import com.google.gwt.user.client.ui.Label;', 'import com.google.gwt.user.client.ui.TextBox;', 'import com.google.gwt.user.client.ui.VerticalPanel;'], ['import com.google.gwt.core.client.EntryPoint;', 'import com.google.gwt.user.client.ui.HorizontalPanel;', 'import com.google.gwt.user.client.ui.Label;', 'import com.google.gwt.user.client.ui.RootPanel;'], ['import com.google.gwt.core.client.EntryPoint;', 'import com.google.gwt.user.client.ui.AbsolutePanel;', 'import com.google.gwt.user.client.ui.Label;', 'import com.google.gwt.user.client.ui.RootPanel;', 'import com.google.gwt.user.client.ui.TextBox;', 'import com.google.gwt.user.client.ui.VerticalPanel;'], ['import com.google.gwt.core.client.EntryPoint;', 'import com.google.gwt.user.client.ui.AbsolutePanel;', 'import com.google.gwt.user.client.ui.Button;', 'import com.google.gwt.user.client.ui.ClickListener;', 'import com.google.gwt.user.client.ui.RootPanel;', 'import com.google.gwt.user.client.ui.Widget;'], ['import com.google.gwt.http.client.Request;', 'import com.google.gwt.http.client.RequestBuilder;', 'import com.google.gwt.http.client.RequestCallback;', 'import com.google.gwt.http.client.Response;', 'import com.google.gwt.user.client.Window;', 'import com.google.gwt.core.client.GWT;'], ['import com.google.gwt.http.client.Request;', 'import com.google.gwt.http.client.RequestBuilder;', 'import com.google.gwt.http.client.RequestCallback;', 'import com.google.gwt.http.client.RequestException;', 'import com.google.gwt.http.client.Response;', 'import com.google.gwt.http.client.URL;'], ['import com.google.gwt.http.client.Request;', 'import com.google.gwt.http.client.RequestBuilder;', 'import com.google.gwt.http.client.RequestCallback;', 'import com.google.gwt.http.client.Response;', 'import com.google.gwt.user.client.ui.HTML;', 'import com.google.gwt.user.client.ui.RootPanel;'], ['import com.google.gwt.core.client.GWT;', 'import com.google.gwt.resources.client.AbstractImagePrototype;', 'import com.google.gwt.resources.client.ImageBundle;', 'import com.google.gwt.user.client.ui.Button;', 'import com.google.gwt.user.client.ui.Composite;', 'import com.google.gwt.user.client.ui.DockPanel;', 'import com.google.gwt.user.client.ui.HTML;', 'import com.google.gwt.user.client.ui.Image;', 'import com.google.gwt.user.client.ui.VerticalPanel;'], ['import com.google.gwt.core.client.GWT;', 'import com.google.gwt.uibinder.client.UiBinder;', 'import com.google.gwt.user.client.ui.Composite;', 'import com.google.gwt.user.client.ui.Widget;'], ['import com.google.gwt.user.client.ui.Button;', 'import com.google.gwt.user.client.ui.RootPanel;', 'import com.google.gwt.user.client.ui.VerticalPanel;', 'import com.google.gwt.user.client.ui.Label;'], ['import com.google.gwt.core.client.EntryPoint;', 'import com.google.gwt.event.dom.client.ClickEvent;', 'import com.google.gwt.event.dom.client.ClickHandler;', 'import com.google.gwt.user.client.Window;', 'import com.google.gwt.user.client.ui.Button;', 'import com.google.gwt.user.client.ui.RootPanel;'], ['import com.google.gwt.user.client.ui.Button;', 'import com.google.gwt.user.client.ui.PopupPanel;', 'import com.google.gwt.user.client.ui.VerticalPanel;', 'import com.google.gwt.user.client.ui.Widget;'], ['import com.google.gwt.core.client.GWT;', 'import com.google.gwt.event.dom.client.ClickEvent;', 'import com.google.gwt.event.dom.client.ClickHandler;', 'import com.google.gwt.uibinder.client.UiBinder;', 'import com.google.gwt.uibinder.client.UiField;', 'import com.google.gwt.uibinder.client.UiHandler;', 'import com.google.gwt.user.client.ui.Button;', 'import com.google.gwt.user.client.ui.Composite;', 'import com.google.gwt.user.client.ui.Label;', 'import com.google.gwt.user.client.ui.VerticalPanel;'], ['import java.util.UUID;', 'import com.google.gwt.http.client.Request;', 'import com.google.gwt.http.client.RequestBuilder;', 'import com.google.gwt.http.client.RequestCallback;', 'import com.google.gwt.http.client.RequestException;', 'import com.google.gwt.http.client.Response;'], ['import com.google.gwt.event.dom.client.ClickEvent;', 'import com.google.gwt.event.dom.client.ClickHandler;', 'import com.google.gwt.event.shared.HandlerRegistration;', 'import com.google.gwt.user.client.DOM;', 'import com.google.gwt.user.client.ui.Composite;', 'import com.google.gwt.user.client.ui.Widget;', 'import com.google.gwt.user.client.ui.HasClickHandlers;'], ['import com.google.gwt.core.client.EntryPoint;', 'import com.google.gwt.event.dom.client.ClickEvent;', 'import com.google.gwt.event.dom.client.ClickHandler;', 'import com.google.gwt.event.dom.client.KeyCodes;', 'import com.google.gwt.event.dom.client.KeyUpEvent;', 'import com.google.gwt.event.dom.client.KeyUpHandler;', 'import com.google.gwt.user.client.ui.Button;', 'import com.google.gwt.user.client.ui.DialogBox;', 'import com.google.gwt.user.client.ui.HTML;', 'import com.google.gwt.user.client.ui.Label;', 'import com.google.gwt.user.client.ui.RootPanel;', 'import com.google.gwt.user.client.ui.TextBox;', 'import com.google.gwt.user.client.ui.VerticalPanel;'], ['import com.google.gwt.event.dom.client.ClickEvent;', 'import com.google.gwt.event.dom.client.ClickListener;', 'import com.google.gwt.event.logical.shared.FormHandler;', 'import com.google.gwt.event.logical.shared.FormSubmitCompleteEvent;', 'import com.google.gwt.event.logical.shared.FormSubmitEvent;', 'import com.google.gwt.user.client.ui.Button;', 'import com.google.gwt.user.client.ui.FormPanel;', 'import com.google.gwt.user.client.ui.RootPanel;', 'import com.google.gwt.user.client.ui.TextBox;', 'import com.google.gwt.user.client.ui.VerticalPanel;'], ['import com.google.gwt.core.client.GWT;', 'import com.google.gwt.dom.client.Document;', 'import com.google.gwt.dom.client.NodeList;', 'import com.google.gwt.user.client.ui.Button;', 'import com.google.gwt.user.client.ui.RootPanel;'], ['import com.google.gwt.core.client.EntryPoint;', 'import com.google.gwt.http.client.Request;', 'import com.google.gwt.http.client.RequestBuilder;', 'import com.google.gwt.http.client.RequestCallback;', 'import com.google.gwt.http.client.RequestException;', 'import com.google.gwt.http.client.Response;', 'import com.google.gwt.user.client.Window;'], ['import com.google.gwt.core.client.EntryPoint;', 'import com.google.gwt.http.client.RequestBuilder;', 'import com.google.gwt.http.client.RequestCallback;', 'import com.google.gwt.http.client.RequestException;', 'import com.google.gwt.http.client.Response;', 'import com.google.gwt.http.client.URL;', 'import com.google.gwt.jsonp.client.JsonpRequestBuilder;', 'import com.google.gwt.user.client.Window;', 'import com.google.gwt.user.client.rpc.AsyncCallback;'], ['import com.google.gwt.user.client.ui.DialogBox;', 'import com.google.gwt.user.client.ui.Grid;', 'import com.google.gwt.user.client.ui.HTML;', 'import com.google.gwt.user.client.ui.TextBox;'], ['import com.google.gwt.http.client.Request;', 'import com.google.gwt.http.client.RequestBuilder;', 'import com.google.gwt.http.client.RequestCallback;', 'import com.google.gwt.http.client.RequestException;', 'import com.google.gwt.http.client.Response;', 'import com.google.gwt.http.client.URL;'], ['import com.google.gwt.http.client.Request;', 'import com.google.gwt.http.client.RequestBuilder;', 'import com.google.gwt.http.client.RequestCallback;', 'import com.google.gwt.http.client.Response;', 'import com.google.gwt.http.client.URL;', 'import com.google.gwt.user.client.Window;'], ['import java.util.ArrayList;', 'import java.util.Iterator;', 'import java.util.List;', 'import com.google.gwt.user.client.ui.Button;', 'import com.google.gwt.user.client.ui.CheckBox;', 'import com.google.gwt.user.client.ui.DockPanel;', 'import com.google.gwt.user.client.ui.Grid;', 'import com.google.gwt.user.client.ui.HTML;', 'import com.google.gwt.user.client.ui.HorizontalPanel;', 'import com.google.gwt.user.client.ui.RadioButton;', 'import com.google.gwt.user.client.ui.RootPanel;', 'import com.google.gwt.user.client.ui.VerticalPanel;', 'import com.google.gwt.user.client.ui.Widget;', 'import com.google.gwt.event.dom.client.ClickEvent;', 'import com.google.gwt.event.dom.client.ClickListener;', 'import com.google.gwt.user.client.ui.FormPanel;', 'import com.google.gwt.user.client.ui.FormPanel.SubmitEvent;', 'import com.google.gwt.user.client.ui.FormPanel.SubmitHandler;', 'import java.util.ArrayList;'], ['import com.google.gwt.dom.client.DOM;', 'import com.google.gwt.event.dom.client.ClickEvent;', 'import com.google.gwt.event.dom.client.ClickHandler;', 'import com.google.gwt.event.shared.HandlerRegistration;', 'import com.google.gwt.user.client.ui.Button;', 'import com.google.gwt.user.client.ui.FormPanel;', 'import com.google.gwt.user.client.ui.SubmitHandler;'], ['import com.google.gwt.animation.client.Animation;', 'import com.google.gwt.core.client.GWT;', 'import com.google.gwt.dom.client.Element;', 'import com.google.gwt.dom.client.Style.Unit;', 'import com.google.gwt.user.client.ui.FlowPanel;'], ['import com.google.gwt.user.client.ui.AbsolutePanel;', 'import com.google.gwt.user.client.ui.RootPanel;', 'import com.google.gwt.user.client.ui.SimplePanel;'], ['import com.google.gwt.core.client.EntryPoint;', 'import com.google.gwt.core.client.JsArray;', 'import com.google.gwt.http.client.Request;', 'import com.google.gwt.http.client.RequestBuilder;', 'import com.google.gwt.http.client.RequestCallback;', 'import com.google.gwt.http.client.RequestException;', 'import com.google.gwt.http.client.Response;', 'import com.google.gwt.user.client.Window;', 'import com.google.gwt.user.client.ui.HTML;', 'import com.google.gwt.user.client.ui.RootPanel;', 'import com.google.gwt.user.client.ui.Widget;', 'import com.google.gwt.http.client.URL;'], ['import com.google.gwt.event.dom.client.HasClickHandlers;', 'import com.google.gwt.user.client.ui.Composite;', 'import com.google.gwt.user.client.ui.Hyperlink;', 'import com.google.gwt.user.client.ui.VerticalPanel;', 'import com.google.gwt.user.client.ui.Widget;'], ['import java.io.DataInputStream;', 'import java.io.File;', 'import java.io.FileInputStream;', 'import javax.servlet.ServletContext;', 'import javax.servlet.ServletOutputStream;', 'import javax.servlet.http.HttpServletResponse;', 'import com.google.gwt.user.server.rpc.RemoteServiceServlet;'], ['import com.google.gwt.user.client.ui.HorizontalPanel;', 'import com.google.gwt.user.client.ui.Label;', 'import com.sencha.gxt.widget.core.client.container.LayoutContainer;'], ['import com.google.gwt.dom.client.Element;', 'import com.google.gwt.user.client.ui.Button;', 'import com.google.gwt.user.client.ui.Composite;', 'import com.google.gwt.user.client.ui.Label;', 'import com.google.gwt.user.client.ui.RootPanel;', 'import com.google.gwt.user.client.ui.VerticalPanel;', 'import com.google.gwt.event.dom.client.ClickEvent;', 'import com.google.gwt.event.dom.client.ClickHandler;'], ['import com.google.gwt.core.client.EntryPoint;', 'import com.google.gwt.http.client.Request;', 'import com.google.gwt.http.client.RequestBuilder;', 'import com.google.gwt.http.client.RequestCallback;', 'import com.google.gwt.http.client.RequestException;', 'import com.google.gwt.http.client.Response;', 'import com.google.gwt.http.client.URL;', 'import com.google.gwt.user.client.Window;'], ['import com.google.gwt.event.dom.client.ClickEvent;', 'import com.google.gwt.event.dom.client.ClickHandler;', 'import com.google.gwt.event.dom.client.MouseOutEvent;', 'import com.google.gwt.event.dom.client.MouseOutHandler;', 'import com.google.gwt.user.client.ui.Composite;', 'import com.google.gwt.user.client.ui.HorizontalPanel;', 'import com.google.gwt.user.client.ui.Label;', 'import com.google.gwt.user.client.ui.Widget;'], ['import com.google.gwt.core.client.GWT;', 'import com.google.gwt.core.client.RunAsyncCallback;', 'import com.google.gwt.user.client.rpc.AsyncCallback;', 'import com.google.gwt.user.client.ui.DockLayoutPanel;', 'import com.google.gwt.user.client.ui.Label;', 'import com.google.gwt.user.client.ui.ResizeComposite;', 'import com.google.gwt.dom.client.Style.Unit;'], ['import com.google.gwt.core.client.EntryPoint;', 'import com.google.gwt.event.dom.client.ClickEvent;', 'import com.google.gwt.event.dom.client.ClickHandler;', 'import com.google.gwt.user.client.Window;', 'import com.google.gwt.user.client.ui.Button;', 'import com.google.gwt.user.client.ui.Label;', 'import com.google.gwt.user.client.ui.RootPanel;'], ['import com.google.gwt.user.client.ui.DialogBox;', 'import com.google.gwt.user.client.ui.HTML;', 'import com.google.gwt.user.client.ui.RootPanel;', 'import com.google.gwt.user.client.ui.VerticalPanel;'], ['import com.google.gwt.core.client.EntryPoint;', 'import com.google.gwt.dom.client.Style.Unit;', 'import com.google.gwt.user.client.ui.HTML;', 'import com.google.gwt.user.client.ui.LayoutPanel;', 'import com.google.gwt.user.client.ui.RootLayoutPanel;', 'import com.google.gwt.user.client.ui.Widget;'], ['import com.google.gwt.event.logical.shared.BeforeSelectionEvent;', 'import com.google.gwt.event.logical.shared.BeforeSelectionHandler;', 'import com.google.gwt.event.logical.shared.SelectionEvent;', 'import com.google.gwt.event.logical.shared.SelectionHandler;', 'import com.google.gwt.user.client.Window;', 'import com.google.gwt.user.client.ui.TabBar;', 'import com.google.gwt.core.client.EntryPoint;'], ['import java.util.ArrayList;', 'import com.google.gwt.dom.client.BodyElement;', 'import com.google.gwt.dom.client.Document;', 'import com.google.gwt.dom.client.Element;', 'import com.google.gwt.user.client.DOM;'], ['import com.google.gwt.event.dom.client.BlurEvent;', 'import com.google.gwt.event.dom.client.BlurHandler;', 'import com.google.gwt.event.dom.client.ClickEvent;', 'import com.google.gwt.event.dom.client.ClickHandler;', 'import com.google.gwt.event.dom.client.KeyDownEvent;', 'import com.google.gwt.event.dom.client.KeyDownHandler;', 'import com.google.gwt.event.shared.HandlerRegistration;', 'import com.google.gwt.user.client.DOM;', 'import com.google.gwt.user.client.ui.ComplexPanel;', 'import com.google.gwt.user.client.ui.HasHTML;', 'import com.google.gwt.user.client.ui.HasText;', 'import com.google.gwt.user.client.ui.Widget;']]\n",
      "\n",
      "Correct Import List: [['import com.google.gwt.event.dom.client.MouseDownEvent;', 'import com.google.gwt.event.dom.client.MouseDownHandler;', 'import com.google.gwt.user.client.ui.AbsolutePanel;', 'import com.google.gwt.user.client.ui.Composite;'], ['import com.google.gwt.core.client.GWT;', 'import com.google.gwt.junit.client.GWTTestCase;', 'import com.google.gwt.user.client.rpc.AsyncCallback;', 'import aQute.gwt.greeter.shared.GreetingService;', 'import aQute.gwt.greeter.shared.GreetingServiceAsync;'], ['import com.google.gwt.core.client.EntryPoint;', 'import com.google.gwt.user.client.Window;', 'import com.google.gwt.user.client.rpc.AsyncCallback;', 'import com.google.gwt.user.client.ui.Button;', 'import com.google.gwt.user.client.ui.RootPanel;', 'import com.google.gwt.user.client.ui.TextBox;'], ['import com.google.gwt.user.client.ui.Composite;', 'import com.google.gwt.user.client.ui.HTML;', 'import com.google.gwt.user.client.ui.VerticalSplitPanel;'], ['import com.google.gwt.core.client.JsArray;', 'import com.google.gwt.core.client.JsArrayInteger;'], ['import com.google.gwt.user.client.DOM;', 'import com.google.gwt.user.client.Element;', 'import com.google.gwt.user.client.ui.Widget;'], ['import com.extjs.gxt.ui.client.widget.table.Table;', 'import com.google.gwt.core.client.EntryPoint;', 'import com.google.gwt.user.client.Timer;', 'import com.google.gwt.user.client.ui.Panel;', 'import com.google.gwt.user.client.ui.RootPanel;', 'import com.google.gwt.user.client.ui.VerticalPanel;'], ['import com.google.gwt.http.client.Request;', 'import com.google.gwt.http.client.RequestBuilder;', 'import com.google.gwt.http.client.RequestCallback;', 'import com.google.gwt.http.client.RequestException;', 'import com.google.gwt.http.client.Response;', 'import com.google.gwt.user.client.Window;'], ['import com.google.gwt.user.client.Command;', 'import com.google.gwt.user.client.ui.MenuBar;', 'import com.google.gwt.user.client.ui.VerticalPanel;'], ['import com.google.gwt.user.client.ui.Button;', 'import com.google.gwt.user.client.ui.ClickListener;', 'import com.google.gwt.user.client.ui.FormPanel;', 'import com.google.gwt.user.client.ui.Label;', 'import com.google.gwt.user.client.ui.TextBox;', 'import com.google.gwt.user.client.ui.VerticalPanel;', 'import com.google.gwt.user.client.ui.Widget;'], ['import com.google.gwt.core.client.EntryPoint;', 'import com.google.gwt.user.client.ui.HorizontalPanel;', 'import com.google.gwt.user.client.ui.Label;', 'import com.google.gwt.user.client.ui.RootPanel;'], ['import com.google.gwt.core.client.EntryPoint;', 'import com.google.gwt.user.client.ui.AbsolutePanel;', 'import com.google.gwt.user.client.ui.Label;', 'import com.google.gwt.user.client.ui.RootPanel;', 'import com.google.gwt.user.client.ui.TextBox;', 'import com.google.gwt.user.client.ui.VerticalPanel;'], ['import com.google.gwt.core.client.EntryPoint;', 'import com.google.gwt.user.client.ui.AbsolutePanel;', 'import com.google.gwt.user.client.ui.Button;', 'import com.google.gwt.user.client.ui.ClickListener;', 'import com.google.gwt.user.client.ui.RootPanel;', 'import com.google.gwt.user.client.ui.Widget;'], ['import com.google.gwt.core.client.GWT;', 'import com.google.gwt.http.client.Request;', 'import com.google.gwt.http.client.RequestBuilder;', 'import com.google.gwt.http.client.RequestCallback;', 'import com.google.gwt.http.client.Response;', 'import com.google.gwt.user.client.Window;'], ['import com.google.gwt.http.client.Request;', 'import com.google.gwt.http.client.RequestBuilder;', 'import com.google.gwt.http.client.RequestCallback;', 'import com.google.gwt.http.client.RequestException;', 'import com.google.gwt.http.client.Response;', 'import com.google.gwt.http.client.URL;'], ['import com.google.gwt.http.client.Request;', 'import com.google.gwt.http.client.RequestBuilder;', 'import com.google.gwt.http.client.RequestCallback;', 'import com.google.gwt.http.client.Response;', 'import com.google.gwt.user.client.ui.HTML;', 'import com.google.gwt.user.client.ui.RootPanel;'], ['import com.google.gwt.core.client.GWT;', 'import com.google.gwt.user.client.ui.AbstractImagePrototype;', 'import com.google.gwt.user.client.ui.Button;', 'import com.google.gwt.user.client.ui.Composite;', 'import com.google.gwt.user.client.ui.DockPanel;', 'import com.google.gwt.user.client.ui.HTML;', 'import com.google.gwt.user.client.ui.Image;', 'import com.google.gwt.user.client.ui.ImageBundle;', 'import com.google.gwt.user.client.ui.VerticalPanel;'], ['import com.google.gwt.core.client.GWT;', 'import com.google.gwt.uibinder.client.UiBinder;', 'import com.google.gwt.user.client.ui.Composite;', 'import com.google.gwt.user.client.ui.Widget;'], ['import com.extjs.gxt.ui.client.widget.VerticalPanel;', 'import com.extjs.gxt.ui.client.widget.button.Button;', 'import com.google.gwt.user.client.ui.RootPanel;'], ['import com.google.gwt.core.client.EntryPoint;', 'import com.google.gwt.event.dom.client.ClickEvent;', 'import com.google.gwt.event.dom.client.ClickHandler;', 'import com.google.gwt.user.client.Window;', 'import com.google.gwt.user.client.ui.Button;', 'import com.google.gwt.user.client.ui.RootPanel;'], ['import com.google.gwt.user.client.ui.Button;', 'import com.google.gwt.user.client.ui.PopupPanel;', 'import com.google.gwt.user.client.ui.VerticalPanel;', 'import com.google.gwt.user.client.ui.Widget;'], ['import com.google.gwt.core.client.GWT;', 'import com.google.gwt.event.dom.client.ClickEvent;', 'import com.google.gwt.uibinder.client.UiBinder;', 'import com.google.gwt.uibinder.client.UiField;', 'import com.google.gwt.uibinder.client.UiHandler;', 'import com.google.gwt.user.client.ui.Button;', 'import com.google.gwt.user.client.ui.Composite;', 'import com.google.gwt.user.client.ui.Label;', 'import com.google.gwt.user.client.ui.VerticalPanel;'], ['import java.util.UUID;', 'import com.google.gwt.http.client.Request;', 'import com.google.gwt.http.client.RequestBuilder;', 'import com.google.gwt.http.client.RequestCallback;', 'import com.google.gwt.http.client.RequestException;', 'import com.google.gwt.http.client.Response;'], ['import com.google.gwt.event.dom.client.ClickEvent;', 'import com.google.gwt.event.dom.client.ClickHandler;', 'import com.google.gwt.event.dom.client.HasClickHandlers;', 'import com.google.gwt.event.shared.HandlerRegistration;', 'import com.google.gwt.user.client.DOM;', 'import com.google.gwt.user.client.ui.Composite;', 'import com.google.gwt.user.client.ui.Widget;'], ['import com.google.gwt.event.dom.client.ClickEvent;', 'import com.google.gwt.event.dom.client.ClickHandler;', 'import com.google.gwt.event.dom.client.KeyCodes;', 'import com.google.gwt.event.dom.client.KeyUpEvent;', 'import com.google.gwt.event.dom.client.KeyUpHandler;', 'import com.google.gwt.user.client.ui.Button;', 'import com.google.gwt.user.client.ui.DialogBox;', 'import com.google.gwt.user.client.ui.HTML;', 'import com.google.gwt.user.client.ui.Label;', 'import com.google.gwt.user.client.ui.RootPanel;', 'import com.google.gwt.user.client.ui.TextBox;', 'import com.google.gwt.user.client.ui.VerticalPanel;'], ['import com.google.gwt.user.client.ui.Button;', 'import com.google.gwt.user.client.ui.ClickListener;', 'import com.google.gwt.user.client.ui.FormHandler;', 'import com.google.gwt.user.client.ui.FormPanel;', 'import com.google.gwt.user.client.ui.FormSubmitCompleteEvent;', 'import com.google.gwt.user.client.ui.FormSubmitEvent;', 'import com.google.gwt.user.client.ui.RootPanel;', 'import com.google.gwt.user.client.ui.TextBox;', 'import com.google.gwt.user.client.ui.VerticalPanel;', 'import com.google.gwt.user.client.ui.Widget;'], ['import com.google.gwt.core.client.GWT;', 'import com.google.gwt.dom.client.Document;', 'import com.google.gwt.dom.client.NodeList;', 'import com.google.gwt.user.client.ui.Button;', 'import com.google.gwt.user.client.ui.RootPanel;'], ['import com.google.gwt.core.client.EntryPoint;', 'import com.google.gwt.http.client.Request;', 'import com.google.gwt.http.client.RequestBuilder;', 'import com.google.gwt.http.client.RequestCallback;', 'import com.google.gwt.http.client.RequestException;', 'import com.google.gwt.http.client.Response;', 'import com.google.gwt.user.client.Window;'], ['import org.apache.commons.net.nntp.Article;', 'import com.google.gwt.jsonp.client.JsonpRequestBuilder;', 'import com.google.gwt.user.client.Window;', 'import com.google.gwt.user.client.rpc.AsyncCallback;'], ['import com.google.gwt.user.client.ui.DialogBox;', 'import com.google.gwt.user.client.ui.Grid;', 'import com.google.gwt.user.client.ui.HTML;', 'import com.google.gwt.user.client.ui.TextBox;'], ['import com.google.gwt.http.client.Request;', 'import com.google.gwt.http.client.RequestBuilder;', 'import com.google.gwt.http.client.RequestCallback;', 'import com.google.gwt.http.client.RequestException;', 'import com.google.gwt.http.client.Response;', 'import com.google.gwt.http.client.URL;'], ['import com.google.gwt.http.client.Request;', 'import com.google.gwt.http.client.RequestBuilder;', 'import com.google.gwt.http.client.RequestCallback;', 'import com.google.gwt.http.client.RequestException;', 'import com.google.gwt.http.client.Response;', 'import com.google.gwt.http.client.URL;', 'import com.google.gwt.user.client.Window;'], ['import java.util.ArrayList;', 'import java.util.Iterator;', 'import java.util.List;', 'import com.google.gwt.core.client.EntryPoint;', 'import com.google.gwt.user.client.ui.Button;', 'import com.google.gwt.user.client.ui.CheckBox;', 'import com.google.gwt.user.client.ui.ClickListener;', 'import com.google.gwt.user.client.ui.DockPanel;', 'import com.google.gwt.user.client.ui.Grid;', 'import com.google.gwt.user.client.ui.HTML;', 'import com.google.gwt.user.client.ui.HorizontalPanel;', 'import com.google.gwt.user.client.ui.RadioButton;', 'import com.google.gwt.user.client.ui.RootPanel;', 'import com.google.gwt.user.client.ui.VerticalPanel;', 'import com.google.gwt.user.client.ui.Widget;'], ['import com.google.gwt.event.dom.client.ClickEvent;', 'import com.google.gwt.event.dom.client.ClickHandler;', 'import com.google.gwt.event.shared.HandlerRegistration;', 'import com.google.gwt.user.client.DOM;', 'import com.google.gwt.user.client.ui.Button;', 'import com.google.gwt.user.client.ui.FormPanel;', 'import com.google.gwt.user.client.ui.FormPanel.SubmitEvent;', 'import com.google.gwt.user.client.ui.FormPanel.SubmitHandler;'], ['import com.google.gwt.animation.client.Animation;', 'import com.google.gwt.core.client.GWT;', 'import com.google.gwt.dom.client.Element;', 'import com.google.gwt.dom.client.Style.Unit;', 'import com.google.gwt.user.client.ui.FlowPanel;'], ['import com.google.gwt.user.client.ui.AbsolutePanel;', 'import com.google.gwt.user.client.ui.RootPanel;', 'import com.google.gwt.user.client.ui.SimplePanel;'], ['import com.google.gwt.core.client.EntryPoint;', 'import com.google.gwt.core.client.JsArray;', 'import com.google.gwt.http.client.Request;', 'import com.google.gwt.http.client.RequestBuilder;', 'import com.google.gwt.http.client.RequestCallback;', 'import com.google.gwt.http.client.RequestException;', 'import com.google.gwt.http.client.Response;', 'import com.google.gwt.http.client.URL;', 'import com.google.gwt.user.client.Window;', 'import com.google.gwt.user.client.ui.HTML;', 'import com.google.gwt.user.client.ui.RootPanel;', 'import com.google.gwt.user.client.ui.Widget;'], ['import com.google.gwt.event.dom.client.HasClickHandlers;', 'import com.google.gwt.user.client.ui.Composite;', 'import com.google.gwt.user.client.ui.Hyperlink;', 'import com.google.gwt.user.client.ui.VerticalPanel;', 'import com.google.gwt.user.client.ui.Widget;'], ['import java.io.DataInputStream;', 'import java.io.File;', 'import java.io.FileInputStream;', 'import javax.servlet.ServletContext;', 'import javax.servlet.ServletOutputStream;', 'import javax.servlet.http.HttpServletResponse;', 'import com.google.gwt.user.server.rpc.RemoteServiceServlet;'], ['import com.extjs.gxt.ui.client.widget.LayoutContainer;', 'import com.google.gwt.user.client.ui.HorizontalPanel;', 'import com.google.gwt.user.client.ui.Label;'], ['import com.google.gwt.dom.client.Element;', 'import com.google.gwt.event.dom.client.ClickEvent;', 'import com.google.gwt.event.dom.client.ClickHandler;', 'import com.google.gwt.user.client.ui.Button;', 'import com.google.gwt.user.client.ui.Composite;', 'import com.google.gwt.user.client.ui.Label;', 'import com.google.gwt.user.client.ui.RootPanel;', 'import com.google.gwt.user.client.ui.VerticalPanel;'], ['import com.google.gwt.core.client.EntryPoint;', 'import com.google.gwt.http.client.Request;', 'import com.google.gwt.http.client.RequestBuilder;', 'import com.google.gwt.http.client.RequestCallback;', 'import com.google.gwt.http.client.RequestException;', 'import com.google.gwt.http.client.Response;', 'import com.google.gwt.http.client.URL;', 'import com.google.gwt.user.client.Window;'], ['import com.google.gwt.event.dom.client.ClickEvent;', 'import com.google.gwt.event.dom.client.ClickHandler;', 'import com.google.gwt.event.dom.client.MouseOutEvent;', 'import com.google.gwt.event.dom.client.MouseOutHandler;', 'import com.google.gwt.user.client.ui.Composite;', 'import com.google.gwt.user.client.ui.HorizontalPanel;', 'import com.google.gwt.user.client.ui.Label;', 'import com.google.gwt.user.client.ui.Widget;'], ['import com.google.gwt.core.client.GWT;', 'import com.google.gwt.core.client.RunAsyncCallback;', 'import com.google.gwt.dom.client.Style.Unit;', 'import com.google.gwt.user.client.rpc.AsyncCallback;', 'import com.google.gwt.user.client.ui.DockLayoutPanel;', 'import com.google.gwt.user.client.ui.Label;', 'import com.google.gwt.user.client.ui.ResizeComposite;'], ['import com.google.gwt.core.client.EntryPoint;', 'import com.google.gwt.event.dom.client.ClickEvent;', 'import com.google.gwt.event.dom.client.ClickHandler;', 'import com.google.gwt.user.client.Window;', 'import com.google.gwt.user.client.ui.Button;', 'import com.google.gwt.user.client.ui.Label;', 'import com.google.gwt.user.client.ui.RootPanel;'], ['import com.google.gwt.user.client.ui.DialogBox;', 'import com.google.gwt.user.client.ui.HTML;', 'import com.google.gwt.user.client.ui.RootPanel;', 'import com.google.gwt.user.client.ui.VerticalPanel;'], ['import com.google.gwt.core.client.EntryPoint;', 'import com.google.gwt.dom.client.Style.Unit;', 'import com.google.gwt.user.client.ui.HTML;', 'import com.google.gwt.user.client.ui.LayoutPanel;', 'import com.google.gwt.user.client.ui.RootLayoutPanel;', 'import com.google.gwt.user.client.ui.Widget;'], ['import com.google.gwt.core.client.EntryPoint;', 'import com.google.gwt.event.logical.shared.BeforeSelectionEvent;', 'import com.google.gwt.event.logical.shared.BeforeSelectionHandler;', 'import com.google.gwt.event.logical.shared.SelectionEvent;', 'import com.google.gwt.event.logical.shared.SelectionHandler;', 'import com.google.gwt.user.client.Window;', 'import com.google.gwt.user.client.ui.TabBar;'], ['import java.util.ArrayList;', 'import com.google.gwt.dom.client.BodyElement;', 'import com.google.gwt.dom.client.Document;', 'import com.google.gwt.user.client.DOM;', 'import com.google.gwt.user.client.Element;'], ['import com.google.gwt.event.dom.client.BlurEvent;', 'import com.google.gwt.event.dom.client.BlurHandler;', 'import com.google.gwt.event.dom.client.ClickEvent;', 'import com.google.gwt.event.dom.client.ClickHandler;', 'import com.google.gwt.event.dom.client.HasBlurHandlers;', 'import com.google.gwt.event.dom.client.HasClickHandlers;', 'import com.google.gwt.event.dom.client.HasKeyDownHandlers;', 'import com.google.gwt.event.dom.client.KeyDownEvent;', 'import com.google.gwt.event.dom.client.KeyDownHandler;', 'import com.google.gwt.event.shared.HandlerRegistration;', 'import com.google.gwt.user.client.DOM;', 'import com.google.gwt.user.client.ui.ComplexPanel;', 'import com.google.gwt.user.client.ui.HasHTML;', 'import com.google.gwt.user.client.ui.HasText;', 'import com.google.gwt.user.client.ui.Widget;']]\n",
      "[1, 1, 1, 1, 1, 1, 1, 0, 0, 1, 1, 1, 1, 1, 1, 1, 1, 1, 1, 1, 1, 1, 1, 1, 1, 1, 1, 1, 0, 1, 1, 1, 1, 1, 1, 1, 1, 1, 1, 1, 1, 1, 1, 0, 0, 1, 1, 1, 1, 1, 1, 1, 1, 1, 1, 1, 1, 1, 1, 1, 1, 1, 1, 1, 1, 1, 1, 1, 1, 1, 1, 1, 1, 1, 1, 1, 1, 1, 1, 1, 1, 1, 1, 1, 1, 1, 0, 0, 1, 1, 1, 1, 1, 0, 0, 1, 1, 1, 1, 1, 1, 1, 1, 1, 1, 1, 1, 1, 1, 1, 1, 1, 1, 1, 1, 1, 1, 1, 1, 1, 1, 1, 1, 1, 1, 1, 1, 1, 0, 1, 1, 1, 1, 1, 1, 1, 1, 1, 1, 1, 1, 1, 1, 1, 1, 1, 1, 0, 0, 0, 0, 0, 1, 1, 1, 1, 1, 1, 1, 1, 1, 1, 1, 1, 1, 1, 1, 0, 1, 1, 1, 1, 1, 1, 1, 1, 1, 1, 1, 1, 1, 1, 1, 1, 1, 1, 1, 1, 1, 0, 1, 1, 1, 1, 1, 1, 1, 1, 1, 1, 1, 1, 1, 0, 0, 1, 1, 1, 1, 1, 1, 1, 1, 1, 0, 0, 0, 1, 1, 1, 1, 1, 1, 1, 1, 1, 1, 1, 1, 1, 1, 1, 1, 1, 1, 1, 1, 1, 1, 1, 1, 1, 1, 1, 1, 1, 1, 1, 1, 1, 1, 0, 1, 1, 1, 1, 1, 1, 1, 1, 1, 1, 1, 1, 1, 1, 1, 1, 1, 1, 1, 1, 1, 1, 1, 1, 1, 1, 1, 1, 1, 1, 1, 1, 1, 1, 1, 1, 1, 1, 1, 1, 1, 1, 1, 1, 1, 1, 1, 1, 1, 1, 1, 1, 1, 1, 1, 1, 1, 1, 1, 0, 1, 1, 1, 1, 1, 1, 1, 1, 1, 1, 1, 1, 0, 0, 0]\n",
      "[1, 1, 1, 1, 1, 1, 1, 1, 1, 1, 1, 1, 1, 1, 1, 1, 1, 1, 1, 1, 1, 1, 1, 1, 1, 1, 1, 1, 1, 1, 1, 1, 1, 1, 1, 1, 1, 1, 1, 1, 1, 1, 1, 1, 1, 1, 1, 1, 1, 1, 1, 1, 1, 1, 1, 1, 1, 1, 1, 1, 1, 1, 1, 1, 1, 1, 1, 1, 1, 1, 1, 1, 1, 1, 1, 1, 1, 1, 1, 1, 1, 1, 1, 1, 1, 1, 1, 1, 1, 1, 1, 1, 1, 1, 1, 0, 1, 1, 1, 1, 1, 1, 1, 1, 1, 1, 1, 1, 1, 1, 1, 1, 1, 1, 1, 0, 1, 1, 1, 1, 1, 1, 1, 1, 1, 1, 1, 1, 1, 1, 1, 1, 1, 1, 1, 1, 1, 1, 1, 1, 1, 0, 1, 1, 1, 1, 1, 1, 1, 1, 1, 1, 1, 1, 1, 1, 1, 1, 1, 1, 1, 1, 1, 1, 1, 1, 1, 1, 0, 0, 0, 0, 0, 1, 1, 1, 1, 1, 1, 1, 1, 1, 1, 1, 1, 1, 1, 1, 1, 1, 1, 1, 1, 1, 1, 1, 1, 1, 1, 1, 1, 1, 1, 1, 1, 0, 0, 0, 0, 1, 1, 1, 1, 1, 1, 1, 1, 1, 1, 1, 1, 1, 1, 1, 1, 1, 1, 1, 1, 1, 1, 1, 1, 1, 1, 1, 1, 1, 1, 1, 1, 1, 1, 1, 1, 1, 1, 1, 1, 1, 1, 1, 1, 1, 1, 1, 1, 1, 1, 1, 1, 1, 1, 1, 1, 1, 1, 1, 1, 1, 1, 1, 1, 1, 1, 1, 1, 1, 1, 1, 1, 1, 1, 1, 1, 1, 1, 1, 1, 1, 1, 1, 1, 1, 1, 1, 1, 1, 1, 1, 1, 1, 1, 1, 1, 1, 1, 1, 1, 1, 1, 1, 1, 1, 1, 1, 1, 1, 1, 1, 1, 1, 1, 1, 1, 1, 1]\n",
      "\n",
      "{\n",
      "  \"accuracy\": 0.8807339449541285,\n",
      "  \"f1\": 0.9365853658536586,\n",
      "  \"precision\": 0.9142857142857143,\n",
      "  \"recall\": 0.96\n",
      "}\n"
     ]
    },
    {
     "name": "stderr",
     "output_type": "stream",
     "text": [
      "\n"
     ]
    }
   ],
   "source": [
    "# One-shot Prediction for GWT Classes\n",
    "\n",
    "print(\"\\nOne-shot Prediction for GWT Classes:\\n\")\n",
    "y_pred = get_all_oneshot_predictions(get_oneshot_sample(gwt_dataset), gwt_test_examples)\n",
    "print(\"\\nPredicted Import List:\", y_pred)\n",
    "print(\"\\nCorrect Import List:\", gwt_y_true)\n",
    "y_pred_processed, y_true_processed = pred_process(y_pred, gwt_y_true)\n",
    "eval_performance(y_pred_processed, y_true_processed)"
   ]
  },
  {
   "cell_type": "code",
   "execution_count": 30,
   "metadata": {},
   "outputs": [
    {
     "name": "stdout",
     "output_type": "stream",
     "text": [
      "\n",
      "Prediction for XStream Classes:\n",
      "\n"
     ]
    },
    {
     "name": "stderr",
     "output_type": "stream",
     "text": [
      "100%|██████████| 44/44 [25:07<00:00, 34.27s/it]"
     ]
    },
    {
     "name": "stdout",
     "output_type": "stream",
     "text": [
      "\n",
      "Predicted Import List: [['import com.thoughtworks.xstream.converters.Converter;', 'import com.thoughtworks.xstream.io.HierarchicalStreamReader;', 'import com.thoughtworks.xstream.io.HierarchicalStreamWriter;', 'import com.thoughtworks.xstream.converters.MarshallingContext;', 'import com.thoughtworks.xstream.converters.UnmarshallingContext;'], ['import java.io.BufferedReader;', 'import java.io.FileReader;', 'import java.io.IOException;', 'import com.thoughtworks.xstream.XStream;', 'import com.thoughtworks.xstream.io.xml.DomDriver;'], ['import java.util.ArrayList;', 'import java.util.List;', 'import com.thoughtworks.xstream.XStream;', 'import com.thoughtworks.xstream.io.json.JettisonMappedXmlDriver;'], ['import java.util.ArrayList;', 'import java.util.List;', 'import com.thoughtworks.xstream.XStream;'], ['import java.io.FileNotFoundException;', 'import java.io.PrintWriter;', 'import com.thoughtworks.xstream.XStream;', 'import com.thoughtworks.xstream.io.xml.DomDriver;'], ['import java.io.File;', 'import java.io.FileOutputStream;', 'import java.io.OutputStream;', 'import com.thoughtworks.xstream.XStream;', 'import com.thoughtworks.xstream.io.xml.DomDriver;'], ['import com.thoughtworks.xstream.annotations.XStreamAsAttribute;'], ['import android.app.Activity;', 'import android.os.Bundle;', 'import android.widget.TextView;', 'import org.ksoap2.SoapEnvelope;', 'import org.ksoap2.serialization.SoapObject;', 'import org.ksoap2.serialization.SoapSerializationEnvelope;', 'import org.ksoap2.transport.HttpTransportSE;', 'import com.thoughtworks.xstream.XStream;', 'import com.thoughtworks.xstream.io.xml.DomDriver;'], ['import java.io.FileInputStream;', 'import java.io.FileNotFoundException;', 'import com.thoughtworks.xstream.XStream;', 'import com.thoughtworks.xstream.io.xml.DomDriver;'], ['import java.io.StringWriter;', 'import com.thoughtworks.xstream.XStream;', 'import com.thoughtworks.xstream.io.xml.PrettyPrintWriter;'], ['import java.util.ArrayList;', 'import java.util.List;', 'import com.thoughtworks.xstream.XStream;', 'import com.thoughtworks.xstream.converters.collections.CollectionConverter;', 'import com.thoughtworks.xstream.mapper.ClassAliasingMapper;'], ['import java.util.List;', 'import com.thoughtworks.xstream.convert.Converter;', 'import com.thoughtworks.xstream.io.HierarchicalStreamReader;', 'import com.thoughtworks.xstream.io.HierarchicalStreamWriter;', 'import com.thoughtworks.xstream.MarshallingContext;', 'import com.thoughtworks.xstream.UnmarshallingContext;'], ['import com.thoughtworks.xstream.mapper.ClassAliasingMapper;', 'import com.thoughtworks.xstream.mapper.Mapper;'], ['import com.thoughtworks.xstream.converters.SingleValueConverter;', 'import com.thoughtworks.xstream.converters.enums.AbstractSingleValueConverter;'], ['import java.util.HashSet;', 'import org.hibernate.collection.PersistentSet;', 'import com.thoughtworks.xstream.XStream;', 'import com.thoughtworks.xstream.converters.collections.CollectionConverter;', 'import com.thoughtworks.xstream.io.HierarchicalStreamWriter;', 'import com.thoughtworks.xstream.io.xml.MarshallingContext;'], ['import com.thoughtworks.xstream.XStream;', 'import com.thoughtworks.xstream.mapper.MapperWrapper;'], ['import com.thoughtworks.xstream.XStream;', 'import com.thoughtworks.xstream.annotations.XStreamAlias;', 'import com.thoughtworks.xstream.converters.Converter;', 'import com.thoughtworks.xstream.io.HierarchicalStreamReader;', 'import com.thoughtworks.xstream.io.HierarchicalStreamWriter;', 'import com.thoughtworks.xstream.io.xml.DomDriver;', 'import com.thoughtworks.xstream.io.xml.XmlFriendlyNameCoder;', 'import com.thoughtworks.xstream.io.xml.XppDriver;', 'import com.thoughtworks.xstream.mapper.Mapper;', 'import com.thoughtworks.xstream.mapper.MapperWrapper;'], ['import java.util.Map;', 'import java.util.HashMap;', 'import com.thoughtworks.xstream.converters.Converter;', 'import com.thoughtworks.xstream.converters.MarshallingContext;', 'import com.thoughtworks.xstream.converters.UnmarshallingContext;', 'import com.thoughtworks.xstream.io.HierarchicalStreamReader;', 'import com.thoughtworks.xstream.io.HierarchicalStreamWriter;'], ['import com.thoughtworks.xstream.converters.Converter;', 'import com.thoughtworks.xstream.converters.MarshallingContext;', 'import com.thoughtworks.xstream.converters.UnmarshallingContext;', 'import com.thoughtworks.xstream.io.HierarchicalStreamReader;', 'import com.thoughtworks.xstream.io.HierarchicalStreamWriter;'], ['import java.io.File;', 'import java.io.InputStream;', 'import java.io.InputStreamReader;', 'import java.io.Reader;', 'import java.nio.charset.Charset;', 'import com.thoughtworks.xstream.XStream;'], ['import java.util.Map;', 'import com.thoughtworks.xstream.converters.Converter;', 'import com.thoughtworks.xstream.converters.reflection.ReflectionConverter;', 'import com.thoughtworks.xstream.io.HierarchicalStreamReader;', 'import com.thoughtworks.xstream.io.HierarchicalStreamWriter;', 'import com.thoughtworks.xstream.mapper.Mapper;', 'import com.thoughtworks.xstream.converters.MarshallingContext;', 'import com.thoughtworks.xstream.converters.UnmarshallingContext;', 'import com.thoughtworks.xstream.converters.reflection.ReflectionProvider;'], ['import java.io.File;', 'import java.util.Arrays;', 'import java.util.List;', 'import com.thoughtworks.xstream.XStream;', 'import com.thoughtworks.xstream.annotations.XStreamAlias;', 'import com.thoughtworks.xstream.annotations.XStreamConverter;', 'import com.thoughtworks.xstream.annotations.XStreamImplicit;', 'import com.thoughtworks.xstream.converters.extended.ToAttributedValueConverter;'], ['import com.thoughtworks.xstream.XStream;', 'import com.thoughtworks.xstream.annotations.XStreamAlias;', 'import com.thoughtworks.xstream.converters.extended.JavaBeanConverter;', 'import com.thoughtworks.xstream.io.xml.XppDriver;'], ['import com.thoughtworks.xstream.converters.Converter;', 'import com.thoughtworks.xstream.converters.MarshallingContext;', 'import com.thoughtworks.xstream.converters.reflection.ReflectionConverter;', 'import com.thoughtworks.xstream.converters.reflection.ReflectionProvider;', 'import com.thoughtworks.xstream.io.HierarchicalStreamReader;', 'import com.thoughtworks.xstream.io.HierarchicalStreamWriter;', 'import com.thoughtworks.xstream.mapper.Mapper;'], ['import com.thoughtworks.xstream.XStream;', 'import com.thoughtworks.xstream.annotations.XStreamAlias;', 'import com.thoughtworks.xstream.annotations.XStreamConverter;', 'import com.thoughtworks.xstream.converters.extended.ToAttributedValueConverter;'], ['import java.util.ArrayList;', 'import java.util.Collection;', 'import java.util.List;', 'import com.thoughtworks.xstream.converters.SingleValueConverter;'], ['import org.apache.commons.lang3.text.WordUtils;', 'import com.thoughtworks.xstream.XStream;', 'import com.thoughtworks.xstream.converters.Converter;', 'import com.thoughtworks.xstream.io.HierarchicalStreamReader;', 'import com.thoughtworks.xstream.io.HierarchicalStreamWriter;', 'import com.thoughtworks.xstream.io.xml.MarshallingContext;', 'import com.thoughtworks.xstream.io.xml.UnmarshallingContext;'], ['import java.util.Map;', 'import java.util.HashMap;', 'import com.thoughtworks.xstream.XStream;', 'import com.thoughtworks.xstream.converters.Converter;', 'import com.thoughtworks.xstream.io.HierarchicalStreamReader;', 'import com.thoughtworks.xstream.io.HierarchicalStreamWriter;', 'import com.thoughtworks.xstream.io.xml.UnmarshallingContext;', 'import com.thoughtworks.xstream.io.xml.MarshallingContext;'], ['import java.util.ArrayList;', 'import java.util.List;', 'import com.thoughtworks.xstream.XStream;', 'import com.thoughtworks.xstream.io.xml.DomDriver;'], ['import com.thoughtworks.xstream.convert.Converter;', 'import com.thoughtworks.xstream.io.HierarchicalStreamReader;', 'import com.thoughtworks.xstream.io.HierarchicalStreamWriter;', 'import com.thoughtworks.xstream.MarshallingContext;', 'import com.thoughtworks.xstream.UnmarshallingContext;'], ['import com.thoughtworks.xstream.XStream;', 'import com.thoughtworks.xstream.annotations.XStreamAlias;'], ['import com.thoughtworks.xstream.XStream;', 'import com.thoughtworks.xstream.mapper.MapperWrapper;'], ['import com.thoughtworks.xstream.XStream;', 'import com.thoughtworks.xstream.io.xml.DomDriver;'], ['import java.util.ArrayList;', 'import java.util.Iterator;', 'import java.util.List;', 'import com.thoughtworks.xstream.XStream;', 'import com.thoughtworks.xstream.annotations.XStreamAlias;', 'import com.thoughtworks.xstream.annotations.XStreamImplicit;', 'import com.thoughtworks.xstream.mapper.MapperWrapper;'], ['import com.thoughtworks.xstream.XStream;', 'import com.thoughtworks.xstream.converters.Converter;', 'import com.thoughtworks.xstream.converters.ConverterLookup;', 'import com.thoughtworks.xstream.converters.SingleValueConverter;', 'import com.thoughtworks.xstream.core.ReflectionProvider;', 'import com.thoughtworks.xstream.io.xml.DomDriver;', 'import com.thoughtworks.xstream.mapper.Mapper;', 'import com.thoughtworks.xstream.mapper.MapperWrapper;'], ['import java.util.HashMap;', 'import java.util.Map;', 'import com.thoughtworks.xstream.XStream;', 'import com.thoughtworks.xstream.io.xml.StaxDriver;'], ['import java.util.ArrayList;', 'import com.thoughtworks.xstream.convert.Converter;', 'import com.thoughtworks.xstream.io.HierarchicalStreamReader;', 'import com.thoughtworks.xstream.io.HierarchicalStreamWriter;', 'import com.thoughtworks.xstream.io.xml.MarshallingContext;', 'import com.thoughtworks.xstream.io.xml.UnmarshallingContext;'], ['import java.util.ArrayList;', 'import java.util.List;', 'import com.thoughtworks.xstream.XStream;', 'import com.thoughtworks.xstream.annotations.XStreamAlias;'], ['import java.io.Writer;', 'import com.thoughtworks.xstream.XStream;', 'import com.thoughtworks.xstream.io.HierarchicalStreamWriter;', 'import com.thoughtworks.xstream.io.QuickWriter;', 'import com.thoughtworks.xstream.io.xml.PrettyPrintWriter;', 'import com.thoughtworks.xstream.io.xml.XppDriver;'], ['import com.thoughtworks.xstream.converters.Converter;', 'import com.thoughtworks.xstream.io.HierarchicalStreamReader;', 'import com.thoughtworks.xstream.io.HierarchicalStreamWriter;', 'import com.thoughtworks.xstream.converters.MarshallingContext;', 'import com.thoughtworks.xstream.converters.UnmarshallingContext;', 'import java.lang.Integer;'], ['import java.util.List;', 'import com.thoughtworks.xstream.XStream;', 'import com.thoughtworks.xstream.io.xml.StaxDriver;'], ['import java.util.List;', 'import java.util.ArrayList;', 'import com.thoughtworks.xstream.XStream;', 'import com.thoughtworks.xstream.annotations.XStreamAlias;', 'import com.thoughtworks.xstream.annotations.XStreamImplicit;'], ['import java.util.ArrayList;', 'import java.util.List;', 'import com.thoughtworks.xstream.XStream;', 'import com.thoughtworks.xstream.io.xml.DomDriver;'], ['import java.io.File;', 'import java.io.FileOutputStream;', 'import com.thoughtworks.xstream.XStream;']]\n",
      "\n",
      "Correct Import List: [['import com.thoughtworks.xstream.converters.Converter;', 'import com.thoughtworks.xstream.converters.MarshallingContext;', 'import com.thoughtworks.xstream.converters.UnmarshallingContext;', 'import com.thoughtworks.xstream.io.HierarchicalStreamReader;', 'import com.thoughtworks.xstream.io.HierarchicalStreamWriter;'], ['import java.io.BufferedReader;', 'import java.io.FileReader;', 'import java.io.IOException;', 'import com.thoughtworks.xstream.XStream;', 'import com.thoughtworks.xstream.io.xml.DomDriver;'], ['import java.util.ArrayList;', 'import java.util.List;', 'import com.thoughtworks.xstream.XStream;', 'import com.thoughtworks.xstream.io.json.JettisonMappedXmlDriver;'], ['import java.util.ArrayList;', 'import com.thoughtworks.xstream.XStream;'], ['import java.io.FileNotFoundException;', 'import java.io.PrintWriter;', 'import com.thoughtworks.xstream.XStream;', 'import com.thoughtworks.xstream.io.xml.DomDriver;'], ['import java.io.File;', 'import java.io.FileOutputStream;', 'import java.io.OutputStream;', 'import com.thoughtworks.xstream.XStream;', 'import com.thoughtworks.xstream.io.xml.DomDriver;'], ['import com.thoughtworks.xstream.annotations.XStreamAsAttribute;'], ['import org.ksoap2.SoapEnvelope;', 'import org.ksoap2.serialization.SoapObject;', 'import org.ksoap2.serialization.SoapSerializationEnvelope;', 'import org.ksoap2.transport.HttpTransportSE;', 'import android.app.Activity;', 'import android.os.Bundle;', 'import android.widget.TextView;', 'import com.thoughtworks.xstream.XStream;', 'import com.thoughtworks.xstream.io.xml.DomDriver;'], ['import java.io.FileInputStream;', 'import java.io.FileNotFoundException;', 'import com.thoughtworks.xstream.XStream;', 'import com.thoughtworks.xstream.io.xml.DomDriver;'], ['import java.io.StringWriter;', 'import com.thoughtworks.xstream.XStream;', 'import com.thoughtworks.xstream.io.xml.PrettyPrintWriter;'], ['import java.util.ArrayList;', 'import java.util.List;', 'import com.thoughtworks.xstream.XStream;', 'import com.thoughtworks.xstream.converters.collections.CollectionConverter;', 'import com.thoughtworks.xstream.mapper.ClassAliasingMapper;'], ['import java.util.List;', 'import com.thoughtworks.xstream.converters.Converter;', 'import com.thoughtworks.xstream.converters.MarshallingContext;', 'import com.thoughtworks.xstream.converters.UnmarshallingContext;', 'import com.thoughtworks.xstream.io.HierarchicalStreamReader;', 'import com.thoughtworks.xstream.io.HierarchicalStreamWriter;'], ['import com.thoughtworks.xstream.mapper.ClassAliasingMapper;', 'import com.thoughtworks.xstream.mapper.Mapper;'], ['import com.thoughtworks.xstream.converters.basic.AbstractSingleValueConverter;'], ['import java.util.HashSet;', 'import com.thoughtworks.xstream.XStream;', 'import com.thoughtworks.xstream.converters.MarshallingContext;', 'import com.thoughtworks.xstream.converters.collections.CollectionConverter;', 'import com.thoughtworks.xstream.io.HierarchicalStreamWriter;'], ['import com.thoughtworks.xstream.XStream;', 'import com.thoughtworks.xstream.mapper.MapperWrapper;'], ['import com.thoughtworks.xstream.XStream;', 'import com.thoughtworks.xstream.annotations.XStreamAlias;', 'import com.thoughtworks.xstream.converters.Converter;', 'import com.thoughtworks.xstream.converters.MarshallingContext;', 'import com.thoughtworks.xstream.converters.UnmarshallingContext;', 'import com.thoughtworks.xstream.io.HierarchicalStreamReader;', 'import com.thoughtworks.xstream.io.HierarchicalStreamWriter;'], ['import java.util.HashMap;', 'import java.util.Map;', 'import com.thoughtworks.xstream.converters.Converter;', 'import com.thoughtworks.xstream.converters.MarshallingContext;', 'import com.thoughtworks.xstream.converters.UnmarshallingContext;', 'import com.thoughtworks.xstream.io.HierarchicalStreamReader;', 'import com.thoughtworks.xstream.io.HierarchicalStreamWriter;'], ['import com.thoughtworks.xstream.converters.Converter;', 'import com.thoughtworks.xstream.converters.MarshallingContext;', 'import com.thoughtworks.xstream.converters.UnmarshallingContext;', 'import com.thoughtworks.xstream.io.HierarchicalStreamReader;', 'import com.thoughtworks.xstream.io.HierarchicalStreamWriter;'], ['import java.io.File;', 'import java.io.InputStream;', 'import java.io.InputStreamReader;', 'import java.io.Reader;', 'import java.nio.charset.Charset;', 'import com.thoughtworks.xstream.XStream;'], ['import java.util.Map;', 'import com.thoughtworks.xstream.converters.Converter;', 'import com.thoughtworks.xstream.converters.MarshallingContext;', 'import com.thoughtworks.xstream.converters.UnmarshallingContext;', 'import com.thoughtworks.xstream.converters.reflection.ReflectionConverter;', 'import com.thoughtworks.xstream.converters.reflection.ReflectionProvider;', 'import com.thoughtworks.xstream.io.HierarchicalStreamReader;', 'import com.thoughtworks.xstream.io.HierarchicalStreamWriter;', 'import com.thoughtworks.xstream.mapper.Mapper;'], ['import com.thoughtworks.xstream.XStream;', 'import com.thoughtworks.xstream.annotations.XStreamAlias;', 'import com.thoughtworks.xstream.annotations.XStreamConverter;', 'import com.thoughtworks.xstream.annotations.XStreamImplicit;', 'import com.thoughtworks.xstream.converters.extended.ToAttributedValueConverter;', 'import java.util.List;', 'import java.util.Arrays;', 'import java.io.File;'], ['import com.thoughtworks.xstream.XStream;', 'import com.thoughtworks.xstream.annotations.XStreamAlias;', 'import com.thoughtworks.xstream.converters.javabean.JavaBeanConverter;', 'import com.thoughtworks.xstream.io.xml.XppDriver;'], ['import com.thoughtworks.xstream.converters.MarshallingContext;', 'import com.thoughtworks.xstream.converters.UnmarshallingContext;', 'import com.thoughtworks.xstream.converters.reflection.ReflectionConverter;', 'import com.thoughtworks.xstream.converters.reflection.ReflectionProvider;', 'import com.thoughtworks.xstream.io.HierarchicalStreamReader;', 'import com.thoughtworks.xstream.io.HierarchicalStreamWriter;', 'import com.thoughtworks.xstream.mapper.Mapper;'], ['import com.thoughtworks.xstream.annotations.XStreamAlias;', 'import com.thoughtworks.xstream.annotations.XStreamConverter;', 'import com.thoughtworks.xstream.converters.extended.ToAttributedValueConverter;'], ['import java.util.ArrayList;', 'import java.util.Collection;', 'import java.util.List;', 'import com.thoughtworks.xstream.converters.SingleValueConverter;'], ['import org.apache.commons.lang.WordUtils;', 'import org.apache.http.client.fluent.Content;', 'import com.thoughtworks.xstream.XStream;', 'import com.thoughtworks.xstream.converters.Converter;', 'import com.thoughtworks.xstream.converters.MarshallingContext;', 'import com.thoughtworks.xstream.converters.UnmarshallingContext;', 'import com.thoughtworks.xstream.io.HierarchicalStreamReader;', 'import com.thoughtworks.xstream.io.HierarchicalStreamWriter;'], ['import java.util.HashMap;', 'import java.util.Map;', 'import com.thoughtworks.xstream.converters.Converter;', 'import com.thoughtworks.xstream.converters.MarshallingContext;', 'import com.thoughtworks.xstream.converters.UnmarshallingContext;', 'import com.thoughtworks.xstream.io.HierarchicalStreamReader;', 'import com.thoughtworks.xstream.io.HierarchicalStreamWriter;'], ['import java.util.ArrayList;', 'import java.util.List;', 'import com.thoughtworks.xstream.XStream;', 'import com.thoughtworks.xstream.io.xml.DomDriver;'], ['import com.thoughtworks.xstream.converters.Converter;', 'import com.thoughtworks.xstream.converters.MarshallingContext;', 'import com.thoughtworks.xstream.converters.UnmarshallingContext;', 'import com.thoughtworks.xstream.io.HierarchicalStreamReader;', 'import com.thoughtworks.xstream.io.HierarchicalStreamWriter;'], ['import com.thoughtworks.xstream.XStream;', 'import com.thoughtworks.xstream.annotations.XStreamAlias;'], ['import com.thoughtworks.xstream.XStream;', 'import com.thoughtworks.xstream.hibernate.converter.HibernatePersistentCollectionConverter;', 'import com.thoughtworks.xstream.hibernate.converter.HibernatePersistentMapConverter;', 'import com.thoughtworks.xstream.hibernate.converter.HibernatePersistentSortedMapConverter;', 'import com.thoughtworks.xstream.hibernate.converter.HibernatePersistentSortedSetConverter;', 'import com.thoughtworks.xstream.hibernate.converter.HibernateProxyConverter;', 'import com.thoughtworks.xstream.hibernate.mapper.HibernateMapper;', 'import com.thoughtworks.xstream.mapper.MapperWrapper;'], ['import com.thoughtworks.xstream.XStream;', 'import com.thoughtworks.xstream.io.xml.DomDriver;', 'import com.thoughtworks.xstream.mapper.Mapper;', 'import flex.messaging.io.amf.ASObject;', 'import flex.messaging.io.amf.ActionMessage;', 'import flex.messaging.io.amf.MessageBody;', 'import flex.messaging.io.amf.MessageHeader;', 'import flex.messaging.messages.AcknowledgeMessage;', 'import flex.messaging.messages.AcknowledgeMessageExt;', 'import flex.messaging.messages.AsyncMessage;', 'import flex.messaging.messages.CommandMessage;', 'import flex.messaging.messages.CommandMessageExt;', 'import flex.messaging.messages.ErrorMessage;', 'import flex.messaging.messages.RemotingMessage;'], ['import java.util.ArrayList;', 'import java.util.Iterator;', 'import java.util.List;', 'import com.cloudbees.api.config.Environment;', 'import com.cloudbees.api.config.ParameterHolder;', 'import com.cloudbees.api.config.ResourceSettings;', 'import com.thoughtworks.xstream.XStream;', 'import com.thoughtworks.xstream.annotations.XStreamAlias;', 'import com.thoughtworks.xstream.annotations.XStreamImplicit;', 'import com.thoughtworks.xstream.mapper.MapperWrapper;'], ['import org.junit.Test;', 'import com.thoughtworks.xstream.XStream;', 'import com.thoughtworks.xstream.converters.Converter;', 'import com.thoughtworks.xstream.converters.ConverterLookup;', 'import com.thoughtworks.xstream.converters.SingleValueConverter;', 'import com.thoughtworks.xstream.converters.reflection.ReflectionProvider;', 'import com.thoughtworks.xstream.mapper.Mapper;', 'import com.thoughtworks.xstream.mapper.MapperWrapper;'], ['import java.util.HashMap;', 'import java.util.Map;', 'import com.thoughtworks.xstream.XStream;', 'import com.thoughtworks.xstream.io.xml.StaxDriver;'], ['import java.util.ArrayList;', 'import com.thoughtworks.xstream.converters.Converter;', 'import com.thoughtworks.xstream.converters.MarshallingContext;', 'import com.thoughtworks.xstream.converters.UnmarshallingContext;', 'import com.thoughtworks.xstream.io.HierarchicalStreamReader;', 'import com.thoughtworks.xstream.io.HierarchicalStreamWriter;'], ['import java.util.ArrayList;', 'import java.util.List;', 'import com.thoughtworks.xstream.XStream;', 'import com.thoughtworks.xstream.annotations.XStreamAlias;'], ['import java.io.Writer;', 'import com.thoughtworks.xstream.XStream;', 'import com.thoughtworks.xstream.core.util.QuickWriter;', 'import com.thoughtworks.xstream.io.HierarchicalStreamWriter;', 'import com.thoughtworks.xstream.io.xml.PrettyPrintWriter;', 'import com.thoughtworks.xstream.io.xml.XppDriver;'], ['import com.thoughtworks.xstream.converters.Converter;', 'import com.thoughtworks.xstream.converters.MarshallingContext;', 'import com.thoughtworks.xstream.converters.UnmarshallingContext;', 'import com.thoughtworks.xstream.io.HierarchicalStreamReader;', 'import com.thoughtworks.xstream.io.HierarchicalStreamWriter;'], ['import java.util.List;', 'import com.thoughtworks.xstream.XStream;', 'import com.thoughtworks.xstream.io.xml.StaxDriver;'], ['import java.util.List;', 'import com.thoughtworks.xstream.annotations.XStreamAlias;', 'import com.thoughtworks.xstream.annotations.XStreamImplicit;'], ['import java.util.ArrayList;', 'import java.util.List;', 'import com.thoughtworks.xstream.XStream;', 'import com.thoughtworks.xstream.io.xml.DomDriver;'], ['import java.io.File;', 'import java.io.FileOutputStream;', 'import com.thoughtworks.xstream.XStream;']]\n",
      "[1, 1, 1, 1, 1, 1, 1, 1, 1, 1, 1, 1, 1, 1, 1, 1, 1, 1, 1, 1, 1, 1, 1, 1, 1, 1, 1, 1, 1, 1, 1, 1, 1, 1, 1, 1, 1, 1, 1, 1, 1, 1, 1, 1, 1, 1, 1, 1, 1, 1, 1, 0, 0, 0, 1, 1, 0, 1, 1, 1, 1, 1, 0, 1, 1, 1, 1, 1, 1, 1, 1, 0, 0, 1, 1, 1, 1, 1, 1, 1, 1, 1, 1, 1, 1, 1, 1, 1, 1, 1, 1, 1, 1, 1, 1, 1, 1, 1, 1, 1, 1, 1, 1, 1, 1, 1, 1, 1, 1, 1, 1, 1, 1, 1, 0, 1, 1, 1, 1, 1, 1, 0, 1, 1, 1, 1, 1, 1, 1, 1, 1, 1, 1, 1, 0, 0, 0, 0, 1, 1, 1, 1, 1, 0, 0, 1, 1, 1, 1, 1, 1, 1, 0, 0, 0, 1, 1, 1, 1, 0, 0, 0, 0, 0, 0, 1, 1, 0, 0, 0, 0, 0, 0, 0, 0, 0, 0, 0, 0, 1, 1, 1, 1, 1, 1, 1, 0, 0, 0, 1, 1, 1, 1, 1, 1, 0, 0, 1, 1, 1, 1, 1, 1, 1, 0, 0, 0, 1, 1, 1, 1, 1, 1, 1, 1, 1, 0, 1, 1, 1, 1, 1, 1, 1, 1, 1, 1, 1, 1, 1, 1, 1, 1, 1, 1, 1, 1, 1]\n",
      "[1, 1, 1, 1, 1, 1, 1, 1, 1, 1, 1, 1, 1, 1, 1, 1, 0, 1, 1, 1, 1, 1, 1, 1, 1, 1, 1, 1, 1, 1, 1, 1, 1, 1, 1, 1, 1, 1, 1, 1, 1, 1, 1, 1, 1, 1, 1, 1, 1, 1, 1, 1, 1, 1, 1, 1, 1, 0, 1, 1, 1, 1, 1, 0, 1, 1, 1, 1, 1, 1, 1, 1, 1, 0, 0, 0, 1, 1, 1, 1, 1, 1, 1, 1, 1, 1, 1, 1, 1, 1, 1, 1, 1, 1, 1, 1, 1, 1, 1, 1, 1, 1, 1, 1, 1, 1, 1, 1, 1, 1, 1, 1, 1, 1, 1, 1, 1, 1, 1, 1, 1, 1, 1, 1, 1, 0, 1, 1, 1, 1, 1, 1, 1, 1, 1, 1, 1, 1, 1, 1, 1, 1, 1, 1, 1, 0, 1, 1, 1, 1, 1, 1, 1, 1, 1, 1, 1, 1, 1, 1, 1, 1, 1, 1, 1, 1, 1, 1, 1, 1, 1, 1, 1, 1, 1, 1, 1, 1, 1, 1, 1, 1, 1, 1, 1, 1, 1, 1, 1, 1, 1, 1, 1, 1, 1, 1, 1, 1, 1, 1, 1, 1, 1, 1, 1, 1, 1, 1, 1, 1, 1, 1, 1, 1, 1, 1, 1, 1, 1, 1, 1, 1, 0, 1, 1, 1, 1, 1, 1, 0, 0, 1, 1, 1, 1, 1, 1, 1]\n",
      "\n",
      "{\n",
      "  \"accuracy\": 0.7647058823529411,\n",
      "  \"f1\": 0.8666666666666667,\n",
      "  \"precision\": 0.801762114537445,\n",
      "  \"recall\": 0.9430051813471503\n",
      "}\n"
     ]
    },
    {
     "name": "stderr",
     "output_type": "stream",
     "text": [
      "\n"
     ]
    }
   ],
   "source": [
    "# One-shot Prediction for XStream Classes\n",
    "\n",
    "print(\"\\nPrediction for XStream Classes:\\n\")\n",
    "y_pred = get_all_oneshot_predictions(get_oneshot_sample(xstream_dataset), xstream_test_examples)\n",
    "print(\"\\nPredicted Import List:\", y_pred)\n",
    "print(\"\\nCorrect Import List:\", xstream_y_true)\n",
    "y_pred_processed, y_true_processed = pred_process(y_pred, xstream_y_true)\n",
    "eval_performance(y_pred_processed, y_true_processed)"
   ]
  },
  {
   "cell_type": "code",
   "execution_count": null,
   "metadata": {},
   "outputs": [],
   "source": []
  }
 ],
 "metadata": {
  "kernelspec": {
   "display_name": "Python 3",
   "language": "python",
   "name": "python3"
  },
  "language_info": {
   "codemirror_mode": {
    "name": "ipython",
    "version": 3
   },
   "file_extension": ".py",
   "mimetype": "text/x-python",
   "name": "python",
   "nbconvert_exporter": "python",
   "pygments_lexer": "ipython3",
   "version": "3.7.6"
  }
 },
 "nbformat": 4,
 "nbformat_minor": 5
}
