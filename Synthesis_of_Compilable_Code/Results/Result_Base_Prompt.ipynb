{
 "cells": [
  {
   "cell_type": "code",
   "execution_count": 1,
   "metadata": {},
   "outputs": [
    {
     "name": "stdout",
     "output_type": "stream",
     "text": [
      "env: OPENAI_API_KEY=api_key\n"
     ]
    }
   ],
   "source": [
    "%env OPENAI_API_KEY = api_key"
   ]
  },
  {
   "cell_type": "code",
   "execution_count": 2,
   "metadata": {},
   "outputs": [],
   "source": [
    "# pip install --upgrade openai"
   ]
  },
  {
   "cell_type": "code",
   "execution_count": 3,
   "metadata": {},
   "outputs": [],
   "source": [
    "import glob\n",
    "import json\n",
    "import re\n",
    "import random\n",
    "import time\n",
    "import subprocess\n",
    "\n",
    "from tqdm import tqdm\n",
    "from sklearn.metrics import accuracy_score, f1_score, precision_score, recall_score"
   ]
  },
  {
   "cell_type": "code",
   "execution_count": 4,
   "metadata": {},
   "outputs": [],
   "source": [
    "import openai\n",
    "import os\n",
    "\n",
    "openai.api_key = os.getenv(\"OPENAI_API_KEY\")"
   ]
  },
  {
   "cell_type": "code",
   "execution_count": 5,
   "metadata": {},
   "outputs": [
    {
     "name": "stdout",
     "output_type": "stream",
     "text": [
      "/home/azmain/alljavajsons\n"
     ]
    }
   ],
   "source": [
    "cd '/home/azmain/alljavajsons'"
   ]
  },
  {
   "cell_type": "code",
   "execution_count": 6,
   "metadata": {},
   "outputs": [
    {
     "name": "stdout",
     "output_type": "stream",
     "text": [
      "['Android01.java.json', 'Android02.java.json', 'Android03.java.json', 'Android04.java.json', 'Android05.java.json', 'Android06.java.json', 'Android07.java.json', 'Android08.java.json', 'Android09.java.json', 'Android10.java.json', 'Android11.java.json', 'Android12.java.json', 'Android13.java.json', 'Android14.java.json', 'Android15.java.json', 'Android16.java.json', 'Android17.java.json', 'Android18.java.json', 'Android19.java.json', 'Android20.java.json', 'Android21.java.json', 'Android22.java.json', 'Android23.java.json', 'Android24.java.json', 'Android25.java.json', 'Android26.java.json', 'Android27.java.json', 'Android28.java.json', 'Android29.java.json', 'Android30.java.json', 'Android31.java.json', 'Android32.java.json', 'Android33.java.json', 'Android34.java.json', 'Android35.java.json', 'Android36.java.json', 'Android37.java.json', 'Android38.java.json', 'Android39.java.json', 'Android40.java.json', 'Android41.java.json', 'Android42.java.json', 'Android43.java.json', 'Android44.java.json', 'Android45.java.json', 'Android46.java.json', 'Android47.java.json', 'Android48.java.json', 'Android49.java.json', 'Android50.java.json', 'Class_1.java.json', 'Class_2.java.json', 'Class_3.java.json', 'Class_4.java.json', 'Class_5.java.json', 'Class_6.java.json', 'Class_7.java.json', 'Class_8.java.json', 'Class_9.java.json', 'Class_10.java.json', 'Class_11.java.json', 'Class_12.java.json', 'Class_13.java.json', 'Class_14.java.json', 'Class_15.java.json', 'Class_16.java.json', 'Class_17.java.json', 'Class_18.java.json', 'Class_19.java.json', 'Class_20.java.json', 'Class_21.java.json', 'Class_22.java.json', 'Class_23.java.json', 'HibernateUtil.java.json', 'JodaTime01.java.json', 'JodaTime02.java.json', 'JodaTime03.java.json', 'JodaTime04.java.json', 'JodaTime05.java.json', 'JodaTime06.java.json', 'JodaTime07.java.json', 'JodaTime08.java.json', 'JodaTime09.java.json', 'JodaTime10.java.json', 'JodaTime11.java.json', 'JodaTime12.java.json', 'JodaTime13.java.json', 'JodaTime14.java.json', 'JodaTime15.java.json', 'JodaTime16.java.json', 'JodaTime17.java.json', 'JodaTime18.java.json', 'JodaTime19.java.json', 'JodaTime20.java.json', 'JodaTime21.java.json', 'JodaTime22.java.json', 'JodaTime23.java.json', 'JodaTime24.java.json', 'JodaTime25.java.json', 'JodaTime26.java.json', 'JodaTime27.java.json', 'JodaTime28.java.json', 'JodaTime29.java.json', 'JodaTime30.java.json', 'JodaTime31.java.json', 'JodaTime32.java.json', 'JodaTime33.java.json', 'JodaTime34.java.json', 'JodaTime35.java.json', 'JodaTime36.java.json', 'JodaTime37.java.json', 'JodaTime38.java.json', 'JodaTime39.java.json', 'JodaTime40.java.json', 'JodaTime41.java.json', 'JodaTime42.java.json', 'JodaTime43.java.json', 'JodaTime44.java.json', 'JodaTime45.java.json', 'JodaTime46.java.json', 'JodaTime47.java.json', 'JodaTime48.java.json', 'JodaTime49.java.json', 'JodaTime50.java.json', 'gwt_class_1.java.json', 'gwt_class_2.java.json', 'gwt_class_3.java.json', 'gwt_class_4.java.json', 'gwt_class_5.java.json', 'gwt_class_6.java.json', 'gwt_class_7.java.json', 'gwt_class_8.java.json', 'gwt_class_9.java.json', 'gwt_class_10.java.json', 'gwt_class_11.java.json', 'gwt_class_12.java.json', 'gwt_class_13.java.json', 'gwt_class_14.java.json', 'gwt_class_15.java.json', 'gwt_class_16.java.json', 'gwt_class_17.java.json', 'gwt_class_18.java.json', 'gwt_class_19.java.json', 'gwt_class_20.java.json', 'gwt_class_21.java.json', 'gwt_class_22.java.json', 'gwt_class_23.java.json', 'gwt_class_24.java.json', 'gwt_class_25.java.json', 'gwt_class_26.java.json', 'gwt_class_27.java.json', 'gwt_class_28.java.json', 'gwt_class_29.java.json', 'gwt_class_30.java.json', 'gwt_class_31.java.json', 'gwt_class_32.java.json', 'gwt_class_33.java.json', 'gwt_class_34.java.json', 'gwt_class_35.java.json', 'gwt_class_36.java.json', 'gwt_class_37.java.json', 'gwt_class_38.java.json', 'gwt_class_39.java.json', 'gwt_class_40.java.json', 'gwt_class_41.java.json', 'gwt_class_42.java.json', 'gwt_class_43.java.json', 'gwt_class_44.java.json', 'gwt_class_45.java.json', 'gwt_class_46.java.json', 'gwt_class_47.java.json', 'gwt_class_48.java.json', 'gwt_class_49.java.json', 'gwt_class_50.java.json', 'hibernate_class_1.java.json', 'hibernate_class_2.java.json', 'hibernate_class_3.java.json', 'hibernate_class_4.java.json', 'hibernate_class_5.java.json', 'hibernate_class_6.java.json', 'hibernate_class_7.java.json', 'hibernate_class_8.java.json', 'hibernate_class_9.java.json', 'hibernate_class_10.java.json', 'hibernate_class_11.java.json', 'hibernate_class_12.java.json', 'hibernate_class_13.java.json', 'hibernate_class_14.java.json', 'hibernate_class_15.java.json', 'hibernate_class_16.java.json', 'hibernate_class_17.java.json', 'hibernate_class_18.java.json', 'hibernate_class_19.java.json', 'hibernate_class_20.java.json', 'hibernate_class_21.java.json', 'hibernate_class_22.java.json', 'hibernate_class_23.java.json', 'hibernate_class_24.java.json', 'hibernate_class_25.java.json', 'hibernate_class_26.java.json', 'hibernate_class_27.java.json', 'hibernate_class_28.java.json', 'hibernate_class_29.java.json', 'hibernate_class_30.java.json', 'hibernate_class_31.java.json', 'hibernate_class_32.java.json', 'hibernate_class_33.java.json', 'hibernate_class_34.java.json', 'hibernate_class_35.java.json', 'hibernate_class_36.java.json', 'hibernate_class_37.java.json', 'hibernate_class_38.java.json', 'hibernate_class_39.java.json', 'hibernate_class_40.java.json', 'hibernate_class_41.java.json', 'hibernate_class_42.java.json', 'hibernate_class_43.java.json', 'hibernate_class_44.java.json', 'hibernate_class_45.java.json', 'hibernate_class_46.java.json', 'hibernate_class_47.java.json', 'hibernate_class_48.java.json', 'hibernate_class_49.java.json', 'hibernate_class_50.java.json', 'xstream_class_1.java.json', 'xstream_class_2.java.json', 'xstream_class_3.java.json', 'xstream_class_4.java.json', 'xstream_class_5.java.json', 'xstream_class_6.java.json', 'xstream_class_7.java.json', 'xstream_class_8.java.json', 'xstream_class_9.java.json', 'xstream_class_10.java.json', 'xstream_class_11.java.json', 'xstream_class_12.java.json', 'xstream_class_13.java.json', 'xstream_class_14.java.json', 'xstream_class_15.java.json', 'xstream_class_16.java.json', 'xstream_class_17.java.json', 'xstream_class_18.java.json', 'xstream_class_19.java.json', 'xstream_class_20.java.json', 'xstream_class_21.java.json', 'xstream_class_22.java.json', 'xstream_class_23.java.json', 'xstream_class_24.java.json', 'xstream_class_25.java.json', 'xstream_class_26.java.json', 'xstream_class_27.java.json', 'xstream_class_28.java.json', 'xstream_class_29.java.json', 'xstream_class_30.java.json', 'xstream_class_31.java.json', 'xstream_class_32.java.json', 'xstream_class_33.java.json', 'xstream_class_34.java.json', 'xstream_class_35.java.json', 'xstream_class_36.java.json', 'xstream_class_37.java.json', 'xstream_class_38.java.json', 'xstream_class_39.java.json', 'xstream_class_40.java.json', 'xstream_class_41.java.json', 'xstream_class_42.java.json', 'xstream_class_43.java.json', 'xstream_class_44.java.json']\n",
      "\n",
      "\n",
      "\n",
      "\n",
      "['Android01.java.json.benchmark_log.json', 'Android02.java.json.benchmark_log.json', 'Android03.java.json.benchmark_log.json', 'Android04.java.json.benchmark_log.json', 'Android05.java.json.benchmark_log.json', 'Android06.java.json.benchmark_log.json', 'Android07.java.json.benchmark_log.json', 'Android08.java.json.benchmark_log.json', 'Android09.java.json.benchmark_log.json', 'Android10.java.json.benchmark_log.json', 'Android11.java.json.benchmark_log.json', 'Android12.java.json.benchmark_log.json', 'Android13.java.json.benchmark_log.json', 'Android14.java.json.benchmark_log.json', 'Android15.java.json.benchmark_log.json', 'Android16.java.json.benchmark_log.json', 'Android17.java.json.benchmark_log.json', 'Android18.java.json.benchmark_log.json', 'Android19.java.json.benchmark_log.json', 'Android20.java.json.benchmark_log.json', 'Android21.java.json.benchmark_log.json', 'Android22.java.json.benchmark_log.json', 'Android23.java.json.benchmark_log.json', 'Android24.java.json.benchmark_log.json', 'Android25.java.json.benchmark_log.json', 'Android26.java.json.benchmark_log.json', 'Android27.java.json.benchmark_log.json', 'Android28.java.json.benchmark_log.json', 'Android29.java.json.benchmark_log.json', 'Android30.java.json.benchmark_log.json', 'Android31.java.json.benchmark_log.json', 'Android32.java.json.benchmark_log.json', 'Android33.java.json.benchmark_log.json', 'Android34.java.json.benchmark_log.json', 'Android35.java.json.benchmark_log.json', 'Android36.java.json.benchmark_log.json', 'Android37.java.json.benchmark_log.json', 'Android38.java.json.benchmark_log.json', 'Android39.java.json.benchmark_log.json', 'Android40.java.json.benchmark_log.json', 'Android41.java.json.benchmark_log.json', 'Android42.java.json.benchmark_log.json', 'Android43.java.json.benchmark_log.json', 'Android44.java.json.benchmark_log.json', 'Android45.java.json.benchmark_log.json', 'Android46.java.json.benchmark_log.json', 'Android47.java.json.benchmark_log.json', 'Android48.java.json.benchmark_log.json', 'Android49.java.json.benchmark_log.json', 'Android50.java.json.benchmark_log.json', 'Class_1.java.json.benchmark_log.json', 'Class_2.java.json.benchmark_log.json', 'Class_3.java.json.benchmark_log.json', 'Class_4.java.json.benchmark_log.json', 'Class_5.java.json.benchmark_log.json', 'Class_6.java.json.benchmark_log.json', 'Class_7.java.json.benchmark_log.json', 'Class_8.java.json.benchmark_log.json', 'Class_9.java.json.benchmark_log.json', 'Class_10.java.json.benchmark_log.json', 'Class_11.java.json.benchmark_log.json', 'Class_12.java.json.benchmark_log.json', 'Class_13.java.json.benchmark_log.json', 'Class_14.java.json.benchmark_log.json', 'Class_15.java.json.benchmark_log.json', 'Class_16.java.json.benchmark_log.json', 'Class_17.java.json.benchmark_log.json', 'Class_18.java.json.benchmark_log.json', 'Class_19.java.json.benchmark_log.json', 'Class_20.java.json.benchmark_log.json', 'Class_21.java.json.benchmark_log.json', 'Class_22.java.json.benchmark_log.json', 'Class_23.java.json.benchmark_log.json', 'HibernateUtil.java.json.benchmark_log.json', 'JodaTime01.java.json.benchmark_log.json', 'JodaTime02.java.json.benchmark_log.json', 'JodaTime03.java.json.benchmark_log.json', 'JodaTime04.java.json.benchmark_log.json', 'JodaTime05.java.json.benchmark_log.json', 'JodaTime06.java.json.benchmark_log.json', 'JodaTime07.java.json.benchmark_log.json', 'JodaTime08.java.json.benchmark_log.json', 'JodaTime09.java.json.benchmark_log.json', 'JodaTime10.java.json.benchmark_log.json', 'JodaTime11.java.json.benchmark_log.json', 'JodaTime12.java.json.benchmark_log.json', 'JodaTime13.java.json.benchmark_log.json', 'JodaTime14.java.json.benchmark_log.json', 'JodaTime15.java.json.benchmark_log.json', 'JodaTime16.java.json.benchmark_log.json', 'JodaTime17.java.json.benchmark_log.json', 'JodaTime18.java.json.benchmark_log.json', 'JodaTime19.java.json.benchmark_log.json', 'JodaTime20.java.json.benchmark_log.json', 'JodaTime21.java.json.benchmark_log.json', 'JodaTime22.java.json.benchmark_log.json', 'JodaTime23.java.json.benchmark_log.json', 'JodaTime24.java.json.benchmark_log.json', 'JodaTime25.java.json.benchmark_log.json', 'JodaTime26.java.json.benchmark_log.json', 'JodaTime27.java.json.benchmark_log.json', 'JodaTime28.java.json.benchmark_log.json', 'JodaTime29.java.json.benchmark_log.json', 'JodaTime30.java.json.benchmark_log.json', 'JodaTime31.java.json.benchmark_log.json', 'JodaTime32.java.json.benchmark_log.json', 'JodaTime33.java.json.benchmark_log.json', 'JodaTime34.java.json.benchmark_log.json', 'JodaTime35.java.json.benchmark_log.json', 'JodaTime36.java.json.benchmark_log.json', 'JodaTime37.java.json.benchmark_log.json', 'JodaTime38.java.json.benchmark_log.json', 'JodaTime39.java.json.benchmark_log.json', 'JodaTime40.java.json.benchmark_log.json', 'JodaTime41.java.json.benchmark_log.json', 'JodaTime42.java.json.benchmark_log.json', 'JodaTime43.java.json.benchmark_log.json', 'JodaTime44.java.json.benchmark_log.json', 'JodaTime45.java.json.benchmark_log.json', 'JodaTime46.java.json.benchmark_log.json', 'JodaTime47.java.json.benchmark_log.json', 'JodaTime48.java.json.benchmark_log.json', 'JodaTime49.java.json.benchmark_log.json', 'JodaTime50.java.json.benchmark_log.json', 'gwt_class_1.java.json.benchmark_log.json', 'gwt_class_2.java.json.benchmark_log.json', 'gwt_class_3.java.json.benchmark_log.json', 'gwt_class_4.java.json.benchmark_log.json', 'gwt_class_5.java.json.benchmark_log.json', 'gwt_class_6.java.json.benchmark_log.json', 'gwt_class_7.java.json.benchmark_log.json', 'gwt_class_8.java.json.benchmark_log.json', 'gwt_class_9.java.json.benchmark_log.json', 'gwt_class_10.java.json.benchmark_log.json', 'gwt_class_11.java.json.benchmark_log.json', 'gwt_class_12.java.json.benchmark_log.json', 'gwt_class_13.java.json.benchmark_log.json', 'gwt_class_14.java.json.benchmark_log.json', 'gwt_class_15.java.json.benchmark_log.json', 'gwt_class_16.java.json.benchmark_log.json', 'gwt_class_17.java.json.benchmark_log.json', 'gwt_class_18.java.json.benchmark_log.json', 'gwt_class_19.java.json.benchmark_log.json', 'gwt_class_20.java.json.benchmark_log.json', 'gwt_class_21.java.json.benchmark_log.json', 'gwt_class_22.java.json.benchmark_log.json', 'gwt_class_23.java.json.benchmark_log.json', 'gwt_class_24.java.json.benchmark_log.json', 'gwt_class_25.java.json.benchmark_log.json', 'gwt_class_26.java.json.benchmark_log.json', 'gwt_class_27.java.json.benchmark_log.json', 'gwt_class_28.java.json.benchmark_log.json', 'gwt_class_29.java.json.benchmark_log.json', 'gwt_class_30.java.json.benchmark_log.json', 'gwt_class_31.java.json.benchmark_log.json', 'gwt_class_32.java.json.benchmark_log.json', 'gwt_class_33.java.json.benchmark_log.json', 'gwt_class_34.java.json.benchmark_log.json', 'gwt_class_35.java.json.benchmark_log.json', 'gwt_class_36.java.json.benchmark_log.json', 'gwt_class_37.java.json.benchmark_log.json', 'gwt_class_38.java.json.benchmark_log.json', 'gwt_class_39.java.json.benchmark_log.json', 'gwt_class_40.java.json.benchmark_log.json', 'gwt_class_41.java.json.benchmark_log.json', 'gwt_class_42.java.json.benchmark_log.json', 'gwt_class_43.java.json.benchmark_log.json', 'gwt_class_44.java.json.benchmark_log.json', 'gwt_class_45.java.json.benchmark_log.json', 'gwt_class_46.java.json.benchmark_log.json', 'gwt_class_47.java.json.benchmark_log.json', 'gwt_class_48.java.json.benchmark_log.json', 'gwt_class_49.java.json.benchmark_log.json', 'gwt_class_50.java.json.benchmark_log.json', 'hibernate_class_1.java.json.benchmark_log.json', 'hibernate_class_2.java.json.benchmark_log.json', 'hibernate_class_3.java.json.benchmark_log.json', 'hibernate_class_4.java.json.benchmark_log.json', 'hibernate_class_5.java.json.benchmark_log.json', 'hibernate_class_6.java.json.benchmark_log.json', 'hibernate_class_7.java.json.benchmark_log.json', 'hibernate_class_8.java.json.benchmark_log.json', 'hibernate_class_9.java.json.benchmark_log.json', 'hibernate_class_10.java.json.benchmark_log.json', 'hibernate_class_11.java.json.benchmark_log.json', 'hibernate_class_12.java.json.benchmark_log.json', 'hibernate_class_13.java.json.benchmark_log.json', 'hibernate_class_14.java.json.benchmark_log.json', 'hibernate_class_15.java.json.benchmark_log.json', 'hibernate_class_16.java.json.benchmark_log.json', 'hibernate_class_17.java.json.benchmark_log.json', 'hibernate_class_18.java.json.benchmark_log.json', 'hibernate_class_19.java.json.benchmark_log.json', 'hibernate_class_20.java.json.benchmark_log.json', 'hibernate_class_21.java.json.benchmark_log.json', 'hibernate_class_22.java.json.benchmark_log.json', 'hibernate_class_23.java.json.benchmark_log.json', 'hibernate_class_24.java.json.benchmark_log.json', 'hibernate_class_25.java.json.benchmark_log.json', 'hibernate_class_26.java.json.benchmark_log.json', 'hibernate_class_27.java.json.benchmark_log.json', 'hibernate_class_28.java.json.benchmark_log.json', 'hibernate_class_29.java.json.benchmark_log.json', 'hibernate_class_30.java.json.benchmark_log.json', 'hibernate_class_31.java.json.benchmark_log.json', 'hibernate_class_32.java.json.benchmark_log.json', 'hibernate_class_33.java.json.benchmark_log.json', 'hibernate_class_34.java.json.benchmark_log.json', 'hibernate_class_35.java.json.benchmark_log.json', 'hibernate_class_36.java.json.benchmark_log.json', 'hibernate_class_37.java.json.benchmark_log.json', 'hibernate_class_38.java.json.benchmark_log.json', 'hibernate_class_39.java.json.benchmark_log.json', 'hibernate_class_40.java.json.benchmark_log.json', 'hibernate_class_41.java.json.benchmark_log.json', 'hibernate_class_42.java.json.benchmark_log.json', 'hibernate_class_43.java.json.benchmark_log.json', 'hibernate_class_44.java.json.benchmark_log.json', 'hibernate_class_45.java.json.benchmark_log.json', 'hibernate_class_46.java.json.benchmark_log.json', 'hibernate_class_47.java.json.benchmark_log.json', 'hibernate_class_48.java.json.benchmark_log.json', 'hibernate_class_49.java.json.benchmark_log.json', 'hibernate_class_50.java.json.benchmark_log.json', 'xstream_class_1.java.json.benchmark_log.json', 'xstream_class_2.java.json.benchmark_log.json', 'xstream_class_3.java.json.benchmark_log.json', 'xstream_class_4.java.json.benchmark_log.json', 'xstream_class_5.java.json.benchmark_log.json', 'xstream_class_6.java.json.benchmark_log.json', 'xstream_class_7.java.json.benchmark_log.json', 'xstream_class_8.java.json.benchmark_log.json', 'xstream_class_9.java.json.benchmark_log.json', 'xstream_class_10.java.json.benchmark_log.json', 'xstream_class_11.java.json.benchmark_log.json', 'xstream_class_12.java.json.benchmark_log.json', 'xstream_class_13.java.json.benchmark_log.json', 'xstream_class_14.java.json.benchmark_log.json', 'xstream_class_15.java.json.benchmark_log.json', 'xstream_class_16.java.json.benchmark_log.json', 'xstream_class_17.java.json.benchmark_log.json', 'xstream_class_18.java.json.benchmark_log.json', 'xstream_class_19.java.json.benchmark_log.json', 'xstream_class_20.java.json.benchmark_log.json', 'xstream_class_21.java.json.benchmark_log.json', 'xstream_class_22.java.json.benchmark_log.json', 'xstream_class_23.java.json.benchmark_log.json', 'xstream_class_24.java.json.benchmark_log.json', 'xstream_class_25.java.json.benchmark_log.json', 'xstream_class_26.java.json.benchmark_log.json', 'xstream_class_27.java.json.benchmark_log.json', 'xstream_class_28.java.json.benchmark_log.json', 'xstream_class_29.java.json.benchmark_log.json', 'xstream_class_30.java.json.benchmark_log.json', 'xstream_class_31.java.json.benchmark_log.json', 'xstream_class_32.java.json.benchmark_log.json', 'xstream_class_33.java.json.benchmark_log.json', 'xstream_class_34.java.json.benchmark_log.json', 'xstream_class_35.java.json.benchmark_log.json', 'xstream_class_36.java.json.benchmark_log.json', 'xstream_class_37.java.json.benchmark_log.json', 'xstream_class_38.java.json.benchmark_log.json', 'xstream_class_39.java.json.benchmark_log.json', 'xstream_class_40.java.json.benchmark_log.json', 'xstream_class_41.java.json.benchmark_log.json', 'xstream_class_42.java.json.benchmark_log.json', 'xstream_class_43.java.json.benchmark_log.json', 'xstream_class_44.java.json.benchmark_log.json']\n"
     ]
    }
   ],
   "source": [
    "inputFiles = []\n",
    "correctOutputFiles = []\n",
    "    \n",
    "numbers = re.compile(r'(\\d+)')\n",
    "def numericalSort(value):\n",
    "    parts = numbers.split(value)\n",
    "    parts[1::2] = map(int, parts[1::2])\n",
    "    return parts\n",
    "\n",
    "for file in sorted(glob.glob(\"*.java.json\"), key=numericalSort):\n",
    "    inputFiles.append(file)\n",
    "\n",
    "for file in sorted(glob.glob(\"*.benchmark_log.json\"), key=numericalSort):\n",
    "    correctOutputFiles.append(file)\n",
    "\n",
    "print(inputFiles)\n",
    "print('\\n\\n\\n')\n",
    "print(correctOutputFiles)"
   ]
  },
  {
   "cell_type": "code",
   "execution_count": 7,
   "metadata": {},
   "outputs": [],
   "source": [
    "def get_codes(inputFiles):\n",
    "    codes = []\n",
    "    for code in inputFiles:\n",
    "        codes.append(str(json.load(open(code))['originalContent']))\n",
    "\n",
    "    return codes"
   ]
  },
  {
   "cell_type": "code",
   "execution_count": 8,
   "metadata": {},
   "outputs": [],
   "source": [
    "def get_correct_outputs(correctOutputFiles):\n",
    "    correct_outputs = []\n",
    "    for output in correctOutputFiles:\n",
    "        correct_output_list = json.load(open(output))['total_imports']\n",
    "        correct_output_list = [\"import \"+i+\";\" for i in correct_output_list]\n",
    "        correct_outputs.append(correct_output_list)\n",
    "    \n",
    "    for import_lines in correct_outputs:\n",
    "        if \"import gen.R;\" in import_lines:\n",
    "            import_lines.remove(\"import gen.R;\")\n",
    "\n",
    "    return correct_outputs"
   ]
  },
  {
   "cell_type": "code",
   "execution_count": 9,
   "metadata": {},
   "outputs": [],
   "source": [
    "def get_dataset(codes, correct_outputs):\n",
    "    dataset = {\n",
    "        \"codes\": codes,\n",
    "        \"correct_outputs\": correct_outputs\n",
    "    }\n",
    "    return dataset"
   ]
  },
  {
   "cell_type": "code",
   "execution_count": 10,
   "metadata": {},
   "outputs": [],
   "source": [
    "def get_test_examples_and_y_true(dataset):\n",
    "    sample_list = []\n",
    "\n",
    "    for i in range(0, len(dataset[\"codes\"])):\n",
    "        sample_list.append(dict(codes=dataset[\"codes\"][i], correct_outputs=dataset[\"correct_outputs\"][i]))\n",
    "    \n",
    "    # print(sample_list)\n",
    "    \n",
    "    test_examples = [(example[\"codes\"], example[\"correct_outputs\"]) for example in sample_list]\n",
    "    y_true = [correct_outputs for _, correct_outputs in test_examples]\n",
    "    \n",
    "    return test_examples, y_true"
   ]
  },
  {
   "cell_type": "code",
   "execution_count": 11,
   "metadata": {},
   "outputs": [
    {
     "name": "stdout",
     "output_type": "stream",
     "text": [
      "Total Android Codes: 50\n",
      "\n",
      "['Android01.java.json', 'Android02.java.json', 'Android03.java.json', 'Android04.java.json', 'Android05.java.json', 'Android06.java.json', 'Android07.java.json', 'Android08.java.json', 'Android09.java.json', 'Android10.java.json', 'Android11.java.json', 'Android12.java.json', 'Android13.java.json', 'Android14.java.json', 'Android15.java.json', 'Android16.java.json', 'Android17.java.json', 'Android18.java.json', 'Android19.java.json', 'Android20.java.json', 'Android21.java.json', 'Android22.java.json', 'Android23.java.json', 'Android24.java.json', 'Android25.java.json', 'Android26.java.json', 'Android27.java.json', 'Android28.java.json', 'Android29.java.json', 'Android30.java.json', 'Android31.java.json', 'Android32.java.json', 'Android33.java.json', 'Android34.java.json', 'Android35.java.json', 'Android36.java.json', 'Android37.java.json', 'Android38.java.json', 'Android39.java.json', 'Android40.java.json', 'Android41.java.json', 'Android42.java.json', 'Android43.java.json', 'Android44.java.json', 'Android45.java.json', 'Android46.java.json', 'Android47.java.json', 'Android48.java.json', 'Android49.java.json', 'Android50.java.json']\n"
     ]
    }
   ],
   "source": [
    "print(\"Total Android Codes: {}\\n\".format(len(inputFiles[:50])))\n",
    "print(inputFiles[:50])\n",
    "\n",
    "android_codes = get_codes(inputFiles[:50])\n",
    "# print(android_codes)\n",
    "\n",
    "android_correct_outputs = get_correct_outputs(correctOutputFiles[:50])\n",
    "# print(android_correct_outputs)\n",
    "\n",
    "android_dataset = get_dataset(android_codes, android_correct_outputs)\n",
    "# print(android_dataset)\n",
    "\n",
    "android_test_examples, android_y_true = get_test_examples_and_y_true(android_dataset)\n",
    "# print(android_test_examples)"
   ]
  },
  {
   "cell_type": "code",
   "execution_count": 12,
   "metadata": {},
   "outputs": [
    {
     "name": "stdout",
     "output_type": "stream",
     "text": [
      "Total JDK Codes: 23\n",
      "\n",
      "['Class_1.java.json', 'Class_2.java.json', 'Class_3.java.json', 'Class_4.java.json', 'Class_5.java.json', 'Class_6.java.json', 'Class_7.java.json', 'Class_8.java.json', 'Class_9.java.json', 'Class_10.java.json', 'Class_11.java.json', 'Class_12.java.json', 'Class_13.java.json', 'Class_14.java.json', 'Class_15.java.json', 'Class_16.java.json', 'Class_17.java.json', 'Class_18.java.json', 'Class_19.java.json', 'Class_20.java.json', 'Class_21.java.json', 'Class_22.java.json', 'Class_23.java.json']\n"
     ]
    }
   ],
   "source": [
    "print(\"Total JDK Codes: {}\\n\".format(len(inputFiles[50:73])))\n",
    "print(inputFiles[50:73])\n",
    "\n",
    "jdk_codes = get_codes(inputFiles[50:73])\n",
    "# print(jdk_codes)\n",
    "\n",
    "jdk_correct_outputs = get_correct_outputs(correctOutputFiles[50:73])\n",
    "# print(jdk_correct_outputs)\n",
    "\n",
    "jdk_dataset = get_dataset(jdk_codes, jdk_correct_outputs)\n",
    "# print(jdk_dataset)\n",
    "\n",
    "jdk_test_examples, jdk_y_true = get_test_examples_and_y_true(jdk_dataset)\n",
    "# print(jdk_test_examples)"
   ]
  },
  {
   "cell_type": "code",
   "execution_count": 13,
   "metadata": {},
   "outputs": [
    {
     "name": "stdout",
     "output_type": "stream",
     "text": [
      "Total Hibernate Codes: 51\n",
      "\n",
      "['HibernateUtil.java.json', 'hibernate_class_1.java.json', 'hibernate_class_2.java.json', 'hibernate_class_3.java.json', 'hibernate_class_4.java.json', 'hibernate_class_5.java.json', 'hibernate_class_6.java.json', 'hibernate_class_7.java.json', 'hibernate_class_8.java.json', 'hibernate_class_9.java.json', 'hibernate_class_10.java.json', 'hibernate_class_11.java.json', 'hibernate_class_12.java.json', 'hibernate_class_13.java.json', 'hibernate_class_14.java.json', 'hibernate_class_15.java.json', 'hibernate_class_16.java.json', 'hibernate_class_17.java.json', 'hibernate_class_18.java.json', 'hibernate_class_19.java.json', 'hibernate_class_20.java.json', 'hibernate_class_21.java.json', 'hibernate_class_22.java.json', 'hibernate_class_23.java.json', 'hibernate_class_24.java.json', 'hibernate_class_25.java.json', 'hibernate_class_26.java.json', 'hibernate_class_27.java.json', 'hibernate_class_28.java.json', 'hibernate_class_29.java.json', 'hibernate_class_30.java.json', 'hibernate_class_31.java.json', 'hibernate_class_32.java.json', 'hibernate_class_33.java.json', 'hibernate_class_34.java.json', 'hibernate_class_35.java.json', 'hibernate_class_36.java.json', 'hibernate_class_37.java.json', 'hibernate_class_38.java.json', 'hibernate_class_39.java.json', 'hibernate_class_40.java.json', 'hibernate_class_41.java.json', 'hibernate_class_42.java.json', 'hibernate_class_43.java.json', 'hibernate_class_44.java.json', 'hibernate_class_45.java.json', 'hibernate_class_46.java.json', 'hibernate_class_47.java.json', 'hibernate_class_48.java.json', 'hibernate_class_49.java.json', 'hibernate_class_50.java.json']\n"
     ]
    }
   ],
   "source": [
    "print(\"Total Hibernate Codes: {}\\n\".format(len(inputFiles[73:74] + inputFiles[174:224])))\n",
    "print(inputFiles[73:74] + inputFiles[174:224])\n",
    "\n",
    "hibernate_codes = get_codes(inputFiles[73:74] + inputFiles[174:224])\n",
    "# print(hibernate_codes)\n",
    "\n",
    "hibernate_correct_outputs = get_correct_outputs(correctOutputFiles[73:74] + correctOutputFiles[174:224])\n",
    "# print(hibernate_correct_outputs)\n",
    "\n",
    "hibernate_dataset = get_dataset(hibernate_codes, hibernate_correct_outputs)\n",
    "# print(hibernate_dataset)\n",
    "\n",
    "hibernate_test_examples, hibernate_y_true = get_test_examples_and_y_true(hibernate_dataset)\n",
    "# print(hibernate_test_examples)"
   ]
  },
  {
   "cell_type": "code",
   "execution_count": 14,
   "metadata": {},
   "outputs": [
    {
     "name": "stdout",
     "output_type": "stream",
     "text": [
      "Total JodaTime Codes: 50\n",
      "\n",
      "['JodaTime01.java.json', 'JodaTime02.java.json', 'JodaTime03.java.json', 'JodaTime04.java.json', 'JodaTime05.java.json', 'JodaTime06.java.json', 'JodaTime07.java.json', 'JodaTime08.java.json', 'JodaTime09.java.json', 'JodaTime10.java.json', 'JodaTime11.java.json', 'JodaTime12.java.json', 'JodaTime13.java.json', 'JodaTime14.java.json', 'JodaTime15.java.json', 'JodaTime16.java.json', 'JodaTime17.java.json', 'JodaTime18.java.json', 'JodaTime19.java.json', 'JodaTime20.java.json', 'JodaTime21.java.json', 'JodaTime22.java.json', 'JodaTime23.java.json', 'JodaTime24.java.json', 'JodaTime25.java.json', 'JodaTime26.java.json', 'JodaTime27.java.json', 'JodaTime28.java.json', 'JodaTime29.java.json', 'JodaTime30.java.json', 'JodaTime31.java.json', 'JodaTime32.java.json', 'JodaTime33.java.json', 'JodaTime34.java.json', 'JodaTime35.java.json', 'JodaTime36.java.json', 'JodaTime37.java.json', 'JodaTime38.java.json', 'JodaTime39.java.json', 'JodaTime40.java.json', 'JodaTime41.java.json', 'JodaTime42.java.json', 'JodaTime43.java.json', 'JodaTime44.java.json', 'JodaTime45.java.json', 'JodaTime46.java.json', 'JodaTime47.java.json', 'JodaTime48.java.json', 'JodaTime49.java.json', 'JodaTime50.java.json']\n"
     ]
    }
   ],
   "source": [
    "print(\"Total JodaTime Codes: {}\\n\".format(len(inputFiles[74:124])))\n",
    "print(inputFiles[74:124])\n",
    "\n",
    "jodatime_codes = get_codes(inputFiles[74:124])\n",
    "# print(jodatime_codes)\n",
    "\n",
    "jodatime_correct_outputs = get_correct_outputs(correctOutputFiles[74:124])\n",
    "# print(jodatime_correct_outputs)\n",
    "\n",
    "jodatime_dataset = get_dataset(jodatime_codes, jodatime_correct_outputs)\n",
    "# print(jodatime_dataset)\n",
    "\n",
    "jodatime_test_examples, jodatime_y_true = get_test_examples_and_y_true(jodatime_dataset)\n",
    "# print(jodatime_test_examples)"
   ]
  },
  {
   "cell_type": "code",
   "execution_count": 15,
   "metadata": {},
   "outputs": [
    {
     "name": "stdout",
     "output_type": "stream",
     "text": [
      "Total GWT Codes: 50\n",
      "\n",
      "['gwt_class_1.java.json', 'gwt_class_2.java.json', 'gwt_class_3.java.json', 'gwt_class_4.java.json', 'gwt_class_5.java.json', 'gwt_class_6.java.json', 'gwt_class_7.java.json', 'gwt_class_8.java.json', 'gwt_class_9.java.json', 'gwt_class_10.java.json', 'gwt_class_11.java.json', 'gwt_class_12.java.json', 'gwt_class_13.java.json', 'gwt_class_14.java.json', 'gwt_class_15.java.json', 'gwt_class_16.java.json', 'gwt_class_17.java.json', 'gwt_class_18.java.json', 'gwt_class_19.java.json', 'gwt_class_20.java.json', 'gwt_class_21.java.json', 'gwt_class_22.java.json', 'gwt_class_23.java.json', 'gwt_class_24.java.json', 'gwt_class_25.java.json', 'gwt_class_26.java.json', 'gwt_class_27.java.json', 'gwt_class_28.java.json', 'gwt_class_29.java.json', 'gwt_class_30.java.json', 'gwt_class_31.java.json', 'gwt_class_32.java.json', 'gwt_class_33.java.json', 'gwt_class_34.java.json', 'gwt_class_35.java.json', 'gwt_class_36.java.json', 'gwt_class_37.java.json', 'gwt_class_38.java.json', 'gwt_class_39.java.json', 'gwt_class_40.java.json', 'gwt_class_41.java.json', 'gwt_class_42.java.json', 'gwt_class_43.java.json', 'gwt_class_44.java.json', 'gwt_class_45.java.json', 'gwt_class_46.java.json', 'gwt_class_47.java.json', 'gwt_class_48.java.json', 'gwt_class_49.java.json', 'gwt_class_50.java.json']\n"
     ]
    }
   ],
   "source": [
    "print(\"Total GWT Codes: {}\\n\".format(len(inputFiles[124:174])))\n",
    "print(inputFiles[124:174])\n",
    "\n",
    "gwt_codes = get_codes(inputFiles[124:174])\n",
    "# print(gwt_codes)\n",
    "\n",
    "gwt_correct_outputs = get_correct_outputs(correctOutputFiles[124:174])\n",
    "# print(gwt_correct_outputs)\n",
    "\n",
    "gwt_dataset = get_dataset(gwt_codes, gwt_correct_outputs)\n",
    "# print(gwt_dataset)\n",
    "\n",
    "gwt_test_examples, gwt_y_true = get_test_examples_and_y_true(gwt_dataset)\n",
    "# print(gwt_test_examples)"
   ]
  },
  {
   "cell_type": "code",
   "execution_count": 16,
   "metadata": {},
   "outputs": [
    {
     "name": "stdout",
     "output_type": "stream",
     "text": [
      "Total XStream Codes: 44\n",
      "\n",
      "['xstream_class_1.java.json', 'xstream_class_2.java.json', 'xstream_class_3.java.json', 'xstream_class_4.java.json', 'xstream_class_5.java.json', 'xstream_class_6.java.json', 'xstream_class_7.java.json', 'xstream_class_8.java.json', 'xstream_class_9.java.json', 'xstream_class_10.java.json', 'xstream_class_11.java.json', 'xstream_class_12.java.json', 'xstream_class_13.java.json', 'xstream_class_14.java.json', 'xstream_class_15.java.json', 'xstream_class_16.java.json', 'xstream_class_17.java.json', 'xstream_class_18.java.json', 'xstream_class_19.java.json', 'xstream_class_20.java.json', 'xstream_class_21.java.json', 'xstream_class_22.java.json', 'xstream_class_23.java.json', 'xstream_class_24.java.json', 'xstream_class_25.java.json', 'xstream_class_26.java.json', 'xstream_class_27.java.json', 'xstream_class_28.java.json', 'xstream_class_29.java.json', 'xstream_class_30.java.json', 'xstream_class_31.java.json', 'xstream_class_32.java.json', 'xstream_class_33.java.json', 'xstream_class_34.java.json', 'xstream_class_35.java.json', 'xstream_class_36.java.json', 'xstream_class_37.java.json', 'xstream_class_38.java.json', 'xstream_class_39.java.json', 'xstream_class_40.java.json', 'xstream_class_41.java.json', 'xstream_class_42.java.json', 'xstream_class_43.java.json', 'xstream_class_44.java.json']\n"
     ]
    }
   ],
   "source": [
    "print(\"Total XStream Codes: {}\\n\".format(len(inputFiles[224:268])))\n",
    "print(inputFiles[224:268])\n",
    "\n",
    "xstream_codes = get_codes(inputFiles[224:268])\n",
    "# print(xstream_codes)\n",
    "\n",
    "xstream_correct_outputs = get_correct_outputs(correctOutputFiles[224:268])\n",
    "# print(xstream_correct_outputs)\n",
    "\n",
    "xstream_dataset = get_dataset(xstream_codes, xstream_correct_outputs)\n",
    "# print(xstream_dataset)\n",
    "\n",
    "xstream_test_examples, xstream_y_true = get_test_examples_and_y_true(xstream_dataset)\n",
    "# print(xstream_test_examples)"
   ]
  },
  {
   "cell_type": "code",
   "execution_count": 17,
   "metadata": {},
   "outputs": [],
   "source": [
    "def group_imports(predicted_imports):\n",
    "    added_imports = []\n",
    "    for import_group in predicted_imports:\n",
    "        new_group = []\n",
    "        for import_statement in import_group:\n",
    "            new_group.append(import_statement)\n",
    "        added_imports.append(new_group)\n",
    "    \n",
    "    return added_imports"
   ]
  },
  {
   "cell_type": "code",
   "execution_count": 18,
   "metadata": {},
   "outputs": [],
   "source": [
    "def append_imports(save_directory, code_name, list_of_java_codes, list_of_imports):\n",
    "    code_import_dict = {}\n",
    "    # Check if lengths match\n",
    "    if len(list_of_java_codes) != len(list_of_imports):\n",
    "        print(\"Mismatch between number of Java code strings and import lists!\")\n",
    "    else:\n",
    "        # Zip the lists together into a dictionary\n",
    "        code_import_dict = {i: (imports, code) for i, (imports, code) in enumerate(zip(list_of_imports, list_of_java_codes))}\n",
    "\n",
    "    # Prepend the imports to the Java codes, save each to a .java file\n",
    "    for index, (imports, code) in code_import_dict.items():\n",
    "        # Split the code into lines\n",
    "        lines = code.split('\\n')\n",
    "        \n",
    "        # Find the line with the package declaration\n",
    "        package_line_index = next((i for i, line in enumerate(lines) if line.strip().startswith('package ')), None)\n",
    "\n",
    "        # If a package declaration is found, insert the imports after it\n",
    "        if package_line_index is not None:\n",
    "            lines = lines[:package_line_index+1] + imports + lines[package_line_index+1:]\n",
    "        else:\n",
    "            # If not, prepend the imports to the code\n",
    "            lines = imports + lines\n",
    "\n",
    "        full_code = '\\n'.join(lines)\n",
    "        file_name = \"\"\n",
    "        if code_name == \"android\":\n",
    "            if index<9:\n",
    "                file_name = f\"Android0{index+1}.java\"\n",
    "            else:\n",
    "                file_name = f\"Android{index+1}.java\"\n",
    "        elif code_name == \"jdk\":\n",
    "            file_name = f\"Class_{index+1}.java\" \n",
    "        elif code_name == \"hibernate\":\n",
    "            if index == 0:\n",
    "                file_name = f\"HibernateUtil.java\"\n",
    "            else:\n",
    "                file_name = f\"hibernate_class_{index}.java\"\n",
    "        elif code_name == \"jodatime\":\n",
    "            if index<9:\n",
    "                file_name = f\"JodaTime0{index+1}.java\"\n",
    "            else:\n",
    "                file_name = f\"JodaTime{index+1}.java\"\n",
    "        elif code_name == \"gwt\":\n",
    "            file_name = f\"gwt_class_{index+1}.java\"\n",
    "        elif code_name == \"xstream\":\n",
    "            file_name = f\"xstream_class_{index+1}.java\"\n",
    "        full_path = os.path.join(save_directory, file_name)\n",
    "\n",
    "        # Save the full code to a .java file\n",
    "        with open(full_path, \"w\") as f:\n",
    "            f.write(full_code)"
   ]
  },
  {
   "cell_type": "markdown",
   "metadata": {},
   "source": [
    "# Base Prompt Implementation"
   ]
  },
  {
   "cell_type": "code",
   "execution_count": 19,
   "metadata": {},
   "outputs": [],
   "source": [
    "MODEL = 'gpt-3.5-turbo'"
   ]
  },
  {
   "cell_type": "code",
   "execution_count": 20,
   "metadata": {},
   "outputs": [],
   "source": [
    "def pred_process(y_pred, y_true):\n",
    "    y_pred_processed = []\n",
    "    y_true_processed = []\n",
    "    \n",
    "    for pred, correct_imports in zip(y_pred, y_true):\n",
    "        max_length = max(len(pred), len(correct_imports))\n",
    "        correct_preds = list(set(pred).intersection(correct_imports))\n",
    "#         print('Correct Predictions:', correct_preds)\n",
    "#         wrong_preds = max_length - len(correct_preds)\n",
    "#         print('Wrong Predictions:', wrong_preds)\n",
    "\n",
    "        for i in range(0, max_length):\n",
    "            if i<len(correct_preds):\n",
    "                y_pred_processed.append(1)\n",
    "                y_true_processed.append(1)\n",
    "            else:\n",
    "                if i<len(correct_imports):\n",
    "                    y_pred_processed.append(0)\n",
    "                    y_true_processed.append(1)\n",
    "                else:\n",
    "                    y_pred_processed.append(1)\n",
    "                    y_true_processed.append(0)\n",
    "            \n",
    "    print(y_pred_processed)\n",
    "    print(y_true_processed)\n",
    "    print()\n",
    "    return y_pred_processed, y_true_processed"
   ]
  },
  {
   "cell_type": "code",
   "execution_count": 21,
   "metadata": {},
   "outputs": [],
   "source": [
    "def eval_performance(y_pred, y_true):\n",
    "    print(json.dumps({\n",
    "        \"accuracy\": accuracy_score(y_true, y_pred),\n",
    "        \"f1\": f1_score(y_true, y_pred),\n",
    "        \"recall\": recall_score(y_true, y_pred),\n",
    "        \"precision\": precision_score(y_true, y_pred)\n",
    "    }, indent=2))"
   ]
  },
  {
   "cell_type": "code",
   "execution_count": 22,
   "metadata": {},
   "outputs": [],
   "source": [
    "def get_prediction(code_snippet):\n",
    "    retry_delay = 2\n",
    "    while True:\n",
    "        try:\n",
    "            response = openai.ChatCompletion.create(\n",
    "                model=MODEL,\n",
    "                messages=[\n",
    "                    {\"role\": \"system\", \"content\": \"Reply with only code, no elaboration.\"},\n",
    "                    {\"role\": \"user\", \"content\": f\"Make the code below compilable:\\n\\n{code_snippet}\"},\n",
    "                ],\n",
    "                temperature=0.5,\n",
    "            )\n",
    "            \n",
    "            return response[\"choices\"][0][\"message\"][\"content\"]\n",
    "        \n",
    "        except Exception as e:\n",
    "            time.sleep(retry_delay)"
   ]
  },
  {
   "cell_type": "code",
   "execution_count": 23,
   "metadata": {},
   "outputs": [],
   "source": [
    "def extract_code(input_string):\n",
    "    pattern = r\"(package|import|@[\\w]+|public|private|protected).*\\}\\s*$\"\n",
    "    match = re.search(pattern, input_string, re.DOTALL | re.MULTILINE)\n",
    "    \n",
    "    if match:\n",
    "        return match.group(0)\n",
    "    else:\n",
    "        # print(\"No valid code block found!\")\n",
    "        return \"No valid code block found!\""
   ]
  },
  {
   "cell_type": "code",
   "execution_count": 24,
   "metadata": {},
   "outputs": [],
   "source": [
    "def get_predictions(dataset):\n",
    "    y_pred = []\n",
    "    predicted_codes = []\n",
    "    for code_snippet, correct_imports in tqdm(dataset):\n",
    "        predicted_code = extract_code(get_prediction(code_snippet))\n",
    "        predicted_import = re.findall(r\"import\\s+[\\w\\., ]+;\", predicted_code)\n",
    "        y_pred.append(predicted_import)\n",
    "        predicted_codes.append(predicted_code)\n",
    "    return y_pred, predicted_codes"
   ]
  },
  {
   "cell_type": "code",
   "execution_count": 25,
   "metadata": {},
   "outputs": [],
   "source": [
    "save_directory = \"/home/azmain/code_for_compilation_test/base-prompt/\""
   ]
  },
  {
   "cell_type": "code",
   "execution_count": 26,
   "metadata": {},
   "outputs": [
    {
     "name": "stdout",
     "output_type": "stream",
     "text": [
      "\n",
      "Prediction for Android Classes:\n",
      "\n"
     ]
    },
    {
     "name": "stderr",
     "output_type": "stream",
     "text": [
      "100%|██████████| 50/50 [07:32<00:00,  9.05s/it]"
     ]
    },
    {
     "name": "stdout",
     "output_type": "stream",
     "text": [
      "\n",
      "Predicted Import List: [['import android.app.Activity;', 'import android.os.Bundle;', 'import android.widget.TextView;'], ['import android.app.Activity;', 'import android.os.Bundle;'], ['import android.graphics.drawable.Drawable;', 'import com.google.android.maps.ItemizedOverlay;', 'import com.google.android.maps.OverlayItem;', 'import com.google.android.maps.GeoPoint;'], ['import android.app.Activity;', 'import android.os.Bundle;', 'import android.widget.TextView;'], ['import android.widget.TabHost;', 'import android.widget.TabHost.TabSpec;', 'import android.graphics.drawable.Drawable;'], ['import android.view.Gravity;', 'import android.view.ViewGroup;', 'import android.widget.LinearLayout;'], ['import android.app.Activity;', 'import android.os.Bundle;', 'import android.view.View;', 'import android.widget.ArrayAdapter;'], ['import java.io.IOException;', 'import java.net.Inet4Address;', 'import java.net.InetAddress;', 'import java.net.Socket;', 'import java.net.UnknownHostException;'], ['import android.os.Bundle;', 'import android.widget.TextView;', 'import java.util.Timer;', 'import java.util.TimerTask;'], ['import android.os.SystemClock;', 'import android.util.Log;', 'import android.widget.Chronometer;'], ['import android.content.Context;', 'import android.graphics.Canvas;', 'import android.location.Location;', 'import com.google.android.maps.GeoPoint;', 'import com.google.android.maps.MapView;', 'import com.google.android.maps.MyLocationOverlay;'], ['import android.app.Activity;', 'import android.graphics.Color;', 'import android.os.Bundle;', 'import android.view.ViewGroup;', 'import android.widget.LinearLayout;', 'import android.widget.TextView;'], ['import android.content.ContentResolver;', 'import android.graphics.Bitmap;', 'import android.graphics.BitmapFactory;', 'import android.net.Uri;', 'import java.io.ByteArrayInputStream;', 'import java.io.ByteArrayOutputStream;', 'import java.io.FileNotFoundException;', 'import java.io.IOException;'], ['import java.io.File;', 'import java.io.FileNotFoundException;', 'import java.io.FileOutputStream;', 'import java.io.IOException;', 'import java.io.InputStream;', 'import java.net.HttpURLConnection;', 'import java.net.MalformedURLException;', 'import java.net.ProtocolException;', 'import java.net.URL;'], ['import android.content.Intent;', 'import android.net.Uri;'], ['import android.content.Context;', 'import android.graphics.Canvas;', 'import android.util.AttributeSet;', 'import android.util.Log;', 'import android.view.MotionEvent;', 'import android.view.View;', 'import android.widget.SeekBar;'], ['import java.io.IOException;', 'import java.io.InputStreamReader;', 'import java.net.URI;', 'import java.net.URISyntaxException;', 'import org.apache.http.HttpEntity;', 'import org.apache.http.HttpResponse;', 'import org.apache.http.client.HttpClient;', 'import org.apache.http.client.methods.HttpGet;', 'import org.apache.http.impl.client.DefaultHttpClient;', 'import org.apache.http.util.EntityUtils;'], ['import android.app.Activity;', 'import android.content.DialogInterface;', 'import android.content.Intent;', 'import android.os.Bundle;', 'import android.view.View.OnClickListener;'], ['import android.content.Context;', 'import android.view.View;', 'import android.view.ViewGroup;', 'import android.widget.GridView;', 'import android.widget.ImageView;'], ['import android.content.Context;', 'import android.view.View;', 'import android.view.animation.ScaleAnimation;', 'import android.widget.TextView;'], ['import android.content.Context;', 'import android.widget.ImageButton;', 'import android.widget.LinearLayout;'], ['import android.app.ListActivity;', 'import android.content.Intent;', 'import android.database.Cursor;', 'import android.os.Bundle;', 'import android.provider.Contacts.People;', 'import android.view.View;', 'import android.widget.ListView;', 'import android.widget.SimpleCursorAdapter;'], ['import android.app.Activity;', 'import android.graphics.Bitmap;', 'import android.graphics.BitmapFactory;', 'import android.os.Bundle;', 'import android.widget.ArrayAdapter;', 'import android.widget.ImageView;', 'import android.widget.ListView;', 'import java.io.IOException;', 'import java.net.HttpURLConnection;', 'import java.net.MalformedURLException;', 'import java.net.URL;', 'import java.util.ArrayList;', 'import java.util.Random;'], ['import android.app.Activity;', 'import android.content.Context;', 'import android.location.LocationManager;', 'import android.os.Bundle;', 'import android.util.Log;', 'import java.util.Iterator;', 'import java.util.List;'], ['import android.app.ListActivity;', 'import android.content.Context;', 'import android.database.sqlite.SQLiteDatabase;', 'import android.os.Bundle;', 'import java.util.ArrayList;'], ['import android.content.Context;', 'import android.view.KeyEvent;', 'import android.view.MotionEvent;', 'import android.view.View;', 'import android.widget.ScrollView;'], ['import android.content.Context;', 'import android.view.View;', 'import android.view.ViewGroup;', 'import android.widget.BaseAdapter;', 'import android.widget.GridView;', 'import android.widget.TextView;'], ['import android.app.Application;', 'import android.content.Context;'], ['import android.app.Service;', 'import android.content.Context;', 'import android.content.Intent;', 'import android.os.IBinder;', 'import android.os.PowerManager;', 'import android.os.PowerManager.WakeLock;'], ['import java.io.IOException;', 'import org.apache.http.HttpEntity;', 'import org.apache.http.HttpHost;', 'import org.apache.http.HttpResponse;', 'import org.apache.http.client.HttpClient;', 'import org.apache.http.client.methods.HttpGet;', 'import org.apache.http.impl.client.DefaultHttpClient;', 'import org.apache.http.util.EntityUtils;'], ['import android.content.Context;', 'import android.os.PowerManager;'], ['import java.io.File;', 'import java.io.IOException;', 'import android.media.MediaRecorder;', 'import android.os.Environment;'], ['import android.content.Context;', 'import android.graphics.PixelFormat;', 'import android.hardware.Camera;', 'import android.hardware.Camera.Parameters;', 'import android.view.SurfaceHolder;', 'import java.io.IOException;'], ['import android.app.TabActivity;', 'import android.os.Bundle;', 'import android.util.Log;', 'import android.view.View;', 'import android.view.View.OnClickListener;', 'import android.widget.ListView;', 'import android.widget.TabHost;', 'import android.widget.TabHost.OnTabChangeListener;', 'import android.widget.TabHost.TabContentFactory;'], ['import android.media.MediaRecorder;', 'import java.io.File;', 'import java.io.IOException;'], ['import android.content.ContentValues;', 'import android.database.sqlite.SQLiteDatabase;'], ['import android.app.Activity;', 'import android.app.ProgressDialog;', 'import android.os.Bundle;', 'import android.os.Handler;', 'import android.os.Message;'], ['import java.io.DataInputStream;', 'import java.io.DataOutputStream;', 'import java.io.File;', 'import java.io.FileInputStream;', 'import java.io.IOException;', 'import java.net.HttpURLConnection;', 'import java.net.MalformedURLException;', 'import java.net.URL;'], ['import android.os.Bundle;', 'import android.widget.LinearLayout;', 'import com.google.android.maps.MapActivity;', 'import com.google.android.maps.MapController;', 'import com.google.android.maps.MapView;', 'import com.google.android.maps.MyLocationOverlay;', 'import com.google.android.maps.Overlay;', 'import java.util.List;'], ['import android.app.Activity;', 'import android.os.Bundle;', 'import android.util.Log;', 'import android.view.View;', 'import android.view.View.OnClickListener;', 'import android.widget.ImageView;', 'import android.widget.SlidingDrawer;'], ['import android.content.Context;', 'import android.graphics.Color;', 'import android.view.View;', 'import android.widget.TextView;'], ['import android.app.Activity;', 'import android.content.Intent;', 'import android.content.pm.ActivityInfo;', 'import android.graphics.PixelFormat;', 'import android.media.MediaPlayer;', 'import android.net.Uri;', 'import android.os.Bundle;', 'import android.util.Log;', 'import android.view.SurfaceHolder;', 'import android.view.View;', 'import android.webkit.URLUtil;', 'import android.widget.Button;', 'import android.widget.MediaController;', 'import android.widget.VideoView;', 'import java.io.File;', 'import java.io.FileOutputStream;', 'import java.io.IOException;', 'import java.io.InputStream;', 'import java.net.URL;', 'import java.net.URLConnection;'], ['import org.apache.http.HttpEntity;', 'import org.apache.http.HttpHost;', 'import org.apache.http.HttpResponse;', 'import org.apache.http.client.HttpClient;', 'import org.apache.http.client.methods.HttpGet;', 'import org.apache.http.impl.client.DefaultHttpClient;', 'import org.apache.http.util.EntityUtils;', 'import java.io.IOException;'], ['import android.app.Service;', 'import android.content.Intent;', 'import android.os.IBinder;'], ['import android.app.Activity;', 'import android.content.BroadcastReceiver;', 'import android.content.ComponentName;', 'import android.content.Context;', 'import android.content.Intent;', 'import android.content.IntentFilter;', 'import android.os.Bundle;', 'import android.util.Log;'], ['import android.app.Activity;', 'import android.content.Intent;', 'import android.os.Bundle;', 'import android.view.View;', 'import android.widget.Button;', 'import android.widget.EditText;'], ['import android.app.Activity;', 'import android.os.Bundle;', 'import android.widget.TextView;', 'import org.apache.http.client.ClientProtocolException;', 'import org.apache.http.client.methods.HttpGet;', 'import org.apache.http.impl.client.DefaultHttpClient;', 'import java.io.IOException;'], ['import android.app.AlertDialog;', 'import android.app.Dialog;', 'import android.content.Context;', 'import android.graphics.Bitmap;', 'import android.graphics.BitmapFactory;', 'import android.hardware.Camera;', 'import android.hardware.Camera.PictureCallback;', 'import android.view.View;', 'import android.widget.ImageView;', 'import android.widget.TextView;'], ['import android.content.Context;', 'import android.util.AttributeSet;', 'import android.view.Gravity;', 'import android.view.LayoutInflater;', 'import android.widget.LinearLayout;'], ['import android.app.Activity;', 'import android.os.Bundle;', 'import android.view.View;', 'import android.widget.Button;', 'import android.widget.EditText;', 'import android.widget.TextView;', 'import android.util.Log;', 'import java.text.NumberFormat;']]\n",
      "\n",
      "Correct Import List: [['import android.app.Activity;', 'import android.os.Bundle;', 'import android.widget.TextView;'], ['import android.app.Activity;', 'import android.os.Bundle;'], ['import com.google.android.maps.GeoPoint;', 'import com.google.android.maps.ItemizedOverlay;', 'import com.google.android.maps.OverlayItem;', 'import android.graphics.drawable.Drawable;'], ['import android.app.Activity;', 'import android.os.Bundle;', 'import android.widget.TextView;'], ['import android.graphics.drawable.Drawable;', 'import android.widget.TabHost;', 'import android.widget.TabHost.TabSpec;'], ['import android.view.Gravity;', 'import android.view.ViewGroup;', 'import android.widget.LinearLayout;'], ['import android.app.Activity;', 'import android.os.Bundle;', 'import android.view.View;', 'import android.widget.ArrayAdapter;'], ['import java.io.IOException;', 'import java.net.Inet4Address;', 'import java.net.InetAddress;', 'import java.net.Socket;', 'import java.net.UnknownHostException;', 'import android.util.Log;'], ['import java.util.Timer;', 'import java.util.TimerTask;', 'import android.os.Bundle;', 'import android.widget.TextView;'], ['import android.os.SystemClock;', 'import android.util.Log;', 'import android.widget.Chronometer;'], ['import com.google.android.maps.GeoPoint;', 'import com.google.android.maps.MapView;', 'import com.google.android.maps.MyLocationOverlay;', 'import android.content.Context;', 'import android.graphics.Canvas;', 'import android.location.Location;'], ['import android.app.Activity;', 'import android.graphics.Color;', 'import android.os.Bundle;', 'import android.view.ViewGroup;', 'import android.widget.LinearLayout;', 'import android.widget.TextView;'], ['import java.io.ByteArrayInputStream;', 'import java.io.ByteArrayOutputStream;', 'import java.io.FileNotFoundException;', 'import java.io.IOException;', 'import android.content.ContentResolver;', 'import android.graphics.Bitmap;', 'import android.net.Uri;', 'import android.provider.MediaStore.Images.Media;'], ['import java.io.File;', 'import java.io.FileNotFoundException;', 'import java.io.FileOutputStream;', 'import java.io.IOException;', 'import java.io.InputStream;', 'import java.net.HttpURLConnection;', 'import java.net.MalformedURLException;', 'import java.net.ProtocolException;', 'import java.net.URL;'], ['import android.content.Intent;', 'import android.net.Uri;'], ['import android.content.Context;', 'import android.graphics.Canvas;', 'import android.util.AttributeSet;', 'import android.util.Log;', 'import android.view.MotionEvent;', 'import android.view.View;', 'import android.widget.SeekBar;'], ['import java.io.IOException;', 'import java.io.InputStreamReader;', 'import java.net.URI;', 'import java.net.URISyntaxException;', 'import org.apache.http.HttpEntity;', 'import org.apache.http.HttpResponse;', 'import org.apache.http.client.HttpClient;', 'import org.apache.http.client.methods.HttpGet;', 'import org.apache.http.impl.client.DefaultHttpClient;', 'import android.util.Log;'], ['import android.app.Activity;', 'import android.content.DialogInterface;', 'import android.content.DialogInterface.OnClickListener;', 'import android.content.Intent;', 'import android.os.Bundle;'], ['import android.content.Context;', 'import android.view.View;', 'import android.view.ViewGroup;', 'import android.widget.GridView;', 'import android.widget.ImageView;'], ['import android.content.Context;', 'import android.view.View;', 'import android.view.animation.ScaleAnimation;', 'import android.widget.TextView;'], ['import android.content.Context;', 'import android.widget.ImageButton;', 'import android.widget.LinearLayout;'], ['import android.app.ListActivity;', 'import android.content.Intent;', 'import android.database.Cursor;', 'import android.os.Bundle;', 'import android.provider.Contacts.People;', 'import android.provider.ContactsContract.CommonDataKinds.Note;', 'import android.view.View;', 'import android.widget.ListAdapter;', 'import android.widget.ListView;', 'import android.widget.SimpleCursorAdapter;', 'import android.widget.TextView;'], ['import java.io.IOException;', 'import java.net.HttpURLConnection;', 'import java.net.MalformedURLException;', 'import java.net.URL;', 'import java.util.ArrayList;', 'import java.util.Random;', 'import android.app.Activity;', 'import android.graphics.Bitmap;', 'import android.graphics.BitmapFactory;', 'import android.os.Bundle;', 'import android.widget.ArrayAdapter;', 'import android.widget.ImageView;', 'import android.widget.ListView;'], ['import java.util.Iterator;', 'import java.util.List;', 'import android.app.Activity;', 'import android.content.Context;', 'import android.location.LocationManager;', 'import android.os.Bundle;', 'import android.util.Log;'], ['import java.util.ArrayList;', 'import android.app.ListActivity;', 'import android.content.Context;', 'import android.database.sqlite.SQLiteDatabase;', 'import android.os.Bundle;'], ['import android.content.Context;', 'import android.view.KeyEvent;', 'import android.view.MotionEvent;', 'import android.view.View;', 'import android.view.View.OnTouchListener;', 'import android.widget.ScrollView;'], ['import android.content.Context;', 'import android.view.View;', 'import android.view.ViewGroup;', 'import android.widget.BaseAdapter;', 'import android.widget.GridView;', 'import android.widget.TextView;'], ['import android.content.Context;'], ['import android.app.Service;', 'import android.content.Context;', 'import android.content.Intent;', 'import android.os.IBinder;', 'import android.os.PowerManager;', 'import android.os.PowerManager.WakeLock;'], ['import java.io.IOException;', 'import org.apache.http.HttpEntity;', 'import org.apache.http.HttpHost;', 'import org.apache.http.HttpResponse;', 'import org.apache.http.client.HttpClient;', 'import org.apache.http.client.methods.HttpGet;', 'import org.apache.http.impl.client.DefaultHttpClient;', 'import org.apache.http.util.EntityUtils;'], ['import android.content.Context;', 'import android.os.PowerManager;'], ['import java.io.File;', 'import java.io.IOException;', 'import android.media.MediaRecorder;', 'import android.os.Environment;'], ['import java.io.IOException;', 'import android.content.Context;', 'import android.graphics.PixelFormat;', 'import android.hardware.Camera;', 'import android.hardware.Camera.Parameters;', 'import android.view.SurfaceHolder;'], ['import android.app.TabActivity;', 'import android.os.Bundle;', 'import android.util.Log;', 'import android.view.View;', 'import android.view.View.OnClickListener;', 'import android.widget.ListView;', 'import android.widget.TabHost;', 'import android.widget.TabHost.OnTabChangeListener;', 'import android.widget.TabHost.TabContentFactory;'], ['import java.io.File;', 'import java.io.IOException;', 'import android.media.MediaRecorder;'], ['import android.content.ContentValues;', 'import android.database.sqlite.SQLiteDatabase;'], ['import android.app.Activity;', 'import android.app.ProgressDialog;', 'import android.os.Handler;', 'import android.os.Message;'], ['import java.io.DataInputStream;', 'import java.io.DataOutputStream;', 'import java.io.File;', 'import java.io.FileInputStream;', 'import java.io.IOException;', 'import java.io.InputStream;', 'import java.net.HttpURLConnection;', 'import java.net.MalformedURLException;', 'import java.net.URL;'], ['import java.util.List;', 'import android.os.Bundle;', 'import com.google.android.maps.MapActivity;', 'import com.google.android.maps.MapController;', 'import com.google.android.maps.MapView;', 'import com.google.android.maps.MyLocationOverlay;', 'import com.google.android.maps.Overlay;'], ['import android.app.Activity;', 'import android.os.Bundle;', 'import android.util.Log;', 'import android.view.View;', 'import android.view.View.OnClickListener;', 'import android.widget.ImageView;', 'import android.widget.SlidingDrawer;'], ['import android.content.Context;', 'import android.graphics.Color;', 'import android.view.View;', 'import android.widget.TextView;'], ['import java.io.File;', 'import java.io.FileOutputStream;', 'import java.io.IOException;', 'import java.io.InputStream;', 'import java.net.URL;', 'import java.net.URLConnection;', 'import android.app.Activity;', 'import android.content.Intent;', 'import android.content.pm.ActivityInfo;', 'import android.graphics.PixelFormat;', 'import android.media.MediaPlayer;', 'import android.media.MediaPlayer.OnBufferingUpdateListener;', 'import android.media.MediaPlayer.OnCompletionListener;', 'import android.media.MediaPlayer.OnErrorListener;', 'import android.media.MediaPlayer.OnPreparedListener;', 'import android.os.Bundle;', 'import android.util.Log;', 'import android.view.SurfaceHolder;', 'import android.view.SurfaceView;', 'import android.view.View;', 'import android.webkit.URLUtil;', 'import android.widget.Button;'], ['import java.io.IOException;', 'import org.apache.http.HttpEntity;', 'import org.apache.http.HttpHost;', 'import org.apache.http.HttpResponse;', 'import org.apache.http.client.HttpClient;', 'import org.apache.http.client.methods.HttpGet;', 'import org.apache.http.impl.client.DefaultHttpClient;', 'import org.apache.http.util.EntityUtils;'], ['import android.app.Service;', 'import android.content.Intent;', 'import android.os.IBinder;'], ['import android.app.Activity;', 'import android.content.BroadcastReceiver;', 'import android.content.ComponentName;', 'import android.content.Context;', 'import android.content.Intent;', 'import android.content.IntentFilter;', 'import android.content.IntentFilter.MalformedMimeTypeException;', 'import android.os.Bundle;', 'import android.util.Log;'], ['import android.app.Activity;', 'import android.content.Intent;', 'import android.os.Bundle;', 'import android.view.View;', 'import android.widget.Button;', 'import android.widget.EditText;'], ['import org.apache.http.impl.client.DefaultHttpClient;', 'import java.io.IOException;', 'import org.apache.http.client.ClientProtocolException;', 'import org.apache.http.client.methods.HttpGet;', 'import android.app.Activity;', 'import android.os.Bundle;', 'import android.widget.TextView;'], ['import android.app.AlertDialog;', 'import android.app.Dialog;', 'import android.content.Context;', 'import android.graphics.Bitmap;', 'import android.graphics.BitmapFactory;', 'import android.hardware.Camera;', 'import android.hardware.Camera.PictureCallback;', 'import android.widget.ImageView;', 'import android.widget.TextView;'], ['import android.content.Context;', 'import android.util.AttributeSet;', 'import android.view.Gravity;', 'import android.view.LayoutInflater;', 'import android.widget.LinearLayout;'], ['import android.app.Activity;', 'import android.os.Bundle;', 'import android.widget.TextView;', 'import android.view.View;', 'import android.widget.Button;', 'import android.widget.EditText;', 'import java.text.NumberFormat;', 'import android.util.Log;']]\n",
      "[1, 1, 1, 1, 1, 1, 1, 1, 1, 1, 1, 1, 1, 1, 1, 1, 1, 1, 1, 1, 1, 1, 1, 1, 1, 1, 1, 0, 1, 1, 1, 1, 1, 1, 1, 1, 1, 1, 1, 1, 1, 1, 1, 1, 1, 1, 1, 1, 1, 1, 1, 1, 1, 1, 0, 1, 1, 1, 1, 1, 1, 1, 1, 1, 1, 1, 1, 1, 1, 1, 1, 1, 1, 1, 1, 1, 1, 1, 1, 1, 1, 1, 0, 1, 1, 1, 1, 0, 1, 1, 1, 1, 1, 1, 1, 1, 1, 1, 1, 1, 1, 1, 1, 1, 1, 1, 1, 1, 0, 0, 0, 1, 1, 1, 1, 1, 1, 1, 1, 1, 1, 1, 1, 1, 1, 1, 1, 1, 1, 1, 1, 1, 1, 1, 1, 1, 1, 1, 1, 1, 1, 0, 1, 1, 1, 1, 1, 1, 1, 1, 1, 1, 1, 1, 1, 1, 1, 1, 1, 1, 1, 1, 1, 1, 1, 1, 1, 1, 1, 1, 1, 1, 1, 1, 1, 1, 1, 1, 1, 1, 1, 1, 1, 1, 1, 1, 1, 1, 1, 1, 1, 1, 1, 1, 1, 1, 1, 1, 1, 1, 1, 1, 1, 0, 1, 1, 1, 1, 1, 1, 1, 1, 1, 1, 1, 1, 1, 1, 1, 1, 1, 1, 1, 1, 1, 1, 1, 1, 1, 1, 1, 1, 1, 1, 1, 1, 1, 1, 1, 1, 0, 0, 0, 0, 0, 1, 1, 1, 1, 1, 1, 1, 1, 1, 1, 1, 1, 1, 1, 1, 1, 1, 1, 1, 0, 1, 1, 1, 1, 1, 1, 1, 1, 1, 1, 1, 1, 1, 1, 1, 1, 1, 1, 1, 1, 1, 1, 1, 1, 1, 1, 1, 1, 1, 1, 1, 1, 1, 1, 1, 1]\n",
      "[1, 1, 1, 1, 1, 1, 1, 1, 1, 1, 1, 1, 1, 1, 1, 1, 1, 1, 1, 1, 1, 1, 1, 1, 1, 1, 1, 1, 1, 1, 1, 1, 1, 1, 1, 1, 1, 1, 1, 1, 1, 1, 1, 1, 1, 1, 1, 1, 1, 1, 1, 1, 1, 1, 1, 1, 1, 1, 1, 1, 1, 1, 1, 1, 1, 1, 1, 1, 1, 1, 1, 1, 1, 1, 1, 1, 1, 1, 1, 1, 1, 1, 1, 1, 1, 1, 1, 1, 1, 1, 1, 1, 1, 1, 1, 1, 1, 1, 1, 1, 1, 1, 1, 1, 1, 1, 1, 1, 1, 1, 1, 1, 1, 1, 1, 1, 1, 1, 1, 1, 1, 1, 1, 1, 1, 1, 1, 1, 1, 1, 1, 1, 1, 1, 1, 1, 1, 1, 1, 1, 1, 1, 1, 1, 1, 1, 1, 1, 1, 0, 1, 1, 1, 1, 1, 1, 1, 1, 1, 1, 1, 1, 1, 1, 1, 1, 1, 1, 1, 1, 1, 1, 1, 1, 1, 1, 1, 1, 1, 1, 1, 1, 1, 1, 1, 1, 1, 1, 1, 1, 1, 1, 1, 1, 0, 1, 1, 1, 1, 1, 1, 1, 1, 1, 1, 1, 1, 1, 1, 1, 1, 0, 1, 1, 1, 1, 1, 1, 1, 1, 1, 1, 1, 1, 1, 1, 1, 1, 1, 1, 1, 1, 1, 1, 1, 1, 1, 1, 1, 1, 1, 1, 1, 1, 1, 1, 1, 1, 1, 1, 1, 1, 1, 1, 1, 1, 1, 1, 1, 1, 1, 1, 1, 1, 1, 1, 1, 1, 1, 1, 1, 1, 1, 1, 1, 1, 1, 1, 1, 1, 1, 1, 1, 1, 1, 1, 1, 0, 1, 1, 1, 1, 1, 1, 1, 1, 1, 1, 1, 1, 1]\n",
      "\n",
      "{\n",
      "  \"accuracy\": 0.9368770764119602,\n",
      "  \"f1\": 0.967409948542024,\n",
      "  \"recall\": 0.9494949494949495,\n",
      "  \"precision\": 0.986013986013986\n",
      "}\n"
     ]
    },
    {
     "name": "stderr",
     "output_type": "stream",
     "text": [
      "\n"
     ]
    }
   ],
   "source": [
    "# Prediction for Android Classes\n",
    "\n",
    "print(\"\\nPrediction for Android Classes:\\n\")\n",
    "y_pred, predicted_codes = get_predictions(android_test_examples)\n",
    "print(\"\\nPredicted Import List:\", y_pred)\n",
    "print(\"\\nCorrect Import List:\", android_y_true)\n",
    "\n",
    "code_name = \"android\"\n",
    "codes = predicted_codes\n",
    "predicted_imports = y_pred\n",
    "import_list = group_imports(predicted_imports)\n",
    "append_imports(save_directory, code_name, codes, import_list)\n",
    "\n",
    "y_pred_processed, y_true_processed = pred_process(y_pred, android_y_true)\n",
    "eval_performance(y_pred_processed, y_true_processed)"
   ]
  },
  {
   "cell_type": "code",
   "execution_count": 27,
   "metadata": {},
   "outputs": [
    {
     "name": "stdout",
     "output_type": "stream",
     "text": [
      "\n",
      "Prediction for JDK Classes:\n",
      "\n"
     ]
    },
    {
     "name": "stderr",
     "output_type": "stream",
     "text": [
      "100%|██████████| 23/23 [06:20<00:00, 16.54s/it]"
     ]
    },
    {
     "name": "stdout",
     "output_type": "stream",
     "text": [
      "\n",
      "Predicted Import List: [[], [], [], ['import java.util.regex.Matcher;', 'import java.util.regex.Pattern;', 'import java.util.ArrayList;', 'import java.util.List;'], [], [], ['import java.util.ArrayList;', 'import java.util.Collections;', 'import java.util.Comparator;', 'import java.util.Date;', 'import java.text.ParseException;', 'import java.text.SimpleDateFormat;'], [], ['import java.sql.Connection;', 'import java.sql.DriverManager;', 'import java.sql.SQLException;', 'import java.util.Properties;'], [], ['import java.io.BufferedWriter;', 'import java.io.File;', 'import java.io.FileWriter;', 'import javax.swing.JFileChooser;'], ['import java.text.DateFormat;', 'import java.text.ParseException;', 'import java.text.SimpleDateFormat;', 'import java.util.Calendar;', 'import java.util.Date;', 'import java.util.GregorianCalendar;'], [], ['import java.lang.reflect.Method;'], ['import java.util.HashMap;'], ['import java.lang.reflect.InvocationTargetException;', 'import java.lang.reflect.Method;', 'import java.util.ArrayList;', 'import java.util.HashMap;', 'import java.util.List;', 'import java.util.Map;', 'import java.util.prefs.Preferences;'], ['import java.text.ParseException;', 'import java.text.SimpleDateFormat;', 'import java.time.format.DateTimeFormatter;', 'import java.time.temporal.TemporalAccessor;', 'import java.util.Date;'], ['import java.lang.reflect.Array;', 'import java.lang.reflect.Field;'], [], ['import java.io.BufferedInputStream;', 'import java.io.BufferedOutputStream;', 'import java.io.DataInputStream;', 'import java.io.DataOutputStream;', 'import java.io.File;', 'import java.io.FileInputStream;', 'import java.io.FileOutputStream;', 'import java.io.IOException;', 'import java.util.ArrayList;'], [], ['import java.beans.PropertyChangeEvent;', 'import java.beans.PropertyChangeListener;', 'import java.text.DecimalFormat;', 'import java.util.List;'], []]\n",
      "\n",
      "Correct Import List: [['import java.applet.Applet;', 'import java.awt.Color;', 'import java.awt.Container;', 'import java.awt.Dimension;', 'import java.awt.Frame;', 'import java.awt.Graphics;', 'import java.awt.Graphics2D;', 'import java.awt.event.WindowAdapter;', 'import java.awt.event.WindowEvent;', 'import java.awt.image.BufferedImage;', 'import java.io.FileInputStream;', 'import java.io.FileOutputStream;', 'import java.io.IOException;', 'import java.io.ObjectInputStream;', 'import java.io.ObjectOutputStream;'], ['import java.awt.BorderLayout;', 'import java.awt.Color;', 'import java.awt.Dimension;', 'import java.awt.FlowLayout;', 'import java.awt.GradientPaint;', 'import java.awt.Graphics2D;', 'import java.awt.GridBagLayout;', 'import java.awt.GridLayout;', 'import java.awt.event.ActionEvent;', 'import java.awt.event.ActionListener;', 'import java.awt.image.BufferedImage;', 'import javax.swing.ImageIcon;', 'import javax.swing.JButton;', 'import javax.swing.JCheckBox;', 'import javax.swing.JComboBox;', 'import javax.swing.JFrame;', 'import javax.swing.JLabel;', 'import javax.swing.JPanel;', 'import javax.swing.JScrollPane;', 'import javax.swing.JSplitPane;', 'import javax.swing.JTable;', 'import javax.swing.SwingUtilities;', 'import javax.swing.UIManager;', 'import javax.swing.border.TitledBorder;', 'import javax.swing.table.DefaultTableModel;'], ['import java.math.RoundingMode;', 'import java.text.DecimalFormat;', 'import java.text.DecimalFormatSymbols;', 'import java.text.ParseException;', 'import java.util.Locale;'], ['import java.util.regex.Pattern;', 'import java.util.ArrayList;', 'import java.util.List;', 'import java.util.regex.Matcher;'], ['import java.util.Collections;', 'import java.util.Comparator;', 'import java.util.HashMap;', 'import java.util.LinkedHashMap;', 'import java.util.LinkedList;', 'import java.util.List;', 'import java.util.Map;', 'import java.util.TreeMap;'], ['import java.awt.BorderLayout;', 'import java.awt.Color;', 'import java.awt.Component;', 'import java.awt.EventQueue;', 'import java.awt.Graphics;', 'import java.awt.Graphics2D;', 'import java.awt.RenderingHints;', 'import java.awt.event.ActionEvent;', 'import java.awt.event.ActionListener;', 'import java.util.Observable;', 'import java.util.Observer;', 'import java.util.Random;', 'import javax.swing.Icon;', 'import javax.swing.JButton;', 'import javax.swing.JFrame;', 'import javax.swing.JLabel;', 'import javax.swing.JPanel;'], ['import java.text.ParseException;', 'import java.text.SimpleDateFormat;', 'import java.util.ArrayList;', 'import java.util.Collections;', 'import java.util.Comparator;', 'import java.util.Date;'], [], ['import java.sql.Connection;', 'import java.sql.DriverManager;', 'import java.sql.SQLException;', 'import java.util.Properties;'], ['import java.text.NumberFormat;', 'import java.util.Locale;'], ['import java.io.BufferedWriter;', 'import java.io.File;', 'import java.io.FileWriter;', 'import javax.swing.JFileChooser;'], ['import java.text.DateFormat;', 'import java.text.ParseException;', 'import java.text.SimpleDateFormat;', 'import java.util.Calendar;', 'import java.util.Date;', 'import java.util.GregorianCalendar;'], ['import javax.swing.JFrame;', 'import javax.swing.JTextArea;', 'import javax.swing.SwingUtilities;', 'import javax.swing.UIManager;'], ['import java.lang.reflect.Method;'], ['import java.util.HashMap;'], ['import java.lang.reflect.InvocationTargetException;', 'import java.lang.reflect.Method;', 'import java.util.HashMap;', 'import java.util.Map;', 'import java.util.ArrayList;', 'import java.util.List;', 'import java.util.prefs.Preferences;'], ['import java.text.SimpleDateFormat;', 'import java.time.format.DateTimeFormatter;', 'import java.time.temporal.TemporalAccessor;', 'import java.util.Date;', 'import java.text.ParseException;'], ['import java.lang.reflect.Array;', 'import java.lang.reflect.Field;'], ['import java.util.List;', 'import java.util.Collection;', 'import java.util.Iterator;', 'import java.util.Random;', 'import java.util.ArrayList;', 'import java.util.NoSuchElementException;', 'import java.util.concurrent.ThreadLocalRandom;'], ['import java.io.BufferedInputStream;', 'import java.io.BufferedOutputStream;', 'import java.io.DataInputStream;', 'import java.io.DataOutputStream;', 'import java.io.File;', 'import java.io.FileInputStream;', 'import java.io.FileOutputStream;', 'import java.io.IOException;', 'import java.util.ArrayList;'], ['import java.awt.BorderLayout;', 'import java.awt.Component;', 'import java.awt.Image;', 'import java.awt.image.BufferedImage;', 'import java.awt.event.ActionListener;', 'import java.awt.event.ActionEvent;', 'import java.awt.event.KeyEvent;', 'import java.awt.event.InputEvent;', 'import javax.swing.ImageIcon;', 'import javax.swing.JFrame;', 'import javax.swing.JLabel;', 'import javax.swing.JMenu;', 'import javax.swing.JMenuBar;', 'import javax.swing.JMenuItem;', 'import javax.swing.JOptionPane;', 'import javax.swing.JPanel;', 'import javax.swing.JScrollPane;', 'import javax.swing.JTextArea;', 'import javax.swing.JTree;', 'import javax.swing.KeyStroke;', 'import javax.swing.SwingUtilities;', 'import javax.swing.border.TitledBorder;', 'import javax.imageio.ImageIO;', 'import java.io.File;'], ['import java.awt.Container;', 'import java.awt.EventQueue;', 'import java.awt.GridLayout;', 'import java.beans.PropertyChangeEvent;', 'import java.beans.PropertyChangeListener;', 'import java.text.DecimalFormat;', 'import java.util.List;', 'import javax.swing.JFrame;', 'import javax.swing.JLabel;', 'import javax.swing.JProgressBar;', 'import javax.swing.SwingWorker;'], []]\n",
      "[0, 0, 0, 0, 0, 0, 0, 0, 0, 0, 0, 0, 0, 0, 0, 0, 0, 0, 0, 0, 0, 0, 0, 0, 0, 0, 0, 0, 0, 0, 0, 0, 0, 0, 0, 0, 0, 0, 0, 0, 0, 0, 0, 0, 0, 1, 1, 1, 1, 0, 0, 0, 0, 0, 0, 0, 0, 0, 0, 0, 0, 0, 0, 0, 0, 0, 0, 0, 0, 0, 0, 0, 0, 0, 1, 1, 1, 1, 1, 1, 1, 1, 1, 1, 0, 0, 1, 1, 1, 1, 1, 1, 1, 1, 1, 1, 0, 0, 0, 0, 1, 1, 1, 1, 1, 1, 1, 1, 1, 1, 1, 1, 1, 1, 1, 1, 0, 0, 0, 0, 0, 0, 0, 1, 1, 1, 1, 1, 1, 1, 1, 1, 0, 0, 0, 0, 0, 0, 0, 0, 0, 0, 0, 0, 0, 0, 0, 0, 0, 0, 0, 0, 0, 0, 0, 0, 1, 1, 1, 1, 0, 0, 0, 0, 0, 0, 0]\n",
      "[1, 1, 1, 1, 1, 1, 1, 1, 1, 1, 1, 1, 1, 1, 1, 1, 1, 1, 1, 1, 1, 1, 1, 1, 1, 1, 1, 1, 1, 1, 1, 1, 1, 1, 1, 1, 1, 1, 1, 1, 1, 1, 1, 1, 1, 1, 1, 1, 1, 1, 1, 1, 1, 1, 1, 1, 1, 1, 1, 1, 1, 1, 1, 1, 1, 1, 1, 1, 1, 1, 1, 1, 1, 1, 1, 1, 1, 1, 1, 1, 1, 1, 1, 1, 1, 1, 1, 1, 1, 1, 1, 1, 1, 1, 1, 1, 1, 1, 1, 1, 1, 1, 1, 1, 1, 1, 1, 1, 1, 1, 1, 1, 1, 1, 1, 1, 1, 1, 1, 1, 1, 1, 1, 1, 1, 1, 1, 1, 1, 1, 1, 1, 1, 1, 1, 1, 1, 1, 1, 1, 1, 1, 1, 1, 1, 1, 1, 1, 1, 1, 1, 1, 1, 1, 1, 1, 1, 1, 1, 1, 1, 1, 1, 1, 1, 1, 1]\n",
      "\n",
      "{\n",
      "  \"accuracy\": 0.31736526946107785,\n",
      "  \"f1\": 0.48181818181818187,\n",
      "  \"recall\": 0.31736526946107785,\n",
      "  \"precision\": 1.0\n",
      "}\n"
     ]
    },
    {
     "name": "stderr",
     "output_type": "stream",
     "text": [
      "\n"
     ]
    }
   ],
   "source": [
    "# Prediction for JDK Classes\n",
    "\n",
    "print(\"\\nPrediction for JDK Classes:\\n\")\n",
    "y_pred, predicted_codes = get_predictions(jdk_test_examples)\n",
    "print(\"\\nPredicted Import List:\", y_pred)\n",
    "print(\"\\nCorrect Import List:\", jdk_y_true)\n",
    "\n",
    "code_name = \"jdk\"\n",
    "codes = predicted_codes\n",
    "predicted_imports = y_pred\n",
    "import_list = group_imports(predicted_imports)\n",
    "append_imports(save_directory, code_name, codes, import_list)\n",
    "\n",
    "y_pred_processed, y_true_processed = pred_process(y_pred, jdk_y_true)\n",
    "eval_performance(y_pred_processed, y_true_processed)"
   ]
  },
  {
   "cell_type": "code",
   "execution_count": 28,
   "metadata": {},
   "outputs": [
    {
     "name": "stdout",
     "output_type": "stream",
     "text": [
      "\n",
      "Prediction for Hibernate Classes:\n",
      "\n"
     ]
    },
    {
     "name": "stderr",
     "output_type": "stream",
     "text": [
      "100%|██████████| 51/51 [16:53<00:00, 19.87s/it]   "
     ]
    },
    {
     "name": "stdout",
     "output_type": "stream",
     "text": [
      "\n",
      "Predicted Import List: [['import org.hibernate.SessionFactory;', 'import org.hibernate.cfg.Configuration;'], ['import org.hibernate.Session;', 'import org.hibernate.SessionFactory;', 'import org.hibernate.Transaction;', 'import org.hibernate.cfg.AnnotationConfiguration;'], ['import java.io.Serializable;', 'import java.util.List;', 'import javax.persistence.CacheConcurrencyStrategy;', 'import javax.persistence.Column;', 'import javax.persistence.Entity;', 'import javax.persistence.Id;', 'import javax.persistence.JoinColumn;', 'import javax.persistence.ManyToOne;', 'import javax.persistence.OneToMany;', 'import org.hibernate.annotations.Cache;', 'import static javax.persistence.CascadeType.ALL;'], [], ['import org.hibernate.HibernateException;', 'import org.hibernate.SessionFactory;', 'import org.hibernate.cfg.Configuration;'], ['import org.hibernate.SessionFactory;', 'import org.hibernate.cfg.Configuration;'], ['import java.io.File;', 'import java.net.MalformedURLException;', 'import java.util.Iterator;', 'import java.util.List;', 'import org.dom4j.Document;', 'import org.dom4j.DocumentException;', 'import org.dom4j.io.SAXReader;', 'import org.hibernate.HibernateException;', 'import org.hibernate.Session;', 'import org.hibernate.SessionFactory;', 'import org.hibernate.Transaction;', 'import org.hibernate.cfg.Configuration;', 'import org.hibernate.cfg.Environment;', 'import org.hibernate.tool.hbm2ddl.SchemaExport;'], ['import org.hibernate.Session;', 'import org.hibernate.SessionFactory;', 'import org.hibernate.cfg.AnnotationConfiguration;'], ['import java.util.Date;', 'import javax.persistence.Column;', 'import javax.persistence.MappedSuperclass;', 'import javax.persistence.Temporal;', 'import javax.persistence.TemporalType;', 'import javax.validation.constraints.AssertTrue;', 'import javax.validation.constraints.NotNull;', 'import javax.persistence.Transient;'], [], ['import java.io.Serializable;', 'import java.util.List;', 'import org.hibernate.Session;'], [], ['import org.hibernate.Session;', 'import org.hibernate.SessionFactory;', 'import org.hibernate.Transaction;', 'import org.hibernate.cfg.Configuration;', 'import javax.faces.context.FacesContext;'], ['import java.io.Serializable;', 'import java.util.Collection;', 'import java.util.List;'], ['import java.io.Serializable;', 'import java.util.Collection;'], ['import java.io.ByteArrayOutputStream;', 'import java.io.IOException;', 'import java.io.InputStream;', 'import java.sql.Blob;', 'import java.sql.SQLException;', 'import java.util.Date;', 'import org.hibernate.Hibernate;'], ['import java.util.List;'], ['import org.hibernate.cfg.Configuration;', 'import org.hibernate.cfg.Environment;', 'import org.hibernate.service.ServiceRegistry;', 'import org.hibernate.boot.registry.StandardServiceRegistryBuilder;', 'import org.hibernate.boot.registry.StandardServiceRegistry;', 'import java.util.ArrayList;', 'import java.util.List;'], ['import org.hibernate.SessionFactory;', 'import org.hibernate.cfg.Configuration;'], ['import javax.persistence.Column;', 'import javax.persistence.Entity;', 'import javax.persistence.GeneratedValue;', 'import javax.persistence.Id;', 'import javax.persistence.Index;', 'import javax.persistence.Table;'], ['import org.hibernate.SessionFactory;', 'import org.hibernate.cfg.Configuration;'], ['import org.hibernate.Session;', 'import org.hibernate.SessionFactory;', 'import org.hibernate.Transaction;', 'import org.hibernate.cfg.Configuration;'], ['import org.hibernate.Session;', 'import org.hibernate.SessionFactory;', 'import org.hibernate.cfg.Configuration;', 'import org.hibernate.query.Query;', 'import com.google.gwt.json.client.JSONObject;'], ['import org.hibernate.Session;', 'import org.hibernate.HibernateException;', 'import org.hibernate.cfg.Configuration;', 'import org.hibernate.cfg.AnnotationConfiguration;'], ['import java.lang.reflect.InvocationHandler;', 'import java.lang.reflect.Method;', 'import org.hibernate.SessionFactory;', 'import org.hibernate.cfg.Configuration;'], ['import javax.persistence.CascadeType;', 'import javax.persistence.Entity;', 'import javax.persistence.FetchType;', 'import javax.persistence.GeneratedValue;', 'import javax.persistence.Id;', 'import javax.persistence.OneToOne;'], ['import org.hibernate.Session;', 'import org.hibernate.SessionFactory;', 'import org.hibernate.annotations.Entity;', 'import org.hibernate.annotations.Fetch;', 'import org.hibernate.annotations.FetchMode;', 'import org.hibernate.annotations.OneToOne;', 'import org.hibernate.cfg.AnnotationConfiguration;', 'import org.hibernate.tool.hbm2ddl.SchemaExport;', 'import javax.persistence.CascadeType;', 'import javax.persistence.GeneratedValue;', 'import javax.persistence.Id;', 'import javax.persistence.Query;', 'import java.util.List;'], ['import java.util.List;', 'import org.hibernate.Session;', 'import org.hibernate.Query;'], ['import java.io.Serializable;', 'import java.util.ArrayList;', 'import java.util.List;', 'import javax.persistence.Column;', 'import javax.persistence.Entity;', 'import javax.persistence.GeneratedValue;', 'import javax.persistence.GenerationType;', 'import javax.persistence.Id;', 'import javax.persistence.IndexColumn;', 'import javax.persistence.JoinColumn;', 'import javax.persistence.ManyToOne;', 'import javax.persistence.OneToMany;'], ['import org.hibernate.Criteria;', 'import org.hibernate.Session;', 'import org.hibernate.SessionFactory;', 'import org.hibernate.criterion.Projections;', 'import java.util.List;'], [], ['import org.hibernate.Session;', 'import org.hibernate.SessionFactory;', 'import org.hibernate.cfg.Configuration;', 'import org.hibernate.query.Query;', 'import java.util.List;'], ['import javax.persistence.Entity;', 'import javax.persistence.GeneratedValue;', 'import javax.persistence.Id;', 'import javax.persistence.Table;', 'import javax.persistence.Index;'], ['import org.hibernate.Session;', 'import org.hibernate.SessionFactory;', 'import org.hibernate.cfg.Configuration;'], ['import org.hibernate.Session;', 'import org.hibernate.Transaction;'], ['import org.apache.log4j.BasicConfigurator;', 'import org.hibernate.HibernateException;', 'import org.hibernate.Session;', 'import org.hibernate.Transaction;', 'import org.hibernate.query.Query;', 'import java.util.Iterator;', 'import java.util.List;'], ['import org.hibernate.Session;', 'import org.hibernate.SessionFactory;', 'import org.hibernate.Transaction;', 'import org.hibernate.cfg.Configuration;'], ['import org.hibernate.HibernateException;', 'import org.hibernate.Session;', 'import org.hibernate.SessionFactory;', 'import org.hibernate.cfg.AnnotationConfiguration;'], ['import org.hibernate.SessionFactory;', 'import org.hibernate.Session;', 'import org.hibernate.Transaction;', 'import org.hibernate.cfg.Configuration;'], [], ['import org.hibernate.Session;', 'import org.hibernate.SessionFactory;', 'import org.hibernate.cfg.Configuration;', 'import org.hibernate.query.Query;', 'import java.util.Iterator;', 'import java.util.List;'], ['import org.hibernate.Session;', 'import org.hibernate.Transaction;', 'import org.hibernate.Criteria;', 'import org.hibernate.criterion.Restrictions;', 'import java.util.List;'], ['import org.hibernate.SessionFactory;', 'import org.hibernate.cfg.Configuration;'], ['import org.apache.log4j.Logger;', 'import org.hibernate.Session;', 'import org.hibernate.SessionFactory;', 'import org.hibernate.cfg.Configuration;', 'import java.util.Properties;'], ['import org.apache.struts.action.ActionForm;', 'import org.apache.struts.action.ActionForward;', 'import org.apache.struts.action.ActionMapping;', 'import org.apache.struts.actions.DispatchAction;', 'import javax.servlet.http.HttpServletRequest;', 'import javax.servlet.http.HttpServletResponse;'], ['import org.hibernate.Session;', 'import org.hibernate.SessionFactory;', 'import org.hibernate.cfg.AnnotationConfiguration;', 'import java.util.Date;'], ['import org.hibernate.CacheMode;', 'import org.hibernate.HibernateException;', 'import org.hibernate.JDBCException;', 'import org.hibernate.Session;', 'import org.hibernate.SessionFactory;'], ['import org.hibernate.Session;', 'import org.hibernate.SessionFactory;', 'import org.hibernate.Transaction;'], ['import org.hibernate.Session;', 'import org.hibernate.SessionFactory;', 'import org.hibernate.Transaction;'], ['import java.io.Serializable;', 'import javax.persistence.Entity;', 'import javax.persistence.Id;', 'import javax.persistence.Version;', 'import org.hibernate.annotations.NaturalId;'], ['import org.hibernate.Session;', 'import org.hibernate.SessionFactory;', 'import java.util.List;']]\n",
      "\n",
      "Correct Import List: [['import org.hibernate.SessionFactory;', 'import org.hibernate.cfg.AnnotationConfiguration;'], ['import org.hibernate.Session;', 'import org.hibernate.SessionFactory;', 'import org.hibernate.Transaction;', 'import org.hibernate.cfg.AnnotationConfiguration;', 'import library.dao.UserDAO;', 'import library.model.User;'], ['import java.io.Serializable;', 'import java.util.List;', 'import javax.persistence.Column;', 'import javax.persistence.Id;', 'import javax.persistence.JoinColumn;', 'import javax.persistence.ManyToOne;', 'import javax.persistence.OneToMany;', 'import org.hibernate.annotations.Cache;', 'import org.hibernate.annotations.CacheConcurrencyStrategy;', 'import org.hibernate.annotations.Entity;'], ['import java.sql.Types;', 'import org.hibernate.dialect.Dialect;', 'import org.hibernate.dialect.function.StandardSQLFunction;', 'import org.hibernate.dialect.function.SQLFunctionTemplate;', 'import org.hibernate.dialect.function.VarArgsSQLFunction;', 'import org.hibernate.Hibernate;'], ['import org.hibernate.SessionFactory;', 'import org.hibernate.HibernateException;', 'import org.hibernate.cfg.Configuration;'], ['import org.hibernate.SessionFactory;', 'import org.hibernate.cfg.Configuration;'], ['import java.io.File;', 'import java.net.MalformedURLException;', 'import java.util.Iterator;', 'import java.util.List;', 'import org.dom4j.Document;', 'import org.dom4j.DocumentException;', 'import org.dom4j.io.SAXReader;', 'import org.hibernate.EntityMode;', 'import org.hibernate.HibernateException;', 'import org.hibernate.Session;', 'import org.hibernate.SessionFactory;', 'import org.hibernate.Transaction;', 'import org.hibernate.cfg.Configuration;', 'import org.hibernate.tool.hbm2ddl.SchemaExport;'], ['import org.hibernate.Session;', 'import org.hibernate.SessionFactory;', 'import org.hibernate.cfg.AnnotationConfiguration;'], ['import java.util.Date;', 'import javax.persistence.Column;', 'import javax.persistence.MappedSuperclass;', 'import javax.persistence.Temporal;', 'import javax.persistence.TemporalType;', 'import javax.persistence.Transient;', 'import org.hibernate.validator.AssertTrue;', 'import org.hibernate.validator.NotNull;'], ['import java.io.Serializable;', 'import java.util.List;', 'import org.hibernate.Session;'], ['import java.io.Serializable;', 'import java.util.List;', 'import org.hibernate.Session;'], ['import java.io.Serializable;', 'import javax.persistence.Column;', 'import javax.persistence.Entity;', 'import javax.persistence.FetchType;', 'import javax.persistence.Id;', 'import javax.persistence.JoinColumn;', 'import javax.persistence.ManyToOne;', 'import javax.persistence.Table;', 'import org.apache.directory.api.ldap.aci.UserClass.UserGroup;', 'import org.hibernate.annotations.ForeignKey;'], ['import javax.faces.context.FacesContext;', 'import org.hibernate.Session;', 'import org.hibernate.SessionFactory;', 'import org.hibernate.Transaction;', 'import org.hibernate.cfg.Configuration;'], ['import java.util.List;', 'import java.util.Collection;', 'import java.io.Serializable;', 'import java.security.Permission;', 'import javax.persistence.CascadeType;', 'import javax.persistence.Column;', 'import javax.persistence.Entity;', 'import javax.persistence.FetchType;', 'import javax.persistence.Id;', 'import javax.persistence.JoinColumn;', 'import javax.persistence.JoinTable;', 'import javax.persistence.ManyToMany;', 'import javax.persistence.ManyToOne;', 'import javax.persistence.OneToMany;', 'import javax.persistence.Table;', 'import javax.persistence.Version;', 'import org.hibernate.annotations.ForeignKey;', 'import org.hibernate.annotations.IndexColumn;'], ['import java.io.Serializable;', 'import java.util.Collection;', 'import javax.persistence.CascadeType;', 'import javax.persistence.Column;', 'import javax.persistence.Entity;', 'import javax.persistence.FetchType;', 'import javax.persistence.Id;', 'import javax.persistence.JoinColumn;', 'import javax.persistence.ManyToMany;', 'import javax.persistence.ManyToOne;', 'import javax.persistence.Table;', 'import org.hibernate.annotations.ForeignKey;', 'import org.hibernate.test.cache.Item;', 'import library.model.User;'], ['import java.io.ByteArrayOutputStream;', 'import java.io.IOException;', 'import java.io.InputStream;', 'import java.sql.Blob;', 'import java.sql.SQLException;', 'import java.util.Date;', 'import org.hibernate.Hibernate;'], ['import java.awt.Event;', 'import java.util.List;'], ['import java.util.ArrayList;', 'import java.util.List;', 'import javax.naming.NamingException;', 'import org.hibernate.SessionFactory;', 'import org.hibernate.cfg.Configuration;', 'import org.hibernate.shards.ShardId;', 'import org.hibernate.shards.ShardedConfiguration;', 'import org.hibernate.shards.cfg.ConfigurationToShardConfigurationAdapter;', 'import org.hibernate.shards.cfg.ShardConfiguration;', 'import org.hibernate.shards.loadbalance.RoundRobinShardLoadBalancer;', 'import org.hibernate.shards.strategy.ShardStrategy;', 'import org.hibernate.shards.strategy.ShardStrategyFactory;', 'import org.hibernate.shards.strategy.ShardStrategyImpl;', 'import org.hibernate.shards.strategy.access.SequentialShardAccessStrategy;', 'import org.hibernate.shards.strategy.access.ShardAccessStrategy;', 'import org.hibernate.shards.strategy.resolution.AllShardsShardResolutionStrategy;', 'import org.hibernate.shards.strategy.resolution.ShardResolutionStrategy;', 'import org.hibernate.shards.strategy.selection.RoundRobinShardSelectionStrategy;', 'import org.hibernate.shards.strategy.selection.ShardSelectionStrategy;'], ['import org.hibernate.SessionFactory;', 'import org.hibernate.cfg.Configuration;'], ['import org.hibernate.annotations.Index;', 'import javax.persistence.Column;', 'import javax.persistence.Entity;', 'import javax.persistence.GeneratedValue;', 'import javax.persistence.Id;'], ['import org.hibernate.SessionFactory;', 'import org.hibernate.cfg.AnnotationConfiguration;'], ['import org.hibernate.Session;', 'import org.hibernate.SessionFactory;', 'import org.hibernate.Transaction;', 'import org.hibernate.cfg.Configuration;'], ['import org.hibernate.Query;', 'import org.hibernate.Session;', 'import org.hibernate.SessionFactory;', 'import org.hibernate.cfg.Configuration;', 'import org.json.JSONObject;'], ['import org.hibernate.HibernateException;', 'import org.hibernate.Session;', 'import org.hibernate.cfg.AnnotationConfiguration;', 'import org.hibernate.cfg.Configuration;'], ['import java.lang.reflect.InvocationHandler;', 'import java.lang.reflect.Method;', 'import org.hibernate.SessionFactory;', 'import org.hibernate.cfg.Configuration;'], ['import javax.persistence.CascadeType;', 'import javax.persistence.Entity;', 'import javax.persistence.GeneratedValue;', 'import javax.persistence.Id;', 'import javax.persistence.OneToOne;', 'import org.hibernate.annotations.Fetch;', 'import org.hibernate.annotations.FetchMode;'], ['import java.util.List;', 'import java.util.Map;', 'import javax.persistence.CascadeType;', 'import javax.persistence.Entity;', 'import javax.persistence.GeneratedValue;', 'import javax.persistence.Id;', 'import javax.persistence.OneToOne;', 'import org.hibernate.FlushMode;', 'import org.hibernate.Query;', 'import org.hibernate.Session;', 'import org.hibernate.SessionFactory;', 'import org.hibernate.annotations.Fetch;', 'import org.hibernate.annotations.FetchMode;', 'import org.hibernate.cfg.AnnotationConfiguration;', 'import org.hibernate.tool.hbm2ddl.SchemaExport;'], ['import java.util.List;', 'import org.hibernate.Query;', 'import org.hibernate.Session;'], ['import java.io.Serializable;', 'import java.util.ArrayList;', 'import java.util.List;', 'import javax.persistence.Column;', 'import javax.persistence.Entity;', 'import javax.persistence.GeneratedValue;', 'import javax.persistence.GenerationType;', 'import javax.persistence.Id;', 'import javax.persistence.JoinColumn;', 'import javax.persistence.ManyToOne;', 'import javax.persistence.OneToMany;', 'import org.hibernate.annotations.IndexColumn;', 'import library.model.User;'], ['import java.util.List;', 'import org.hibernate.Criteria;', 'import org.hibernate.Session;', 'import org.hibernate.SessionFactory;', 'import org.hibernate.criterion.Projections;'], ['import java.io.Serializable;', 'import javax.persistence.Basic;', 'import javax.persistence.Column;', 'import javax.persistence.Entity;', 'import javax.persistence.Id;', 'import org.hibernate.annotations.NamedQueries;', 'import org.hibernate.annotations.NamedQuery;', 'import javax.persistence.Table;'], ['import org.hibernate.Session;', 'import org.hibernate.SessionFactory;', 'import org.hibernate.cfg.Configuration;', 'import org.hibernate.Query;', 'import java.util.List;'], ['import javax.persistence.Table;', 'import javax.persistence.GeneratedValue;', 'import javax.persistence.Entity;', 'import javax.persistence.Id;', 'import org.hibernate.annotations.Index;'], ['import org.hibernate.Session;', 'import org.hibernate.SessionFactory;', 'import org.hibernate.cfg.Configuration;'], ['import org.hibernate.Session;', 'import org.hibernate.Transaction;'], ['import java.util.Iterator;', 'import java.util.List;', 'import org.apache.log4j.BasicConfigurator;', 'import org.hibernate.HibernateException;', 'import org.hibernate.Query;', 'import org.hibernate.Session;', 'import org.hibernate.Transaction;'], ['import org.hibernate.Session;', 'import org.hibernate.SessionFactory;', 'import org.hibernate.Transaction;', 'import org.hibernate.cfg.Configuration;'], ['import org.hibernate.HibernateException;', 'import org.hibernate.Session;', 'import org.hibernate.SessionFactory;', 'import org.hibernate.cfg.AnnotationConfiguration;'], ['import org.hibernate.Session;', 'import org.hibernate.SessionFactory;', 'import org.hibernate.Transaction;', 'import org.hibernate.cfg.Configuration;'], ['import java.io.Serializable;', 'import java.util.List;', 'import java.util.Map;', 'import org.appfuse.dao.GenericDao;', 'import org.appfuse.dao.SearchException;', 'import org.hibernate.Session;', 'import org.hibernate.SessionFactory;', 'import org.hibernate.Transaction;', 'import org.springframework.transaction.annotation.Transactional;'], ['import java.util.Iterator;', 'import java.util.List;', 'import org.hibernate.Query;', 'import org.hibernate.Session;', 'import org.hibernate.SessionFactory;', 'import org.hibernate.cfg.Configuration;'], ['import org.hibernate.Criteria;', 'import org.hibernate.Session;', 'import org.hibernate.Transaction;', 'import org.hibernate.criterion.Restrictions;', 'import org.hibernate.mapping.List;'], ['import java.util.List;', 'import javax.naming.InitialContext;', 'import org.apache.commons.logging.Log;', 'import org.apache.commons.logging.LogFactory;', 'import org.hibernate.SessionFactory;', 'import org.hibernate.criterion.Example;'], ['import java.util.Properties;', 'import org.apache.log4j.Logger;', 'import org.hibernate.Session;', 'import org.hibernate.SessionFactory;', 'import org.hibernate.cfg.Configuration;'], ['import java.util.ArrayList;', 'import java.util.HashSet;', 'import java.util.Iterator;', 'import java.util.Set;', 'import javax.servlet.http.HttpServletRequest;', 'import javax.servlet.http.HttpServletResponse;', 'import javax.servlet.http.HttpSession;', 'import org.apache.struts.action.ActionForm;', 'import org.apache.struts.action.ActionForward;', 'import org.apache.struts.action.ActionMapping;', 'import org.apache.struts.actions.DispatchAction;', 'import org.hibernate.Query;', 'import org.hibernate.Session;', 'import org.hibernate.SessionFactory;', 'import org.hibernate.Transaction;'], ['import org.hibernate.Session;', 'import org.hibernate.SessionFactory;', 'import org.hibernate.cfg.AnnotationConfiguration;'], ['import org.hibernate.CacheMode;', 'import org.hibernate.HibernateException;', 'import org.hibernate.JDBCException;', 'import org.hibernate.Session;', 'import org.hibernate.SessionFactory;'], ['import org.hibernate.Session;', 'import org.hibernate.SessionFactory;', 'import org.hibernate.Transaction;'], ['import net.sf.gilead.core.PersistentBeanManager;', 'import net.sf.gilead.core.hibernate.HibernateUtil;', 'import net.sf.gilead.core.store.stateless.StatelessProxyStore;', 'import net.sf.gilead.gwt.PersistentRemoteService;', 'import org.hibernate.Session;', 'import org.hibernate.SessionFactory;', 'import org.hibernate.Transaction;', 'import aQute.gwt.greeter.shared.GreetingService;'], ['import java.io.Serializable;', 'import javax.persistence.Entity;', 'import javax.persistence.Id;', 'import javax.persistence.Version;', 'import org.hibernate.annotations.NaturalId;'], ['import java.util.List;', 'import java.util.jar.Attributes.Name;', 'import org.hibernate.Session;', 'import org.hibernate.SessionFactory;']]\n",
      "[1, 0, 1, 1, 1, 1, 0, 0, 1, 1, 1, 1, 1, 1, 1, 1, 0, 0, 1, 0, 0, 0, 0, 0, 0, 1, 1, 1, 1, 1, 1, 1, 1, 1, 1, 1, 1, 1, 1, 1, 1, 1, 1, 0, 1, 1, 1, 1, 1, 1, 1, 1, 1, 0, 0, 0, 0, 0, 1, 1, 1, 0, 0, 0, 0, 0, 0, 0, 0, 0, 0, 1, 1, 1, 1, 1, 1, 1, 1, 0, 0, 0, 0, 0, 0, 0, 0, 0, 0, 0, 0, 0, 0, 0, 1, 1, 0, 0, 0, 0, 0, 0, 0, 0, 0, 0, 0, 0, 1, 1, 1, 1, 1, 1, 1, 1, 0, 1, 1, 1, 0, 0, 0, 0, 0, 0, 0, 0, 0, 0, 0, 0, 0, 0, 0, 0, 1, 1, 1, 1, 1, 1, 0, 1, 1, 0, 1, 1, 1, 1, 1, 1, 1, 0, 0, 1, 1, 1, 1, 1, 1, 1, 1, 1, 1, 1, 1, 1, 0, 0, 1, 1, 1, 1, 1, 1, 1, 1, 1, 1, 0, 0, 0, 0, 0, 1, 1, 1, 1, 1, 1, 1, 1, 1, 1, 1, 1, 1, 1, 0, 0, 1, 1, 1, 1, 1, 0, 0, 0, 0, 0, 0, 0, 0, 1, 1, 1, 1, 0, 1, 1, 1, 1, 0, 1, 1, 1, 1, 1, 1, 1, 1, 1, 1, 1, 0, 1, 1, 1, 1, 1, 1, 1, 1, 1, 1, 1, 1, 0, 0, 0, 0, 0, 0, 0, 0, 0, 1, 1, 1, 1, 1, 0, 1, 1, 1, 1, 0, 1, 0, 0, 0, 0, 0, 1, 1, 1, 1, 1, 1, 1, 1, 1, 1, 1, 0, 0, 0, 0, 0, 0, 0, 0, 0, 1, 1, 1, 1, 1, 1, 1, 1, 1, 1, 1, 1, 1, 1, 1, 0, 0, 0, 0, 0, 1, 1, 1, 1, 1, 1, 1, 1, 0]\n",
      "[1, 1, 1, 1, 1, 1, 1, 1, 1, 1, 1, 1, 1, 1, 1, 1, 1, 1, 0, 1, 1, 1, 1, 1, 1, 1, 1, 1, 1, 1, 1, 1, 1, 1, 1, 1, 1, 1, 1, 1, 1, 1, 1, 1, 1, 1, 1, 1, 1, 1, 1, 1, 1, 1, 1, 1, 1, 1, 1, 1, 1, 1, 1, 1, 1, 1, 1, 1, 1, 1, 1, 1, 1, 1, 1, 1, 1, 1, 1, 1, 1, 1, 1, 1, 1, 1, 1, 1, 1, 1, 1, 1, 1, 1, 1, 1, 1, 1, 1, 1, 1, 1, 1, 1, 1, 1, 1, 1, 1, 1, 1, 1, 1, 1, 1, 1, 1, 1, 1, 1, 1, 1, 1, 1, 1, 1, 1, 1, 1, 1, 1, 1, 1, 1, 1, 1, 1, 1, 1, 1, 1, 1, 1, 0, 1, 1, 1, 1, 1, 1, 1, 1, 1, 1, 1, 1, 1, 1, 1, 1, 1, 1, 1, 1, 1, 1, 1, 1, 1, 1, 1, 1, 1, 1, 1, 1, 1, 1, 1, 1, 1, 1, 1, 1, 1, 1, 1, 1, 1, 1, 1, 1, 1, 1, 1, 1, 1, 1, 1, 1, 1, 1, 1, 1, 1, 1, 1, 1, 1, 1, 1, 1, 1, 1, 1, 1, 1, 1, 1, 1, 1, 1, 1, 1, 1, 1, 1, 1, 1, 1, 1, 1, 1, 1, 1, 1, 1, 1, 1, 1, 1, 1, 1, 1, 1, 1, 1, 1, 1, 1, 1, 1, 1, 1, 1, 1, 1, 1, 1, 1, 1, 1, 1, 1, 1, 1, 1, 1, 1, 1, 1, 1, 1, 1, 1, 1, 1, 1, 1, 1, 1, 1, 1, 1, 1, 1, 1, 1, 1, 1, 1, 1, 1, 1, 1, 1, 1, 0, 1, 1, 1, 1, 1, 1, 1, 1, 1, 1, 1, 1, 1, 1, 1, 1, 1, 1, 1, 1, 1, 1, 1, 1, 1]\n",
      "\n",
      "{\n",
      "  \"accuracy\": 0.6006191950464397,\n",
      "  \"f1\": 0.7504835589941973,\n",
      "  \"recall\": 0.60625,\n",
      "  \"precision\": 0.9847715736040609\n",
      "}\n"
     ]
    },
    {
     "name": "stderr",
     "output_type": "stream",
     "text": [
      "\n"
     ]
    }
   ],
   "source": [
    "# Prediction for Hibernate Classes\n",
    "\n",
    "print(\"\\nPrediction for Hibernate Classes:\\n\")\n",
    "y_pred, predicted_codes = get_predictions(hibernate_test_examples)\n",
    "print(\"\\nPredicted Import List:\", y_pred)\n",
    "print(\"\\nCorrect Import List:\", hibernate_y_true)\n",
    "\n",
    "code_name = \"hibernate\"\n",
    "codes = predicted_codes\n",
    "predicted_imports = y_pred\n",
    "import_list = group_imports(predicted_imports)\n",
    "append_imports(save_directory, code_name, codes, import_list)\n",
    "\n",
    "y_pred_processed, y_true_processed = pred_process(y_pred, hibernate_y_true)\n",
    "eval_performance(y_pred_processed, y_true_processed)"
   ]
  },
  {
   "cell_type": "code",
   "execution_count": 29,
   "metadata": {},
   "outputs": [
    {
     "name": "stdout",
     "output_type": "stream",
     "text": [
      "\n",
      "Prediction for Joda-Time Classes:\n",
      "\n"
     ]
    },
    {
     "name": "stderr",
     "output_type": "stream",
     "text": [
      "100%|██████████| 50/50 [04:28<00:00,  5.37s/it]"
     ]
    },
    {
     "name": "stdout",
     "output_type": "stream",
     "text": [
      "\n",
      "Predicted Import List: [['import org.joda.time.DateTime;', 'import org.joda.time.DateTimeZone;', 'import org.joda.time.format.DateTimeFormatter;', 'import org.joda.time.format.ISODateTimeFormat;', 'import java.util.TimeZone;'], ['import org.joda.time.DateMidnight;', 'import org.joda.time.DateTime;', 'import org.joda.time.DateTimeZone;'], ['import org.joda.time.Interval;', 'import org.joda.time.format.PeriodFormatter;', 'import org.joda.time.format.PeriodFormatterBuilder;'], ['import org.joda.time.Period;', 'import org.joda.time.ReadableInstant;'], ['import org.joda.time.DateTime;', 'import org.joda.time.DateTimeZone;', 'import org.joda.time.chrono.GJChronology;', 'import org.joda.time.chrono.Chronology;'], ['import org.joda.time.Duration;', 'import org.joda.time.PeriodFormatterBuilder;', 'import org.joda.time.PeriodType;'], ['import org.joda.time.DateTime;', 'import org.joda.time.Days;', 'import java.text.DateFormat;', 'import java.text.ParseException;', 'import java.text.SimpleDateFormat;', 'import java.util.Calendar;', 'import java.util.Date;'], ['import org.joda.time.Period;', 'import org.joda.time.PeriodType;', 'import java.util.concurrent.TimeUnit;'], ['import java.util.TimeZone;', 'import org.joda.time.DateTimeZone;'], ['import org.joda.time.DateTimeZone;', 'import org.joda.time.chrono.ISOChronology;', 'import java.io.IOException;', 'import java.io.ObjectInputStream;', 'import java.io.ObjectOutputStream;', 'import java.io.Serializable;'], ['import org.joda.time.format.DateTimeFormat;', 'import org.joda.time.format.DateTimeFormatter;', 'import java.text.ParseException;', 'import java.text.SimpleDateFormat;', 'import java.util.Date;'], ['import java.text.ParseException;', 'import java.text.SimpleDateFormat;', 'import java.util.Date;', 'import org.joda.time.DateTime;'], ['import org.junit.Test;', 'import org.joda.time.Period;', 'import org.joda.time.format.PeriodFormatter;', 'import org.joda.time.format.PeriodFormatterBuilder;'], ['import org.joda.time.DateTime;', 'import org.joda.time.format.DateTimeFormat;', 'import org.joda.time.format.DateTimeFormatter;'], ['import org.joda.time.MutableDateTime;', 'import org.joda.time.DateTime;'], ['import org.joda.time.DateTime;', 'import org.joda.time.Period;', 'import org.joda.time.format.PeriodFormatter;', 'import org.joda.time.format.PeriodFormatterBuilder;'], ['import org.joda.time.DateTime;', 'import org.joda.time.format.DateTimeFormat;', 'import org.joda.time.format.DateTimeFormatter;'], ['import org.joda.time.DateTimeZone;', 'import org.joda.time.format.DateTimeFormatter;', 'import org.joda.time.format.DateTimeFormatterBuilder;'], ['import org.joda.time.Instant;', 'import org.joda.time.Interval;', 'import org.joda.time.ReadableInstant;', 'import java.util.Date;'], ['import org.joda.time.DateTime;', 'import org.joda.time.DateTimeZone;', 'import org.joda.time.format.DateTimeFormat;', 'import org.joda.time.format.DateTimeFormatter;'], ['import org.joda.time.DateTime;', 'import org.joda.time.DateTimeZone;', 'import org.joda.time.LocalDateTime;', 'import java.text.DateFormat;', 'import java.text.ParseException;', 'import java.text.SimpleDateFormat;', 'import java.util.Date;'], ['import org.joda.time.DateTime;', 'import org.joda.time.format.DateTimeFormat;', 'import org.joda.time.format.DateTimeFormatter;'], ['import org.joda.time.LocalDate;', 'import org.joda.time.DateTimeConstants;'], ['import org.joda.time.DateTime;', 'import org.joda.time.Period;', 'import org.joda.time.PeriodType;', 'import org.joda.time.format.PeriodFormat;'], ['import org.joda.time.LocalDateTime;', 'import org.joda.time.Days;', 'import org.joda.time.DateMidnight;'], ['import org.joda.time.Duration;', 'import org.joda.time.Period;'], ['import java.util.ArrayList;', 'import org.joda.time.DateTime;'], ['import org.joda.time.DateTime;', 'import org.joda.time.Days;', 'import org.joda.time.LocalDate;', 'import org.joda.time.format.DateTimeFormat;', 'import org.joda.time.format.DateTimeFormatter;', 'import java.util.ArrayList;', 'import java.util.List;'], ['import org.joda.time.DateTime;', 'import org.joda.time.format.DateTimeFormatter;'], ['import org.joda.time.DateTime;', 'import org.joda.time.DateTimeZone;'], ['import org.joda.time.DateTime;', 'import org.joda.time.Weeks;'], ['import org.joda.time.DateTime;', 'import org.joda.time.format.DateTimeFormat;', 'import org.joda.time.format.DateTimeFormatter;'], ['import org.joda.time.Period;', 'import org.joda.time.format.PeriodFormatter;', 'import org.joda.time.format.PeriodFormatterBuilder;'], ['import java.util.Locale;', 'import org.joda.time.Period;', 'import org.joda.time.format.PeriodFormat;', 'import org.joda.time.format.PeriodFormatter;'], ['import org.joda.time.DateTime;', 'import org.joda.time.Period;', 'import org.joda.time.format.PeriodFormatter;', 'import org.joda.time.format.PeriodFormatterBuilder;', 'import org.joda.time.ReadablePeriod;', 'import java.util.Date;'], ['import org.joda.time.Period;', 'import org.joda.time.format.ISOPeriodFormat;', 'import org.joda.time.format.PeriodFormatter;', 'import org.joda.time.format.PeriodFormatterBuilder;'], ['import org.joda.time.DateTime;', 'import org.joda.time.DateTimeZone;', 'import java.util.concurrent.TimeUnit;'], ['import org.joda.time.DateTime;', 'import org.joda.time.format.DateTimeFormat;', 'import org.joda.time.format.DateTimeFormatter;'], ['import org.joda.time.DateTime;'], ['import org.joda.time.DateTime;', 'import org.joda.time.Days;', 'import java.util.Date;'], ['import org.joda.time.DateTime;', 'import org.joda.time.format.DateTimeFormat;', 'import org.joda.time.format.DateTimeFormatter;'], ['import org.joda.time.LocalDate;'], ['import org.joda.time.DateTime;', 'import org.joda.time.format.DateTimeFormat;', 'import org.joda.time.format.DateTimeFormatter;', 'import org.joda.time.format.DateTimeFormatterBuilder;', 'import org.joda.time.format.DateTimeParser;'], ['import org.joda.time.Period;', 'import org.joda.time.format.PeriodFormatter;', 'import org.joda.time.format.PeriodFormatterBuilder;'], ['import org.joda.time.DateTimeZone;', 'import org.joda.time.tz.Provider;', 'import java.util.Date;', 'import java.util.HashSet;', 'import java.util.Set;', 'import java.util.TimeZone;'], ['import org.joda.time.DateTime;', 'import org.joda.time.DateTimeZone;'], ['import org.joda.time.DateTime;', 'import org.joda.time.format.DateTimeFormat;', 'import org.joda.time.format.DateTimeFormatter;'], ['import org.joda.time.DateTime;'], ['import org.joda.time.DateTime;', 'import org.joda.time.format.DateTimeFormat;', 'import org.joda.time.format.DateTimeFormatter;', 'import org.joda.time.LocalDate;'], ['import org.joda.time.DateTime;']]\n",
      "\n",
      "Correct Import List: [['import java.util.TimeZone;', 'import org.joda.time.DateTime;', 'import org.joda.time.DateTimeZone;', 'import org.joda.time.format.DateTimeFormatter;', 'import org.joda.time.format.ISODateTimeFormat;'], ['import org.joda.time.DateMidnight;', 'import org.joda.time.DateTime;', 'import org.joda.time.DateTimeZone;'], ['import org.joda.time.Interval;', 'import org.joda.time.format.PeriodFormatter;', 'import org.joda.time.format.PeriodFormatterBuilder;'], ['import org.joda.time.Period;', 'import org.joda.time.ReadableInstant;'], ['import org.joda.time.Chronology;', 'import org.joda.time.DateTime;', 'import org.joda.time.DateTimeZone;', 'import org.joda.time.chrono.GJChronology;'], ['import org.joda.time.Duration;', 'import org.joda.time.PeriodType;', 'import org.joda.time.format.PeriodFormatterBuilder;'], ['import java.text.DateFormat;', 'import java.text.ParseException;', 'import java.text.SimpleDateFormat;', 'import java.util.Calendar;', 'import java.util.Date;', 'import org.joda.time.DateTime;', 'import org.joda.time.Days;'], ['import java.util.concurrent.TimeUnit;', 'import org.joda.time.Period;', 'import org.joda.time.PeriodType;'], ['import java.util.TimeZone;', 'import org.joda.time.DateTimeZone;'], ['import java.io.IOException;', 'import java.io.ObjectInputStream;', 'import java.io.ObjectOutputStream;', 'import java.io.Serializable;', 'import org.joda.time.DateTimeZone;', 'import org.joda.time.chrono.ISOChronology;'], ['import java.text.ParseException;', 'import java.text.SimpleDateFormat;', 'import org.joda.time.format.DateTimeFormat;', 'import org.joda.time.format.DateTimeFormatter;'], ['import java.text.ParseException;', 'import java.text.SimpleDateFormat;', 'import java.util.Date;', 'import org.joda.time.DateTime;'], ['import org.joda.time.Period;', 'import org.joda.time.format.PeriodFormatter;', 'import org.joda.time.format.PeriodFormatterBuilder;', 'import org.junit.Test;'], ['import org.joda.time.DateTime;', 'import org.joda.time.format.DateTimeFormat;', 'import org.joda.time.format.DateTimeFormatter;'], ['import org.joda.time.DateTime;', 'import org.joda.time.MutableDateTime;'], ['import org.joda.time.DateTime;', 'import org.joda.time.Period;', 'import org.joda.time.format.PeriodFormatter;', 'import org.joda.time.format.PeriodFormatterBuilder;'], ['import org.joda.time.DateTime;', 'import org.joda.time.format.DateTimeFormat;', 'import org.joda.time.format.DateTimeFormatter;'], ['import org.joda.time.DateTimeZone;', 'import org.joda.time.format.DateTimeFormatter;', 'import org.joda.time.format.DateTimeFormatterBuilder;'], ['import java.util.Date;', 'import org.joda.time.Instant;', 'import org.joda.time.Interval;', 'import org.joda.time.ReadableInstant;'], ['import org.joda.time.DateTime;', 'import org.joda.time.DateTimeZone;', 'import org.joda.time.format.DateTimeFormat;', 'import org.joda.time.format.DateTimeFormatter;'], ['import java.text.DateFormat;', 'import java.text.ParseException;', 'import java.text.SimpleDateFormat;', 'import java.util.Date;', 'import org.joda.time.DateTime;', 'import org.joda.time.DateTimeZone;', 'import org.joda.time.LocalDateTime;'], ['import org.joda.time.DateTime;', 'import org.joda.time.format.DateTimeFormat;', 'import org.joda.time.format.DateTimeFormatter;', 'import java.util.Date;', 'import java.text.ParseException;'], ['import org.joda.time.DateTimeConstants;', 'import org.joda.time.LocalDate;'], ['import org.joda.time.Period;', 'import org.joda.time.PeriodType;', 'import org.joda.time.format.PeriodFormat;', 'import org.joda.time.DateTime;'], ['import org.joda.time.DateMidnight;', 'import org.joda.time.Days;', 'import org.joda.time.LocalDateTime;'], ['import org.joda.time.Duration;', 'import org.joda.time.Period;'], ['import java.util.ArrayList;', 'import org.joda.time.DateTime;'], ['import java.util.ArrayList;', 'import java.util.List;', 'import org.joda.time.DateTime;', 'import org.joda.time.Days;', 'import org.joda.time.LocalDate;', 'import org.joda.time.format.DateTimeFormat;', 'import org.joda.time.format.DateTimeFormatter;'], ['import org.joda.time.DateTime;', 'import org.joda.time.format.DateTimeFormatter;'], ['import org.joda.time.DateTime;', 'import org.joda.time.DateTimeZone;'], ['import org.joda.time.DateTime;', 'import org.joda.time.Weeks;'], ['import org.joda.time.DateTime;', 'import org.joda.time.format.DateTimeFormatter;'], ['import org.joda.time.Period;', 'import org.joda.time.format.PeriodFormatter;', 'import org.joda.time.format.PeriodFormatterBuilder;'], ['import org.joda.time.Period;', 'import org.joda.time.format.PeriodFormat;', 'import org.joda.time.format.PeriodFormatter;', 'import java.util.Locale;'], ['import java.util.Date;', 'import org.joda.time.DateTime;', 'import org.joda.time.Period;', 'import org.joda.time.ReadablePeriod;', 'import org.joda.time.format.PeriodFormatter;', 'import org.joda.time.format.PeriodFormatterBuilder;'], ['import org.joda.time.Period;', 'import org.joda.time.format.ISOPeriodFormat;', 'import org.joda.time.format.PeriodFormatter;', 'import org.joda.time.format.PeriodFormatterBuilder;'], ['import java.util.concurrent.TimeUnit;', 'import org.joda.time.DateTime;', 'import org.joda.time.DateTimeZone;'], ['import org.joda.time.DateTime;', 'import org.joda.time.format.DateTimeFormat;', 'import org.joda.time.format.DateTimeFormatter;'], ['import org.joda.time.DateTime;'], ['import java.util.Date;', 'import org.joda.time.DateTime;', 'import org.joda.time.Days;'], ['import org.joda.time.DateTime;', 'import org.joda.time.format.DateTimeFormat;', 'import org.joda.time.format.DateTimeFormatter;'], ['import org.joda.time.LocalDate;'], ['import org.joda.time.DateTime;', 'import org.joda.time.format.DateTimeFormat;', 'import org.joda.time.format.DateTimeFormatter;', 'import org.joda.time.format.DateTimeFormatterBuilder;', 'import org.joda.time.format.DateTimeParser;'], ['import org.joda.time.Period;', 'import org.joda.time.format.PeriodFormatter;', 'import org.joda.time.format.PeriodFormatterBuilder;'], ['import java.util.Date;', 'import java.util.HashSet;', 'import java.util.Set;', 'import java.util.TimeZone;', 'import org.joda.time.DateTimeZone;', 'import org.joda.time.tz.Provider;'], ['import org.joda.time.DateTime;', 'import org.joda.time.DateTimeZone;'], ['import org.joda.time.DateTime;', 'import org.joda.time.format.DateTimeFormat;', 'import org.joda.time.format.DateTimeFormatter;'], ['import org.joda.time.DateTime;', 'import org.joda.time.DateTimeUtils.MillisProvider;'], ['import org.joda.time.DateTime;', 'import org.joda.time.LocalDate;', 'import org.joda.time.format.DateTimeFormat;', 'import org.joda.time.format.DateTimeFormatter;'], ['import org.joda.time.DateTime;']]\n",
      "[1, 1, 1, 1, 1, 1, 1, 1, 1, 1, 1, 1, 1, 1, 1, 1, 0, 1, 1, 0, 1, 1, 1, 1, 1, 1, 1, 1, 1, 1, 1, 1, 1, 1, 1, 1, 1, 1, 1, 1, 1, 1, 1, 1, 1, 1, 1, 1, 1, 1, 1, 1, 1, 1, 1, 1, 1, 1, 1, 1, 1, 1, 1, 1, 1, 1, 1, 1, 1, 1, 1, 1, 1, 1, 1, 1, 1, 1, 1, 1, 1, 1, 1, 1, 0, 0, 1, 1, 1, 1, 1, 1, 1, 1, 1, 1, 1, 1, 1, 1, 1, 1, 1, 1, 1, 1, 1, 1, 1, 1, 1, 1, 1, 1, 1, 1, 1, 1, 1, 1, 1, 1, 1, 1, 1, 1, 1, 1, 1, 1, 1, 1, 1, 1, 1, 1, 1, 1, 1, 1, 1, 1, 1, 1, 1, 1, 1, 1, 1, 1, 1, 1, 1, 1, 1, 1, 1, 1, 1, 1, 1, 1, 1, 1, 1, 1, 0, 1, 1, 1, 1, 1]\n",
      "[1, 1, 1, 1, 1, 1, 1, 1, 1, 1, 1, 1, 1, 1, 1, 1, 1, 1, 1, 1, 1, 1, 1, 1, 1, 1, 1, 1, 1, 1, 1, 1, 1, 1, 1, 1, 1, 1, 1, 1, 1, 1, 0, 1, 1, 1, 1, 1, 1, 1, 1, 1, 1, 1, 1, 1, 1, 1, 1, 1, 1, 1, 1, 1, 1, 1, 1, 1, 1, 1, 1, 1, 1, 1, 1, 1, 1, 1, 1, 1, 1, 1, 1, 1, 1, 1, 1, 1, 1, 1, 1, 1, 1, 1, 1, 1, 1, 1, 1, 1, 1, 1, 1, 1, 1, 1, 1, 1, 1, 1, 1, 1, 1, 1, 0, 1, 1, 1, 1, 1, 1, 1, 1, 1, 1, 1, 1, 1, 1, 1, 1, 1, 1, 1, 1, 1, 1, 1, 1, 1, 1, 1, 1, 1, 1, 1, 1, 1, 1, 1, 1, 1, 1, 1, 1, 1, 1, 1, 1, 1, 1, 1, 1, 1, 1, 1, 1, 1, 1, 1, 1, 1]\n",
      "\n",
      "{\n",
      "  \"accuracy\": 0.9593023255813954,\n",
      "  \"f1\": 0.9792284866468843,\n",
      "  \"recall\": 0.9705882352941176,\n",
      "  \"precision\": 0.9880239520958084\n",
      "}\n"
     ]
    },
    {
     "name": "stderr",
     "output_type": "stream",
     "text": [
      "\n"
     ]
    }
   ],
   "source": [
    "# Prediction for Joda-Time Classes\n",
    "\n",
    "print(\"\\nPrediction for Joda-Time Classes:\\n\")\n",
    "y_pred, predicted_codes = get_predictions(jodatime_test_examples)\n",
    "print(\"\\nPredicted Import List:\", y_pred)\n",
    "print(\"\\nCorrect Import List:\", jodatime_y_true)\n",
    "\n",
    "code_name = \"jodatime\"\n",
    "codes = predicted_codes\n",
    "predicted_imports = y_pred\n",
    "import_list = group_imports(predicted_imports)\n",
    "append_imports(save_directory, code_name, codes, import_list)\n",
    "\n",
    "y_pred_processed, y_true_processed = pred_process(y_pred, jodatime_y_true)\n",
    "eval_performance(y_pred_processed, y_true_processed)"
   ]
  },
  {
   "cell_type": "code",
   "execution_count": 30,
   "metadata": {},
   "outputs": [
    {
     "name": "stdout",
     "output_type": "stream",
     "text": [
      "\n",
      "Prediction for GWT Classes:\n",
      "\n"
     ]
    },
    {
     "name": "stderr",
     "output_type": "stream",
     "text": [
      "100%|██████████| 50/50 [08:16<00:00,  9.93s/it]"
     ]
    },
    {
     "name": "stdout",
     "output_type": "stream",
     "text": [
      "\n",
      "Predicted Import List: [['import com.google.gwt.user.client.ui.Composite;', 'import com.google.gwt.user.client.ui.AbsolutePanel;', 'import com.google.gwt.event.dom.client.MouseDownHandler;', 'import com.google.gwt.event.dom.client.MouseDownEvent;'], ['import com.google.gwt.core.client.GWT;', 'import com.google.gwt.junit.client.GWTTestCase;', 'import com.google.gwt.user.client.rpc.AsyncCallback;'], ['import com.google.gwt.core.client.EntryPoint;', 'import com.google.gwt.user.client.Window;', 'import com.google.gwt.user.client.ui.Button;', 'import com.google.gwt.user.client.ui.RootPanel;', 'import com.google.gwt.user.client.ui.TextBox;', 'import com.google.gwt.user.client.rpc.AsyncCallback;'], ['import com.google.gwt.user.client.ui.Composite;', 'import com.google.gwt.user.client.ui.VerticalSplitPanel;', 'import com.google.gwt.user.client.ui.HTML;'], ['import com.google.gwt.core.client.JsArray;', 'import com.google.gwt.core.client.JsArrayInteger;'], ['import com.google.gwt.user.client.Element;', 'import com.google.gwt.user.client.DOM;', 'import com.google.gwt.user.client.ui.Widget;'], ['import com.google.gwt.core.client.EntryPoint;', 'import com.google.gwt.user.client.Timer;', 'import com.google.gwt.user.client.ui.Panel;', 'import com.google.gwt.user.client.ui.RootPanel;', 'import com.google.gwt.user.client.ui.VerticalPanel;'], ['import com.google.gwt.http.client.Request;', 'import com.google.gwt.http.client.RequestBuilder;', 'import com.google.gwt.http.client.RequestCallback;', 'import com.google.gwt.http.client.RequestException;', 'import com.google.gwt.http.client.Response;', 'import com.google.gwt.user.client.Window;'], ['import com.google.gwt.user.client.Command;', 'import com.google.gwt.user.client.ui.MenuBar;', 'import com.google.gwt.user.client.ui.VerticalPanel;'], ['import com.google.gwt.user.client.ui.FormPanel;', 'import com.google.gwt.user.client.ui.VerticalPanel;', 'import com.google.gwt.user.client.ui.Label;', 'import com.google.gwt.user.client.ui.TextBox;', 'import com.google.gwt.user.client.ui.Button;', 'import com.google.gwt.event.dom.client.ClickListener;', 'import com.google.gwt.event.dom.client.ClickEvent;', 'import com.google.gwt.user.client.ui.Widget;'], ['import com.google.gwt.core.client.EntryPoint;', 'import com.google.gwt.user.client.ui.HorizontalPanel;', 'import com.google.gwt.user.client.ui.Label;', 'import com.google.gwt.user.client.ui.RootPanel;'], ['import com.google.gwt.core.client.EntryPoint;', 'import com.google.gwt.user.client.ui.AbsolutePanel;', 'import com.google.gwt.user.client.ui.Label;', 'import com.google.gwt.user.client.ui.RootPanel;', 'import com.google.gwt.user.client.ui.TextBox;', 'import com.google.gwt.user.client.ui.VerticalPanel;'], ['import com.google.gwt.core.client.EntryPoint;', 'import com.google.gwt.user.client.ui.AbsolutePanel;', 'import com.google.gwt.user.client.ui.Button;', 'import com.google.gwt.user.client.ui.ClickListener;', 'import com.google.gwt.user.client.ui.RootPanel;', 'import com.google.gwt.user.client.ui.Widget;'], ['import com.google.gwt.http.client.RequestBuilder;', 'import com.google.gwt.http.client.RequestCallback;', 'import com.google.gwt.http.client.Request;', 'import com.google.gwt.http.client.Response;', 'import com.google.gwt.core.client.GWT;', 'import com.google.gwt.user.client.Window;'], ['import com.google.gwt.http.client.Request;', 'import com.google.gwt.http.client.RequestBuilder;', 'import com.google.gwt.http.client.RequestCallback;', 'import com.google.gwt.http.client.RequestException;', 'import com.google.gwt.http.client.Response;', 'import com.google.gwt.http.client.URL;'], ['import com.google.gwt.http.client.Request;', 'import com.google.gwt.http.client.RequestBuilder;', 'import com.google.gwt.http.client.RequestCallback;', 'import com.google.gwt.http.client.Response;', 'import com.google.gwt.user.client.ui.HTML;', 'import com.google.gwt.user.client.ui.RootPanel;'], ['import com.google.gwt.user.client.ui.Composite;', 'import com.google.gwt.user.client.ui.Image;', 'import com.google.gwt.user.client.ui.Button;', 'import com.google.gwt.user.client.ui.DockPanel;', 'import com.google.gwt.user.client.ui.HTML;', 'import com.google.gwt.user.client.ui.VerticalPanel;', 'import com.google.gwt.user.client.ui.ImageBundle;', 'import com.google.gwt.user.client.ui.AbstractImagePrototype;'], ['import com.google.gwt.core.client.GWT;', 'import com.google.gwt.uibinder.client.UiBinder;', 'import com.google.gwt.uibinder.client.UiComposite;', 'import com.google.gwt.uibinder.client.UiField;', 'import com.google.gwt.user.client.ui.Composite;', 'import com.google.gwt.user.client.ui.Widget;'], ['import com.google.gwt.user.client.ui.Button;', 'import com.google.gwt.user.client.ui.RootPanel;', 'import com.google.gwt.user.client.ui.VerticalPanel;'], ['import com.google.gwt.core.client.EntryPoint;', 'import com.google.gwt.event.dom.client.ClickEvent;', 'import com.google.gwt.event.dom.client.ClickHandler;', 'import com.google.gwt.user.client.Window;', 'import com.google.gwt.user.client.ui.Button;', 'import com.google.gwt.user.client.ui.RootPanel;'], ['import com.google.gwt.user.client.ui.Button;', 'import com.google.gwt.user.client.ui.PopupPanel;', 'import com.google.gwt.user.client.ui.VerticalPanel;', 'import com.google.gwt.user.client.ui.Widget;'], ['import com.google.gwt.core.client.GWT;', 'import com.google.gwt.event.dom.client.ClickEvent;', 'import com.google.gwt.event.dom.client.ClickHandler;', 'import com.google.gwt.uibinder.client.UiBinder;', 'import com.google.gwt.uibinder.client.UiField;', 'import com.google.gwt.uibinder.client.UiHandler;', 'import com.google.gwt.user.client.ui.Button;', 'import com.google.gwt.user.client.ui.Composite;', 'import com.google.gwt.user.client.ui.Label;', 'import com.google.gwt.user.client.ui.VerticalPanel;'], ['import java.util.UUID;', 'import com.google.gwt.http.client.Request;', 'import com.google.gwt.http.client.RequestBuilder;', 'import com.google.gwt.http.client.RequestCallback;', 'import com.google.gwt.http.client.RequestException;', 'import com.google.gwt.http.client.Response;'], ['import com.google.gwt.event.dom.client.ClickEvent;', 'import com.google.gwt.event.dom.client.ClickHandler;', 'import com.google.gwt.event.shared.HandlerRegistration;', 'import com.google.gwt.user.client.DOM;', 'import com.google.gwt.user.client.ui.Composite;', 'import com.google.gwt.user.client.ui.Widget;', 'import com.google.gwt.event.dom.client.HasClickHandlers;'], ['import com.google.gwt.core.client.EntryPoint;', 'import com.google.gwt.event.dom.client.ClickEvent;', 'import com.google.gwt.event.dom.client.ClickHandler;', 'import com.google.gwt.event.dom.client.KeyCodes;', 'import com.google.gwt.event.dom.client.KeyUpEvent;', 'import com.google.gwt.event.dom.client.KeyUpHandler;', 'import com.google.gwt.user.client.ui.Button;', 'import com.google.gwt.user.client.ui.DialogBox;', 'import com.google.gwt.user.client.ui.HTML;', 'import com.google.gwt.user.client.ui.Label;', 'import com.google.gwt.user.client.ui.RootPanel;', 'import com.google.gwt.user.client.ui.TextBox;', 'import com.google.gwt.user.client.ui.VerticalPanel;'], ['import com.google.gwt.user.client.ui.FormPanel;', 'import com.google.gwt.user.client.ui.RootPanel;', 'import com.google.gwt.user.client.ui.VerticalPanel;', 'import com.google.gwt.user.client.ui.TextBox;', 'import com.google.gwt.user.client.ui.Button;', 'import com.google.gwt.user.client.ui.ClickListener;', 'import com.google.gwt.user.client.ui.Widget;', 'import com.google.gwt.event.dom.client.FormSubmitEvent;', 'import com.google.gwt.event.dom.client.FormSubmitCompleteEvent;', 'import com.google.gwt.event.dom.client.FormHandler;'], ['import com.google.gwt.core.client.EntryPoint;', 'import com.google.gwt.dom.client.Document;', 'import com.google.gwt.dom.client.NodeList;', 'import com.google.gwt.user.client.ui.Button;', 'import com.google.gwt.user.client.ui.RootPanel;'], ['import com.google.gwt.core.client.EntryPoint;', 'import com.google.gwt.http.client.Request;', 'import com.google.gwt.http.client.RequestBuilder;', 'import com.google.gwt.http.client.RequestCallback;', 'import com.google.gwt.http.client.RequestException;', 'import com.google.gwt.http.client.Response;', 'import com.google.gwt.user.client.Window;'], ['import com.google.gwt.core.client.EntryPoint;', 'import com.google.gwt.jsonp.client.JsonpRequestBuilder;', 'import com.google.gwt.user.client.Window;'], ['import com.google.gwt.user.client.ui.DialogBox;', 'import com.google.gwt.user.client.ui.Grid;', 'import com.google.gwt.user.client.ui.HTML;', 'import com.google.gwt.user.client.ui.TextBox;'], ['import com.google.gwt.http.client.Request;', 'import com.google.gwt.http.client.RequestBuilder;', 'import com.google.gwt.http.client.RequestCallback;', 'import com.google.gwt.http.client.Response;', 'import com.google.gwt.http.client.URL;'], ['import com.google.gwt.http.client.Request;', 'import com.google.gwt.http.client.RequestBuilder;', 'import com.google.gwt.http.client.RequestCallback;', 'import com.google.gwt.http.client.RequestException;', 'import com.google.gwt.http.client.Response;', 'import com.google.gwt.http.client.URL;', 'import com.google.gwt.user.client.Window;'], ['import java.util.ArrayList;', 'import java.util.Iterator;', 'import java.util.List;', 'import com.google.gwt.core.client.EntryPoint;', 'import com.google.gwt.user.client.ui.Button;', 'import com.google.gwt.user.client.ui.CheckBox;', 'import com.google.gwt.user.client.ui.ClickListener;', 'import com.google.gwt.user.client.ui.DockPanel;', 'import com.google.gwt.user.client.ui.Grid;', 'import com.google.gwt.user.client.ui.HorizontalPanel;', 'import com.google.gwt.user.client.ui.HTML;', 'import com.google.gwt.user.client.ui.RadioButton;', 'import com.google.gwt.user.client.ui.RootPanel;', 'import com.google.gwt.user.client.ui.VerticalPanel;', 'import com.google.gwt.user.client.ui.Widget;'], ['import com.google.gwt.dom.client.DOM;', 'import com.google.gwt.event.dom.client.ClickEvent;', 'import com.google.gwt.event.dom.client.ClickHandler;', 'import com.google.gwt.event.dom.client.SubmitEvent;', 'import com.google.gwt.event.dom.client.SubmitHandler;', 'import com.google.gwt.event.shared.HandlerRegistration;', 'import com.google.gwt.user.client.ui.Button;', 'import com.google.gwt.user.client.ui.FormPanel;'], ['import com.google.gwt.animation.client.Animation;', 'import com.google.gwt.core.client.GWT;', 'import com.google.gwt.dom.client.Element;', 'import com.google.gwt.dom.client.Style.Unit;', 'import com.google.gwt.user.client.ui.FlowPanel;'], ['import com.google.gwt.user.client.ui.AbsolutePanel;', 'import com.google.gwt.user.client.ui.RootPanel;', 'import com.google.gwt.user.client.ui.SimplePanel;'], ['import com.google.gwt.core.client.EntryPoint;', 'import com.google.gwt.http.client.Request;', 'import com.google.gwt.http.client.RequestBuilder;', 'import com.google.gwt.http.client.RequestCallback;', 'import com.google.gwt.http.client.RequestException;', 'import com.google.gwt.http.client.Response;', 'import com.google.gwt.user.client.Window;', 'import com.google.gwt.user.client.ui.HTML;', 'import com.google.gwt.user.client.ui.RootPanel;', 'import com.google.gwt.user.client.ui.Widget;', 'import com.google.gwt.core.client.JsArray;', 'import com.google.gwt.http.client.URL;'], ['import com.google.gwt.event.dom.client.HasClickHandlers;', 'import com.google.gwt.user.client.ui.Composite;', 'import com.google.gwt.user.client.ui.Hyperlink;', 'import com.google.gwt.user.client.ui.VerticalPanel;', 'import com.google.gwt.user.client.ui.Widget;'], ['import java.io.File;', 'import java.io.FileInputStream;', 'import java.io.DataInputStream;', 'import javax.servlet.ServletContext;', 'import javax.servlet.ServletOutputStream;', 'import javax.servlet.http.HttpServletResponse;', 'import com.google.gwt.user.server.rpc.RemoteServiceServlet;'], ['import com.google.gwt.user.client.ui.HorizontalPanel;', 'import com.google.gwt.user.client.ui.Label;', 'import com.sencha.gxt.widget.core.client.container.LayoutContainer;'], ['import com.google.gwt.user.client.ui.Button;', 'import com.google.gwt.user.client.ui.ClickEvent;', 'import com.google.gwt.user.client.ui.ClickHandler;', 'import com.google.gwt.user.client.ui.Composite;', 'import com.google.gwt.user.client.ui.Label;', 'import com.google.gwt.user.client.ui.RootPanel;', 'import com.google.gwt.user.client.ui.VerticalPanel;'], ['import com.google.gwt.core.client.EntryPoint;', 'import com.google.gwt.http.client.Request;', 'import com.google.gwt.http.client.RequestBuilder;', 'import com.google.gwt.http.client.RequestCallback;', 'import com.google.gwt.http.client.RequestException;', 'import com.google.gwt.http.client.Response;', 'import com.google.gwt.user.client.Window;', 'import com.google.gwt.user.client.ui.RootPanel;', 'import com.google.gwt.user.client.ui.Widget;'], ['import com.google.gwt.event.dom.client.ClickEvent;', 'import com.google.gwt.event.dom.client.ClickHandler;', 'import com.google.gwt.event.dom.client.MouseOutEvent;', 'import com.google.gwt.event.dom.client.MouseOutHandler;', 'import com.google.gwt.user.client.ui.Composite;', 'import com.google.gwt.user.client.ui.HorizontalPanel;', 'import com.google.gwt.user.client.ui.Label;', 'import com.google.gwt.user.client.ui.Widget;'], ['import com.google.gwt.core.client.GWT;', 'import com.google.gwt.user.client.rpc.AsyncCallback;', 'import com.google.gwt.user.client.ui.DockLayoutPanel;', 'import com.google.gwt.user.client.ui.Label;', 'import com.google.gwt.user.client.ui.ResizeComposite;', 'import com.google.gwt.user.client.ui.Widget;', 'import com.google.gwt.dom.client.Style.Unit;', 'import com.google.gwt.core.client.RunAsyncCallback;'], ['import com.google.gwt.core.client.EntryPoint;', 'import com.google.gwt.event.dom.client.ClickEvent;', 'import com.google.gwt.event.dom.client.ClickHandler;', 'import com.google.gwt.user.client.Window;', 'import com.google.gwt.user.client.ui.Button;', 'import com.google.gwt.user.client.ui.Label;', 'import com.google.gwt.user.client.ui.RootPanel;'], ['import com.google.gwt.user.client.ui.DialogBox;', 'import com.google.gwt.user.client.ui.HTML;', 'import com.google.gwt.user.client.ui.RootPanel;', 'import com.google.gwt.user.client.ui.VerticalPanel;'], ['import com.google.gwt.core.client.EntryPoint;', 'import com.google.gwt.dom.client.Style.Unit;', 'import com.google.gwt.user.client.ui.HTML;', 'import com.google.gwt.user.client.ui.LayoutPanel;', 'import com.google.gwt.user.client.ui.RootLayoutPanel;', 'import com.google.gwt.user.client.ui.Widget;'], ['import com.google.gwt.core.client.EntryPoint;', 'import com.google.gwt.event.logical.shared.BeforeSelectionEvent;', 'import com.google.gwt.event.logical.shared.BeforeSelectionHandler;', 'import com.google.gwt.event.logical.shared.SelectionEvent;', 'import com.google.gwt.event.logical.shared.SelectionHandler;', 'import com.google.gwt.user.client.Window;', 'import com.google.gwt.user.client.ui.TabBar;'], ['import java.util.ArrayList;', 'import com.google.gwt.dom.client.BodyElement;', 'import com.google.gwt.dom.client.Document;', 'import com.google.gwt.dom.client.Element;', 'import com.google.gwt.user.client.DOM;'], ['import com.google.gwt.event.dom.client.BlurEvent;', 'import com.google.gwt.event.dom.client.BlurHandler;', 'import com.google.gwt.event.dom.client.ClickEvent;', 'import com.google.gwt.event.dom.client.ClickHandler;', 'import com.google.gwt.event.dom.client.HasBlurHandlers;', 'import com.google.gwt.event.dom.client.HasClickHandlers;', 'import com.google.gwt.event.dom.client.HasKeyDownHandlers;', 'import com.google.gwt.event.dom.client.KeyDownEvent;', 'import com.google.gwt.event.dom.client.KeyDownHandler;', 'import com.google.gwt.event.shared.HandlerRegistration;', 'import com.google.gwt.user.client.DOM;', 'import com.google.gwt.user.client.ui.ComplexPanel;', 'import com.google.gwt.user.client.ui.HasHTML;', 'import com.google.gwt.user.client.ui.HasText;', 'import com.google.gwt.user.client.ui.Widget;']]\n",
      "\n",
      "Correct Import List: [['import com.google.gwt.event.dom.client.MouseDownEvent;', 'import com.google.gwt.event.dom.client.MouseDownHandler;', 'import com.google.gwt.user.client.ui.AbsolutePanel;', 'import com.google.gwt.user.client.ui.Composite;'], ['import com.google.gwt.core.client.GWT;', 'import com.google.gwt.junit.client.GWTTestCase;', 'import com.google.gwt.user.client.rpc.AsyncCallback;', 'import aQute.gwt.greeter.shared.GreetingService;', 'import aQute.gwt.greeter.shared.GreetingServiceAsync;'], ['import com.google.gwt.core.client.EntryPoint;', 'import com.google.gwt.user.client.Window;', 'import com.google.gwt.user.client.rpc.AsyncCallback;', 'import com.google.gwt.user.client.ui.Button;', 'import com.google.gwt.user.client.ui.RootPanel;', 'import com.google.gwt.user.client.ui.TextBox;'], ['import com.google.gwt.user.client.ui.Composite;', 'import com.google.gwt.user.client.ui.HTML;', 'import com.google.gwt.user.client.ui.VerticalSplitPanel;'], ['import com.google.gwt.core.client.JsArray;', 'import com.google.gwt.core.client.JsArrayInteger;'], ['import com.google.gwt.user.client.DOM;', 'import com.google.gwt.user.client.Element;', 'import com.google.gwt.user.client.ui.Widget;'], ['import com.extjs.gxt.ui.client.widget.table.Table;', 'import com.google.gwt.core.client.EntryPoint;', 'import com.google.gwt.user.client.Timer;', 'import com.google.gwt.user.client.ui.Panel;', 'import com.google.gwt.user.client.ui.RootPanel;', 'import com.google.gwt.user.client.ui.VerticalPanel;'], ['import com.google.gwt.http.client.Request;', 'import com.google.gwt.http.client.RequestBuilder;', 'import com.google.gwt.http.client.RequestCallback;', 'import com.google.gwt.http.client.RequestException;', 'import com.google.gwt.http.client.Response;', 'import com.google.gwt.user.client.Window;'], ['import com.google.gwt.user.client.Command;', 'import com.google.gwt.user.client.ui.MenuBar;', 'import com.google.gwt.user.client.ui.VerticalPanel;'], ['import com.google.gwt.user.client.ui.Button;', 'import com.google.gwt.user.client.ui.ClickListener;', 'import com.google.gwt.user.client.ui.FormPanel;', 'import com.google.gwt.user.client.ui.Label;', 'import com.google.gwt.user.client.ui.TextBox;', 'import com.google.gwt.user.client.ui.VerticalPanel;', 'import com.google.gwt.user.client.ui.Widget;'], ['import com.google.gwt.core.client.EntryPoint;', 'import com.google.gwt.user.client.ui.HorizontalPanel;', 'import com.google.gwt.user.client.ui.Label;', 'import com.google.gwt.user.client.ui.RootPanel;'], ['import com.google.gwt.core.client.EntryPoint;', 'import com.google.gwt.user.client.ui.AbsolutePanel;', 'import com.google.gwt.user.client.ui.Label;', 'import com.google.gwt.user.client.ui.RootPanel;', 'import com.google.gwt.user.client.ui.TextBox;', 'import com.google.gwt.user.client.ui.VerticalPanel;'], ['import com.google.gwt.core.client.EntryPoint;', 'import com.google.gwt.user.client.ui.AbsolutePanel;', 'import com.google.gwt.user.client.ui.Button;', 'import com.google.gwt.user.client.ui.ClickListener;', 'import com.google.gwt.user.client.ui.RootPanel;', 'import com.google.gwt.user.client.ui.Widget;'], ['import com.google.gwt.core.client.GWT;', 'import com.google.gwt.http.client.Request;', 'import com.google.gwt.http.client.RequestBuilder;', 'import com.google.gwt.http.client.RequestCallback;', 'import com.google.gwt.http.client.Response;', 'import com.google.gwt.user.client.Window;'], ['import com.google.gwt.http.client.Request;', 'import com.google.gwt.http.client.RequestBuilder;', 'import com.google.gwt.http.client.RequestCallback;', 'import com.google.gwt.http.client.RequestException;', 'import com.google.gwt.http.client.Response;', 'import com.google.gwt.http.client.URL;'], ['import com.google.gwt.http.client.Request;', 'import com.google.gwt.http.client.RequestBuilder;', 'import com.google.gwt.http.client.RequestCallback;', 'import com.google.gwt.http.client.Response;', 'import com.google.gwt.user.client.ui.HTML;', 'import com.google.gwt.user.client.ui.RootPanel;'], ['import com.google.gwt.core.client.GWT;', 'import com.google.gwt.user.client.ui.AbstractImagePrototype;', 'import com.google.gwt.user.client.ui.Button;', 'import com.google.gwt.user.client.ui.Composite;', 'import com.google.gwt.user.client.ui.DockPanel;', 'import com.google.gwt.user.client.ui.HTML;', 'import com.google.gwt.user.client.ui.Image;', 'import com.google.gwt.user.client.ui.ImageBundle;', 'import com.google.gwt.user.client.ui.VerticalPanel;'], ['import com.google.gwt.core.client.GWT;', 'import com.google.gwt.uibinder.client.UiBinder;', 'import com.google.gwt.user.client.ui.Composite;', 'import com.google.gwt.user.client.ui.Widget;'], ['import com.extjs.gxt.ui.client.widget.VerticalPanel;', 'import com.extjs.gxt.ui.client.widget.button.Button;', 'import com.google.gwt.user.client.ui.RootPanel;'], ['import com.google.gwt.core.client.EntryPoint;', 'import com.google.gwt.event.dom.client.ClickEvent;', 'import com.google.gwt.event.dom.client.ClickHandler;', 'import com.google.gwt.user.client.Window;', 'import com.google.gwt.user.client.ui.Button;', 'import com.google.gwt.user.client.ui.RootPanel;'], ['import com.google.gwt.user.client.ui.Button;', 'import com.google.gwt.user.client.ui.PopupPanel;', 'import com.google.gwt.user.client.ui.VerticalPanel;', 'import com.google.gwt.user.client.ui.Widget;'], ['import com.google.gwt.core.client.GWT;', 'import com.google.gwt.event.dom.client.ClickEvent;', 'import com.google.gwt.uibinder.client.UiBinder;', 'import com.google.gwt.uibinder.client.UiField;', 'import com.google.gwt.uibinder.client.UiHandler;', 'import com.google.gwt.user.client.ui.Button;', 'import com.google.gwt.user.client.ui.Composite;', 'import com.google.gwt.user.client.ui.Label;', 'import com.google.gwt.user.client.ui.VerticalPanel;'], ['import java.util.UUID;', 'import com.google.gwt.http.client.Request;', 'import com.google.gwt.http.client.RequestBuilder;', 'import com.google.gwt.http.client.RequestCallback;', 'import com.google.gwt.http.client.RequestException;', 'import com.google.gwt.http.client.Response;'], ['import com.google.gwt.event.dom.client.ClickEvent;', 'import com.google.gwt.event.dom.client.ClickHandler;', 'import com.google.gwt.event.dom.client.HasClickHandlers;', 'import com.google.gwt.event.shared.HandlerRegistration;', 'import com.google.gwt.user.client.DOM;', 'import com.google.gwt.user.client.ui.Composite;', 'import com.google.gwt.user.client.ui.Widget;'], ['import com.google.gwt.event.dom.client.ClickEvent;', 'import com.google.gwt.event.dom.client.ClickHandler;', 'import com.google.gwt.event.dom.client.KeyCodes;', 'import com.google.gwt.event.dom.client.KeyUpEvent;', 'import com.google.gwt.event.dom.client.KeyUpHandler;', 'import com.google.gwt.user.client.ui.Button;', 'import com.google.gwt.user.client.ui.DialogBox;', 'import com.google.gwt.user.client.ui.HTML;', 'import com.google.gwt.user.client.ui.Label;', 'import com.google.gwt.user.client.ui.RootPanel;', 'import com.google.gwt.user.client.ui.TextBox;', 'import com.google.gwt.user.client.ui.VerticalPanel;'], ['import com.google.gwt.user.client.ui.Button;', 'import com.google.gwt.user.client.ui.ClickListener;', 'import com.google.gwt.user.client.ui.FormHandler;', 'import com.google.gwt.user.client.ui.FormPanel;', 'import com.google.gwt.user.client.ui.FormSubmitCompleteEvent;', 'import com.google.gwt.user.client.ui.FormSubmitEvent;', 'import com.google.gwt.user.client.ui.RootPanel;', 'import com.google.gwt.user.client.ui.TextBox;', 'import com.google.gwt.user.client.ui.VerticalPanel;', 'import com.google.gwt.user.client.ui.Widget;'], ['import com.google.gwt.core.client.GWT;', 'import com.google.gwt.dom.client.Document;', 'import com.google.gwt.dom.client.NodeList;', 'import com.google.gwt.user.client.ui.Button;', 'import com.google.gwt.user.client.ui.RootPanel;'], ['import com.google.gwt.core.client.EntryPoint;', 'import com.google.gwt.http.client.Request;', 'import com.google.gwt.http.client.RequestBuilder;', 'import com.google.gwt.http.client.RequestCallback;', 'import com.google.gwt.http.client.RequestException;', 'import com.google.gwt.http.client.Response;', 'import com.google.gwt.user.client.Window;'], ['import org.apache.commons.net.nntp.Article;', 'import com.google.gwt.jsonp.client.JsonpRequestBuilder;', 'import com.google.gwt.user.client.Window;', 'import com.google.gwt.user.client.rpc.AsyncCallback;'], ['import com.google.gwt.user.client.ui.DialogBox;', 'import com.google.gwt.user.client.ui.Grid;', 'import com.google.gwt.user.client.ui.HTML;', 'import com.google.gwt.user.client.ui.TextBox;'], ['import com.google.gwt.http.client.Request;', 'import com.google.gwt.http.client.RequestBuilder;', 'import com.google.gwt.http.client.RequestCallback;', 'import com.google.gwt.http.client.RequestException;', 'import com.google.gwt.http.client.Response;', 'import com.google.gwt.http.client.URL;'], ['import com.google.gwt.http.client.Request;', 'import com.google.gwt.http.client.RequestBuilder;', 'import com.google.gwt.http.client.RequestCallback;', 'import com.google.gwt.http.client.RequestException;', 'import com.google.gwt.http.client.Response;', 'import com.google.gwt.http.client.URL;', 'import com.google.gwt.user.client.Window;'], ['import java.util.ArrayList;', 'import java.util.Iterator;', 'import java.util.List;', 'import com.google.gwt.core.client.EntryPoint;', 'import com.google.gwt.user.client.ui.Button;', 'import com.google.gwt.user.client.ui.CheckBox;', 'import com.google.gwt.user.client.ui.ClickListener;', 'import com.google.gwt.user.client.ui.DockPanel;', 'import com.google.gwt.user.client.ui.Grid;', 'import com.google.gwt.user.client.ui.HTML;', 'import com.google.gwt.user.client.ui.HorizontalPanel;', 'import com.google.gwt.user.client.ui.RadioButton;', 'import com.google.gwt.user.client.ui.RootPanel;', 'import com.google.gwt.user.client.ui.VerticalPanel;', 'import com.google.gwt.user.client.ui.Widget;'], ['import com.google.gwt.event.dom.client.ClickEvent;', 'import com.google.gwt.event.dom.client.ClickHandler;', 'import com.google.gwt.event.shared.HandlerRegistration;', 'import com.google.gwt.user.client.DOM;', 'import com.google.gwt.user.client.ui.Button;', 'import com.google.gwt.user.client.ui.FormPanel;', 'import com.google.gwt.user.client.ui.FormPanel.SubmitEvent;', 'import com.google.gwt.user.client.ui.FormPanel.SubmitHandler;'], ['import com.google.gwt.animation.client.Animation;', 'import com.google.gwt.core.client.GWT;', 'import com.google.gwt.dom.client.Element;', 'import com.google.gwt.dom.client.Style.Unit;', 'import com.google.gwt.user.client.ui.FlowPanel;'], ['import com.google.gwt.user.client.ui.AbsolutePanel;', 'import com.google.gwt.user.client.ui.RootPanel;', 'import com.google.gwt.user.client.ui.SimplePanel;'], ['import com.google.gwt.core.client.EntryPoint;', 'import com.google.gwt.core.client.JsArray;', 'import com.google.gwt.http.client.Request;', 'import com.google.gwt.http.client.RequestBuilder;', 'import com.google.gwt.http.client.RequestCallback;', 'import com.google.gwt.http.client.RequestException;', 'import com.google.gwt.http.client.Response;', 'import com.google.gwt.http.client.URL;', 'import com.google.gwt.user.client.Window;', 'import com.google.gwt.user.client.ui.HTML;', 'import com.google.gwt.user.client.ui.RootPanel;', 'import com.google.gwt.user.client.ui.Widget;'], ['import com.google.gwt.event.dom.client.HasClickHandlers;', 'import com.google.gwt.user.client.ui.Composite;', 'import com.google.gwt.user.client.ui.Hyperlink;', 'import com.google.gwt.user.client.ui.VerticalPanel;', 'import com.google.gwt.user.client.ui.Widget;'], ['import java.io.DataInputStream;', 'import java.io.File;', 'import java.io.FileInputStream;', 'import javax.servlet.ServletContext;', 'import javax.servlet.ServletOutputStream;', 'import javax.servlet.http.HttpServletResponse;', 'import com.google.gwt.user.server.rpc.RemoteServiceServlet;'], ['import com.extjs.gxt.ui.client.widget.LayoutContainer;', 'import com.google.gwt.user.client.ui.HorizontalPanel;', 'import com.google.gwt.user.client.ui.Label;'], ['import com.google.gwt.dom.client.Element;', 'import com.google.gwt.event.dom.client.ClickEvent;', 'import com.google.gwt.event.dom.client.ClickHandler;', 'import com.google.gwt.user.client.ui.Button;', 'import com.google.gwt.user.client.ui.Composite;', 'import com.google.gwt.user.client.ui.Label;', 'import com.google.gwt.user.client.ui.RootPanel;', 'import com.google.gwt.user.client.ui.VerticalPanel;'], ['import com.google.gwt.core.client.EntryPoint;', 'import com.google.gwt.http.client.Request;', 'import com.google.gwt.http.client.RequestBuilder;', 'import com.google.gwt.http.client.RequestCallback;', 'import com.google.gwt.http.client.RequestException;', 'import com.google.gwt.http.client.Response;', 'import com.google.gwt.http.client.URL;', 'import com.google.gwt.user.client.Window;'], ['import com.google.gwt.event.dom.client.ClickEvent;', 'import com.google.gwt.event.dom.client.ClickHandler;', 'import com.google.gwt.event.dom.client.MouseOutEvent;', 'import com.google.gwt.event.dom.client.MouseOutHandler;', 'import com.google.gwt.user.client.ui.Composite;', 'import com.google.gwt.user.client.ui.HorizontalPanel;', 'import com.google.gwt.user.client.ui.Label;', 'import com.google.gwt.user.client.ui.Widget;'], ['import com.google.gwt.core.client.GWT;', 'import com.google.gwt.core.client.RunAsyncCallback;', 'import com.google.gwt.dom.client.Style.Unit;', 'import com.google.gwt.user.client.rpc.AsyncCallback;', 'import com.google.gwt.user.client.ui.DockLayoutPanel;', 'import com.google.gwt.user.client.ui.Label;', 'import com.google.gwt.user.client.ui.ResizeComposite;'], ['import com.google.gwt.core.client.EntryPoint;', 'import com.google.gwt.event.dom.client.ClickEvent;', 'import com.google.gwt.event.dom.client.ClickHandler;', 'import com.google.gwt.user.client.Window;', 'import com.google.gwt.user.client.ui.Button;', 'import com.google.gwt.user.client.ui.Label;', 'import com.google.gwt.user.client.ui.RootPanel;'], ['import com.google.gwt.user.client.ui.DialogBox;', 'import com.google.gwt.user.client.ui.HTML;', 'import com.google.gwt.user.client.ui.RootPanel;', 'import com.google.gwt.user.client.ui.VerticalPanel;'], ['import com.google.gwt.core.client.EntryPoint;', 'import com.google.gwt.dom.client.Style.Unit;', 'import com.google.gwt.user.client.ui.HTML;', 'import com.google.gwt.user.client.ui.LayoutPanel;', 'import com.google.gwt.user.client.ui.RootLayoutPanel;', 'import com.google.gwt.user.client.ui.Widget;'], ['import com.google.gwt.core.client.EntryPoint;', 'import com.google.gwt.event.logical.shared.BeforeSelectionEvent;', 'import com.google.gwt.event.logical.shared.BeforeSelectionHandler;', 'import com.google.gwt.event.logical.shared.SelectionEvent;', 'import com.google.gwt.event.logical.shared.SelectionHandler;', 'import com.google.gwt.user.client.Window;', 'import com.google.gwt.user.client.ui.TabBar;'], ['import java.util.ArrayList;', 'import com.google.gwt.dom.client.BodyElement;', 'import com.google.gwt.dom.client.Document;', 'import com.google.gwt.user.client.DOM;', 'import com.google.gwt.user.client.Element;'], ['import com.google.gwt.event.dom.client.BlurEvent;', 'import com.google.gwt.event.dom.client.BlurHandler;', 'import com.google.gwt.event.dom.client.ClickEvent;', 'import com.google.gwt.event.dom.client.ClickHandler;', 'import com.google.gwt.event.dom.client.HasBlurHandlers;', 'import com.google.gwt.event.dom.client.HasClickHandlers;', 'import com.google.gwt.event.dom.client.HasKeyDownHandlers;', 'import com.google.gwt.event.dom.client.KeyDownEvent;', 'import com.google.gwt.event.dom.client.KeyDownHandler;', 'import com.google.gwt.event.shared.HandlerRegistration;', 'import com.google.gwt.user.client.DOM;', 'import com.google.gwt.user.client.ui.ComplexPanel;', 'import com.google.gwt.user.client.ui.HasHTML;', 'import com.google.gwt.user.client.ui.HasText;', 'import com.google.gwt.user.client.ui.Widget;']]\n",
      "[1, 1, 1, 1, 1, 1, 1, 0, 0, 1, 1, 1, 1, 1, 1, 1, 1, 1, 1, 1, 1, 1, 1, 1, 1, 1, 1, 1, 0, 1, 1, 1, 1, 1, 1, 1, 1, 1, 1, 1, 1, 1, 1, 1, 0, 1, 1, 1, 1, 1, 1, 1, 1, 1, 1, 1, 1, 1, 1, 1, 1, 1, 1, 1, 1, 1, 1, 1, 1, 1, 1, 1, 1, 1, 1, 1, 1, 1, 1, 1, 1, 1, 1, 1, 1, 1, 1, 1, 0, 1, 1, 1, 1, 1, 1, 1, 0, 0, 1, 1, 1, 1, 1, 1, 1, 1, 1, 1, 1, 1, 1, 1, 1, 1, 1, 1, 1, 1, 1, 1, 1, 1, 1, 1, 1, 1, 1, 1, 1, 1, 1, 1, 1, 1, 1, 1, 1, 1, 1, 1, 1, 1, 1, 1, 1, 1, 1, 1, 1, 1, 1, 0, 0, 0, 1, 1, 1, 1, 0, 1, 1, 1, 1, 1, 1, 1, 1, 1, 0, 0, 1, 1, 1, 1, 1, 1, 1, 1, 1, 0, 1, 1, 1, 1, 1, 1, 1, 1, 1, 1, 1, 1, 1, 1, 1, 1, 1, 1, 1, 1, 1, 1, 1, 1, 1, 1, 1, 0, 0, 0, 1, 1, 1, 1, 1, 1, 1, 1, 1, 1, 1, 1, 1, 1, 1, 1, 1, 1, 1, 1, 1, 1, 1, 1, 1, 1, 1, 1, 1, 1, 1, 1, 1, 1, 0, 1, 1, 1, 1, 1, 0, 0, 0, 1, 1, 1, 1, 1, 1, 1, 0, 1, 1, 1, 1, 1, 1, 1, 1, 1, 1, 1, 1, 1, 1, 1, 1, 1, 1, 1, 1, 1, 1, 1, 1, 1, 1, 1, 1, 1, 1, 1, 1, 1, 1, 1, 1, 1, 1, 1, 1, 1, 1, 1, 1, 1, 0, 1, 1, 1, 1, 1, 1, 1, 1, 1, 1, 1, 1, 1, 1, 1]\n",
      "[1, 1, 1, 1, 1, 1, 1, 1, 1, 1, 1, 1, 1, 1, 1, 1, 1, 1, 1, 1, 1, 1, 1, 1, 1, 1, 1, 1, 1, 1, 1, 1, 1, 1, 1, 1, 1, 1, 1, 1, 1, 1, 1, 1, 1, 0, 1, 1, 1, 1, 1, 1, 1, 1, 1, 1, 1, 1, 1, 1, 1, 1, 1, 1, 1, 1, 1, 1, 1, 1, 1, 1, 1, 1, 1, 1, 1, 1, 1, 1, 1, 1, 1, 1, 1, 1, 1, 1, 1, 1, 1, 1, 1, 0, 0, 1, 1, 1, 1, 1, 1, 1, 1, 1, 1, 1, 1, 1, 1, 1, 1, 1, 1, 1, 1, 1, 1, 0, 1, 1, 1, 1, 1, 1, 1, 1, 1, 1, 1, 1, 1, 1, 1, 1, 1, 1, 1, 1, 1, 1, 1, 1, 1, 0, 1, 1, 1, 1, 1, 1, 1, 1, 1, 1, 1, 1, 1, 1, 1, 1, 1, 1, 1, 1, 1, 1, 1, 1, 1, 1, 1, 1, 1, 1, 1, 1, 1, 1, 1, 1, 1, 1, 1, 1, 1, 1, 1, 1, 1, 1, 1, 1, 1, 1, 1, 1, 1, 1, 1, 1, 1, 1, 1, 1, 1, 1, 1, 1, 1, 1, 1, 1, 1, 1, 1, 1, 1, 1, 1, 1, 1, 1, 1, 1, 1, 1, 1, 1, 1, 1, 1, 1, 1, 1, 1, 1, 1, 1, 1, 1, 1, 1, 1, 1, 1, 1, 1, 1, 1, 1, 1, 1, 1, 1, 1, 1, 1, 1, 1, 1, 1, 0, 1, 1, 1, 1, 1, 1, 1, 1, 1, 1, 1, 1, 1, 1, 1, 0, 1, 1, 1, 1, 1, 1, 1, 1, 1, 1, 1, 1, 1, 1, 1, 1, 1, 1, 1, 1, 1, 1, 1, 1, 1, 1, 1, 1, 1, 1, 1, 1, 1, 1, 1, 1, 1, 1, 1, 1, 1, 1, 1, 1]\n",
      "\n",
      "{\n",
      "  \"accuracy\": 0.906832298136646,\n",
      "  \"f1\": 0.9511400651465798,\n",
      "  \"recall\": 0.926984126984127,\n",
      "  \"precision\": 0.9765886287625418\n",
      "}\n"
     ]
    },
    {
     "name": "stderr",
     "output_type": "stream",
     "text": [
      "\n"
     ]
    }
   ],
   "source": [
    "# Prediction for GWT Classes\n",
    "\n",
    "print(\"\\nPrediction for GWT Classes:\\n\")\n",
    "y_pred, predicted_codes = get_predictions(gwt_test_examples)\n",
    "print(\"\\nPredicted Import List:\", y_pred)\n",
    "print(\"\\nCorrect Import List:\", gwt_y_true)\n",
    "\n",
    "code_name = \"gwt\"\n",
    "codes = predicted_codes\n",
    "predicted_imports = y_pred\n",
    "import_list = group_imports(predicted_imports)\n",
    "append_imports(save_directory, code_name, codes, import_list)\n",
    "\n",
    "y_pred_processed, y_true_processed = pred_process(y_pred, gwt_y_true)\n",
    "eval_performance(y_pred_processed, y_true_processed)"
   ]
  },
  {
   "cell_type": "code",
   "execution_count": 31,
   "metadata": {},
   "outputs": [
    {
     "name": "stdout",
     "output_type": "stream",
     "text": [
      "\n",
      "Prediction for XStream Classes\n",
      "\n"
     ]
    },
    {
     "name": "stderr",
     "output_type": "stream",
     "text": [
      "100%|██████████| 44/44 [07:19<00:00,  9.99s/it]"
     ]
    },
    {
     "name": "stdout",
     "output_type": "stream",
     "text": [
      "\n",
      "Predicted Import List: [['import com.thoughtworks.xstream.converters.Converter;', 'import com.thoughtworks.xstream.converters.MarshallingContext;', 'import com.thoughtworks.xstream.converters.UnmarshallingContext;', 'import com.thoughtworks.xstream.io.HierarchicalStreamReader;', 'import com.thoughtworks.xstream.io.HierarchicalStreamWriter;'], ['import com.thoughtworks.xstream.XStream;', 'import com.thoughtworks.xstream.io.xml.DomDriver;', 'import java.io.BufferedReader;', 'import java.io.FileReader;', 'import java.io.IOException;'], ['import com.thoughtworks.xstream.XStream;', 'import com.thoughtworks.xstream.io.json.JettisonMappedXmlDriver;', 'import java.util.ArrayList;', 'import java.util.List;'], ['import java.util.ArrayList;', 'import com.thoughtworks.xstream.XStream;'], ['import com.thoughtworks.xstream.XStream;', 'import com.thoughtworks.xstream.io.xml.DomDriver;', 'import java.io.FileNotFoundException;', 'import java.io.PrintWriter;'], ['import java.io.File;', 'import java.io.FileOutputStream;', 'import java.io.OutputStream;', 'import com.thoughtworks.xstream.XStream;', 'import com.thoughtworks.xstream.io.xml.DomDriver;'], ['import com.thoughtworks.xstream.annotations.XStreamAsAttribute;'], ['import android.app.Activity;', 'import android.os.Bundle;', 'import android.widget.TextView;', 'import org.ksoap2.SoapEnvelope;', 'import org.ksoap2.serialization.SoapObject;', 'import org.ksoap2.serialization.SoapSerializationEnvelope;', 'import org.ksoap2.transport.HttpTransportSE;', 'import com.thoughtworks.xstream.XStream;', 'import com.thoughtworks.xstream.io.xml.DomDriver;'], ['import com.thoughtworks.xstream.XStream;', 'import com.thoughtworks.xstream.io.xml.DomDriver;', 'import java.io.FileInputStream;', 'import java.io.FileNotFoundException;'], ['import java.io.StringWriter;', 'import com.thoughtworks.xstream.XStream;', 'import com.thoughtworks.xstream.io.xml.PrettyPrintWriter;'], ['import com.thoughtworks.xstream.XStream;', 'import com.thoughtworks.xstream.converters.collections.CollectionConverter;', 'import com.thoughtworks.xstream.mapper.ClassAliasingMapper;', 'import java.util.ArrayList;', 'import java.util.List;'], ['import java.util.List;', 'import com.thoughtworks.xstream.converters.Converter;', 'import com.thoughtworks.xstream.io.HierarchicalStreamReader;', 'import com.thoughtworks.xstream.io.HierarchicalStreamWriter;', 'import com.thoughtworks.xstream.io.MarshallingContext;', 'import com.thoughtworks.xstream.io.UnmarshallingContext;'], ['import com.thoughtworks.xstream.mapper.ClassAliasingMapper;', 'import com.thoughtworks.xstream.mapper.Mapper;'], ['import com.thoughtworks.xstream.converters.SingleValueConverter;'], ['import com.thoughtworks.xstream.XStream;', 'import com.thoughtworks.xstream.converters.collections.CollectionConverter;', 'import com.thoughtworks.xstream.io.HierarchicalStreamWriter;', 'import com.thoughtworks.xstream.converters.MarshallingContext;', 'import java.util.HashSet;'], ['import com.thoughtworks.xstream.XStream;', 'import com.thoughtworks.xstream.mapper.MapperWrapper;'], ['import com.thoughtworks.xstream.XStream;', 'import com.thoughtworks.xstream.annotations.XStreamAlias;', 'import com.thoughtworks.xstream.converters.Converter;', 'import com.thoughtworks.xstream.io.HierarchicalStreamReader;', 'import com.thoughtworks.xstream.io.HierarchicalStreamWriter;', 'import com.thoughtworks.xstream.io.xml.DomDriver;', 'import com.thoughtworks.xstream.io.xml.XmlFriendlyNameCoder;', 'import com.thoughtworks.xstream.io.xml.XppDriver;', 'import com.thoughtworks.xstream.mapper.MapperWrapper;'], ['import com.thoughtworks.xstream.converters.Converter;', 'import com.thoughtworks.xstream.io.HierarchicalStreamReader;', 'import com.thoughtworks.xstream.io.HierarchicalStreamWriter;', 'import com.thoughtworks.xstream.MarshallingContext;', 'import com.thoughtworks.xstream.UnmarshallingContext;', 'import java.util.Map;', 'import java.util.HashMap;'], ['import com.thoughtworks.xstream.converters.Converter;', 'import com.thoughtworks.xstream.io.HierarchicalStreamReader;', 'import com.thoughtworks.xstream.io.HierarchicalStreamWriter;', 'import com.thoughtworks.xstream.converters.MarshallingContext;', 'import com.thoughtworks.xstream.converters.UnmarshallingContext;'], ['import com.thoughtworks.xstream.XStream;', 'import java.io.File;', 'import java.io.InputStream;', 'import java.io.InputStreamReader;', 'import java.io.Reader;', 'import java.nio.charset.Charset;'], ['import com.thoughtworks.xstream.converters.Converter;', 'import com.thoughtworks.xstream.converters.MarshallingContext;', 'import com.thoughtworks.xstream.converters.UnmarshallingContext;', 'import com.thoughtworks.xstream.converters.reflection.ReflectionConverter;', 'import com.thoughtworks.xstream.io.HierarchicalStreamReader;', 'import com.thoughtworks.xstream.io.HierarchicalStreamWriter;', 'import com.thoughtworks.xstream.mapper.Mapper;', 'import com.thoughtworks.xstream.mapper.ReflectionProvider;', 'import java.util.Map;'], ['import com.thoughtworks.xstream.XStream;', 'import com.thoughtworks.xstream.annotations.XStreamAlias;', 'import com.thoughtworks.xstream.annotations.XStreamConverter;', 'import com.thoughtworks.xstream.annotations.XStreamImplicit;', 'import com.thoughtworks.xstream.converters.extended.ToAttributedValueConverter;', 'import java.io.File;', 'import java.util.Arrays;', 'import java.util.List;'], ['import com.thoughtworks.xstream.XStream;', 'import com.thoughtworks.xstream.annotations.XStreamAlias;', 'import com.thoughtworks.xstream.converters.javabean.JavaBeanConverter;', 'import com.thoughtworks.xstream.io.xml.XppDriver;'], [], ['import com.thoughtworks.xstream.XStream;', 'import com.thoughtworks.xstream.annotations.XStreamAlias;', 'import com.thoughtworks.xstream.annotations.XStreamConverter;', 'import com.thoughtworks.xstream.converters.extended.ToAttributedValueConverter;'], ['import java.util.ArrayList;', 'import java.util.Collection;', 'import java.util.List;', 'import com.thoughtworks.xstream.converters.SingleValueConverter;'], ['import com.thoughtworks.xstream.XStream;', 'import com.thoughtworks.xstream.converters.Converter;', 'import com.thoughtworks.xstream.io.HierarchicalStreamReader;', 'import com.thoughtworks.xstream.io.HierarchicalStreamWriter;', 'import com.thoughtworks.xstream.io.xml.MarshallingContext;', 'import com.thoughtworks.xstream.io.xml.UnmarshallingContext;', 'import org.apache.commons.lang3.text.WordUtils;'], ['import com.thoughtworks.xstream.converters.Converter;', 'import com.thoughtworks.xstream.io.HierarchicalStreamReader;', 'import com.thoughtworks.xstream.io.HierarchicalStreamWriter;', 'import com.thoughtworks.xstream.io.UnmarshallingContext;', 'import com.thoughtworks.xstream.io.MarshallingContext;', 'import java.util.Map;', 'import java.util.HashMap;'], ['import com.thoughtworks.xstream.XStream;', 'import com.thoughtworks.xstream.io.xml.DomDriver;', 'import java.util.ArrayList;', 'import java.util.List;'], ['import com.thoughtworks.xstream.converters.Converter;', 'import com.thoughtworks.xstream.io.HierarchicalStreamReader;', 'import com.thoughtworks.xstream.io.HierarchicalStreamWriter;', 'import com.thoughtworks.xstream.MarshallingContext;', 'import com.thoughtworks.xstream.UnmarshallingContext;'], ['import com.thoughtworks.xstream.XStream;', 'import com.thoughtworks.xstream.annotations.XStreamAlias;'], ['import com.thoughtworks.xstream.XStream;', 'import com.thoughtworks.xstream.mapper.MapperWrapper;'], ['import com.thoughtworks.xstream.XStream;', 'import com.thoughtworks.xstream.io.xml.DomDriver;'], ['import com.thoughtworks.xstream.annotations.XStreamAlias;', 'import com.thoughtworks.xstream.annotations.XStreamImplicit;', 'import com.thoughtworks.xstream.XStream;', 'import com.thoughtworks.xstream.mapper.MapperWrapper;', 'import java.util.ArrayList;', 'import java.util.Iterator;', 'import java.util.List;'], ['import com.thoughtworks.xstream.XStream;', 'import com.thoughtworks.xstream.converters.Converter;', 'import com.thoughtworks.xstream.converters.SingleValueConverter;', 'import com.thoughtworks.xstream.core.DefaultConverterLookup;', 'import com.thoughtworks.xstream.io.HierarchicalStreamDriver;', 'import com.thoughtworks.xstream.io.xml.DomDriver;', 'import com.thoughtworks.xstream.mapper.Mapper;', 'import com.thoughtworks.xstream.mapper.MapperWrapper;', 'import com.thoughtworks.xstream.mapper.ReflectionProvider;'], ['import java.util.HashMap;', 'import java.util.Map;', 'import com.thoughtworks.xstream.XStream;', 'import com.thoughtworks.xstream.io.xml.StaxDriver;'], ['import java.util.ArrayList;', 'import com.thoughtworks.xstream.converters.Converter;', 'import com.thoughtworks.xstream.io.HierarchicalStreamReader;', 'import com.thoughtworks.xstream.io.HierarchicalStreamWriter;', 'import com.thoughtworks.xstream.io.MarshallingContext;', 'import com.thoughtworks.xstream.io.UnmarshallingContext;'], ['import com.thoughtworks.xstream.XStream;', 'import com.thoughtworks.xstream.annotations.XStreamAlias;', 'import java.util.ArrayList;', 'import java.util.List;'], ['import java.io.Writer;', 'import com.thoughtworks.xstream.XStream;', 'import com.thoughtworks.xstream.io.HierarchicalStreamWriter;', 'import com.thoughtworks.xstream.io.WriterWrapper;', 'import com.thoughtworks.xstream.io.xml.PrettyPrintWriter;', 'import com.thoughtworks.xstream.io.xml.XppDriver;', 'import com.thoughtworks.xstream.io.xml.xppdom.XppFactory;'], ['import com.thoughtworks.xstream.converters.Converter;', 'import com.thoughtworks.xstream.io.HierarchicalStreamReader;', 'import com.thoughtworks.xstream.io.HierarchicalStreamWriter;', 'import com.thoughtworks.xstream.converters.MarshallingContext;', 'import com.thoughtworks.xstream.converters.UnmarshallingContext;'], ['import com.thoughtworks.xstream.XStream;', 'import com.thoughtworks.xstream.io.xml.StaxDriver;', 'import java.util.List;'], ['import com.thoughtworks.xstream.annotations.XStreamAlias;', 'import com.thoughtworks.xstream.annotations.XStreamImplicit;', 'import java.util.List;'], ['import java.util.ArrayList;', 'import java.util.List;', 'import com.thoughtworks.xstream.XStream;', 'import com.thoughtworks.xstream.io.xml.DomDriver;'], ['import com.thoughtworks.xstream.XStream;', 'import java.io.File;', 'import java.io.FileOutputStream;', 'import java.io.FileNotFoundException;']]\n",
      "\n",
      "Correct Import List: [['import com.thoughtworks.xstream.converters.Converter;', 'import com.thoughtworks.xstream.converters.MarshallingContext;', 'import com.thoughtworks.xstream.converters.UnmarshallingContext;', 'import com.thoughtworks.xstream.io.HierarchicalStreamReader;', 'import com.thoughtworks.xstream.io.HierarchicalStreamWriter;'], ['import java.io.BufferedReader;', 'import java.io.FileReader;', 'import java.io.IOException;', 'import com.thoughtworks.xstream.XStream;', 'import com.thoughtworks.xstream.io.xml.DomDriver;'], ['import java.util.ArrayList;', 'import java.util.List;', 'import com.thoughtworks.xstream.XStream;', 'import com.thoughtworks.xstream.io.json.JettisonMappedXmlDriver;'], ['import java.util.ArrayList;', 'import com.thoughtworks.xstream.XStream;'], ['import java.io.FileNotFoundException;', 'import java.io.PrintWriter;', 'import com.thoughtworks.xstream.XStream;', 'import com.thoughtworks.xstream.io.xml.DomDriver;'], ['import java.io.File;', 'import java.io.FileOutputStream;', 'import java.io.OutputStream;', 'import com.thoughtworks.xstream.XStream;', 'import com.thoughtworks.xstream.io.xml.DomDriver;'], ['import com.thoughtworks.xstream.annotations.XStreamAsAttribute;'], ['import org.ksoap2.SoapEnvelope;', 'import org.ksoap2.serialization.SoapObject;', 'import org.ksoap2.serialization.SoapSerializationEnvelope;', 'import org.ksoap2.transport.HttpTransportSE;', 'import android.app.Activity;', 'import android.os.Bundle;', 'import android.widget.TextView;', 'import com.thoughtworks.xstream.XStream;', 'import com.thoughtworks.xstream.io.xml.DomDriver;'], ['import java.io.FileInputStream;', 'import java.io.FileNotFoundException;', 'import com.thoughtworks.xstream.XStream;', 'import com.thoughtworks.xstream.io.xml.DomDriver;'], ['import java.io.StringWriter;', 'import com.thoughtworks.xstream.XStream;', 'import com.thoughtworks.xstream.io.xml.PrettyPrintWriter;'], ['import java.util.ArrayList;', 'import java.util.List;', 'import com.thoughtworks.xstream.XStream;', 'import com.thoughtworks.xstream.converters.collections.CollectionConverter;', 'import com.thoughtworks.xstream.mapper.ClassAliasingMapper;'], ['import java.util.List;', 'import com.thoughtworks.xstream.converters.Converter;', 'import com.thoughtworks.xstream.converters.MarshallingContext;', 'import com.thoughtworks.xstream.converters.UnmarshallingContext;', 'import com.thoughtworks.xstream.io.HierarchicalStreamReader;', 'import com.thoughtworks.xstream.io.HierarchicalStreamWriter;'], ['import com.thoughtworks.xstream.mapper.ClassAliasingMapper;', 'import com.thoughtworks.xstream.mapper.Mapper;'], ['import com.thoughtworks.xstream.converters.basic.AbstractSingleValueConverter;'], ['import java.util.HashSet;', 'import com.thoughtworks.xstream.XStream;', 'import com.thoughtworks.xstream.converters.MarshallingContext;', 'import com.thoughtworks.xstream.converters.collections.CollectionConverter;', 'import com.thoughtworks.xstream.io.HierarchicalStreamWriter;'], ['import com.thoughtworks.xstream.XStream;', 'import com.thoughtworks.xstream.mapper.MapperWrapper;'], ['import com.thoughtworks.xstream.XStream;', 'import com.thoughtworks.xstream.annotations.XStreamAlias;', 'import com.thoughtworks.xstream.converters.Converter;', 'import com.thoughtworks.xstream.converters.MarshallingContext;', 'import com.thoughtworks.xstream.converters.UnmarshallingContext;', 'import com.thoughtworks.xstream.io.HierarchicalStreamReader;', 'import com.thoughtworks.xstream.io.HierarchicalStreamWriter;'], ['import java.util.HashMap;', 'import java.util.Map;', 'import com.thoughtworks.xstream.converters.Converter;', 'import com.thoughtworks.xstream.converters.MarshallingContext;', 'import com.thoughtworks.xstream.converters.UnmarshallingContext;', 'import com.thoughtworks.xstream.io.HierarchicalStreamReader;', 'import com.thoughtworks.xstream.io.HierarchicalStreamWriter;'], ['import com.thoughtworks.xstream.converters.Converter;', 'import com.thoughtworks.xstream.converters.MarshallingContext;', 'import com.thoughtworks.xstream.converters.UnmarshallingContext;', 'import com.thoughtworks.xstream.io.HierarchicalStreamReader;', 'import com.thoughtworks.xstream.io.HierarchicalStreamWriter;'], ['import java.io.File;', 'import java.io.InputStream;', 'import java.io.InputStreamReader;', 'import java.io.Reader;', 'import java.nio.charset.Charset;', 'import com.thoughtworks.xstream.XStream;'], ['import java.util.Map;', 'import com.thoughtworks.xstream.converters.Converter;', 'import com.thoughtworks.xstream.converters.MarshallingContext;', 'import com.thoughtworks.xstream.converters.UnmarshallingContext;', 'import com.thoughtworks.xstream.converters.reflection.ReflectionConverter;', 'import com.thoughtworks.xstream.converters.reflection.ReflectionProvider;', 'import com.thoughtworks.xstream.io.HierarchicalStreamReader;', 'import com.thoughtworks.xstream.io.HierarchicalStreamWriter;', 'import com.thoughtworks.xstream.mapper.Mapper;'], ['import com.thoughtworks.xstream.XStream;', 'import com.thoughtworks.xstream.annotations.XStreamAlias;', 'import com.thoughtworks.xstream.annotations.XStreamConverter;', 'import com.thoughtworks.xstream.annotations.XStreamImplicit;', 'import com.thoughtworks.xstream.converters.extended.ToAttributedValueConverter;', 'import java.util.List;', 'import java.util.Arrays;', 'import java.io.File;'], ['import com.thoughtworks.xstream.XStream;', 'import com.thoughtworks.xstream.annotations.XStreamAlias;', 'import com.thoughtworks.xstream.converters.javabean.JavaBeanConverter;', 'import com.thoughtworks.xstream.io.xml.XppDriver;'], ['import com.thoughtworks.xstream.converters.MarshallingContext;', 'import com.thoughtworks.xstream.converters.UnmarshallingContext;', 'import com.thoughtworks.xstream.converters.reflection.ReflectionConverter;', 'import com.thoughtworks.xstream.converters.reflection.ReflectionProvider;', 'import com.thoughtworks.xstream.io.HierarchicalStreamReader;', 'import com.thoughtworks.xstream.io.HierarchicalStreamWriter;', 'import com.thoughtworks.xstream.mapper.Mapper;'], ['import com.thoughtworks.xstream.annotations.XStreamAlias;', 'import com.thoughtworks.xstream.annotations.XStreamConverter;', 'import com.thoughtworks.xstream.converters.extended.ToAttributedValueConverter;'], ['import java.util.ArrayList;', 'import java.util.Collection;', 'import java.util.List;', 'import com.thoughtworks.xstream.converters.SingleValueConverter;'], ['import org.apache.commons.lang.WordUtils;', 'import org.apache.http.client.fluent.Content;', 'import com.thoughtworks.xstream.XStream;', 'import com.thoughtworks.xstream.converters.Converter;', 'import com.thoughtworks.xstream.converters.MarshallingContext;', 'import com.thoughtworks.xstream.converters.UnmarshallingContext;', 'import com.thoughtworks.xstream.io.HierarchicalStreamReader;', 'import com.thoughtworks.xstream.io.HierarchicalStreamWriter;'], ['import java.util.HashMap;', 'import java.util.Map;', 'import com.thoughtworks.xstream.converters.Converter;', 'import com.thoughtworks.xstream.converters.MarshallingContext;', 'import com.thoughtworks.xstream.converters.UnmarshallingContext;', 'import com.thoughtworks.xstream.io.HierarchicalStreamReader;', 'import com.thoughtworks.xstream.io.HierarchicalStreamWriter;'], ['import java.util.ArrayList;', 'import java.util.List;', 'import com.thoughtworks.xstream.XStream;', 'import com.thoughtworks.xstream.io.xml.DomDriver;'], ['import com.thoughtworks.xstream.converters.Converter;', 'import com.thoughtworks.xstream.converters.MarshallingContext;', 'import com.thoughtworks.xstream.converters.UnmarshallingContext;', 'import com.thoughtworks.xstream.io.HierarchicalStreamReader;', 'import com.thoughtworks.xstream.io.HierarchicalStreamWriter;'], ['import com.thoughtworks.xstream.XStream;', 'import com.thoughtworks.xstream.annotations.XStreamAlias;'], ['import com.thoughtworks.xstream.XStream;', 'import com.thoughtworks.xstream.hibernate.converter.HibernatePersistentCollectionConverter;', 'import com.thoughtworks.xstream.hibernate.converter.HibernatePersistentMapConverter;', 'import com.thoughtworks.xstream.hibernate.converter.HibernatePersistentSortedMapConverter;', 'import com.thoughtworks.xstream.hibernate.converter.HibernatePersistentSortedSetConverter;', 'import com.thoughtworks.xstream.hibernate.converter.HibernateProxyConverter;', 'import com.thoughtworks.xstream.hibernate.mapper.HibernateMapper;', 'import com.thoughtworks.xstream.mapper.MapperWrapper;'], ['import com.thoughtworks.xstream.XStream;', 'import com.thoughtworks.xstream.io.xml.DomDriver;', 'import com.thoughtworks.xstream.mapper.Mapper;', 'import flex.messaging.io.amf.ASObject;', 'import flex.messaging.io.amf.ActionMessage;', 'import flex.messaging.io.amf.MessageBody;', 'import flex.messaging.io.amf.MessageHeader;', 'import flex.messaging.messages.AcknowledgeMessage;', 'import flex.messaging.messages.AcknowledgeMessageExt;', 'import flex.messaging.messages.AsyncMessage;', 'import flex.messaging.messages.CommandMessage;', 'import flex.messaging.messages.CommandMessageExt;', 'import flex.messaging.messages.ErrorMessage;', 'import flex.messaging.messages.RemotingMessage;'], ['import java.util.ArrayList;', 'import java.util.Iterator;', 'import java.util.List;', 'import com.cloudbees.api.config.Environment;', 'import com.cloudbees.api.config.ParameterHolder;', 'import com.cloudbees.api.config.ResourceSettings;', 'import com.thoughtworks.xstream.XStream;', 'import com.thoughtworks.xstream.annotations.XStreamAlias;', 'import com.thoughtworks.xstream.annotations.XStreamImplicit;', 'import com.thoughtworks.xstream.mapper.MapperWrapper;'], ['import org.junit.Test;', 'import com.thoughtworks.xstream.XStream;', 'import com.thoughtworks.xstream.converters.Converter;', 'import com.thoughtworks.xstream.converters.ConverterLookup;', 'import com.thoughtworks.xstream.converters.SingleValueConverter;', 'import com.thoughtworks.xstream.converters.reflection.ReflectionProvider;', 'import com.thoughtworks.xstream.mapper.Mapper;', 'import com.thoughtworks.xstream.mapper.MapperWrapper;'], ['import java.util.HashMap;', 'import java.util.Map;', 'import com.thoughtworks.xstream.XStream;', 'import com.thoughtworks.xstream.io.xml.StaxDriver;'], ['import java.util.ArrayList;', 'import com.thoughtworks.xstream.converters.Converter;', 'import com.thoughtworks.xstream.converters.MarshallingContext;', 'import com.thoughtworks.xstream.converters.UnmarshallingContext;', 'import com.thoughtworks.xstream.io.HierarchicalStreamReader;', 'import com.thoughtworks.xstream.io.HierarchicalStreamWriter;'], ['import java.util.ArrayList;', 'import java.util.List;', 'import com.thoughtworks.xstream.XStream;', 'import com.thoughtworks.xstream.annotations.XStreamAlias;'], ['import java.io.Writer;', 'import com.thoughtworks.xstream.XStream;', 'import com.thoughtworks.xstream.core.util.QuickWriter;', 'import com.thoughtworks.xstream.io.HierarchicalStreamWriter;', 'import com.thoughtworks.xstream.io.xml.PrettyPrintWriter;', 'import com.thoughtworks.xstream.io.xml.XppDriver;'], ['import com.thoughtworks.xstream.converters.Converter;', 'import com.thoughtworks.xstream.converters.MarshallingContext;', 'import com.thoughtworks.xstream.converters.UnmarshallingContext;', 'import com.thoughtworks.xstream.io.HierarchicalStreamReader;', 'import com.thoughtworks.xstream.io.HierarchicalStreamWriter;'], ['import java.util.List;', 'import com.thoughtworks.xstream.XStream;', 'import com.thoughtworks.xstream.io.xml.StaxDriver;'], ['import java.util.List;', 'import com.thoughtworks.xstream.annotations.XStreamAlias;', 'import com.thoughtworks.xstream.annotations.XStreamImplicit;'], ['import java.util.ArrayList;', 'import java.util.List;', 'import com.thoughtworks.xstream.XStream;', 'import com.thoughtworks.xstream.io.xml.DomDriver;'], ['import java.io.File;', 'import java.io.FileOutputStream;', 'import com.thoughtworks.xstream.XStream;']]\n",
      "[1, 1, 1, 1, 1, 1, 1, 1, 1, 1, 1, 1, 1, 1, 1, 1, 1, 1, 1, 1, 1, 1, 1, 1, 1, 1, 1, 1, 1, 1, 1, 1, 1, 1, 1, 1, 1, 1, 1, 1, 1, 1, 1, 1, 1, 1, 1, 1, 1, 1, 1, 0, 0, 1, 1, 0, 1, 1, 1, 1, 1, 1, 1, 1, 1, 1, 1, 1, 0, 0, 1, 1, 1, 1, 1, 1, 1, 0, 0, 1, 1, 1, 1, 1, 1, 1, 1, 1, 1, 1, 1, 1, 1, 1, 1, 1, 1, 1, 0, 1, 1, 1, 1, 1, 1, 1, 1, 1, 1, 1, 1, 0, 0, 0, 0, 0, 0, 0, 1, 1, 1, 1, 1, 1, 1, 1, 1, 1, 1, 1, 0, 0, 0, 0, 1, 1, 1, 1, 1, 0, 0, 1, 1, 1, 1, 1, 1, 1, 0, 0, 1, 1, 1, 1, 0, 0, 0, 0, 0, 0, 1, 1, 0, 0, 0, 0, 0, 0, 0, 0, 0, 0, 0, 0, 1, 1, 1, 1, 1, 1, 1, 0, 0, 0, 1, 1, 1, 1, 1, 0, 0, 0, 1, 1, 1, 1, 1, 1, 1, 1, 1, 0, 0, 1, 1, 1, 1, 1, 1, 1, 1, 1, 0, 1, 1, 1, 1, 1, 1, 1, 1, 1, 1, 1, 1, 1, 1, 1, 1, 1, 1, 1, 1]\n",
      "[1, 1, 1, 1, 1, 1, 1, 1, 1, 1, 1, 1, 1, 1, 1, 1, 1, 1, 1, 1, 1, 1, 1, 1, 1, 1, 1, 1, 1, 1, 1, 1, 1, 1, 1, 1, 1, 1, 1, 1, 1, 1, 1, 1, 1, 1, 1, 1, 1, 1, 1, 1, 1, 1, 1, 1, 1, 1, 1, 1, 1, 1, 1, 1, 1, 1, 1, 1, 1, 1, 0, 0, 1, 1, 1, 1, 1, 1, 1, 1, 1, 1, 1, 1, 1, 1, 1, 1, 1, 1, 1, 1, 1, 1, 1, 1, 1, 1, 1, 1, 1, 1, 1, 1, 1, 1, 1, 1, 1, 1, 1, 1, 1, 1, 1, 1, 1, 1, 1, 1, 1, 0, 1, 1, 1, 1, 1, 1, 1, 1, 1, 1, 1, 1, 1, 1, 1, 1, 1, 1, 1, 1, 1, 1, 1, 1, 1, 1, 1, 1, 1, 1, 1, 1, 1, 1, 1, 1, 1, 1, 1, 1, 1, 1, 1, 1, 1, 1, 1, 1, 1, 1, 1, 1, 1, 1, 1, 1, 1, 1, 1, 1, 1, 1, 1, 1, 1, 1, 1, 1, 1, 1, 0, 1, 1, 1, 1, 1, 1, 1, 1, 1, 1, 1, 1, 1, 1, 1, 1, 1, 1, 1, 1, 0, 1, 1, 1, 1, 1, 1, 1, 1, 1, 1, 1, 1, 1, 1, 1, 1, 1, 1, 0]\n",
      "\n",
      "{\n",
      "  \"accuracy\": 0.759656652360515,\n",
      "  \"f1\": 0.8634146341463413,\n",
      "  \"recall\": 0.7797356828193832,\n",
      "  \"precision\": 0.9672131147540983\n",
      "}\n"
     ]
    },
    {
     "name": "stderr",
     "output_type": "stream",
     "text": [
      "\n"
     ]
    }
   ],
   "source": [
    "# Prediction for XStream Classes\n",
    "\n",
    "print(\"\\nPrediction for XStream Classes\\n\")\n",
    "y_pred, predicted_codes = get_predictions(xstream_test_examples)\n",
    "print(\"\\nPredicted Import List:\", y_pred)\n",
    "print(\"\\nCorrect Import List:\", xstream_y_true)\n",
    "\n",
    "code_name = \"xstream\"\n",
    "codes = predicted_codes\n",
    "predicted_imports = y_pred\n",
    "import_list = group_imports(predicted_imports)\n",
    "append_imports(save_directory, code_name, codes, import_list)\n",
    "\n",
    "y_pred_processed, y_true_processed = pred_process(y_pred, xstream_y_true)\n",
    "eval_performance(y_pred_processed, y_true_processed)"
   ]
  },
  {
   "cell_type": "markdown",
   "metadata": {},
   "source": [
    "# Compilation Rate Calculation"
   ]
  },
  {
   "cell_type": "code",
   "execution_count": 32,
   "metadata": {},
   "outputs": [],
   "source": [
    "def compile_java(file_path, class_path, log_folder_success, log_folder_fail, output_folder):\n",
    "    r_errors_count = 0\n",
    "    gen_r_errors_count = 0\n",
    "    try:\n",
    "        successful_compile = False\n",
    "        # If the output directory doesn't exist, create it\n",
    "        if not os.path.exists(output_folder):\n",
    "            os.makedirs(output_folder)\n",
    "        \n",
    "        # Compile the .java file with the provided class_path and specify the output directory for .class files\n",
    "        result = subprocess.run(['javac', '-cp', class_path, '-d', output_folder, file_path], capture_output=True, text=True, timeout=10)\n",
    "\n",
    "        if result.returncode == 0:\n",
    "            print(f\"Successfully compiled \\\"{file_path}\\\".\")\n",
    "            stderr_log = result.stderr\n",
    "            successful_compile = True\n",
    "        else:\n",
    "            warning_val = False\n",
    "            num_errors = 1\n",
    "            stderr_lines = result.stderr.splitlines()\n",
    "            num_errors_line = stderr_lines[-1]\n",
    "            try:\n",
    "                num_errors = int(num_errors_line.split()[0])  # Extract the number of error(s)\n",
    "            except ValueError:\n",
    "                warning_val = True\n",
    "\n",
    "            r_errors_count = result.stderr.count(\"error: package R does not exist\")\n",
    "            gen_r_errors_count = result.stderr.count(\"error: package gen does not exist\")\n",
    "            total_r_errors_count = r_errors_count + gen_r_errors_count\n",
    "\n",
    "            # Check if all errors are related to \"package R does not exist\"\n",
    "            if num_errors == total_r_errors_count and warning_val == False:\n",
    "                print(f\"Successfully compiled, ignoring {num_errors} 'package R does not exist' errors for \\\"{file_path}\\\".\")\n",
    "                stderr_log = \"No error (Ignored 'package R does not exist' errors)\"\n",
    "                successful_compile = True\n",
    "            else:\n",
    "                if warning_val:\n",
    "                    print(f\"Compiled with warning.\")\n",
    "                    stderr_log = \"Warning present\"\n",
    "                    successful_compile = True\n",
    "                else:\n",
    "                    print(f\"Failed to compile \\\"{file_path}\\\".\")\n",
    "                    stderr_log = result.stderr\n",
    "                    successful_compile = False\n",
    "\n",
    "        # Read the content of the Java file\n",
    "        with open(file_path, 'r', errors='ignore') as java_file:\n",
    "            java_code = java_file.read()\n",
    "\n",
    "        # Prepare the JSON log\n",
    "        log_data = {\n",
    "            \"file\": file_path,\n",
    "            \"java_code\": java_code,\n",
    "            \"stdout\": result.stdout,\n",
    "            \"stderr\": stderr_log,\n",
    "            \"return_code\": result.returncode\n",
    "        }\n",
    "        \n",
    "        # Save the logs to a file named after the Java file being compiled\n",
    "        log_file_name = os.path.basename(file_path).replace('.java', '.json')\n",
    "        if successful_compile:\n",
    "            log_file_path = os.path.join(log_folder_success, log_file_name)\n",
    "        else:\n",
    "            log_file_path = os.path.join(log_folder_fail, log_file_name)\n",
    "        \n",
    "        with open(log_file_path, 'w') as log_file:\n",
    "            json.dump(log_data, log_file, indent=4)\n",
    "\n",
    "        return successful_compile\n",
    "\n",
    "    except subprocess.TimeoutExpired:\n",
    "        print(f\"Compilation of {file_path} timed out.\")\n",
    "        return False"
   ]
  },
  {
   "cell_type": "code",
   "execution_count": 33,
   "metadata": {},
   "outputs": [],
   "source": [
    "def calculate_success_rate(directory, class_path, log_folder_success, log_folder_fail, output_folder):\n",
    "    if not os.path.exists(log_folder_success):\n",
    "        os.makedirs(log_folder_success)\n",
    "\n",
    "    if not os.path.exists(log_folder_fail):\n",
    "        os.makedirs(log_folder_fail)\n",
    "\n",
    "    java_files = [f for f in os.listdir(directory) if f.endswith('.java')]\n",
    "    if not java_files:\n",
    "        print(\"No .java files found.\")\n",
    "        return 0\n",
    "\n",
    "    total_files = len(java_files)\n",
    "    successful_compilations = 0\n",
    "\n",
    "    for java_file in java_files:\n",
    "        file_path = os.path.join(directory, java_file)\n",
    "        if compile_java(file_path, class_path, log_folder_success, log_folder_fail, output_folder):\n",
    "            successful_compilations += 1\n",
    "\n",
    "    success_rate = (successful_compilations / total_files) * 100\n",
    "    return success_rate, successful_compilations"
   ]
  },
  {
   "cell_type": "code",
   "execution_count": 34,
   "metadata": {},
   "outputs": [
    {
     "name": "stdout",
     "output_type": "stream",
     "text": [
      "Successfully compiled \"/home/azmain/code_for_compilation_test/base-prompt/xstream_class_25.java\".\n",
      "Successfully compiled \"/home/azmain/code_for_compilation_test/base-prompt/hibernate_class_24.java\".\n",
      "Failed to compile \"/home/azmain/code_for_compilation_test/base-prompt/hibernate_class_19.java\".\n",
      "Successfully compiled \"/home/azmain/code_for_compilation_test/base-prompt/hibernate_class_44.java\".\n",
      "Successfully compiled \"/home/azmain/code_for_compilation_test/base-prompt/JodaTime29.java\".\n",
      "Successfully compiled, ignoring 1 'package R does not exist' errors for \"/home/azmain/code_for_compilation_test/base-prompt/Android02.java\".\n",
      "Failed to compile \"/home/azmain/code_for_compilation_test/base-prompt/xstream_class_23.java\".\n",
      "Failed to compile \"/home/azmain/code_for_compilation_test/base-prompt/xstream_class_3.java\".\n",
      "Successfully compiled \"/home/azmain/code_for_compilation_test/base-prompt/JodaTime08.java\".\n",
      "Failed to compile \"/home/azmain/code_for_compilation_test/base-prompt/Class_19.java\".\n",
      "Failed to compile \"/home/azmain/code_for_compilation_test/base-prompt/Class_1.java\".\n",
      "Successfully compiled \"/home/azmain/code_for_compilation_test/base-prompt/Android10.java\".\n",
      "Failed to compile \"/home/azmain/code_for_compilation_test/base-prompt/hibernate_class_22.java\".\n",
      "Failed to compile \"/home/azmain/code_for_compilation_test/base-prompt/JodaTime13.java\".\n",
      "Successfully compiled \"/home/azmain/code_for_compilation_test/base-prompt/Class_13.java\".\n",
      "Successfully compiled \"/home/azmain/code_for_compilation_test/base-prompt/gwt_class_25.java\".\n",
      "Failed to compile \"/home/azmain/code_for_compilation_test/base-prompt/xstream_class_14.java\".\n",
      "Successfully compiled \"/home/azmain/code_for_compilation_test/base-prompt/JodaTime26.java\".\n",
      "Successfully compiled \"/home/azmain/code_for_compilation_test/base-prompt/Android29.java\".\n",
      "Failed to compile \"/home/azmain/code_for_compilation_test/base-prompt/hibernate_class_32.java\".\n",
      "Successfully compiled \"/home/azmain/code_for_compilation_test/base-prompt/xstream_class_5.java\".\n",
      "Failed to compile \"/home/azmain/code_for_compilation_test/base-prompt/gwt_class_40.java\".\n",
      "Successfully compiled \"/home/azmain/code_for_compilation_test/base-prompt/Android19.java\".\n",
      "Successfully compiled \"/home/azmain/code_for_compilation_test/base-prompt/hibernate_class_43.java\".\n",
      "Successfully compiled \"/home/azmain/code_for_compilation_test/base-prompt/Class_21.java\".\n",
      "Failed to compile \"/home/azmain/code_for_compilation_test/base-prompt/gwt_class_37.java\".\n",
      "Successfully compiled \"/home/azmain/code_for_compilation_test/base-prompt/JodaTime45.java\".\n",
      "Successfully compiled \"/home/azmain/code_for_compilation_test/base-prompt/hibernate_class_34.java\".\n",
      "Successfully compiled \"/home/azmain/code_for_compilation_test/base-prompt/Android14.java\".\n",
      "Failed to compile \"/home/azmain/code_for_compilation_test/base-prompt/xstream_class_26.java\".\n",
      "Successfully compiled \"/home/azmain/code_for_compilation_test/base-prompt/hibernate_class_5.java\".\n",
      "Successfully compiled \"/home/azmain/code_for_compilation_test/base-prompt/hibernate_class_21.java\".\n",
      "Failed to compile \"/home/azmain/code_for_compilation_test/base-prompt/JodaTime42.java\".\n",
      "Successfully compiled \"/home/azmain/code_for_compilation_test/base-prompt/xstream_class_10.java\".\n",
      "Failed to compile \"/home/azmain/code_for_compilation_test/base-prompt/hibernate_class_26.java\".\n",
      "Successfully compiled, ignoring 3 'package R does not exist' errors for \"/home/azmain/code_for_compilation_test/base-prompt/Android40.java\".\n",
      "Successfully compiled \"/home/azmain/code_for_compilation_test/base-prompt/JodaTime27.java\".\n",
      "Successfully compiled \"/home/azmain/code_for_compilation_test/base-prompt/gwt_class_48.java\".\n",
      "Failed to compile \"/home/azmain/code_for_compilation_test/base-prompt/Class_16.java\".\n",
      "Successfully compiled \"/home/azmain/code_for_compilation_test/base-prompt/xstream_class_4.java\".\n",
      "Failed to compile \"/home/azmain/code_for_compilation_test/base-prompt/gwt_class_27.java\".\n",
      "Successfully compiled \"/home/azmain/code_for_compilation_test/base-prompt/Android44.java\".\n",
      "Successfully compiled \"/home/azmain/code_for_compilation_test/base-prompt/xstream_class_31.java\".\n",
      "Failed to compile \"/home/azmain/code_for_compilation_test/base-prompt/hibernate_class_28.java\".\n",
      "Failed to compile \"/home/azmain/code_for_compilation_test/base-prompt/hibernate_class_45.java\".\n",
      "Successfully compiled \"/home/azmain/code_for_compilation_test/base-prompt/JodaTime15.java\".\n",
      "Successfully compiled \"/home/azmain/code_for_compilation_test/base-prompt/Android15.java\".\n",
      "Successfully compiled \"/home/azmain/code_for_compilation_test/base-prompt/xstream_class_15.java\".\n",
      "Failed to compile \"/home/azmain/code_for_compilation_test/base-prompt/JodaTime05.java\".\n",
      "Successfully compiled \"/home/azmain/code_for_compilation_test/base-prompt/gwt_class_28.java\".\n",
      "Successfully compiled \"/home/azmain/code_for_compilation_test/base-prompt/JodaTime23.java\".\n",
      "Successfully compiled \"/home/azmain/code_for_compilation_test/base-prompt/gwt_class_20.java\".\n",
      "Successfully compiled \"/home/azmain/code_for_compilation_test/base-prompt/JodaTime28.java\".\n",
      "Failed to compile \"/home/azmain/code_for_compilation_test/base-prompt/xstream_class_30.java\".\n",
      "Successfully compiled \"/home/azmain/code_for_compilation_test/base-prompt/JodaTime35.java\".\n",
      "Successfully compiled \"/home/azmain/code_for_compilation_test/base-prompt/JodaTime32.java\".\n",
      "Successfully compiled \"/home/azmain/code_for_compilation_test/base-prompt/JodaTime02.java\".\n",
      "Successfully compiled \"/home/azmain/code_for_compilation_test/base-prompt/gwt_class_45.java\".\n",
      "Successfully compiled, ignoring 2 'package R does not exist' errors for \"/home/azmain/code_for_compilation_test/base-prompt/Android21.java\".\n",
      "Successfully compiled \"/home/azmain/code_for_compilation_test/base-prompt/xstream_class_8.java\".\n",
      "Successfully compiled \"/home/azmain/code_for_compilation_test/base-prompt/Android30.java\".\n",
      "Successfully compiled \"/home/azmain/code_for_compilation_test/base-prompt/gwt_class_35.java\".\n",
      "Successfully compiled \"/home/azmain/code_for_compilation_test/base-prompt/JodaTime20.java\".\n",
      "Failed to compile \"/home/azmain/code_for_compilation_test/base-prompt/xstream_class_17.java\".\n",
      "Successfully compiled \"/home/azmain/code_for_compilation_test/base-prompt/JodaTime11.java\".\n",
      "Failed to compile \"/home/azmain/code_for_compilation_test/base-prompt/hibernate_class_48.java\".\n",
      "Successfully compiled \"/home/azmain/code_for_compilation_test/base-prompt/hibernate_class_29.java\".\n",
      "Successfully compiled \"/home/azmain/code_for_compilation_test/base-prompt/xstream_class_29.java\".\n",
      "Successfully compiled \"/home/azmain/code_for_compilation_test/base-prompt/gwt_class_11.java\".\n",
      "Successfully compiled \"/home/azmain/code_for_compilation_test/base-prompt/Class_15.java\".\n",
      "Successfully compiled \"/home/azmain/code_for_compilation_test/base-prompt/JodaTime50.java\".\n",
      "Successfully compiled \"/home/azmain/code_for_compilation_test/base-prompt/xstream_class_6.java\".\n",
      "Successfully compiled \"/home/azmain/code_for_compilation_test/base-prompt/hibernate_class_36.java\".\n",
      "Successfully compiled \"/home/azmain/code_for_compilation_test/base-prompt/gwt_class_14.java\".\n",
      "Successfully compiled \"/home/azmain/code_for_compilation_test/base-prompt/hibernate_class_15.java\".\n",
      "Successfully compiled \"/home/azmain/code_for_compilation_test/base-prompt/Class_23.java\".\n",
      "Failed to compile \"/home/azmain/code_for_compilation_test/base-prompt/gwt_class_26.java\".\n",
      "Successfully compiled \"/home/azmain/code_for_compilation_test/base-prompt/JodaTime17.java\".\n",
      "Successfully compiled \"/home/azmain/code_for_compilation_test/base-prompt/Android17.java\".\n",
      "Failed to compile \"/home/azmain/code_for_compilation_test/base-prompt/Android42.java\".\n",
      "Failed to compile \"/home/azmain/code_for_compilation_test/base-prompt/Class_10.java\".\n",
      "Failed to compile \"/home/azmain/code_for_compilation_test/base-prompt/xstream_class_34.java\".\n",
      "Failed to compile \"/home/azmain/code_for_compilation_test/base-prompt/hibernate_class_47.java\".\n",
      "Failed to compile \"/home/azmain/code_for_compilation_test/base-prompt/xstream_class_27.java\".\n",
      "Successfully compiled \"/home/azmain/code_for_compilation_test/base-prompt/JodaTime37.java\".\n",
      "Failed to compile \"/home/azmain/code_for_compilation_test/base-prompt/xstream_class_13.java\".\n",
      "Successfully compiled \"/home/azmain/code_for_compilation_test/base-prompt/JodaTime14.java\".\n",
      "Failed to compile \"/home/azmain/code_for_compilation_test/base-prompt/Class_6.java\".\n",
      "Successfully compiled \"/home/azmain/code_for_compilation_test/base-prompt/JodaTime39.java\".\n",
      "Failed to compile \"/home/azmain/code_for_compilation_test/base-prompt/hibernate_class_2.java\".\n",
      "Failed to compile \"/home/azmain/code_for_compilation_test/base-prompt/xstream_class_24.java\".\n",
      "Failed to compile \"/home/azmain/code_for_compilation_test/base-prompt/xstream_class_33.java\".\n",
      "Failed to compile \"/home/azmain/code_for_compilation_test/base-prompt/xstream_class_21.java\".\n",
      "Successfully compiled \"/home/azmain/code_for_compilation_test/base-prompt/Android48.java\".\n",
      "Successfully compiled \"/home/azmain/code_for_compilation_test/base-prompt/gwt_class_47.java\".\n",
      "Failed to compile \"/home/azmain/code_for_compilation_test/base-prompt/gwt_class_31.java\".\n",
      "Successfully compiled \"/home/azmain/code_for_compilation_test/base-prompt/gwt_class_39.java\".\n",
      "Successfully compiled \"/home/azmain/code_for_compilation_test/base-prompt/JodaTime33.java\".\n",
      "Successfully compiled \"/home/azmain/code_for_compilation_test/base-prompt/gwt_class_15.java\".\n",
      "Successfully compiled \"/home/azmain/code_for_compilation_test/base-prompt/gwt_class_9.java\".\n",
      "Failed to compile \"/home/azmain/code_for_compilation_test/base-prompt/hibernate_class_9.java\".\n",
      "Failed to compile \"/home/azmain/code_for_compilation_test/base-prompt/hibernate_class_17.java\".\n",
      "Successfully compiled \"/home/azmain/code_for_compilation_test/base-prompt/Android34.java\".\n",
      "Successfully compiled \"/home/azmain/code_for_compilation_test/base-prompt/Android43.java\".\n",
      "Successfully compiled \"/home/azmain/code_for_compilation_test/base-prompt/Android20.java\".\n",
      "Failed to compile \"/home/azmain/code_for_compilation_test/base-prompt/hibernate_class_11.java\".\n",
      "Successfully compiled \"/home/azmain/code_for_compilation_test/base-prompt/Android32.java\".\n",
      "Successfully compiled \"/home/azmain/code_for_compilation_test/base-prompt/xstream_class_9.java\".\n",
      "Successfully compiled \"/home/azmain/code_for_compilation_test/base-prompt/gwt_class_6.java\".\n",
      "Successfully compiled \"/home/azmain/code_for_compilation_test/base-prompt/gwt_class_16.java\".\n",
      "Successfully compiled \"/home/azmain/code_for_compilation_test/base-prompt/gwt_class_1.java\".\n",
      "Failed to compile \"/home/azmain/code_for_compilation_test/base-prompt/xstream_class_28.java\".\n",
      "Successfully compiled \"/home/azmain/code_for_compilation_test/base-prompt/xstream_class_20.java\".\n",
      "Failed to compile \"/home/azmain/code_for_compilation_test/base-prompt/hibernate_class_30.java\".\n",
      "Failed to compile \"/home/azmain/code_for_compilation_test/base-prompt/hibernate_class_31.java\".\n",
      "Successfully compiled \"/home/azmain/code_for_compilation_test/base-prompt/JodaTime46.java\".\n",
      "Successfully compiled, ignoring 4 'package R does not exist' errors for \"/home/azmain/code_for_compilation_test/base-prompt/Android47.java\".\n",
      "Failed to compile \"/home/azmain/code_for_compilation_test/base-prompt/hibernate_class_13.java\".\n",
      "Failed to compile \"/home/azmain/code_for_compilation_test/base-prompt/hibernate_class_50.java\".\n",
      "Failed to compile \"/home/azmain/code_for_compilation_test/base-prompt/hibernate_class_49.java\".\n",
      "Successfully compiled \"/home/azmain/code_for_compilation_test/base-prompt/gwt_class_50.java\".\n",
      "Successfully compiled \"/home/azmain/code_for_compilation_test/base-prompt/Android41.java\".\n",
      "Successfully compiled \"/home/azmain/code_for_compilation_test/base-prompt/JodaTime01.java\".\n",
      "Failed to compile \"/home/azmain/code_for_compilation_test/base-prompt/gwt_class_18.java\".\n",
      "Successfully compiled \"/home/azmain/code_for_compilation_test/base-prompt/Android08.java\".\n",
      "Successfully compiled \"/home/azmain/code_for_compilation_test/base-prompt/gwt_class_5.java\".\n",
      "Failed to compile \"/home/azmain/code_for_compilation_test/base-prompt/Class_3.java\".\n",
      "Failed to compile \"/home/azmain/code_for_compilation_test/base-prompt/gwt_class_49.java\".\n",
      "Failed to compile \"/home/azmain/code_for_compilation_test/base-prompt/gwt_class_30.java\".\n",
      "Successfully compiled \"/home/azmain/code_for_compilation_test/base-prompt/gwt_class_36.java\".\n",
      "Failed to compile \"/home/azmain/code_for_compilation_test/base-prompt/hibernate_class_41.java\".\n",
      "Successfully compiled \"/home/azmain/code_for_compilation_test/base-prompt/JodaTime10.java\".\n",
      "Successfully compiled \"/home/azmain/code_for_compilation_test/base-prompt/hibernate_class_12.java\".\n",
      "Successfully compiled \"/home/azmain/code_for_compilation_test/base-prompt/JodaTime24.java\".\n",
      "Failed to compile \"/home/azmain/code_for_compilation_test/base-prompt/gwt_class_2.java\".\n",
      "Successfully compiled \"/home/azmain/code_for_compilation_test/base-prompt/hibernate_class_33.java\".\n",
      "Successfully compiled \"/home/azmain/code_for_compilation_test/base-prompt/xstream_class_43.java\".\n",
      "Successfully compiled \"/home/azmain/code_for_compilation_test/base-prompt/Class_12.java\".\n",
      "Successfully compiled \"/home/azmain/code_for_compilation_test/base-prompt/xstream_class_2.java\".\n",
      "Successfully compiled \"/home/azmain/code_for_compilation_test/base-prompt/hibernate_class_10.java\".\n",
      "Successfully compiled \"/home/azmain/code_for_compilation_test/base-prompt/gwt_class_32.java\".\n",
      "Successfully compiled \"/home/azmain/code_for_compilation_test/base-prompt/gwt_class_42.java\".\n",
      "Failed to compile \"/home/azmain/code_for_compilation_test/base-prompt/xstream_class_12.java\".\n",
      "Failed to compile \"/home/azmain/code_for_compilation_test/base-prompt/hibernate_class_40.java\".\n",
      "Successfully compiled \"/home/azmain/code_for_compilation_test/base-prompt/Android27.java\".\n",
      "Failed to compile \"/home/azmain/code_for_compilation_test/base-prompt/gwt_class_13.java\".\n",
      "Successfully compiled \"/home/azmain/code_for_compilation_test/base-prompt/Android11.java\".\n",
      "Successfully compiled \"/home/azmain/code_for_compilation_test/base-prompt/xstream_class_1.java\".\n",
      "Successfully compiled \"/home/azmain/code_for_compilation_test/base-prompt/JodaTime31.java\".\n",
      "Successfully compiled \"/home/azmain/code_for_compilation_test/base-prompt/JodaTime34.java\".\n",
      "Successfully compiled \"/home/azmain/code_for_compilation_test/base-prompt/gwt_class_43.java\".\n",
      "Failed to compile \"/home/azmain/code_for_compilation_test/base-prompt/gwt_class_7.java\".\n",
      "Failed to compile \"/home/azmain/code_for_compilation_test/base-prompt/hibernate_class_3.java\".\n",
      "Failed to compile \"/home/azmain/code_for_compilation_test/base-prompt/Android45.java\".\n",
      "Successfully compiled \"/home/azmain/code_for_compilation_test/base-prompt/gwt_class_19.java\".\n",
      "Successfully compiled \"/home/azmain/code_for_compilation_test/base-prompt/JodaTime44.java\".\n",
      "Successfully compiled \"/home/azmain/code_for_compilation_test/base-prompt/xstream_class_16.java\".\n",
      "Failed to compile \"/home/azmain/code_for_compilation_test/base-prompt/Android18.java\".\n",
      "Failed to compile \"/home/azmain/code_for_compilation_test/base-prompt/hibernate_class_8.java\".\n",
      "Successfully compiled \"/home/azmain/code_for_compilation_test/base-prompt/JodaTime41.java\".\n",
      "Successfully compiled \"/home/azmain/code_for_compilation_test/base-prompt/Class_11.java\".\n",
      "Successfully compiled \"/home/azmain/code_for_compilation_test/base-prompt/Class_4.java\".\n",
      "Successfully compiled \"/home/azmain/code_for_compilation_test/base-prompt/Class_5.java\".\n",
      "Successfully compiled \"/home/azmain/code_for_compilation_test/base-prompt/gwt_class_21.java\".\n",
      "Failed to compile \"/home/azmain/code_for_compilation_test/base-prompt/Class_8.java\".\n",
      "Failed to compile \"/home/azmain/code_for_compilation_test/base-prompt/hibernate_class_35.java\".\n",
      "Successfully compiled \"/home/azmain/code_for_compilation_test/base-prompt/hibernate_class_16.java\".\n",
      "Successfully compiled, ignoring 3 'package R does not exist' errors for \"/home/azmain/code_for_compilation_test/base-prompt/Android23.java\".\n",
      "Successfully compiled \"/home/azmain/code_for_compilation_test/base-prompt/xstream_class_41.java\".\n",
      "Successfully compiled \"/home/azmain/code_for_compilation_test/base-prompt/gwt_class_24.java\".\n",
      "Successfully compiled \"/home/azmain/code_for_compilation_test/base-prompt/gwt_class_4.java\".\n",
      "Successfully compiled \"/home/azmain/code_for_compilation_test/base-prompt/xstream_class_11.java\".\n",
      "Successfully compiled \"/home/azmain/code_for_compilation_test/base-prompt/JodaTime36.java\".\n",
      "Successfully compiled \"/home/azmain/code_for_compilation_test/base-prompt/hibernate_class_23.java\".\n",
      "Successfully compiled \"/home/azmain/code_for_compilation_test/base-prompt/gwt_class_12.java\".\n",
      "Failed to compile \"/home/azmain/code_for_compilation_test/base-prompt/gwt_class_44.java\".\n",
      "Successfully compiled \"/home/azmain/code_for_compilation_test/base-prompt/JodaTime49.java\".\n",
      "Successfully compiled \"/home/azmain/code_for_compilation_test/base-prompt/hibernate_class_37.java\".\n",
      "Failed to compile \"/home/azmain/code_for_compilation_test/base-prompt/gwt_class_34.java\".\n",
      "Failed to compile \"/home/azmain/code_for_compilation_test/base-prompt/JodaTime22.java\".\n",
      "Failed to compile \"/home/azmain/code_for_compilation_test/base-prompt/xstream_class_39.java\".\n",
      "Failed to compile \"/home/azmain/code_for_compilation_test/base-prompt/hibernate_class_39.java\".\n",
      "Failed to compile \"/home/azmain/code_for_compilation_test/base-prompt/gwt_class_10.java\".\n",
      "Successfully compiled \"/home/azmain/code_for_compilation_test/base-prompt/Android13.java\".\n",
      "Successfully compiled \"/home/azmain/code_for_compilation_test/base-prompt/Android16.java\".\n",
      "Successfully compiled \"/home/azmain/code_for_compilation_test/base-prompt/gwt_class_46.java\".\n",
      "Successfully compiled \"/home/azmain/code_for_compilation_test/base-prompt/JodaTime47.java\".\n",
      "Successfully compiled \"/home/azmain/code_for_compilation_test/base-prompt/Android33.java\".\n",
      "Successfully compiled \"/home/azmain/code_for_compilation_test/base-prompt/Android35.java\".\n",
      "Successfully compiled \"/home/azmain/code_for_compilation_test/base-prompt/Class_14.java\".\n",
      "Successfully compiled \"/home/azmain/code_for_compilation_test/base-prompt/JodaTime19.java\".\n",
      "Successfully compiled \"/home/azmain/code_for_compilation_test/base-prompt/JodaTime12.java\".\n",
      "Failed to compile \"/home/azmain/code_for_compilation_test/base-prompt/gwt_class_23.java\".\n",
      "Successfully compiled \"/home/azmain/code_for_compilation_test/base-prompt/JodaTime38.java\".\n",
      "Failed to compile \"/home/azmain/code_for_compilation_test/base-prompt/hibernate_class_42.java\".\n",
      "Successfully compiled \"/home/azmain/code_for_compilation_test/base-prompt/hibernate_class_7.java\".\n",
      "Failed to compile \"/home/azmain/code_for_compilation_test/base-prompt/xstream_class_7.java\".\n",
      "Failed to compile \"/home/azmain/code_for_compilation_test/base-prompt/hibernate_class_27.java\".\n",
      "Successfully compiled, ignoring 1 'package R does not exist' errors for \"/home/azmain/code_for_compilation_test/base-prompt/Android37.java\".\n",
      "Successfully compiled \"/home/azmain/code_for_compilation_test/base-prompt/Class_7.java\".\n",
      "Successfully compiled, ignoring 4 'package R does not exist' errors for \"/home/azmain/code_for_compilation_test/base-prompt/Android50.java\".\n",
      "Successfully compiled \"/home/azmain/code_for_compilation_test/base-prompt/hibernate_class_46.java\".\n",
      "Failed to compile \"/home/azmain/code_for_compilation_test/base-prompt/hibernate_class_6.java\".\n",
      "Failed to compile \"/home/azmain/code_for_compilation_test/base-prompt/gwt_class_41.java\".\n",
      "Successfully compiled \"/home/azmain/code_for_compilation_test/base-prompt/Class_9.java\".\n",
      "Successfully compiled \"/home/azmain/code_for_compilation_test/base-prompt/JodaTime09.java\".\n",
      "Successfully compiled \"/home/azmain/code_for_compilation_test/base-prompt/gwt_class_22.java\".\n",
      "Successfully compiled \"/home/azmain/code_for_compilation_test/base-prompt/hibernate_class_38.java\".\n",
      "Successfully compiled \"/home/azmain/code_for_compilation_test/base-prompt/Android38.java\".\n",
      "Failed to compile \"/home/azmain/code_for_compilation_test/base-prompt/gwt_class_29.java\".\n",
      "Failed to compile \"/home/azmain/code_for_compilation_test/base-prompt/gwt_class_17.java\".\n",
      "Successfully compiled \"/home/azmain/code_for_compilation_test/base-prompt/Android36.java\".\n",
      "Failed to compile \"/home/azmain/code_for_compilation_test/base-prompt/xstream_class_32.java\".\n",
      "Successfully compiled \"/home/azmain/code_for_compilation_test/base-prompt/Class_2.java\".\n",
      "Successfully compiled \"/home/azmain/code_for_compilation_test/base-prompt/xstream_class_22.java\".\n",
      "Successfully compiled \"/home/azmain/code_for_compilation_test/base-prompt/Android31.java\".\n",
      "Successfully compiled \"/home/azmain/code_for_compilation_test/base-prompt/hibernate_class_4.java\".\n",
      "Failed to compile \"/home/azmain/code_for_compilation_test/base-prompt/hibernate_class_14.java\".\n",
      "Successfully compiled \"/home/azmain/code_for_compilation_test/base-prompt/xstream_class_40.java\".\n",
      "Successfully compiled \"/home/azmain/code_for_compilation_test/base-prompt/JodaTime30.java\".\n",
      "Failed to compile \"/home/azmain/code_for_compilation_test/base-prompt/xstream_class_42.java\".\n",
      "Failed to compile \"/home/azmain/code_for_compilation_test/base-prompt/Android22.java\".\n",
      "Failed to compile \"/home/azmain/code_for_compilation_test/base-prompt/hibernate_class_25.java\".\n",
      "Successfully compiled \"/home/azmain/code_for_compilation_test/base-prompt/Class_20.java\".\n",
      "Successfully compiled, ignoring 1 'package R does not exist' errors for \"/home/azmain/code_for_compilation_test/base-prompt/Android09.java\".\n",
      "Successfully compiled \"/home/azmain/code_for_compilation_test/base-prompt/hibernate_class_20.java\".\n",
      "Successfully compiled \"/home/azmain/code_for_compilation_test/base-prompt/gwt_class_8.java\".\n",
      "Successfully compiled \"/home/azmain/code_for_compilation_test/base-prompt/Class_18.java\".\n",
      "Successfully compiled \"/home/azmain/code_for_compilation_test/base-prompt/gwt_class_33.java\".\n",
      "Successfully compiled \"/home/azmain/code_for_compilation_test/base-prompt/HibernateUtil.java\".\n",
      "Successfully compiled \"/home/azmain/code_for_compilation_test/base-prompt/gwt_class_38.java\".\n",
      "Failed to compile \"/home/azmain/code_for_compilation_test/base-prompt/Android26.java\".\n",
      "Successfully compiled, ignoring 2 'package R does not exist' errors for \"/home/azmain/code_for_compilation_test/base-prompt/Android39.java\".\n",
      "Successfully compiled \"/home/azmain/code_for_compilation_test/base-prompt/xstream_class_36.java\".\n",
      "Successfully compiled \"/home/azmain/code_for_compilation_test/base-prompt/JodaTime25.java\".\n",
      "Failed to compile \"/home/azmain/code_for_compilation_test/base-prompt/JodaTime48.java\".\n",
      "Successfully compiled \"/home/azmain/code_for_compilation_test/base-prompt/JodaTime21.java\".\n",
      "Successfully compiled \"/home/azmain/code_for_compilation_test/base-prompt/hibernate_class_18.java\".\n",
      "Successfully compiled, ignoring 1 'package R does not exist' errors for \"/home/azmain/code_for_compilation_test/base-prompt/Android25.java\".\n",
      "Failed to compile \"/home/azmain/code_for_compilation_test/base-prompt/hibernate_class_1.java\".\n",
      "Successfully compiled \"/home/azmain/code_for_compilation_test/base-prompt/JodaTime43.java\".\n",
      "Failed to compile \"/home/azmain/code_for_compilation_test/base-prompt/JodaTime06.java\".\n",
      "Successfully compiled \"/home/azmain/code_for_compilation_test/base-prompt/JodaTime18.java\".\n",
      "Successfully compiled \"/home/azmain/code_for_compilation_test/base-prompt/Android06.java\".\n",
      "Successfully compiled \"/home/azmain/code_for_compilation_test/base-prompt/JodaTime40.java\".\n",
      "Successfully compiled \"/home/azmain/code_for_compilation_test/base-prompt/JodaTime03.java\".\n",
      "Failed to compile \"/home/azmain/code_for_compilation_test/base-prompt/Class_22.java\".\n",
      "Successfully compiled, ignoring 1 'package R does not exist' errors for \"/home/azmain/code_for_compilation_test/base-prompt/Android49.java\".\n",
      "Successfully compiled \"/home/azmain/code_for_compilation_test/base-prompt/Android01.java\".\n",
      "Successfully compiled \"/home/azmain/code_for_compilation_test/base-prompt/JodaTime16.java\".\n",
      "Successfully compiled \"/home/azmain/code_for_compilation_test/base-prompt/xstream_class_44.java\".\n",
      "Failed to compile \"/home/azmain/code_for_compilation_test/base-prompt/xstream_class_19.java\".\n",
      "Failed to compile \"/home/azmain/code_for_compilation_test/base-prompt/xstream_class_18.java\".\n",
      "Failed to compile \"/home/azmain/code_for_compilation_test/base-prompt/xstream_class_35.java\".\n",
      "Successfully compiled \"/home/azmain/code_for_compilation_test/base-prompt/Android12.java\".\n",
      "Successfully compiled \"/home/azmain/code_for_compilation_test/base-prompt/Android04.java\".\n",
      "Successfully compiled \"/home/azmain/code_for_compilation_test/base-prompt/xstream_class_38.java\".\n",
      "Failed to compile \"/home/azmain/code_for_compilation_test/base-prompt/Android03.java\".\n",
      "Successfully compiled \"/home/azmain/code_for_compilation_test/base-prompt/gwt_class_3.java\".\n",
      "Successfully compiled \"/home/azmain/code_for_compilation_test/base-prompt/JodaTime04.java\".\n",
      "Successfully compiled, ignoring 1 'package R does not exist' errors for \"/home/azmain/code_for_compilation_test/base-prompt/Android07.java\".\n",
      "Successfully compiled, ignoring 1 'package R does not exist' errors for \"/home/azmain/code_for_compilation_test/base-prompt/Android24.java\".\n",
      "Successfully compiled \"/home/azmain/code_for_compilation_test/base-prompt/Android05.java\".\n",
      "Successfully compiled, ignoring 2 'package R does not exist' errors for \"/home/azmain/code_for_compilation_test/base-prompt/Android46.java\".\n",
      "Failed to compile \"/home/azmain/code_for_compilation_test/base-prompt/xstream_class_37.java\".\n",
      "Successfully compiled \"/home/azmain/code_for_compilation_test/base-prompt/JodaTime07.java\".\n",
      "Successfully compiled \"/home/azmain/code_for_compilation_test/base-prompt/Class_17.java\".\n",
      "Successfully compiled \"/home/azmain/code_for_compilation_test/base-prompt/Android28.java\".\n",
      "Compilation success rate: 66.79%\n",
      "Number of successfully compiled files: 179\n"
     ]
    }
   ],
   "source": [
    "dir_type = \"base-prompt\"\n",
    "dir_path = f\"/home/azmain/code_for_compilation_test/{dir_type}/\"\n",
    "jar_path = f\"/home/azmain/snr_jars/\"\n",
    "class_path = f\".:{jar_path}/*\"\n",
    "log_folder_success = f\"/home/azmain/GitHub Codes/Type_Inference_with_LLM/Java_Type_Inference/Results/logs/{dir_type}-logs/compile_success/\"\n",
    "log_folder_fail = f\"/home/azmain/GitHub Codes/Type_Inference_with_LLM/Java_Type_Inference/Results/logs/{dir_type}-logs/compile_fail/\"\n",
    "compiled_folder_path = f\"/home/azmain/GitHub Codes/Type_Inference_with_LLM/Java_Type_Inference/Results/compiled-classes/{dir_type}-compiled/\" \n",
    "\n",
    "rate, num_successful = calculate_success_rate(dir_path, class_path, log_folder_success, log_folder_fail, compiled_folder_path)\n",
    "print(f\"Compilation success rate: {rate:.2f}%\")\n",
    "print(f\"Number of successfully compiled files: {num_successful}\")"
   ]
  }
 ],
 "metadata": {
  "kernelspec": {
   "display_name": "azmain_py39",
   "language": "python",
   "name": "python3"
  },
  "language_info": {
   "codemirror_mode": {
    "name": "ipython",
    "version": 3
   },
   "file_extension": ".py",
   "mimetype": "text/x-python",
   "name": "python",
   "nbconvert_exporter": "python",
   "pygments_lexer": "ipython3",
   "version": "3.9.15"
  },
  "orig_nbformat": 4
 },
 "nbformat": 4,
 "nbformat_minor": 2
}
