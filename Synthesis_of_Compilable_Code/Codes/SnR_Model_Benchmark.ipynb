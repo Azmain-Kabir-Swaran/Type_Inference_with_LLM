{
 "cells": [
  {
   "cell_type": "code",
   "execution_count": null,
   "metadata": {},
   "outputs": [],
   "source": [
    "import glob\n",
    "import json\n",
    "import os\n",
    "import re\n",
    "\n",
    "from sklearn.metrics import accuracy_score, f1_score, precision_score, recall_score"
   ]
  },
  {
   "cell_type": "markdown",
   "metadata": {},
   "source": [
    "# Saving SnR Fixed Files as JSON"
   ]
  },
  {
   "cell_type": "code",
   "execution_count": null,
   "metadata": {},
   "outputs": [],
   "source": [
    "def extract_imports(java_code):\n",
    "    # Regular expression to find import statements\n",
    "    import_statements = re.findall(r\"(import .*?;)\", java_code)\n",
    "\n",
    "    return import_statements"
   ]
  },
  {
   "cell_type": "code",
   "execution_count": null,
   "metadata": {},
   "outputs": [],
   "source": [
    "snr_fixed_path = \"/home/azmain/snr_fixed/\"\n",
    "os.chdir(snr_fixed_path)\n",
    "\n",
    "# snr_fixed_files = [f for f in os.listdir(snr_fixed_path) if f.endswith(\".java\")]\n",
    "snr_fixed_files = []\n",
    "\n",
    "numbers = re.compile(r'(\\d+)')\n",
    "def numericalSort(value):\n",
    "    parts = numbers.split(value)\n",
    "    parts[1::2] = map(int, parts[1::2])\n",
    "    return parts\n",
    "\n",
    "for file in sorted(glob.glob(\"*.java\"), key=numericalSort):\n",
    "    snr_fixed_files.append(file)\n",
    "\n",
    "print(snr_fixed_files)\n",
    "print()\n",
    "snr_fixed_imports = []\n",
    "for filename in snr_fixed_files:\n",
    "    with open(os.path.join(snr_fixed_path, filename), 'r') as file:\n",
    "        content = file.read()\n",
    "        snr_fixed_imports.append(extract_imports(content))\n",
    "print(snr_fixed_imports)"
   ]
  },
  {
   "cell_type": "code",
   "execution_count": null,
   "metadata": {},
   "outputs": [],
   "source": [
    "def get_correct_imports(outputFiles):\n",
    "    correct_outputs = []\n",
    "    for output in outputFiles:\n",
    "        correct_output_list = json.load(open(output))['total_imports']\n",
    "        correct_output_list = [\"import \"+i+\";\" for i in correct_output_list]\n",
    "        correct_outputs.append(correct_output_list)\n",
    "\n",
    "    for import_lines in correct_outputs:\n",
    "        if \"import gen.R;\" in import_lines:\n",
    "            import_lines.remove(\"import gen.R;\")\n",
    "\n",
    "    return correct_outputs"
   ]
  },
  {
   "cell_type": "code",
   "execution_count": null,
   "metadata": {},
   "outputs": [],
   "source": [
    "os.chdir(\"/home/azmain/snr_all_json/\")\n",
    "\n",
    "outputFiles = []\n",
    "\n",
    "numbers = re.compile(r'(\\d+)')\n",
    "def numericalSort(value):\n",
    "    parts = numbers.split(value)\n",
    "    parts[1::2] = map(int, parts[1::2])\n",
    "    return parts\n",
    "\n",
    "for file in sorted(glob.glob(\"*.benchmark_log.json\"), key=numericalSort):\n",
    "    outputFiles.append(file)\n",
    "\n",
    "print(outputFiles)\n",
    "print()\n",
    "\n",
    "correct_imports = get_correct_imports(outputFiles)\n",
    "print(correct_imports)"
   ]
  },
  {
   "cell_type": "code",
   "execution_count": null,
   "metadata": {},
   "outputs": [],
   "source": [
    "def store_result(save_directory, code_name, expected_list, predicted_list):\n",
    "\n",
    "    # Validate lengths\n",
    "    if len(expected_list) != len(predicted_list):\n",
    "        raise ValueError(\"The length of expected_list and predicted_list lists must be equal\")\n",
    "\n",
    "    for index, (expected, predicted) in enumerate(zip(expected_list, predicted_list)):\n",
    "        file_name = \"\"\n",
    "        if code_name == \"android\":\n",
    "            if index<9:\n",
    "                file_name = f\"Android0{index+1}\"\n",
    "            else:\n",
    "                file_name = f\"Android{index+1}\"\n",
    "        elif code_name == \"jdk\":\n",
    "            file_name = f\"Class_{index+1}\" \n",
    "        elif code_name == \"hibernate\":\n",
    "            file_name = f\"hibernate_class_{index+1}\"\n",
    "        elif code_name == \"jodatime\":\n",
    "            if index<9:\n",
    "                file_name = f\"JodaTime0{index+1}\"\n",
    "            else:\n",
    "                file_name = f\"JodaTime{index+1}\"\n",
    "        elif code_name == \"gwt\":\n",
    "            file_name = f\"gwt_class_{index+1}\"\n",
    "        elif code_name == \"xstream\":\n",
    "            file_name = f\"xstream_class_{index+1}\"\n",
    "\n",
    "        full_path = os.path.join(save_directory, file_name)\n",
    "        data = {\n",
    "            \"filename\": file_name,\n",
    "            \"expected_output\": expected,\n",
    "            \"snr_fixed_output\": predicted\n",
    "        }\n",
    "        \n",
    "        with open(f\"{full_path}.json\", \"w\") as file:\n",
    "            json.dump(data, file, indent=4)\n",
    "\n",
    "    print(\"JSON files generated successfully!\")"
   ]
  },
  {
   "cell_type": "code",
   "execution_count": null,
   "metadata": {},
   "outputs": [],
   "source": [
    "save_directory = \"/home/azmain/snr_fixed_json/\"\n",
    "code_name = \"android\"\n",
    "expected_imports = correct_imports[:50]\n",
    "android_y_true = expected_imports\n",
    "predicted_imports = snr_fixed_imports[:50]\n",
    "android_y_pred = predicted_imports\n",
    "store_result(save_directory, code_name, expected_imports, predicted_imports)"
   ]
  },
  {
   "cell_type": "code",
   "execution_count": null,
   "metadata": {},
   "outputs": [],
   "source": [
    "save_directory = \"/home/azmain/snr_fixed_json/\"\n",
    "code_name = \"jdk\"\n",
    "expected_imports = correct_imports[50:73]\n",
    "jdk_y_true = expected_imports\n",
    "predicted_imports = snr_fixed_imports[50:73]\n",
    "jdk_y_pred = predicted_imports\n",
    "store_result(save_directory, code_name, expected_imports, predicted_imports)"
   ]
  },
  {
   "cell_type": "code",
   "execution_count": null,
   "metadata": {},
   "outputs": [],
   "source": [
    "save_directory = \"/home/azmain/snr_fixed_json/\"\n",
    "code_name = \"hibernate\"\n",
    "expected_imports = correct_imports[173:223]\n",
    "hibernate_y_true = expected_imports\n",
    "predicted_imports = snr_fixed_imports[173:223]\n",
    "hibernate_y_pred = predicted_imports\n",
    "store_result(save_directory, code_name, expected_imports, predicted_imports)"
   ]
  },
  {
   "cell_type": "code",
   "execution_count": null,
   "metadata": {},
   "outputs": [],
   "source": [
    "save_directory = \"/home/azmain/snr_fixed_json/\"\n",
    "code_name = \"jodatime\"\n",
    "expected_imports = correct_imports[73:123]\n",
    "jodatime_y_true = expected_imports\n",
    "predicted_imports = snr_fixed_imports[73:123]\n",
    "jodatime_y_pred = predicted_imports\n",
    "store_result(save_directory, code_name, expected_imports, predicted_imports)"
   ]
  },
  {
   "cell_type": "code",
   "execution_count": null,
   "metadata": {},
   "outputs": [],
   "source": [
    "save_directory = \"/home/azmain/snr_fixed_json/\"\n",
    "code_name = \"gwt\"\n",
    "expected_imports = correct_imports[123:173]\n",
    "gwt_y_true = expected_imports\n",
    "predicted_imports = snr_fixed_imports[123:173]\n",
    "gwt_y_pred = predicted_imports\n",
    "store_result(save_directory, code_name, expected_imports, predicted_imports)"
   ]
  },
  {
   "cell_type": "code",
   "execution_count": null,
   "metadata": {},
   "outputs": [],
   "source": [
    "save_directory = \"/home/azmain/snr_fixed_json/\"\n",
    "code_name = \"xstream\"\n",
    "expected_imports = correct_imports[223:267]\n",
    "xstream_y_true = expected_imports\n",
    "predicted_imports = snr_fixed_imports[223:267]\n",
    "xstream_y_pred = predicted_imports\n",
    "store_result(save_directory, code_name, expected_imports, predicted_imports)"
   ]
  },
  {
   "cell_type": "markdown",
   "metadata": {},
   "source": [
    "# Calculating SnR Benchmark"
   ]
  },
  {
   "cell_type": "code",
   "execution_count": null,
   "metadata": {},
   "outputs": [],
   "source": [
    "def pred_process(y_pred, y_true):\n",
    "    y_pred_processed = []\n",
    "    y_true_processed = []\n",
    "    \n",
    "    for pred, correct_imports in zip(y_pred, y_true):\n",
    "        max_length = max(len(pred), len(correct_imports))\n",
    "        correct_preds = list(set(pred).intersection(correct_imports))\n",
    "        \n",
    "        for i in range(0, max_length):\n",
    "            if i<len(correct_preds):\n",
    "                y_pred_processed.append(1)\n",
    "                y_true_processed.append(1)\n",
    "            else:\n",
    "                if i<len(correct_imports):\n",
    "                    y_pred_processed.append(0)\n",
    "                    y_true_processed.append(1)\n",
    "                else:\n",
    "                    y_pred_processed.append(1)\n",
    "                    y_true_processed.append(0)\n",
    "            \n",
    "    print(y_pred_processed)\n",
    "    print()\n",
    "    print(y_true_processed)\n",
    "    print()\n",
    "    return y_pred_processed, y_true_processed"
   ]
  },
  {
   "cell_type": "code",
   "execution_count": null,
   "metadata": {},
   "outputs": [],
   "source": [
    "def eval_performance(y_pred, y_true):   \n",
    "    print(json.dumps({\n",
    "        \"accuracy\": accuracy_score(y_true, y_pred),\n",
    "        \"f1\": f1_score(y_true, y_pred),\n",
    "        \"recall\": recall_score(y_true, y_pred),\n",
    "        \"precision\": precision_score(y_true, y_pred)\n",
    "    }, indent=2))"
   ]
  },
  {
   "cell_type": "code",
   "execution_count": null,
   "metadata": {
    "scrolled": true
   },
   "outputs": [],
   "source": [
    "# Prediction for Android Classes\n",
    "\n",
    "print(\"\\nPrediction for Android Classes:\\n\")\n",
    "\n",
    "y_pred_processed, y_true_processed = pred_process(android_y_pred, android_y_true)\n",
    "eval_performance(y_pred_processed, y_true_processed)"
   ]
  },
  {
   "cell_type": "code",
   "execution_count": null,
   "metadata": {},
   "outputs": [],
   "source": [
    "# Prediction for JDK Classes\n",
    "\n",
    "print(\"\\nPrediction for JDK Classes:\\n\")\n",
    "\n",
    "y_pred_processed, y_true_processed = pred_process(jdk_y_pred, jdk_y_true)\n",
    "eval_performance(y_pred_processed, y_true_processed)"
   ]
  },
  {
   "cell_type": "code",
   "execution_count": null,
   "metadata": {},
   "outputs": [],
   "source": [
    "# Prediction for Hibernate Classes\n",
    "\n",
    "print(\"\\nPrediction for Hibernate Classes:\\n\")\n",
    "\n",
    "y_pred_processed, y_true_processed = pred_process(hibernate_y_pred, hibernate_y_true)\n",
    "eval_performance(y_pred_processed, y_true_processed)"
   ]
  },
  {
   "cell_type": "code",
   "execution_count": null,
   "metadata": {},
   "outputs": [],
   "source": [
    "# Prediction for Joda-Time Classes\n",
    "\n",
    "print(\"\\nPrediction for Joda-Time Classes:\\n\")\n",
    "\n",
    "y_pred_processed, y_true_processed = pred_process(jodatime_y_pred, jodatime_y_true)\n",
    "eval_performance(y_pred_processed, y_true_processed)"
   ]
  },
  {
   "cell_type": "code",
   "execution_count": null,
   "metadata": {},
   "outputs": [],
   "source": [
    "# Prediction for GWT Classes\n",
    "\n",
    "print(\"\\nPrediction for GWT Classes:\\n\")\n",
    "\n",
    "y_pred_processed, y_true_processed = pred_process(gwt_y_pred, gwt_y_true)\n",
    "eval_performance(y_pred_processed, y_true_processed)"
   ]
  },
  {
   "cell_type": "code",
   "execution_count": null,
   "metadata": {},
   "outputs": [],
   "source": [
    "# Prediction for XStream Classes\n",
    "\n",
    "print(\"\\nPrediction for XStream Classes:\\n\")\n",
    "\n",
    "y_pred_processed, y_true_processed = pred_process(xstream_y_pred, xstream_y_true)\n",
    "eval_performance(y_pred_processed, y_true_processed)"
   ]
  },
  {
   "cell_type": "code",
   "execution_count": null,
   "metadata": {},
   "outputs": [],
   "source": []
  }
 ],
 "metadata": {
  "kernelspec": {
   "display_name": "azmain_py39",
   "language": "python",
   "name": "python3"
  },
  "language_info": {
   "codemirror_mode": {
    "name": "ipython",
    "version": 3
   },
   "file_extension": ".py",
   "mimetype": "text/x-python",
   "name": "python",
   "nbconvert_exporter": "python",
   "pygments_lexer": "ipython3",
   "version": "3.9.15"
  }
 },
 "nbformat": 4,
 "nbformat_minor": 4
}
